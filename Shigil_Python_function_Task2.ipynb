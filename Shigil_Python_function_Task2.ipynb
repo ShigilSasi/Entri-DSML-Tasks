{
  "nbformat": 4,
  "nbformat_minor": 0,
  "metadata": {
    "colab": {
      "provenance": []
    },
    "kernelspec": {
      "name": "python3",
      "display_name": "Python 3"
    },
    "language_info": {
      "name": "python"
    }
  },
  "cells": [
    {
      "cell_type": "markdown",
      "source": [
        "Exercise 1: Create a function with a default argument\n",
        "Write a program to create a function show_employee() using the following conditions.\n",
        "It should accept the employee’s name and salary and display both.\n",
        "If the salary is missing in the function call then assign default value 9000 to salary\n",
        "\n",
        "Given:\n",
        "\n",
        "showEmployee(\"Ben\", 12000)\n",
        "\n",
        "showEmployee(\"Jessa\")\n",
        "\n",
        "Expected output:\n",
        "\n",
        "Name: Ben salary: 12000\n",
        "\n",
        "Name: Jessa salary: 9000\n"
      ],
      "metadata": {
        "id": "985L4lhYduwX"
      }
    },
    {
      "cell_type": "code",
      "execution_count": null,
      "metadata": {
        "colab": {
          "base_uri": "https://localhost:8080/"
        },
        "id": "JmnIdhPUZQ_W",
        "outputId": "7def915a-e123-47ae-ed2a-bf85dcfb6fdb"
      },
      "outputs": [
        {
          "output_type": "stream",
          "name": "stdout",
          "text": [
            "Name: Ben salary: 12000 \n",
            "Name: Jessa salary: 9000 \n"
          ]
        }
      ],
      "source": [
        "def show_employee(name,salary = 9000):\n",
        "  print(f\"Name: {name} salary: {salary} \")\n",
        "\n",
        "show_employee(\"Ben\", 12000)\n",
        "show_employee(\"Jessa\")"
      ]
    },
    {
      "cell_type": "markdown",
      "source": [
        "Exercise 2:\n",
        "\n",
        "Create an inner function to calculate the addition in the following way\n",
        "Create an outer function that will accept two parameters, a and b\n",
        "Create an inner function inside an outer function that will calculate the addition of a and b\n",
        "At last, an outer function will add 5 into addition and return it\n"
      ],
      "metadata": {
        "id": "kcJ96PHPeA7_"
      }
    },
    {
      "cell_type": "code",
      "source": [
        "def outer_function(a,b):\n",
        "  def inner_function(x,y):\n",
        "    return x+y\n",
        "\n",
        "  addition = inner_function(a,b)\n",
        "  final_result = addition+5\n",
        "  return final_result\n",
        "\n",
        "result = outer_function(2,2)\n",
        "print(\"Final result = \",result)"
      ],
      "metadata": {
        "colab": {
          "base_uri": "https://localhost:8080/"
        },
        "id": "D8SbiL-za_rE",
        "outputId": "79972e36-aefd-4b5e-e407-a4a9f25cb820"
      },
      "execution_count": null,
      "outputs": [
        {
          "output_type": "stream",
          "name": "stdout",
          "text": [
            "Final result =  9\n"
          ]
        }
      ]
    },
    {
      "cell_type": "markdown",
      "source": [
        "Exercise 3:\n",
        "Generate a Python list of all the even numbers between 4 to 30"
      ],
      "metadata": {
        "id": "9_-fCQcOgbR9"
      }
    },
    {
      "cell_type": "code",
      "source": [
        "even_numbers = [x for x in range(4,31) if x%2==0]\n",
        "\n",
        "print(even_numbers)"
      ],
      "metadata": {
        "colab": {
          "base_uri": "https://localhost:8080/"
        },
        "id": "fYCskRLjgc1h",
        "outputId": "e22ad87a-6fd7-4128-a11b-cb4e57af9125"
      },
      "execution_count": null,
      "outputs": [
        {
          "output_type": "stream",
          "name": "stdout",
          "text": [
            "[4, 6, 8, 10, 12, 14, 16, 18, 20, 22, 24, 26, 28, 30]\n"
          ]
        }
      ]
    },
    {
      "cell_type": "markdown",
      "source": [
        "Exercise 4: Lambda Function to Check if value is in a List\n",
        "Given a list, the task is to write a Python program to check if the value exists in the list or not using the lambda function.\n",
        "\n",
        "\n",
        "Input  : L = [1, 2, 3, 4, 5]\n",
        "          element = 4\n",
        "Output :  Element is Present in the list\n",
        "\n",
        "Input :  L = [1, 2, 3, 4, 5]\n",
        "          element = 8\n",
        "Output :  Element is NOT Present in the list\n"
      ],
      "metadata": {
        "id": "WHBe44oMi7LO"
      }
    },
    {
      "cell_type": "code",
      "source": [
        "check_element = lambda L,element:\"Element is present in the list\" if list(filter(lambda x:x == element,L)) else \"Element is not present in the list\"\n",
        "\n",
        "L1 =  [1, 2, 3, 4, 5]\n",
        "element1 = 4\n",
        "output1 = check_element(L1,element1)\n",
        "print(output1)\n",
        "\n",
        "L2 =  [1, 2, 3, 4, 5]\n",
        "element2 = 8\n",
        "output2 = check_element(L2,element2)\n",
        "print(output2)"
      ],
      "metadata": {
        "colab": {
          "base_uri": "https://localhost:8080/"
        },
        "id": "tnaY4Xx2i-im",
        "outputId": "53652bd1-8780-493e-8363-d84e1d851736"
      },
      "execution_count": null,
      "outputs": [
        {
          "output_type": "stream",
          "name": "stdout",
          "text": [
            "Element is present in the list\n",
            "Element is not present in the list\n"
          ]
        }
      ]
    },
    {
      "cell_type": "markdown",
      "source": [
        "Exercise 5:\n",
        "\n",
        "Sort list of tuples with their sum\n",
        "Sort the points based on their sum of elements in the tuples\n",
        "\n",
        "points = [(1, 2), (5, 3), (0, 7), (3, 1)]\n"
      ],
      "metadata": {
        "id": "WA-M9O8llyGV"
      }
    },
    {
      "cell_type": "code",
      "source": [
        "points = [(1, 2), (5, 3), (0, 7), (3, 1)]\n",
        "\n",
        "sum_of_elements = lambda point : sum(point)\n",
        "\n",
        "sorted_points = sorted(points, key=sum_of_elements)\n",
        "\n",
        "print(\"Sorted points: \",sorted_points)"
      ],
      "metadata": {
        "colab": {
          "base_uri": "https://localhost:8080/"
        },
        "id": "x94oC-mhlNG7",
        "outputId": "253fb3f9-91ca-467f-b7b2-c66f2b3b8ee7"
      },
      "execution_count": null,
      "outputs": [
        {
          "output_type": "stream",
          "name": "stdout",
          "text": [
            "Sorted points:  [(1, 2), (3, 1), (0, 7), (5, 3)]\n"
          ]
        }
      ]
    },
    {
      "cell_type": "markdown",
      "source": [
        "Exercise 6 :\n",
        "\n",
        "Write a python function, which will find all such numbers between 1000 and 3000 (both included) such that each digit of the number is an even number. Return the results as a list\n"
      ],
      "metadata": {
        "id": "NZpWRsNYfBZY"
      }
    },
    {
      "cell_type": "code",
      "source": [
        "def find_even_digit_numbers():\n",
        "    result = []\n",
        "    for num in range(1000, 3001):\n",
        "        all_even_digits = all(int(digit) % 2 == 0 for digit in str(num))\n",
        "        if all_even_digits:\n",
        "            result.append(num)\n",
        "    return result\n",
        "\n",
        "even_digit_numbers = find_even_digit_numbers()\n",
        "print(even_digit_numbers)\n"
      ],
      "metadata": {
        "id": "Pwr6oDTBmrSn",
        "colab": {
          "base_uri": "https://localhost:8080/"
        },
        "outputId": "128dd4ae-c4ac-425f-bd56-ca7e1e11a7f9"
      },
      "execution_count": null,
      "outputs": [
        {
          "output_type": "stream",
          "name": "stdout",
          "text": [
            "[2000, 2002, 2004, 2006, 2008, 2020, 2022, 2024, 2026, 2028, 2040, 2042, 2044, 2046, 2048, 2060, 2062, 2064, 2066, 2068, 2080, 2082, 2084, 2086, 2088, 2200, 2202, 2204, 2206, 2208, 2220, 2222, 2224, 2226, 2228, 2240, 2242, 2244, 2246, 2248, 2260, 2262, 2264, 2266, 2268, 2280, 2282, 2284, 2286, 2288, 2400, 2402, 2404, 2406, 2408, 2420, 2422, 2424, 2426, 2428, 2440, 2442, 2444, 2446, 2448, 2460, 2462, 2464, 2466, 2468, 2480, 2482, 2484, 2486, 2488, 2600, 2602, 2604, 2606, 2608, 2620, 2622, 2624, 2626, 2628, 2640, 2642, 2644, 2646, 2648, 2660, 2662, 2664, 2666, 2668, 2680, 2682, 2684, 2686, 2688, 2800, 2802, 2804, 2806, 2808, 2820, 2822, 2824, 2826, 2828, 2840, 2842, 2844, 2846, 2848, 2860, 2862, 2864, 2866, 2868, 2880, 2882, 2884, 2886, 2888]\n"
          ]
        }
      ]
    },
    {
      "cell_type": "markdown",
      "source": [
        "Exercise 7 :\n",
        "\n",
        "Write a python function that accepts a sentence and calculate and return the number of letters and digits.\n",
        "\n",
        "Suppose the following input is supplied to the program:\n",
        "\n",
        "hello world! 123\n",
        "\n",
        "Then, the output should be:\n",
        "\n",
        "LETTERS 10\n",
        "DIGITS 3\n"
      ],
      "metadata": {
        "id": "exUosSE4uHR0"
      }
    },
    {
      "cell_type": "code",
      "source": [
        "def count_letter_and_digits(sentence):\n",
        "  letter_count = 0\n",
        "  digit_count = 0\n",
        "\n",
        "  for char in sentence:\n",
        "\n",
        "    if char.isalpha():\n",
        "      letter_count += 1\n",
        "    elif char.isdigit():\n",
        "      digit_count += 1\n",
        "\n",
        "  return letter_count, digit_count\n",
        "\n",
        "input_sentence = \"hello world! 123\"\n",
        "letter, digits = count_letter_and_digits(input_sentence)\n",
        "print(\"Letters: \",letter)\n",
        "print(\"Digits: \",digits)"
      ],
      "metadata": {
        "colab": {
          "base_uri": "https://localhost:8080/"
        },
        "id": "bJJ-4kvMgfZ2",
        "outputId": "a21c9188-3070-498f-a74e-f6b2d2085007"
      },
      "execution_count": null,
      "outputs": [
        {
          "output_type": "stream",
          "name": "stdout",
          "text": [
            "Letters:  10\n",
            "Digits:  3\n"
          ]
        }
      ]
    },
    {
      "cell_type": "markdown",
      "source": [
        "Exercise 8  MAP:\n",
        "\n",
        "Write a Python program to convert all the characters into uppercase and lowercase and eliminate duplicate letters from a given sequence. Use the map() function\n"
      ],
      "metadata": {
        "id": "95OP7Y2-weaj"
      }
    },
    {
      "cell_type": "code",
      "source": [
        "def upper_lower_duplicate(sequence):\n",
        "  upper_sequence = ''.join(map(str.upper,sequence))\n",
        "  lower_sequence = ''.join(map(str.lower,sequence))\n",
        "  duplicate = ''.join(set(sequence))\n",
        "\n",
        "  return upper_sequence,lower_sequence,duplicate\n",
        "\n",
        "sentence = \"hello world\"\n",
        "upper,lower,duplicate = upper_lower_duplicate(sentence)\n",
        "print(\"Uppercase: \",upper)\n",
        "print(\"Lowercase: \",lower)\n",
        "print(\"Duplicate: \",duplicate)"
      ],
      "metadata": {
        "colab": {
          "base_uri": "https://localhost:8080/"
        },
        "id": "vCJshRLAwms3",
        "outputId": "5ec17c10-9e0f-4ced-b898-2ce358eef11f"
      },
      "execution_count": null,
      "outputs": [
        {
          "output_type": "stream",
          "name": "stdout",
          "text": [
            "Uppercase:  HELLO WORLD\n",
            "Lowercase:  hello world\n",
            "Duplicate:  wh roedl\n"
          ]
        }
      ]
    },
    {
      "cell_type": "markdown",
      "source": [
        "Exercise 9 MAP:\n",
        "\n",
        " Write a Python program to element wise add two given lists and find the difference between them. Use the map() function\n"
      ],
      "metadata": {
        "id": "s2LFivi45MET"
      }
    },
    {
      "cell_type": "code",
      "source": [
        "list1 = [1,2,3,4,5]\n",
        "list2 = [6,7,8,9,10]\n",
        "sum = map(lambda a,b : a+b, list1,list2)\n",
        "sub = map(lambda a,b : b-a, list1,list2)\n",
        "print(list(sum))\n",
        "print(list(sub))"
      ],
      "metadata": {
        "colab": {
          "base_uri": "https://localhost:8080/"
        },
        "id": "gDP48168x1UQ",
        "outputId": "7806494a-2287-403a-f325-b12fd95a4ba8"
      },
      "execution_count": null,
      "outputs": [
        {
          "output_type": "stream",
          "name": "stdout",
          "text": [
            "[7, 9, 11, 13, 15]\n",
            "[5, 5, 5, 5, 5]\n"
          ]
        }
      ]
    },
    {
      "cell_type": "markdown",
      "source": [
        "Exercise 10 Filter:\n",
        "\n",
        "Write a Python program to filter the height and weight of students, which are stored in a dictionary using lambda.\n",
        "\n",
        "Original Dictionary:\n",
        "\n",
        "{'Cierra Vega': (6.2, 71), 'Alden Cantrell': (5.9, 65), 'Kierra Gentry': (6.0, 68), 'Pierre Cox': (5.8, 66)}\n",
        "\n",
        "Height> 6ft and Weight> 70kg:\n",
        "\n",
        "{'Cierra Vega': (6.2, 71)}\n"
      ],
      "metadata": {
        "id": "MnspxD5A7tUY"
      }
    },
    {
      "cell_type": "code",
      "source": [
        "students = {'Cierra Vega': (6.2, 71), 'Alden Cantrell': (5.9, 65), 'Kierra Gentry': (6.0, 68), 'Pierre Cox': (5.8, 66)}\n",
        "filtered_students = dict(filter(lambda item : item[1][0]>6.0 and item[1][1]>70, students.items()))\n",
        "print(filtered_students)"
      ],
      "metadata": {
        "colab": {
          "base_uri": "https://localhost:8080/"
        },
        "id": "1vCePwQ157Yr",
        "outputId": "72ba0242-5a42-469d-c27f-7ca040d6b357"
      },
      "execution_count": null,
      "outputs": [
        {
          "output_type": "stream",
          "name": "stdout",
          "text": [
            "{'Cierra Vega': (6.2, 71)}\n"
          ]
        }
      ]
    },
    {
      "cell_type": "markdown",
      "source": [
        "Exercise 11 Filter:\n",
        "\n",
        "Write a Python program to remove all elements from a given list present in another list using lambda.\n",
        "\n",
        "Original lists:\n",
        "\n",
        "list1: [1, 2, 3, 4, 5, 6, 7, 8, 9, 10]\n",
        "\n",
        "list2: [2, 4, 6, 8]\n",
        "\n",
        "Remove all elements from 'list1' present in 'list2:\n",
        "\n",
        "[1, 3, 5, 7, 9, 10]\n"
      ],
      "metadata": {
        "id": "gmMaY3to0bNU"
      }
    },
    {
      "cell_type": "code",
      "source": [
        "list1= [1, 2, 3, 4, 5, 6, 7, 8, 9, 10]\n",
        "\n",
        "list2= [2, 4, 6, 8]\n",
        "\n",
        "sorted_filter = list(filter(lambda x : x not in list2, list1))\n",
        "\n",
        "print(sorted_filter)"
      ],
      "metadata": {
        "id": "n9kwdut28k0N",
        "colab": {
          "base_uri": "https://localhost:8080/"
        },
        "outputId": "b16e2e65-7183-48ff-bd7a-7614a8849070"
      },
      "execution_count": 1,
      "outputs": [
        {
          "output_type": "stream",
          "name": "stdout",
          "text": [
            "[1, 3, 5, 7, 9, 10]\n"
          ]
        }
      ]
    },
    {
      "cell_type": "markdown",
      "source": [
        "Exercise 12 Reduce:\n",
        "\n",
        "\n",
        "Write a Python program to calculate the product of a given list of numbers using lambda.\n",
        "\n",
        "list1: [1, 2, 3, 4, 5, 6, 7, 8, 9, 10]\n",
        "\n",
        "Product of the said list numbers:\n",
        "\n",
        "3628800\n"
      ],
      "metadata": {
        "id": "zfSOMdw23kQF"
      }
    },
    {
      "cell_type": "code",
      "source": [
        "import functools\n",
        "list1 = [1, 2, 3, 4, 5, 6, 7, 8, 9, 10]\n",
        "result = functools.reduce(lambda x,y : x*y,list1)\n",
        "print(result)"
      ],
      "metadata": {
        "colab": {
          "base_uri": "https://localhost:8080/"
        },
        "id": "AqUGjVEo22vz",
        "outputId": "69dd88ab-0ecb-43ec-b6d0-211f18e0fc83"
      },
      "execution_count": 2,
      "outputs": [
        {
          "output_type": "stream",
          "name": "stdout",
          "text": [
            "3628800\n"
          ]
        }
      ]
    },
    {
      "cell_type": "markdown",
      "source": [
        "Exercise 13 Reduce:\n",
        "\n",
        "\n",
        " Write a Python program to multiply all the numbers in a given list using lambda.\n",
        "\n",
        "Original list:\n",
        "\n",
        "[4, 3, 2, 2, -1, 18]\n",
        "\n",
        "Mmultiply all the numbers of the said list: -864\n"
      ],
      "metadata": {
        "id": "mCCjJO9D4YpO"
      }
    },
    {
      "cell_type": "code",
      "source": [
        "import functools\n",
        "list1 = [4, 3, 2, 2, -1, 18]\n",
        "result = functools.reduce(lambda x,y : x*y,list1)\n",
        "print(result)"
      ],
      "metadata": {
        "colab": {
          "base_uri": "https://localhost:8080/"
        },
        "id": "lXVD_6eN4MyX",
        "outputId": "14383dc0-28d2-42e2-8db5-590621b33d95"
      },
      "execution_count": 3,
      "outputs": [
        {
          "output_type": "stream",
          "name": "stdout",
          "text": [
            "-864\n"
          ]
        }
      ]
    },
    {
      "cell_type": "markdown",
      "source": [
        "Exercise 14 Reduce:\n",
        "\n",
        "\n",
        "Write a Python program to calculate the average value of the numbers in a given tuple of tuples using lambda.\n",
        "\n",
        "Original Tuple:\n",
        "\n",
        "((10, 10, 10), (30, 45, 56), (81, 80, 39), (1, 2, 3))\n",
        "\n",
        "Average value of the numbers of the said tuple of tuples:\n",
        "\n",
        "(30.5, 34.25, 27.0)\n"
      ],
      "metadata": {
        "id": "RloUQgX_5Y9_"
      }
    },
    {
      "cell_type": "code",
      "source": [
        "original_tuple = ((10, 10, 10), (30, 45, 56), (81, 80, 39), (1, 2, 3))\n",
        "\n",
        "average_tuple = tuple(map(lambda *args : sum(args)/len(args), *original_tuple))\n",
        "\n",
        "print(average_tuple)"
      ],
      "metadata": {
        "colab": {
          "base_uri": "https://localhost:8080/"
        },
        "id": "FPap4MAJ4soj",
        "outputId": "9bd7873e-9b2d-46f7-9833-2ca066df1803"
      },
      "execution_count": 4,
      "outputs": [
        {
          "output_type": "stream",
          "name": "stdout",
          "text": [
            "(30.5, 34.25, 27.0)\n"
          ]
        }
      ]
    },
    {
      "cell_type": "markdown",
      "source": [
        "Exercise 15:\n",
        "\n",
        "\n",
        "Write a Python program to sort a given mixed list of integers and strings using lambda. Numbers must be sorted before strings.\n",
        "\n",
        "Original list:\n",
        "\n",
        "[19, 'red', 12, 'green', 'blue', 10, 'white', 'green', 1]\n",
        "\n",
        "Sort the said mixed list of integers and strings:\n",
        "\n",
        "[1, 10, 12, 19, 'blue', 'green', 'green', 'red', 'white']\n"
      ],
      "metadata": {
        "id": "QARp_Bvv-QCj"
      }
    },
    {
      "cell_type": "code",
      "source": [
        "original_list = [19, 'red', 12, 'green', 'blue', 10, 'white', 'green', 1]\n",
        "\n",
        "sorted_list = sorted(original_list, key = lambda x: (isinstance(x, int), x))\n",
        "\n",
        "print(sorted_list)"
      ],
      "metadata": {
        "colab": {
          "base_uri": "https://localhost:8080/"
        },
        "id": "krLfz_gg-PIY",
        "outputId": "2062d61e-a5f3-4318-9a65-de5887b87c2c"
      },
      "execution_count": 5,
      "outputs": [
        {
          "output_type": "stream",
          "name": "stdout",
          "text": [
            "['blue', 'green', 'green', 'red', 'white', 1, 10, 12, 19]\n"
          ]
        }
      ]
    },
    {
      "cell_type": "markdown",
      "source": [
        "Exercise 16:\n",
        "\n",
        "Write a Python program to count the occurrences of items in a given list using lambda.\n",
        "\n",
        "Original list:\n",
        "\n",
        "[3, 4, 5, 8, 0, 3, 8, 5, 0, 3, 1, 5, 2, 3, 4, 2]\n",
        "\n",
        "Count the occurrences of the items in the said list:\n",
        "\n",
        "{3: 4, 4: 2, 5: 3, 8: 2, 0: 2, 1: 1, 2: 2}\n"
      ],
      "metadata": {
        "id": "9YkuP7tn_U9_"
      }
    },
    {
      "cell_type": "code",
      "source": [
        "original_list = [3, 4, 5, 8, 0, 3, 8, 5, 0, 3, 1, 5, 2, 3, 4, 2]\n",
        "\n",
        "occurrence_list = dict(map(lambda x : (x, original_list.count(x)),original_list))\n",
        "\n",
        "print(occurrence_list)"
      ],
      "metadata": {
        "colab": {
          "base_uri": "https://localhost:8080/"
        },
        "id": "7b1ADF_x547n",
        "outputId": "5d704a42-74bc-4804-c721-04e94e600196"
      },
      "execution_count": 6,
      "outputs": [
        {
          "output_type": "stream",
          "name": "stdout",
          "text": [
            "{3: 4, 4: 2, 5: 3, 8: 2, 0: 2, 1: 1, 2: 2}\n"
          ]
        }
      ]
    },
    {
      "cell_type": "markdown",
      "source": [
        "Exercise 17:\n",
        "\n",
        "\n",
        "Write a Python program to remove None values from a given list using the lambda function.\n",
        "\n",
        "Original list:\n",
        "\n",
        "[12, 0, None, 23, None, -55, 234, 89, None, 0, 6, -12]\n",
        "\n",
        "Remove None value from the said list:\n",
        "\n",
        "[12, 0, 23, -55, 234, 89, 0, 6, -12]\n"
      ],
      "metadata": {
        "id": "Ra__Y-e9ASLs"
      }
    },
    {
      "cell_type": "code",
      "source": [
        "original_list = [12, 0, None, 23, None, -55, 234, 89, None, 0, 6, -12]\n",
        "\n",
        "filtered_list = list(filter((lambda x: x is not None),original_list))\n",
        "\n",
        "print(filtered_list)"
      ],
      "metadata": {
        "colab": {
          "base_uri": "https://localhost:8080/"
        },
        "id": "oEv7R2COAEqO",
        "outputId": "e60cc271-9ad7-4ad0-8f95-a839861987f5"
      },
      "execution_count": 7,
      "outputs": [
        {
          "output_type": "stream",
          "name": "stdout",
          "text": [
            "[12, 0, 23, -55, 234, 89, 0, 6, -12]\n"
          ]
        }
      ]
    },
    {
      "cell_type": "code",
      "source": [],
      "metadata": {
        "id": "gruZ6-t3A6JH"
      },
      "execution_count": null,
      "outputs": []
    }
  ]
}