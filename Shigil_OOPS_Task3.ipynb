{
  "nbformat": 4,
  "nbformat_minor": 0,
  "metadata": {
    "colab": {
      "provenance": []
    },
    "kernelspec": {
      "name": "python3",
      "display_name": "Python 3"
    },
    "language_info": {
      "name": "python"
    }
  },
  "cells": [
    {
      "cell_type": "markdown",
      "source": [
        "1.  Write a Python program to create a class representing a Circle. Include methods to calculate its area and perimeter."
      ],
      "metadata": {
        "id": "VmTmTahl-smY"
      }
    },
    {
      "cell_type": "code",
      "execution_count": 1,
      "metadata": {
        "colab": {
          "base_uri": "https://localhost:8080/"
        },
        "id": "-9i2CJ_Y-p71",
        "outputId": "3c1b7506-8ce5-41bb-c49e-ae0d5ea20ad1"
      },
      "outputs": [
        {
          "output_type": "stream",
          "name": "stdout",
          "text": [
            "Enter the radius: 22\n",
            "1520.53084433746\n",
            "138.23007675795088\n"
          ]
        }
      ],
      "source": [
        "import math\n",
        "\n",
        "class Circle:\n",
        "  def __init__(self,radius):\n",
        "    self.radius = radius\n",
        "\n",
        "  def calculated_area(self):\n",
        "    return math.pi * (self.radius ** 2)\n",
        "\n",
        "  def calculated_perimeter(self):\n",
        "    return 2 * math.pi * self.radius\n",
        "\n",
        "radius = float(input(\"Enter the radius: \"))\n",
        "mycircle = Circle(radius)\n",
        "\n",
        "area = mycircle.calculated_area()\n",
        "perimeter = mycircle.calculated_perimeter()\n",
        "\n",
        "print(area)\n",
        "print(perimeter)"
      ]
    },
    {
      "cell_type": "markdown",
      "source": [
        "2. Write a Python program to create a calculator class. Include methods for basic arithmetic operations."
      ],
      "metadata": {
        "id": "qV5CWxLXCNMU"
      }
    },
    {
      "cell_type": "code",
      "source": [
        "class Calculator:\n",
        "  def add(self, num1, num2):\n",
        "    return num1 + num2\n",
        "\n",
        "  def sub(self, num1, num2):\n",
        "    return num1 - num2\n",
        "\n",
        "  def mul(self, num1, num2):\n",
        "    return num1 * num2\n",
        "\n",
        "  def div(self, num1, num2):\n",
        "    if num2 != 0:\n",
        "      return num1/num2\n",
        "    else:\n",
        "      return \"Cannot divided by zero\"\n",
        "\n",
        "calculator = Calculator()\n",
        "\n",
        "num1 = int(input(\"Enter the number: \"))\n",
        "num2 = int(input(\"Enter the number: \"))\n",
        "\n",
        "print(calculator.add(num1,num2))\n",
        "print(calculator.sub(num1,num2))\n",
        "print(calculator.mul(num1,num2))\n",
        "print(calculator.div(num1,num2))"
      ],
      "metadata": {
        "colab": {
          "base_uri": "https://localhost:8080/"
        },
        "id": "7lbx_DohB5K-",
        "outputId": "5645f19a-4c5f-48bc-b00d-0496cc952883"
      },
      "execution_count": 9,
      "outputs": [
        {
          "output_type": "stream",
          "name": "stdout",
          "text": [
            "Enter the number: 10\n",
            "Enter the number: 2\n",
            "12\n",
            "8\n",
            "20\n",
            "5.0\n"
          ]
        }
      ]
    },
    {
      "cell_type": "markdown",
      "source": [
        "3. Write a Python program to create a class that represents a shape. Include methods to calculate its area and perimeter. Implement subclasses for different shapes like circle, triangle, and square."
      ],
      "metadata": {
        "id": "GbfsntlcKuIR"
      }
    },
    {
      "cell_type": "code",
      "source": [
        "import math\n",
        "\n",
        "class Shape:\n",
        "\n",
        "  def calculated_area(self):\n",
        "    pass\n",
        "\n",
        "  def calculated_perimeter(self):\n",
        "    pass\n",
        "\n",
        "class Circle(Shape):\n",
        "  def __init__(self,radius):\n",
        "    self.radius = radius\n",
        "\n",
        "  def calculated_area(self):\n",
        "    return math.pi * (self.radius ** 2)\n",
        "\n",
        "  def calculated_perimeter(self):\n",
        "    return 2 * math.pi * self.radius\n",
        "\n",
        "class Triangle(Shape):\n",
        "  def __init__(self,side1,side2,side3):\n",
        "    self.side1 = side1\n",
        "    self.side2 = side2\n",
        "    self.side3 = side3\n",
        "\n",
        "  def calculated_area(self):\n",
        "    s = (self.side1  + self.side2 + self.side3) / 2\n",
        "    return math.sqrt(s * (s - self.side1) * (s - self.side2) * (s - self.side3))\n",
        "\n",
        "  def calculated_perimeter(self):\n",
        "    return self.side1 + self.side2 + self.side3\n",
        "\n",
        "class Square(Shape):\n",
        "  def __init__(self,side):\n",
        "   self.side = side\n",
        "\n",
        "  def calculated_area(self):\n",
        "    return self.side ** 2\n",
        "\n",
        "  def calculated_perimeter(self):\n",
        "    return 4 * self.side\n",
        "\n",
        "\n",
        "circle = Circle(5)\n",
        "triangle = Triangle(3,4,5)\n",
        "square = Square(6)\n",
        "\n",
        "print(f\"Circle - Area : {circle.calculated_area():.2f} ,Perimeter : {circle.calculated_perimeter():.2f}\")\n",
        "print(f\"Triangle - Area : {triangle.calculated_area():.2f} ,Perimeter : {triangle.calculated_perimeter():.2f}\")\n",
        "print(f\"Square - Area : {square.calculated_area():.2f} ,Perimeter : {square.calculated_perimeter():.2f}\")\n"
      ],
      "metadata": {
        "colab": {
          "base_uri": "https://localhost:8080/"
        },
        "id": "fOZOFzBBGxvH",
        "outputId": "e1b528cd-cfe9-4eee-c727-c06438d9b9df"
      },
      "execution_count": 19,
      "outputs": [
        {
          "output_type": "stream",
          "name": "stdout",
          "text": [
            "Circle - Area : 78.54 ,Perimeter : 31.42\n",
            "Triangle - Area : 6.00 ,Perimeter : 12.00\n",
            "Square - Area : 36.00 ,Perimeter : 24.00\n"
          ]
        }
      ]
    },
    {
      "cell_type": "code",
      "source": [],
      "metadata": {
        "id": "A5U7p0xNTJo5"
      },
      "execution_count": null,
      "outputs": []
    }
  ]
}