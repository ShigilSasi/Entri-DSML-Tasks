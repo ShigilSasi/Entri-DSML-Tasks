{
  "nbformat": 4,
  "nbformat_minor": 0,
  "metadata": {
    "colab": {
      "provenance": []
    },
    "kernelspec": {
      "name": "python3",
      "display_name": "Python 3"
    },
    "language_info": {
      "name": "python"
    }
  },
  "cells": [
    {
      "cell_type": "markdown",
      "source": [
        "1. Write a Python program to sum all the items in a list.\n"
      ],
      "metadata": {
        "id": "WbWqfjLILpYR"
      }
    },
    {
      "cell_type": "code",
      "execution_count": null,
      "metadata": {
        "id": "IeHCdrS5KBAJ",
        "colab": {
          "base_uri": "https://localhost:8080/"
        },
        "outputId": "74e020e1-09da-40a9-edfb-ac61f25dd29e"
      },
      "outputs": [
        {
          "output_type": "stream",
          "name": "stdout",
          "text": [
            "209\n"
          ]
        }
      ],
      "source": [
        "list1 = [22,33,66,88]\n",
        "list2 = sum(list1)\n",
        "print(list2)"
      ]
    },
    {
      "cell_type": "markdown",
      "source": [
        "2. Write a Python program to get the largest number from a list.\n"
      ],
      "metadata": {
        "id": "1NgXL_KTLulQ"
      }
    },
    {
      "cell_type": "code",
      "source": [
        "list1= [22,88,22,66,99]\n",
        "list1.sort()\n",
        "print(\"The largest numer is: \",list1[-1])"
      ],
      "metadata": {
        "id": "W4A2hjGBLsu0",
        "colab": {
          "base_uri": "https://localhost:8080/"
        },
        "outputId": "9246f2d4-dfdf-40cb-c74b-d01d31e468de"
      },
      "execution_count": null,
      "outputs": [
        {
          "output_type": "stream",
          "name": "stdout",
          "text": [
            "The largest numer is:  99\n"
          ]
        }
      ]
    },
    {
      "cell_type": "markdown",
      "source": [
        "3. Write a Python program to count the number of strings from a given list of strings. The string length is 2 or more and the first and last characters are the same.\n",
        "\n",
        "```\n",
        "Sample List : ['abc', 'xyz', 'aba', '1221']\n",
        "Expected Result : 2\n",
        "```"
      ],
      "metadata": {
        "id": "azKVRKqWLvtp"
      }
    },
    {
      "cell_type": "code",
      "source": [
        "def count_strings(strings):\n",
        "  count = 0\n",
        "  for s in strings:\n",
        "    if len(s)>=2 and s[0]==s[-1]:\n",
        "      count += 1\n",
        "  return count\n",
        "sample_list = ['abc', 'xyz', 'aba', '1221']\n",
        "result = count_strings(sample_list)\n",
        "print(result)"
      ],
      "metadata": {
        "id": "4C9UmcCRL1Bp",
        "colab": {
          "base_uri": "https://localhost:8080/"
        },
        "outputId": "7e86a22d-3517-4408-e3ed-d06cc9b3ca9b"
      },
      "execution_count": null,
      "outputs": [
        {
          "output_type": "stream",
          "name": "stdout",
          "text": [
            "2\n"
          ]
        }
      ]
    },
    {
      "cell_type": "markdown",
      "source": [
        "4. Write a Python program to remove duplicates from a list.\n"
      ],
      "metadata": {
        "id": "2ZYOfK4rL20r"
      }
    },
    {
      "cell_type": "code",
      "source": [
        "list1= [1,3,2,1,6]\n",
        "temp=[]\n",
        "[temp.append(x) for x in list1 if x not in temp]\n",
        "print(temp)"
      ],
      "metadata": {
        "id": "A4Et_q6CL3Pb",
        "colab": {
          "base_uri": "https://localhost:8080/"
        },
        "outputId": "5414520c-45fb-40d5-ec64-3cffe526a9dd"
      },
      "execution_count": null,
      "outputs": [
        {
          "output_type": "stream",
          "name": "stdout",
          "text": [
            "[1, 3, 2, 6]\n"
          ]
        }
      ]
    },
    {
      "cell_type": "markdown",
      "source": [
        "5. Write a Python program to check if a list is empty or not.\n"
      ],
      "metadata": {
        "id": "kjtsEf0tL358"
      }
    },
    {
      "cell_type": "code",
      "source": [
        "list1 = []\n",
        "if list1!=[]:\n",
        "  print(\"The list is not empty\")\n",
        "else:\n",
        "  print(\"The list is empty\")"
      ],
      "metadata": {
        "id": "e1C-5rk7L5OT",
        "colab": {
          "base_uri": "https://localhost:8080/"
        },
        "outputId": "3eb8b798-41df-4230-ab6d-fa726623c0da"
      },
      "execution_count": 1,
      "outputs": [
        {
          "output_type": "stream",
          "name": "stdout",
          "text": [
            "The list is empty\n"
          ]
        }
      ]
    },
    {
      "cell_type": "markdown",
      "source": [
        "6. Write a Python program to filter the list if the length of the character is < 4\n",
        "\n",
        "```\n",
        "Sample List : ['abc', 'xyz', 'aba', '1221']\n",
        "Expected Result: ['abc', 'xyz', 'aba']\n",
        "```\n"
      ],
      "metadata": {
        "id": "HPq-j6_5L6Bu"
      }
    },
    {
      "cell_type": "code",
      "source": [
        "def filter_list(input_list,length):\n",
        "  filtered_list = [item for item in input_list if len(item)<length]\n",
        "  return filtered_list\n",
        "\n",
        "sample_list = ['abc', 'xyz', 'aba', '1221']\n",
        "\n",
        "result = filter_list(sample_list,4)\n",
        "print(result)"
      ],
      "metadata": {
        "id": "e0Rk_iusL-Du",
        "colab": {
          "base_uri": "https://localhost:8080/"
        },
        "outputId": "ce8dcef7-8d78-4ad5-d76b-611f3a41fcb5"
      },
      "execution_count": null,
      "outputs": [
        {
          "output_type": "stream",
          "name": "stdout",
          "text": [
            "['abc', 'xyz', 'aba']\n"
          ]
        }
      ]
    },
    {
      "cell_type": "markdown",
      "source": [
        "7.Write a Python program to find the second largest number in a list.\n"
      ],
      "metadata": {
        "id": "0Vo0Eo4GL_2N"
      }
    },
    {
      "cell_type": "code",
      "source": [
        "list1= [22,88,44,99,77]\n",
        "list1.sort()\n",
        "print(\"The largest number is: \",list1[-2])"
      ],
      "metadata": {
        "id": "uIB8bq0IMAYB",
        "colab": {
          "base_uri": "https://localhost:8080/"
        },
        "outputId": "ee88a890-0a21-4bad-a501-cccd8f07a406"
      },
      "execution_count": null,
      "outputs": [
        {
          "output_type": "stream",
          "name": "stdout",
          "text": [
            "The largest number is:  88\n"
          ]
        }
      ]
    },
    {
      "cell_type": "markdown",
      "source": [
        "8. Write a Python program to reverse a list at a specific location.\n"
      ],
      "metadata": {
        "id": "aManSXvqMBoz"
      }
    },
    {
      "cell_type": "code",
      "source": [
        "loc=2\n",
        "l=[1,4,4,87,8,6]\n",
        "l1=l[:2]\n",
        "l2=l[2:]\n",
        "l2.reverse()\n",
        "result=l1+l2\n",
        "print(result)"
      ],
      "metadata": {
        "id": "6-xOhDjGMCO4",
        "colab": {
          "base_uri": "https://localhost:8080/"
        },
        "outputId": "5bf37a95-1d4c-4f3c-eac5-4e0caf15c980"
      },
      "execution_count": 2,
      "outputs": [
        {
          "output_type": "stream",
          "name": "stdout",
          "text": [
            "[1, 4, 6, 8, 87, 4]\n"
          ]
        }
      ]
    },
    {
      "cell_type": "markdown",
      "source": [
        "9. Write a Python program to check if a list is a palindrome or not. Return true otherwise false.\n"
      ],
      "metadata": {
        "id": "-mIvdmfVMCyV"
      }
    },
    {
      "cell_type": "code",
      "source": [
        "string = input(\"Enter the word: \")\n",
        "if(string==string[::-1]):\n",
        "  print(\"true palindrome\")\n",
        "else:\n",
        "  print(\"false palindrome\")"
      ],
      "metadata": {
        "id": "128bnAjHMD_6",
        "colab": {
          "base_uri": "https://localhost:8080/"
        },
        "outputId": "2428b396-2232-4805-86a5-21a633c43319"
      },
      "execution_count": null,
      "outputs": [
        {
          "output_type": "stream",
          "name": "stdout",
          "text": [
            "Enter the word: mom\n",
            "true palindrome\n"
          ]
        }
      ]
    },
    {
      "cell_type": "markdown",
      "source": [
        "10. Write a Python a program to find the union and intersection of two lists.\n"
      ],
      "metadata": {
        "id": "r_OaahEUMFk9"
      }
    },
    {
      "cell_type": "code",
      "source": [
        "def list_union(list1,list2):\n",
        "  union_list = list(set(list1+list2))\n",
        "  return union_list\n",
        "\n",
        "def list_intersection(list1,list2):\n",
        "  intersection_list = [value for value in list1 if value in list2]\n",
        "  return intersection_list\n",
        "\n",
        "list1 = [1,2,3,4,4,8,9]\n",
        "list2 = [2,4,15,7,9,4,2]\n",
        "\n",
        "print(list_union(list1,list2))\n",
        "print(list_intersection(list1,list2))"
      ],
      "metadata": {
        "id": "g5Rw-SMQMF7d",
        "colab": {
          "base_uri": "https://localhost:8080/"
        },
        "outputId": "bb080f49-75d0-4675-a1ce-0d400132c0e0"
      },
      "execution_count": null,
      "outputs": [
        {
          "output_type": "stream",
          "name": "stdout",
          "text": [
            "[1, 2, 3, 4, 7, 8, 9, 15]\n",
            "[2, 4, 4, 9]\n"
          ]
        }
      ]
    },
    {
      "cell_type": "markdown",
      "source": [
        "11.Write a Python script to sort (ascending and descending) a dictionary by value\n"
      ],
      "metadata": {
        "id": "O_KaZq9mMHMo"
      }
    },
    {
      "cell_type": "code",
      "source": [],
      "metadata": {
        "id": "iMEgBD_5MHe5"
      },
      "execution_count": null,
      "outputs": []
    },
    {
      "cell_type": "markdown",
      "source": [
        "\\\\12. Write a Python script to check whether a given key already exists in a dictionary.\n"
      ],
      "metadata": {
        "id": "LRtPwyETMJFB"
      }
    },
    {
      "cell_type": "code",
      "source": [
        "def check_key_exists(dictionary,key):\n",
        "  return key in dictionary\n",
        "\n",
        "sample_dict = {'a':1,\n",
        "               'b':2,\n",
        "               'c':3,\n",
        "               'd':4,\n",
        "               'e':5}\n",
        "key_exists = input(\"Enter your key: \")\n",
        "\n",
        "if check_key_exists(sample_dict, key_exists):\n",
        "  print(\"does exist\")\n",
        "else:\n",
        "  print(\"does not exist\")"
      ],
      "metadata": {
        "id": "CzQHm4IWMJX5",
        "colab": {
          "base_uri": "https://localhost:8080/"
        },
        "outputId": "8be44d65-559e-43b8-f44c-6f5944c4af05"
      },
      "execution_count": null,
      "outputs": [
        {
          "output_type": "stream",
          "name": "stdout",
          "text": [
            "Enter your key: u\n",
            "does not exist\n"
          ]
        }
      ]
    },
    {
      "cell_type": "markdown",
      "source": [
        "13.Write a Python program to sum all the values in a dictionary.\n"
      ],
      "metadata": {
        "id": "ndM9xtBpMK7b"
      }
    },
    {
      "cell_type": "code",
      "source": [
        "my_dict = {'a':10,\n",
        "           'b':30,\n",
        "           'c':40}\n",
        "result = sum(my_dict.values())\n",
        "print(result)"
      ],
      "metadata": {
        "id": "-UBNCNxbMLNa",
        "colab": {
          "base_uri": "https://localhost:8080/"
        },
        "outputId": "592d2bdb-09a4-4abd-918e-b5e630bc0441"
      },
      "execution_count": null,
      "outputs": [
        {
          "output_type": "stream",
          "name": "stdout",
          "text": [
            "80\n"
          ]
        }
      ]
    },
    {
      "cell_type": "markdown",
      "source": [
        "14.Write a Python program to create a dictionary with a number and its corresponding square from 1 to input number. And also check if the input number is less than 10\n",
        "\n",
        "```\n",
        "Eg:\n",
        "Input : 3\n",
        "Output : {1:1, 2:4, 3:9}\n",
        "```"
      ],
      "metadata": {
        "id": "0qVfQATqMNdJ"
      }
    },
    {
      "cell_type": "code",
      "source": [
        "def square_number(n):\n",
        "  if n < 10:\n",
        "    square_dict = {i: i**2 for i in range(1,n+1)}\n",
        "    return square_dict\n",
        "  else:\n",
        "    print(\"The number should be less than 10\")\n",
        "\n",
        "input_number = int(input(\"Enter the number: \"))\n",
        "\n",
        "result = square_number(input_number)\n",
        "print(result)"
      ],
      "metadata": {
        "id": "XCkHf-OvMPVf",
        "colab": {
          "base_uri": "https://localhost:8080/"
        },
        "outputId": "319862b0-8be8-4fbc-80b7-9f364cb3ebc0"
      },
      "execution_count": null,
      "outputs": [
        {
          "output_type": "stream",
          "name": "stdout",
          "text": [
            "Enter the number: 5\n",
            "{1: 1, 2: 4, 3: 9, 4: 16, 5: 25}\n"
          ]
        }
      ]
    },
    {
      "cell_type": "markdown",
      "source": [
        "15.Write a Python program to sort a given dictionary by key.\n"
      ],
      "metadata": {
        "id": "5Ku1ZCBMMRGO"
      }
    },
    {
      "cell_type": "code",
      "source": [
        "my_dict = {'b':10,\n",
        "           'a':30,\n",
        "           'c':40}\n",
        "result = sorted(my_dict.keys())\n",
        "print(result)"
      ],
      "metadata": {
        "id": "Uo1ha3q4MRaG",
        "colab": {
          "base_uri": "https://localhost:8080/"
        },
        "outputId": "2b7f35a1-8262-4f05-a09c-8ab1793633c8"
      },
      "execution_count": null,
      "outputs": [
        {
          "output_type": "stream",
          "name": "stdout",
          "text": [
            "['a', 'b', 'c']\n"
          ]
        }
      ]
    },
    {
      "cell_type": "markdown",
      "source": [
        "\n",
        "\n",
        "```\n",
        "# This is formatted as code\n",
        "```\n",
        "\n",
        "16.  Write a Python program to create a dictionary from a string.\n",
        "\n",
        "```\n",
        "Note: Track the count of the letters from the string.\n",
        "Sample string : 'learnpython'\n",
        "Expected output: {'l': 1, 'e': 1, 'a': 1, 'r': 1, 'n': 2, 'p': 1, 'y': 1, 't': 1, 'h': 1, 'o': 1}\n",
        "\n",
        "```"
      ],
      "metadata": {
        "id": "VFB6DT7uMTCo"
      }
    },
    {
      "cell_type": "code",
      "source": [
        "def create_letter_count_dict(input_string):\n",
        "  letter_count_dict = {}\n",
        "  for char in input_string:\n",
        "    letter_count_dict[char] = letter_count_dict.get(char,0)+1\n",
        "  return letter_count_dict\n",
        "\n",
        "sample_string = \"learnpython\"\n",
        "\n",
        "result = create_letter_count_dict(sample_string)\n",
        "\n",
        "print(result)"
      ],
      "metadata": {
        "id": "Pst-k-SZMTUo",
        "colab": {
          "base_uri": "https://localhost:8080/"
        },
        "outputId": "764c829c-c81d-4b75-c842-b346fd15b084"
      },
      "execution_count": null,
      "outputs": [
        {
          "output_type": "stream",
          "name": "stdout",
          "text": [
            "{'l': 1, 'e': 1, 'a': 1, 'r': 1, 'n': 2, 'p': 1, 'y': 1, 't': 1, 'h': 1, 'o': 1}\n"
          ]
        }
      ]
    },
    {
      "cell_type": "markdown",
      "source": [
        "17. Write a Python program to get the top three items in a shop.\n",
        "\n",
        "```\n",
        "Sample data: {'item1': 45.50, 'item2':35, 'item3': 41.30, 'item4':55, 'item5': 24}\n",
        "\n",
        "Expected Output:\n",
        "item4 55\n",
        "item1 45.5\n",
        "item3 41.3\n",
        "```\n"
      ],
      "metadata": {
        "id": "OnYknUtWMYSr"
      }
    },
    {
      "cell_type": "code",
      "source": [],
      "metadata": {
        "id": "2q8ev-kbMas2"
      },
      "execution_count": null,
      "outputs": []
    }
  ]
}