{
  "nbformat": 4,
  "nbformat_minor": 0,
  "metadata": {
    "colab": {
      "provenance": []
    },
    "kernelspec": {
      "name": "python3",
      "display_name": "Python 3"
    },
    "language_info": {
      "name": "python"
    }
  },
  "cells": [
    {
      "cell_type": "markdown",
      "source": [
        "1. Write a Python program to check that a string contains only a certain set of characters (in this case a-z, A-Z and 0-9).\n"
      ],
      "metadata": {
        "id": "M-rD8rM25mdx"
      }
    },
    {
      "cell_type": "code",
      "execution_count": 1,
      "metadata": {
        "colab": {
          "base_uri": "https://localhost:8080/"
        },
        "id": "SfshTPl25lrf",
        "outputId": "16cefb24-5ede-4e85-e246-2b39ed25ed87"
      },
      "outputs": [
        {
          "output_type": "stream",
          "name": "stdout",
          "text": [
            "'abc123' contains only alphanumeric characters.\n",
            "'Hello!' contains non-alphanumeric characters.\n",
            "'12345' contains only alphanumeric characters.\n",
            "'@#$%^&*' contains non-alphanumeric characters.\n"
          ]
        }
      ],
      "source": [
        "import re\n",
        "\n",
        "def check_string(text):\n",
        "  pattern = r'^[a-zA-Z0-9]+$'\n",
        "  return bool(re.search(pattern, text))\n",
        "\n",
        "test_strings = [\"abc123\", \"Hello!\", \"12345\", \"@#$%^&*\"]\n",
        "for string in test_strings:\n",
        "  if check_string(string):\n",
        "    print(f\"'{string}' contains only alphanumeric characters.\")\n",
        "  else:\n",
        "    print(f\"'{string}' contains non-alphanumeric characters.\")\n"
      ]
    },
    {
      "cell_type": "markdown",
      "source": [
        "2. Write a Python program that matches a string that has an a followed by zero or more b's.\n",
        "\n"
      ],
      "metadata": {
        "id": "HJiIFuQa6qHt"
      }
    },
    {
      "cell_type": "code",
      "source": [
        "import re\n",
        "\n",
        "pattern = r\"a(b*)\"\n",
        "\n",
        "test_strings = [\"ab\", \"abb\", \"abc\", \"abbb\", \"ba\"]\n",
        "\n",
        "for string in test_strings:\n",
        "  if re.fullmatch(pattern, string):\n",
        "    print(f\"'{string}' matches the pattern\")\n",
        "  else:\n",
        "    print(f\"'{string}' does not match the pattern\")\n"
      ],
      "metadata": {
        "colab": {
          "base_uri": "https://localhost:8080/"
        },
        "id": "duFEzslJ5tOs",
        "outputId": "e3f14414-274f-4d1f-bbc7-380cdc0c1ac2"
      },
      "execution_count": 2,
      "outputs": [
        {
          "output_type": "stream",
          "name": "stdout",
          "text": [
            "'ab' matches the pattern\n",
            "'abb' matches the pattern\n",
            "'abc' does not match the pattern\n",
            "'abbb' matches the pattern\n",
            "'ba' does not match the pattern\n"
          ]
        }
      ]
    },
    {
      "cell_type": "markdown",
      "source": [
        "3. Replace only the first occurrence of 5 with five for the given string\n",
        "\n",
        "   ip = 'They ate 5 apples and 5 oranges'"
      ],
      "metadata": {
        "id": "tlyr1lMx7cMj"
      }
    },
    {
      "cell_type": "code",
      "source": [],
      "metadata": {
        "id": "B1HHM_7X7myb"
      },
      "execution_count": null,
      "outputs": []
    },
    {
      "cell_type": "code",
      "source": [
        "import re\n",
        "\n",
        "ip = \"They ate 5 apples and 5 oranges\"\n",
        "\n",
        "replaced_string = re.sub(r\"5\", \"five\", ip, count=1)\n",
        "\n",
        "print(replaced_string)"
      ],
      "metadata": {
        "colab": {
          "base_uri": "https://localhost:8080/"
        },
        "id": "J-FbV69F6yba",
        "outputId": "09b70d9c-f515-4833-a9ec-842f93d35dc8"
      },
      "execution_count": 3,
      "outputs": [
        {
          "output_type": "stream",
          "name": "stdout",
          "text": [
            "They ate five apples and 5 oranges\n"
          ]
        }
      ]
    },
    {
      "cell_type": "markdown",
      "source": [
        "4. Write a Python program that matches a string that has an a followed by three 'b'.\n",
        "\n",
        "\n",
        "\n",
        "\n",
        "\n"
      ],
      "metadata": {
        "id": "FX2G8Px97-m4"
      }
    },
    {
      "cell_type": "code",
      "source": [
        "import re\n",
        "\n",
        "pattern = r\"a(b{3})\"\n",
        "\n",
        "test_strings = [\"ab\", \"abb\", \"abbb\", \"abc\", \"abba\"]\n",
        "\n",
        "for string in test_strings:\n",
        "  if re.fullmatch(pattern, string):\n",
        "    print(f\"'{string}' matches the pattern\")\n",
        "  else:\n",
        "    print(f\"'{string}' does not match the pattern\")\n"
      ],
      "metadata": {
        "colab": {
          "base_uri": "https://localhost:8080/"
        },
        "id": "UmaLxXQG7kEO",
        "outputId": "79e35e60-4322-4173-bcbb-8e3bb3b51dd8"
      },
      "execution_count": 4,
      "outputs": [
        {
          "output_type": "stream",
          "name": "stdout",
          "text": [
            "'ab' does not match the pattern\n",
            "'abb' does not match the pattern\n",
            "'abbb' matches the pattern\n",
            "'abc' does not match the pattern\n",
            "'abba' does not match the pattern\n"
          ]
        }
      ]
    },
    {
      "cell_type": "markdown",
      "source": [
        "5. Write a Python program that matches a string that has an 'a' followed by anything ending in 'b'.\n",
        "\n"
      ],
      "metadata": {
        "id": "992d31oq-Ffp"
      }
    },
    {
      "cell_type": "code",
      "source": [
        "import re\n",
        "\n",
        "pattern = r\"a.*?b$\"\n",
        "\n",
        "test_strings = [\"ab\", \"acb\", \"a123b\", \"axyzb\", \"aaab\", \"abb\"]\n",
        "\n",
        "for string in test_strings:\n",
        "  if re.search(pattern, string):\n",
        "    print(f\"'{string}' matches the pattern\")\n",
        "  else:\n",
        "    print(f\"'{string}' does not match the pattern\")\n"
      ],
      "metadata": {
        "colab": {
          "base_uri": "https://localhost:8080/"
        },
        "id": "nX6Zpqrd8ZiQ",
        "outputId": "a459669e-0146-4183-9cca-a4eca4987990"
      },
      "execution_count": 5,
      "outputs": [
        {
          "output_type": "stream",
          "name": "stdout",
          "text": [
            "'ab' matches the pattern\n",
            "'acb' matches the pattern\n",
            "'a123b' matches the pattern\n",
            "'axyzb' matches the pattern\n",
            "'aaab' matches the pattern\n",
            "'abb' matches the pattern\n"
          ]
        }
      ]
    },
    {
      "cell_type": "markdown",
      "source": [
        "6. Write a Python program to search for numbers (0-9) of length between 1 and 3 in a given string."
      ],
      "metadata": {
        "id": "lnFGnwjZ-3UN"
      }
    },
    {
      "cell_type": "code",
      "source": [
        "import re\n",
        "\n",
        "text = \"Exercises number 1, 12, 13, and 345 are important\"\n",
        "\n",
        "pattern = r\"\\b\\d{1,3}\\b\"\n",
        "\n",
        "# Find all matches using re.finditer\n",
        "matches = re.finditer(pattern, text)\n",
        "\n",
        "print(\"Numbers of length 1-3:\")\n",
        "for match in matches:\n",
        "  number = match.group()\n",
        "  print(number)\n"
      ],
      "metadata": {
        "colab": {
          "base_uri": "https://localhost:8080/"
        },
        "id": "5k3s3b2d-ay4",
        "outputId": "3d668eb8-80a6-4fe2-dea9-4288bf2683ff"
      },
      "execution_count": 8,
      "outputs": [
        {
          "output_type": "stream",
          "name": "stdout",
          "text": [
            "Numbers of length 1-3:\n",
            "1\n",
            "12\n",
            "13\n",
            "345\n"
          ]
        }
      ]
    },
    {
      "cell_type": "markdown",
      "source": [
        "7. Write a Python program to search for literal strings within a string.\\\n",
        "Sample text : 'The quick brown fox jumps over the lazy dog.' \\\n",
        "Searched words : 'fox', 'dog', 'horse'"
      ],
      "metadata": {
        "id": "4FH2IjUt_cL2"
      }
    },
    {
      "cell_type": "code",
      "source": [
        "import re\n",
        "\n",
        "def search_strings(text, searched_words):\n",
        "    for word in searched_words:\n",
        "        if re.search(re.escape(word), text):\n",
        "            print(f\"'{word}' found in the text.\")\n",
        "        else:\n",
        "            print(f\"'{word}' not found in the text.\")\n",
        "\n",
        "sample_text = 'The quick brown fox jumps over the lazy dog.'\n",
        "\n",
        "searched_words = ['fox', 'dog', 'horse']\n",
        "\n",
        "search_strings(sample_text, searched_words)\n"
      ],
      "metadata": {
        "colab": {
          "base_uri": "https://localhost:8080/"
        },
        "id": "tlIr9zBB_CEr",
        "outputId": "23afee25-84e0-4e9f-847c-d99034baa849"
      },
      "execution_count": 9,
      "outputs": [
        {
          "output_type": "stream",
          "name": "stdout",
          "text": [
            "'fox' found in the text.\n",
            "'dog' found in the text.\n",
            "'horse' not found in the text.\n"
          ]
        }
      ]
    },
    {
      "cell_type": "markdown",
      "source": [
        "8. Write a Python program to search for a literal string in a string and also find the location within the original string where the pattern occurs.\n",
        "\n",
        "\n",
        "Sample text : 'The quick brown fox jumps over the lazy dog.' \\\n",
        "\n",
        "Searched words : 'fox'"
      ],
      "metadata": {
        "id": "W54FD_WcApFU"
      }
    },
    {
      "cell_type": "code",
      "source": [
        "import re\n",
        "\n",
        "def search_string_with_location(text, searched_word):\n",
        "    match = re.search(re.escape(searched_word), text)\n",
        "    if match:\n",
        "        print(f\"'{searched_word}' found in the text at position {match.start()}-{match.end()}.\")\n",
        "    else:\n",
        "        print(f\"'{searched_word}' not found in the text.\")\n",
        "\n",
        "sample_text = 'The quick brown fox jumps over the lazy dog.'\n",
        "\n",
        "searched_word = 'fox'\n",
        "\n",
        "search_string_with_location(sample_text, searched_word)\n"
      ],
      "metadata": {
        "colab": {
          "base_uri": "https://localhost:8080/"
        },
        "id": "Hat2y9LLAjC9",
        "outputId": "f6bc841d-4db5-4fd4-b4e3-83f9ddd5394d"
      },
      "execution_count": 10,
      "outputs": [
        {
          "output_type": "stream",
          "name": "stdout",
          "text": [
            "'fox' found in the text at position 16-19.\n"
          ]
        }
      ]
    },
    {
      "cell_type": "markdown",
      "source": [
        "9.  Write a Python program to extract year, month and date from an URL\n",
        "url1= \"https://www.washingtonpost.com/news/football-insider/wp/2016/09/02/odell-beckhams-fame-rests-on-one-stupid-little-ball-josh-norman-tells-author/\""
      ],
      "metadata": {
        "id": "uIrIY0CABqBb"
      }
    },
    {
      "cell_type": "code",
      "source": [
        "import re\n",
        "\n",
        "def extract_date_from_url(url):\n",
        "    date_pattern = r'/(\\d{4})/(\\d{1,2})/(\\d{1,2})/'\n",
        "\n",
        "    match = re.search(date_pattern, url)\n",
        "\n",
        "    if match:\n",
        "        year, month, day = map(int, match.groups())\n",
        "        print(f\"Year: {year}, Month: {month}, Day: {day}\")\n",
        "    else:\n",
        "        print(\"No date found in the URL.\")\n",
        "\n",
        "url1 = \"https://www.washingtonpost.com/news/football-insider/wp/2016/09/02/odell-beckhams-fame-rests-on-one-stupid-little-ball-josh-norman-tells-author/\"\n",
        "\n",
        "extract_date_from_url(url1)\n"
      ],
      "metadata": {
        "colab": {
          "base_uri": "https://localhost:8080/"
        },
        "id": "UBpCI5qDBG6w",
        "outputId": "7ab04d52-cdee-49ed-b583-d002315ac046"
      },
      "execution_count": 11,
      "outputs": [
        {
          "output_type": "stream",
          "name": "stdout",
          "text": [
            "Year: 2016, Month: 9, Day: 2\n"
          ]
        }
      ]
    },
    {
      "cell_type": "markdown",
      "source": [
        "10. Write a Python program to find URLs in a string.\n",
        "text = '<p>Contents :</p><a href=\"https://w3resource.com\">Python Examples</a><a href=\"http://github.com\">Even More Examples</a>'"
      ],
      "metadata": {
        "id": "6YLzCHydCIDP"
      }
    },
    {
      "cell_type": "code",
      "source": [
        "import re\n",
        "\n",
        "def find_urls(text):\n",
        "    url_pattern = r'https?://\\S+'\n",
        "\n",
        "    urls = re.findall(url_pattern, text)\n",
        "\n",
        "    if urls:\n",
        "        for url in urls:\n",
        "            print(url)\n",
        "    else:\n",
        "        print(\"No URLs found in the text.\")\n",
        "\n",
        "text = '<p>Contents :</p><a href=\"https://w3resource.com\">Python Examples</a><a href=\"http://github.com\">Even More Examples</a>'\n",
        "\n",
        "find_urls(text)\n"
      ],
      "metadata": {
        "colab": {
          "base_uri": "https://localhost:8080/"
        },
        "id": "VoKy9k8yBzgD",
        "outputId": "3ad51130-06a9-4bd4-d033-734fc940bdf5"
      },
      "execution_count": 12,
      "outputs": [
        {
          "output_type": "stream",
          "name": "stdout",
          "text": [
            "https://w3resource.com\">Python\n",
            "http://github.com\">Even\n"
          ]
        }
      ]
    },
    {
      "cell_type": "markdown",
      "source": [
        "11.Write a Python program to remove the parenthesis area in a string.\\\n",
        "Sample data : [\"example (.com)\", \"w3resource\", \"github (.com)\", \"stackoverflow (.com)\"]\n",
        "Expected Output:\n",
        "example\n",
        "w3resource\n",
        "github\n",
        "stackoverflow."
      ],
      "metadata": {
        "id": "lU_TRPhHCYnr"
      }
    },
    {
      "cell_type": "code",
      "source": [
        "import re\n",
        "\n",
        "def remove_parenthesis_area(data):\n",
        "    result = []\n",
        "    for item in data:\n",
        "        cleaned_item = re.sub(r'\\s*\\([^)]*\\)\\s*', '', item)\n",
        "        result.append(cleaned_item)\n",
        "\n",
        "    return result\n",
        "\n",
        "sample_data = [\"example (.com)\", \"w3resource\", \"github (.com)\", \"stackoverflow (.com)\"]\n",
        "\n",
        "result = remove_parenthesis_area(sample_data)\n",
        "\n",
        "for item in result:\n",
        "    print(item)\n"
      ],
      "metadata": {
        "colab": {
          "base_uri": "https://localhost:8080/"
        },
        "id": "Ow__9y2qCQtI",
        "outputId": "328167e2-3163-47df-cdde-023751f2a1c0"
      },
      "execution_count": 13,
      "outputs": [
        {
          "output_type": "stream",
          "name": "stdout",
          "text": [
            "example\n",
            "w3resource\n",
            "github\n",
            "stackoverflow\n"
          ]
        }
      ]
    },
    {
      "cell_type": "markdown",
      "source": [
        "12.Write a Python program to concatenate the consecutive numbers in a given string.\n",
        "Original string:\n",
        "Enter at 1 20 Kearny Street. The security desk can direct you to floor 1 6. Please have your identification ready.\n",
        "\n",
        "After concatenating the consecutive numbers in the said string:\n",
        "Enter at 120 Kearny Street. The security desk can direct you to floor 16. Please have your identification ready."
      ],
      "metadata": {
        "id": "bJdgakVkC01o"
      }
    },
    {
      "cell_type": "code",
      "source": [
        "import re\n",
        "\n",
        "def concatenate_consecutive_numbers(input_string):\n",
        "    pattern = re.compile(r'\\b(\\d+)\\s+(\\d+)\\b')\n",
        "\n",
        "    modified_string = pattern.sub(lambda match: match.group(1) + match.group(2), input_string)\n",
        "\n",
        "    return modified_string\n",
        "\n",
        "original_string = \"Enter at 1 20 Kearny Street. The security desk can direct you to floor 1 6. Please have your identification ready.\"\n",
        "\n",
        "result_string = concatenate_consecutive_numbers(original_string)\n",
        "print(\"\\nAfter concatenating the consecutive numbers:\")\n",
        "print(result_string)\n"
      ],
      "metadata": {
        "colab": {
          "base_uri": "https://localhost:8080/"
        },
        "id": "sZ6xAKItCrFw",
        "outputId": "f21a7136-4beb-48be-d942-c429cabdf9d4"
      },
      "execution_count": 14,
      "outputs": [
        {
          "output_type": "stream",
          "name": "stdout",
          "text": [
            "\n",
            "After concatenating the consecutive numbers:\n",
            "Enter at 120 Kearny Street. The security desk can direct you to floor 16. Please have your identification ready.\n"
          ]
        }
      ]
    },
    {
      "cell_type": "code",
      "source": [],
      "metadata": {
        "id": "ioFBoA5lDOHi"
      },
      "execution_count": null,
      "outputs": []
    }
  ]
}