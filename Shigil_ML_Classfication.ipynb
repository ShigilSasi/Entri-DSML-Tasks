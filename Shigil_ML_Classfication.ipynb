{
  "nbformat": 4,
  "nbformat_minor": 0,
  "metadata": {
    "colab": {
      "provenance": []
    },
    "kernelspec": {
      "name": "python3",
      "display_name": "Python 3"
    },
    "language_info": {
      "name": "python"
    }
  },
  "cells": [
    {
      "cell_type": "code",
      "execution_count": null,
      "metadata": {
        "colab": {
          "base_uri": "https://localhost:8080/"
        },
        "id": "YNzTErvf-VcH",
        "outputId": "3d07f1fc-b855-44b9-fda9-1559d58d4a32"
      },
      "outputs": [
        {
          "output_type": "stream",
          "name": "stdout",
          "text": [
            "--2024-04-15 12:07:50--  https://s3-api.us-geo.objectstorage.softlayer.net/cf-courses-data/CognitiveClass/ML0101ENv3/labs/drug200.csv\n",
            "Resolving s3-api.us-geo.objectstorage.softlayer.net (s3-api.us-geo.objectstorage.softlayer.net)... 67.228.254.196\n",
            "Connecting to s3-api.us-geo.objectstorage.softlayer.net (s3-api.us-geo.objectstorage.softlayer.net)|67.228.254.196|:443... connected.\n",
            "HTTP request sent, awaiting response... 200 OK\n",
            "Length: 6027 (5.9K) [text/csv]\n",
            "Saving to: ‘drug200.csv’\n",
            "\n",
            "\rdrug200.csv           0%[                    ]       0  --.-KB/s               \rdrug200.csv         100%[===================>]   5.89K  --.-KB/s    in 0s      \n",
            "\n",
            "2024-04-15 12:07:50 (1.41 GB/s) - ‘drug200.csv’ saved [6027/6027]\n",
            "\n"
          ]
        }
      ],
      "source": [
        "!wget -O drug200.csv https://s3-api.us-geo.objectstorage.softlayer.net/cf-courses-data/CognitiveClass/ML0101ENv3/labs/drug200.csv"
      ]
    },
    {
      "cell_type": "markdown",
      "source": [
        "Import Libraries"
      ],
      "metadata": {
        "id": "QHHof8hE5PY1"
      }
    },
    {
      "cell_type": "code",
      "source": [
        "import pandas as pd\n",
        "import numpy as np\n",
        "import matplotlib.pyplot as plt\n",
        "import seaborn as sns"
      ],
      "metadata": {
        "id": "53wem4mq-351"
      },
      "execution_count": null,
      "outputs": []
    },
    {
      "cell_type": "markdown",
      "source": [
        "Read the data"
      ],
      "metadata": {
        "id": "YoSlGgeb5Sxt"
      }
    },
    {
      "cell_type": "code",
      "source": [
        "data = pd.read_csv('drug200.csv')\n",
        "data"
      ],
      "metadata": {
        "colab": {
          "base_uri": "https://localhost:8080/",
          "height": 424
        },
        "id": "ZEr52dvC_Cvd",
        "outputId": "22cd610d-cfee-4390-aee5-d30c77263ec9"
      },
      "execution_count": null,
      "outputs": [
        {
          "output_type": "execute_result",
          "data": {
            "text/plain": [
              "     Age Sex      BP Cholesterol  Na_to_K   Drug\n",
              "0     23   F    HIGH        HIGH   25.355  drugY\n",
              "1     47   M     LOW        HIGH   13.093  drugC\n",
              "2     47   M     LOW        HIGH   10.114  drugC\n",
              "3     28   F  NORMAL        HIGH    7.798  drugX\n",
              "4     61   F     LOW        HIGH   18.043  drugY\n",
              "..   ...  ..     ...         ...      ...    ...\n",
              "195   56   F     LOW        HIGH   11.567  drugC\n",
              "196   16   M     LOW        HIGH   12.006  drugC\n",
              "197   52   M  NORMAL        HIGH    9.894  drugX\n",
              "198   23   M  NORMAL      NORMAL   14.020  drugX\n",
              "199   40   F     LOW      NORMAL   11.349  drugX\n",
              "\n",
              "[200 rows x 6 columns]"
            ],
            "text/html": [
              "\n",
              "  <div id=\"df-80a09a47-32bd-4266-93c0-370f667cc8b4\" class=\"colab-df-container\">\n",
              "    <div>\n",
              "<style scoped>\n",
              "    .dataframe tbody tr th:only-of-type {\n",
              "        vertical-align: middle;\n",
              "    }\n",
              "\n",
              "    .dataframe tbody tr th {\n",
              "        vertical-align: top;\n",
              "    }\n",
              "\n",
              "    .dataframe thead th {\n",
              "        text-align: right;\n",
              "    }\n",
              "</style>\n",
              "<table border=\"1\" class=\"dataframe\">\n",
              "  <thead>\n",
              "    <tr style=\"text-align: right;\">\n",
              "      <th></th>\n",
              "      <th>Age</th>\n",
              "      <th>Sex</th>\n",
              "      <th>BP</th>\n",
              "      <th>Cholesterol</th>\n",
              "      <th>Na_to_K</th>\n",
              "      <th>Drug</th>\n",
              "    </tr>\n",
              "  </thead>\n",
              "  <tbody>\n",
              "    <tr>\n",
              "      <th>0</th>\n",
              "      <td>23</td>\n",
              "      <td>F</td>\n",
              "      <td>HIGH</td>\n",
              "      <td>HIGH</td>\n",
              "      <td>25.355</td>\n",
              "      <td>drugY</td>\n",
              "    </tr>\n",
              "    <tr>\n",
              "      <th>1</th>\n",
              "      <td>47</td>\n",
              "      <td>M</td>\n",
              "      <td>LOW</td>\n",
              "      <td>HIGH</td>\n",
              "      <td>13.093</td>\n",
              "      <td>drugC</td>\n",
              "    </tr>\n",
              "    <tr>\n",
              "      <th>2</th>\n",
              "      <td>47</td>\n",
              "      <td>M</td>\n",
              "      <td>LOW</td>\n",
              "      <td>HIGH</td>\n",
              "      <td>10.114</td>\n",
              "      <td>drugC</td>\n",
              "    </tr>\n",
              "    <tr>\n",
              "      <th>3</th>\n",
              "      <td>28</td>\n",
              "      <td>F</td>\n",
              "      <td>NORMAL</td>\n",
              "      <td>HIGH</td>\n",
              "      <td>7.798</td>\n",
              "      <td>drugX</td>\n",
              "    </tr>\n",
              "    <tr>\n",
              "      <th>4</th>\n",
              "      <td>61</td>\n",
              "      <td>F</td>\n",
              "      <td>LOW</td>\n",
              "      <td>HIGH</td>\n",
              "      <td>18.043</td>\n",
              "      <td>drugY</td>\n",
              "    </tr>\n",
              "    <tr>\n",
              "      <th>...</th>\n",
              "      <td>...</td>\n",
              "      <td>...</td>\n",
              "      <td>...</td>\n",
              "      <td>...</td>\n",
              "      <td>...</td>\n",
              "      <td>...</td>\n",
              "    </tr>\n",
              "    <tr>\n",
              "      <th>195</th>\n",
              "      <td>56</td>\n",
              "      <td>F</td>\n",
              "      <td>LOW</td>\n",
              "      <td>HIGH</td>\n",
              "      <td>11.567</td>\n",
              "      <td>drugC</td>\n",
              "    </tr>\n",
              "    <tr>\n",
              "      <th>196</th>\n",
              "      <td>16</td>\n",
              "      <td>M</td>\n",
              "      <td>LOW</td>\n",
              "      <td>HIGH</td>\n",
              "      <td>12.006</td>\n",
              "      <td>drugC</td>\n",
              "    </tr>\n",
              "    <tr>\n",
              "      <th>197</th>\n",
              "      <td>52</td>\n",
              "      <td>M</td>\n",
              "      <td>NORMAL</td>\n",
              "      <td>HIGH</td>\n",
              "      <td>9.894</td>\n",
              "      <td>drugX</td>\n",
              "    </tr>\n",
              "    <tr>\n",
              "      <th>198</th>\n",
              "      <td>23</td>\n",
              "      <td>M</td>\n",
              "      <td>NORMAL</td>\n",
              "      <td>NORMAL</td>\n",
              "      <td>14.020</td>\n",
              "      <td>drugX</td>\n",
              "    </tr>\n",
              "    <tr>\n",
              "      <th>199</th>\n",
              "      <td>40</td>\n",
              "      <td>F</td>\n",
              "      <td>LOW</td>\n",
              "      <td>NORMAL</td>\n",
              "      <td>11.349</td>\n",
              "      <td>drugX</td>\n",
              "    </tr>\n",
              "  </tbody>\n",
              "</table>\n",
              "<p>200 rows × 6 columns</p>\n",
              "</div>\n",
              "    <div class=\"colab-df-buttons\">\n",
              "\n",
              "  <div class=\"colab-df-container\">\n",
              "    <button class=\"colab-df-convert\" onclick=\"convertToInteractive('df-80a09a47-32bd-4266-93c0-370f667cc8b4')\"\n",
              "            title=\"Convert this dataframe to an interactive table.\"\n",
              "            style=\"display:none;\">\n",
              "\n",
              "  <svg xmlns=\"http://www.w3.org/2000/svg\" height=\"24px\" viewBox=\"0 -960 960 960\">\n",
              "    <path d=\"M120-120v-720h720v720H120Zm60-500h600v-160H180v160Zm220 220h160v-160H400v160Zm0 220h160v-160H400v160ZM180-400h160v-160H180v160Zm440 0h160v-160H620v160ZM180-180h160v-160H180v160Zm440 0h160v-160H620v160Z\"/>\n",
              "  </svg>\n",
              "    </button>\n",
              "\n",
              "  <style>\n",
              "    .colab-df-container {\n",
              "      display:flex;\n",
              "      gap: 12px;\n",
              "    }\n",
              "\n",
              "    .colab-df-convert {\n",
              "      background-color: #E8F0FE;\n",
              "      border: none;\n",
              "      border-radius: 50%;\n",
              "      cursor: pointer;\n",
              "      display: none;\n",
              "      fill: #1967D2;\n",
              "      height: 32px;\n",
              "      padding: 0 0 0 0;\n",
              "      width: 32px;\n",
              "    }\n",
              "\n",
              "    .colab-df-convert:hover {\n",
              "      background-color: #E2EBFA;\n",
              "      box-shadow: 0px 1px 2px rgba(60, 64, 67, 0.3), 0px 1px 3px 1px rgba(60, 64, 67, 0.15);\n",
              "      fill: #174EA6;\n",
              "    }\n",
              "\n",
              "    .colab-df-buttons div {\n",
              "      margin-bottom: 4px;\n",
              "    }\n",
              "\n",
              "    [theme=dark] .colab-df-convert {\n",
              "      background-color: #3B4455;\n",
              "      fill: #D2E3FC;\n",
              "    }\n",
              "\n",
              "    [theme=dark] .colab-df-convert:hover {\n",
              "      background-color: #434B5C;\n",
              "      box-shadow: 0px 1px 3px 1px rgba(0, 0, 0, 0.15);\n",
              "      filter: drop-shadow(0px 1px 2px rgba(0, 0, 0, 0.3));\n",
              "      fill: #FFFFFF;\n",
              "    }\n",
              "  </style>\n",
              "\n",
              "    <script>\n",
              "      const buttonEl =\n",
              "        document.querySelector('#df-80a09a47-32bd-4266-93c0-370f667cc8b4 button.colab-df-convert');\n",
              "      buttonEl.style.display =\n",
              "        google.colab.kernel.accessAllowed ? 'block' : 'none';\n",
              "\n",
              "      async function convertToInteractive(key) {\n",
              "        const element = document.querySelector('#df-80a09a47-32bd-4266-93c0-370f667cc8b4');\n",
              "        const dataTable =\n",
              "          await google.colab.kernel.invokeFunction('convertToInteractive',\n",
              "                                                    [key], {});\n",
              "        if (!dataTable) return;\n",
              "\n",
              "        const docLinkHtml = 'Like what you see? Visit the ' +\n",
              "          '<a target=\"_blank\" href=https://colab.research.google.com/notebooks/data_table.ipynb>data table notebook</a>'\n",
              "          + ' to learn more about interactive tables.';\n",
              "        element.innerHTML = '';\n",
              "        dataTable['output_type'] = 'display_data';\n",
              "        await google.colab.output.renderOutput(dataTable, element);\n",
              "        const docLink = document.createElement('div');\n",
              "        docLink.innerHTML = docLinkHtml;\n",
              "        element.appendChild(docLink);\n",
              "      }\n",
              "    </script>\n",
              "  </div>\n",
              "\n",
              "\n",
              "<div id=\"df-1a0fc4be-76f1-469a-bcf2-02e716f0c590\">\n",
              "  <button class=\"colab-df-quickchart\" onclick=\"quickchart('df-1a0fc4be-76f1-469a-bcf2-02e716f0c590')\"\n",
              "            title=\"Suggest charts\"\n",
              "            style=\"display:none;\">\n",
              "\n",
              "<svg xmlns=\"http://www.w3.org/2000/svg\" height=\"24px\"viewBox=\"0 0 24 24\"\n",
              "     width=\"24px\">\n",
              "    <g>\n",
              "        <path d=\"M19 3H5c-1.1 0-2 .9-2 2v14c0 1.1.9 2 2 2h14c1.1 0 2-.9 2-2V5c0-1.1-.9-2-2-2zM9 17H7v-7h2v7zm4 0h-2V7h2v10zm4 0h-2v-4h2v4z\"/>\n",
              "    </g>\n",
              "</svg>\n",
              "  </button>\n",
              "\n",
              "<style>\n",
              "  .colab-df-quickchart {\n",
              "      --bg-color: #E8F0FE;\n",
              "      --fill-color: #1967D2;\n",
              "      --hover-bg-color: #E2EBFA;\n",
              "      --hover-fill-color: #174EA6;\n",
              "      --disabled-fill-color: #AAA;\n",
              "      --disabled-bg-color: #DDD;\n",
              "  }\n",
              "\n",
              "  [theme=dark] .colab-df-quickchart {\n",
              "      --bg-color: #3B4455;\n",
              "      --fill-color: #D2E3FC;\n",
              "      --hover-bg-color: #434B5C;\n",
              "      --hover-fill-color: #FFFFFF;\n",
              "      --disabled-bg-color: #3B4455;\n",
              "      --disabled-fill-color: #666;\n",
              "  }\n",
              "\n",
              "  .colab-df-quickchart {\n",
              "    background-color: var(--bg-color);\n",
              "    border: none;\n",
              "    border-radius: 50%;\n",
              "    cursor: pointer;\n",
              "    display: none;\n",
              "    fill: var(--fill-color);\n",
              "    height: 32px;\n",
              "    padding: 0;\n",
              "    width: 32px;\n",
              "  }\n",
              "\n",
              "  .colab-df-quickchart:hover {\n",
              "    background-color: var(--hover-bg-color);\n",
              "    box-shadow: 0 1px 2px rgba(60, 64, 67, 0.3), 0 1px 3px 1px rgba(60, 64, 67, 0.15);\n",
              "    fill: var(--button-hover-fill-color);\n",
              "  }\n",
              "\n",
              "  .colab-df-quickchart-complete:disabled,\n",
              "  .colab-df-quickchart-complete:disabled:hover {\n",
              "    background-color: var(--disabled-bg-color);\n",
              "    fill: var(--disabled-fill-color);\n",
              "    box-shadow: none;\n",
              "  }\n",
              "\n",
              "  .colab-df-spinner {\n",
              "    border: 2px solid var(--fill-color);\n",
              "    border-color: transparent;\n",
              "    border-bottom-color: var(--fill-color);\n",
              "    animation:\n",
              "      spin 1s steps(1) infinite;\n",
              "  }\n",
              "\n",
              "  @keyframes spin {\n",
              "    0% {\n",
              "      border-color: transparent;\n",
              "      border-bottom-color: var(--fill-color);\n",
              "      border-left-color: var(--fill-color);\n",
              "    }\n",
              "    20% {\n",
              "      border-color: transparent;\n",
              "      border-left-color: var(--fill-color);\n",
              "      border-top-color: var(--fill-color);\n",
              "    }\n",
              "    30% {\n",
              "      border-color: transparent;\n",
              "      border-left-color: var(--fill-color);\n",
              "      border-top-color: var(--fill-color);\n",
              "      border-right-color: var(--fill-color);\n",
              "    }\n",
              "    40% {\n",
              "      border-color: transparent;\n",
              "      border-right-color: var(--fill-color);\n",
              "      border-top-color: var(--fill-color);\n",
              "    }\n",
              "    60% {\n",
              "      border-color: transparent;\n",
              "      border-right-color: var(--fill-color);\n",
              "    }\n",
              "    80% {\n",
              "      border-color: transparent;\n",
              "      border-right-color: var(--fill-color);\n",
              "      border-bottom-color: var(--fill-color);\n",
              "    }\n",
              "    90% {\n",
              "      border-color: transparent;\n",
              "      border-bottom-color: var(--fill-color);\n",
              "    }\n",
              "  }\n",
              "</style>\n",
              "\n",
              "  <script>\n",
              "    async function quickchart(key) {\n",
              "      const quickchartButtonEl =\n",
              "        document.querySelector('#' + key + ' button');\n",
              "      quickchartButtonEl.disabled = true;  // To prevent multiple clicks.\n",
              "      quickchartButtonEl.classList.add('colab-df-spinner');\n",
              "      try {\n",
              "        const charts = await google.colab.kernel.invokeFunction(\n",
              "            'suggestCharts', [key], {});\n",
              "      } catch (error) {\n",
              "        console.error('Error during call to suggestCharts:', error);\n",
              "      }\n",
              "      quickchartButtonEl.classList.remove('colab-df-spinner');\n",
              "      quickchartButtonEl.classList.add('colab-df-quickchart-complete');\n",
              "    }\n",
              "    (() => {\n",
              "      let quickchartButtonEl =\n",
              "        document.querySelector('#df-1a0fc4be-76f1-469a-bcf2-02e716f0c590 button');\n",
              "      quickchartButtonEl.style.display =\n",
              "        google.colab.kernel.accessAllowed ? 'block' : 'none';\n",
              "    })();\n",
              "  </script>\n",
              "</div>\n",
              "\n",
              "  <div id=\"id_b7f0f83e-115a-42d1-9c6b-f088748f1d14\">\n",
              "    <style>\n",
              "      .colab-df-generate {\n",
              "        background-color: #E8F0FE;\n",
              "        border: none;\n",
              "        border-radius: 50%;\n",
              "        cursor: pointer;\n",
              "        display: none;\n",
              "        fill: #1967D2;\n",
              "        height: 32px;\n",
              "        padding: 0 0 0 0;\n",
              "        width: 32px;\n",
              "      }\n",
              "\n",
              "      .colab-df-generate:hover {\n",
              "        background-color: #E2EBFA;\n",
              "        box-shadow: 0px 1px 2px rgba(60, 64, 67, 0.3), 0px 1px 3px 1px rgba(60, 64, 67, 0.15);\n",
              "        fill: #174EA6;\n",
              "      }\n",
              "\n",
              "      [theme=dark] .colab-df-generate {\n",
              "        background-color: #3B4455;\n",
              "        fill: #D2E3FC;\n",
              "      }\n",
              "\n",
              "      [theme=dark] .colab-df-generate:hover {\n",
              "        background-color: #434B5C;\n",
              "        box-shadow: 0px 1px 3px 1px rgba(0, 0, 0, 0.15);\n",
              "        filter: drop-shadow(0px 1px 2px rgba(0, 0, 0, 0.3));\n",
              "        fill: #FFFFFF;\n",
              "      }\n",
              "    </style>\n",
              "    <button class=\"colab-df-generate\" onclick=\"generateWithVariable('data')\"\n",
              "            title=\"Generate code using this dataframe.\"\n",
              "            style=\"display:none;\">\n",
              "\n",
              "  <svg xmlns=\"http://www.w3.org/2000/svg\" height=\"24px\"viewBox=\"0 0 24 24\"\n",
              "       width=\"24px\">\n",
              "    <path d=\"M7,19H8.4L18.45,9,17,7.55,7,17.6ZM5,21V16.75L18.45,3.32a2,2,0,0,1,2.83,0l1.4,1.43a1.91,1.91,0,0,1,.58,1.4,1.91,1.91,0,0,1-.58,1.4L9.25,21ZM18.45,9,17,7.55Zm-12,3A5.31,5.31,0,0,0,4.9,8.1,5.31,5.31,0,0,0,1,6.5,5.31,5.31,0,0,0,4.9,4.9,5.31,5.31,0,0,0,6.5,1,5.31,5.31,0,0,0,8.1,4.9,5.31,5.31,0,0,0,12,6.5,5.46,5.46,0,0,0,6.5,12Z\"/>\n",
              "  </svg>\n",
              "    </button>\n",
              "    <script>\n",
              "      (() => {\n",
              "      const buttonEl =\n",
              "        document.querySelector('#id_b7f0f83e-115a-42d1-9c6b-f088748f1d14 button.colab-df-generate');\n",
              "      buttonEl.style.display =\n",
              "        google.colab.kernel.accessAllowed ? 'block' : 'none';\n",
              "\n",
              "      buttonEl.onclick = () => {\n",
              "        google.colab.notebook.generateWithVariable('data');\n",
              "      }\n",
              "      })();\n",
              "    </script>\n",
              "  </div>\n",
              "\n",
              "    </div>\n",
              "  </div>\n"
            ],
            "application/vnd.google.colaboratory.intrinsic+json": {
              "type": "dataframe",
              "variable_name": "data",
              "summary": "{\n  \"name\": \"data\",\n  \"rows\": 200,\n  \"fields\": [\n    {\n      \"column\": \"Age\",\n      \"properties\": {\n        \"dtype\": \"number\",\n        \"std\": 16,\n        \"min\": 15,\n        \"max\": 74,\n        \"num_unique_values\": 57,\n        \"samples\": [\n          23,\n          49,\n          37\n        ],\n        \"semantic_type\": \"\",\n        \"description\": \"\"\n      }\n    },\n    {\n      \"column\": \"Sex\",\n      \"properties\": {\n        \"dtype\": \"category\",\n        \"num_unique_values\": 2,\n        \"samples\": [\n          \"M\",\n          \"F\"\n        ],\n        \"semantic_type\": \"\",\n        \"description\": \"\"\n      }\n    },\n    {\n      \"column\": \"BP\",\n      \"properties\": {\n        \"dtype\": \"category\",\n        \"num_unique_values\": 3,\n        \"samples\": [\n          \"HIGH\",\n          \"LOW\"\n        ],\n        \"semantic_type\": \"\",\n        \"description\": \"\"\n      }\n    },\n    {\n      \"column\": \"Cholesterol\",\n      \"properties\": {\n        \"dtype\": \"category\",\n        \"num_unique_values\": 2,\n        \"samples\": [\n          \"NORMAL\",\n          \"HIGH\"\n        ],\n        \"semantic_type\": \"\",\n        \"description\": \"\"\n      }\n    },\n    {\n      \"column\": \"Na_to_K\",\n      \"properties\": {\n        \"dtype\": \"number\",\n        \"std\": 7.223955528459516,\n        \"min\": 6.269,\n        \"max\": 38.247,\n        \"num_unique_values\": 198,\n        \"samples\": [\n          27.05,\n          9.281\n        ],\n        \"semantic_type\": \"\",\n        \"description\": \"\"\n      }\n    },\n    {\n      \"column\": \"Drug\",\n      \"properties\": {\n        \"dtype\": \"category\",\n        \"num_unique_values\": 5,\n        \"samples\": [\n          \"drugC\",\n          \"drugB\"\n        ],\n        \"semantic_type\": \"\",\n        \"description\": \"\"\n      }\n    }\n  ]\n}"
            }
          },
          "metadata": {},
          "execution_count": 6
        }
      ]
    },
    {
      "cell_type": "code",
      "source": [
        "print(data.shape)"
      ],
      "metadata": {
        "colab": {
          "base_uri": "https://localhost:8080/"
        },
        "id": "srhLG-xn_Jwq",
        "outputId": "0986bb59-8074-4cbf-8718-c98c1306050d"
      },
      "execution_count": null,
      "outputs": [
        {
          "output_type": "stream",
          "name": "stdout",
          "text": [
            "(200, 6)\n"
          ]
        }
      ]
    },
    {
      "cell_type": "code",
      "source": [
        "data.head()"
      ],
      "metadata": {
        "colab": {
          "base_uri": "https://localhost:8080/",
          "height": 206
        },
        "id": "kL44H0ZX_OAL",
        "outputId": "a1332a34-633a-442c-92d5-3011a0201cfb"
      },
      "execution_count": null,
      "outputs": [
        {
          "output_type": "execute_result",
          "data": {
            "text/plain": [
              "   Age Sex      BP Cholesterol  Na_to_K   Drug\n",
              "0   23   F    HIGH        HIGH   25.355  drugY\n",
              "1   47   M     LOW        HIGH   13.093  drugC\n",
              "2   47   M     LOW        HIGH   10.114  drugC\n",
              "3   28   F  NORMAL        HIGH    7.798  drugX\n",
              "4   61   F     LOW        HIGH   18.043  drugY"
            ],
            "text/html": [
              "\n",
              "  <div id=\"df-7301d926-ff46-4656-a415-e916c1cd8d78\" class=\"colab-df-container\">\n",
              "    <div>\n",
              "<style scoped>\n",
              "    .dataframe tbody tr th:only-of-type {\n",
              "        vertical-align: middle;\n",
              "    }\n",
              "\n",
              "    .dataframe tbody tr th {\n",
              "        vertical-align: top;\n",
              "    }\n",
              "\n",
              "    .dataframe thead th {\n",
              "        text-align: right;\n",
              "    }\n",
              "</style>\n",
              "<table border=\"1\" class=\"dataframe\">\n",
              "  <thead>\n",
              "    <tr style=\"text-align: right;\">\n",
              "      <th></th>\n",
              "      <th>Age</th>\n",
              "      <th>Sex</th>\n",
              "      <th>BP</th>\n",
              "      <th>Cholesterol</th>\n",
              "      <th>Na_to_K</th>\n",
              "      <th>Drug</th>\n",
              "    </tr>\n",
              "  </thead>\n",
              "  <tbody>\n",
              "    <tr>\n",
              "      <th>0</th>\n",
              "      <td>23</td>\n",
              "      <td>F</td>\n",
              "      <td>HIGH</td>\n",
              "      <td>HIGH</td>\n",
              "      <td>25.355</td>\n",
              "      <td>drugY</td>\n",
              "    </tr>\n",
              "    <tr>\n",
              "      <th>1</th>\n",
              "      <td>47</td>\n",
              "      <td>M</td>\n",
              "      <td>LOW</td>\n",
              "      <td>HIGH</td>\n",
              "      <td>13.093</td>\n",
              "      <td>drugC</td>\n",
              "    </tr>\n",
              "    <tr>\n",
              "      <th>2</th>\n",
              "      <td>47</td>\n",
              "      <td>M</td>\n",
              "      <td>LOW</td>\n",
              "      <td>HIGH</td>\n",
              "      <td>10.114</td>\n",
              "      <td>drugC</td>\n",
              "    </tr>\n",
              "    <tr>\n",
              "      <th>3</th>\n",
              "      <td>28</td>\n",
              "      <td>F</td>\n",
              "      <td>NORMAL</td>\n",
              "      <td>HIGH</td>\n",
              "      <td>7.798</td>\n",
              "      <td>drugX</td>\n",
              "    </tr>\n",
              "    <tr>\n",
              "      <th>4</th>\n",
              "      <td>61</td>\n",
              "      <td>F</td>\n",
              "      <td>LOW</td>\n",
              "      <td>HIGH</td>\n",
              "      <td>18.043</td>\n",
              "      <td>drugY</td>\n",
              "    </tr>\n",
              "  </tbody>\n",
              "</table>\n",
              "</div>\n",
              "    <div class=\"colab-df-buttons\">\n",
              "\n",
              "  <div class=\"colab-df-container\">\n",
              "    <button class=\"colab-df-convert\" onclick=\"convertToInteractive('df-7301d926-ff46-4656-a415-e916c1cd8d78')\"\n",
              "            title=\"Convert this dataframe to an interactive table.\"\n",
              "            style=\"display:none;\">\n",
              "\n",
              "  <svg xmlns=\"http://www.w3.org/2000/svg\" height=\"24px\" viewBox=\"0 -960 960 960\">\n",
              "    <path d=\"M120-120v-720h720v720H120Zm60-500h600v-160H180v160Zm220 220h160v-160H400v160Zm0 220h160v-160H400v160ZM180-400h160v-160H180v160Zm440 0h160v-160H620v160ZM180-180h160v-160H180v160Zm440 0h160v-160H620v160Z\"/>\n",
              "  </svg>\n",
              "    </button>\n",
              "\n",
              "  <style>\n",
              "    .colab-df-container {\n",
              "      display:flex;\n",
              "      gap: 12px;\n",
              "    }\n",
              "\n",
              "    .colab-df-convert {\n",
              "      background-color: #E8F0FE;\n",
              "      border: none;\n",
              "      border-radius: 50%;\n",
              "      cursor: pointer;\n",
              "      display: none;\n",
              "      fill: #1967D2;\n",
              "      height: 32px;\n",
              "      padding: 0 0 0 0;\n",
              "      width: 32px;\n",
              "    }\n",
              "\n",
              "    .colab-df-convert:hover {\n",
              "      background-color: #E2EBFA;\n",
              "      box-shadow: 0px 1px 2px rgba(60, 64, 67, 0.3), 0px 1px 3px 1px rgba(60, 64, 67, 0.15);\n",
              "      fill: #174EA6;\n",
              "    }\n",
              "\n",
              "    .colab-df-buttons div {\n",
              "      margin-bottom: 4px;\n",
              "    }\n",
              "\n",
              "    [theme=dark] .colab-df-convert {\n",
              "      background-color: #3B4455;\n",
              "      fill: #D2E3FC;\n",
              "    }\n",
              "\n",
              "    [theme=dark] .colab-df-convert:hover {\n",
              "      background-color: #434B5C;\n",
              "      box-shadow: 0px 1px 3px 1px rgba(0, 0, 0, 0.15);\n",
              "      filter: drop-shadow(0px 1px 2px rgba(0, 0, 0, 0.3));\n",
              "      fill: #FFFFFF;\n",
              "    }\n",
              "  </style>\n",
              "\n",
              "    <script>\n",
              "      const buttonEl =\n",
              "        document.querySelector('#df-7301d926-ff46-4656-a415-e916c1cd8d78 button.colab-df-convert');\n",
              "      buttonEl.style.display =\n",
              "        google.colab.kernel.accessAllowed ? 'block' : 'none';\n",
              "\n",
              "      async function convertToInteractive(key) {\n",
              "        const element = document.querySelector('#df-7301d926-ff46-4656-a415-e916c1cd8d78');\n",
              "        const dataTable =\n",
              "          await google.colab.kernel.invokeFunction('convertToInteractive',\n",
              "                                                    [key], {});\n",
              "        if (!dataTable) return;\n",
              "\n",
              "        const docLinkHtml = 'Like what you see? Visit the ' +\n",
              "          '<a target=\"_blank\" href=https://colab.research.google.com/notebooks/data_table.ipynb>data table notebook</a>'\n",
              "          + ' to learn more about interactive tables.';\n",
              "        element.innerHTML = '';\n",
              "        dataTable['output_type'] = 'display_data';\n",
              "        await google.colab.output.renderOutput(dataTable, element);\n",
              "        const docLink = document.createElement('div');\n",
              "        docLink.innerHTML = docLinkHtml;\n",
              "        element.appendChild(docLink);\n",
              "      }\n",
              "    </script>\n",
              "  </div>\n",
              "\n",
              "\n",
              "<div id=\"df-ed3a44db-e128-43fa-b708-6341eb911da1\">\n",
              "  <button class=\"colab-df-quickchart\" onclick=\"quickchart('df-ed3a44db-e128-43fa-b708-6341eb911da1')\"\n",
              "            title=\"Suggest charts\"\n",
              "            style=\"display:none;\">\n",
              "\n",
              "<svg xmlns=\"http://www.w3.org/2000/svg\" height=\"24px\"viewBox=\"0 0 24 24\"\n",
              "     width=\"24px\">\n",
              "    <g>\n",
              "        <path d=\"M19 3H5c-1.1 0-2 .9-2 2v14c0 1.1.9 2 2 2h14c1.1 0 2-.9 2-2V5c0-1.1-.9-2-2-2zM9 17H7v-7h2v7zm4 0h-2V7h2v10zm4 0h-2v-4h2v4z\"/>\n",
              "    </g>\n",
              "</svg>\n",
              "  </button>\n",
              "\n",
              "<style>\n",
              "  .colab-df-quickchart {\n",
              "      --bg-color: #E8F0FE;\n",
              "      --fill-color: #1967D2;\n",
              "      --hover-bg-color: #E2EBFA;\n",
              "      --hover-fill-color: #174EA6;\n",
              "      --disabled-fill-color: #AAA;\n",
              "      --disabled-bg-color: #DDD;\n",
              "  }\n",
              "\n",
              "  [theme=dark] .colab-df-quickchart {\n",
              "      --bg-color: #3B4455;\n",
              "      --fill-color: #D2E3FC;\n",
              "      --hover-bg-color: #434B5C;\n",
              "      --hover-fill-color: #FFFFFF;\n",
              "      --disabled-bg-color: #3B4455;\n",
              "      --disabled-fill-color: #666;\n",
              "  }\n",
              "\n",
              "  .colab-df-quickchart {\n",
              "    background-color: var(--bg-color);\n",
              "    border: none;\n",
              "    border-radius: 50%;\n",
              "    cursor: pointer;\n",
              "    display: none;\n",
              "    fill: var(--fill-color);\n",
              "    height: 32px;\n",
              "    padding: 0;\n",
              "    width: 32px;\n",
              "  }\n",
              "\n",
              "  .colab-df-quickchart:hover {\n",
              "    background-color: var(--hover-bg-color);\n",
              "    box-shadow: 0 1px 2px rgba(60, 64, 67, 0.3), 0 1px 3px 1px rgba(60, 64, 67, 0.15);\n",
              "    fill: var(--button-hover-fill-color);\n",
              "  }\n",
              "\n",
              "  .colab-df-quickchart-complete:disabled,\n",
              "  .colab-df-quickchart-complete:disabled:hover {\n",
              "    background-color: var(--disabled-bg-color);\n",
              "    fill: var(--disabled-fill-color);\n",
              "    box-shadow: none;\n",
              "  }\n",
              "\n",
              "  .colab-df-spinner {\n",
              "    border: 2px solid var(--fill-color);\n",
              "    border-color: transparent;\n",
              "    border-bottom-color: var(--fill-color);\n",
              "    animation:\n",
              "      spin 1s steps(1) infinite;\n",
              "  }\n",
              "\n",
              "  @keyframes spin {\n",
              "    0% {\n",
              "      border-color: transparent;\n",
              "      border-bottom-color: var(--fill-color);\n",
              "      border-left-color: var(--fill-color);\n",
              "    }\n",
              "    20% {\n",
              "      border-color: transparent;\n",
              "      border-left-color: var(--fill-color);\n",
              "      border-top-color: var(--fill-color);\n",
              "    }\n",
              "    30% {\n",
              "      border-color: transparent;\n",
              "      border-left-color: var(--fill-color);\n",
              "      border-top-color: var(--fill-color);\n",
              "      border-right-color: var(--fill-color);\n",
              "    }\n",
              "    40% {\n",
              "      border-color: transparent;\n",
              "      border-right-color: var(--fill-color);\n",
              "      border-top-color: var(--fill-color);\n",
              "    }\n",
              "    60% {\n",
              "      border-color: transparent;\n",
              "      border-right-color: var(--fill-color);\n",
              "    }\n",
              "    80% {\n",
              "      border-color: transparent;\n",
              "      border-right-color: var(--fill-color);\n",
              "      border-bottom-color: var(--fill-color);\n",
              "    }\n",
              "    90% {\n",
              "      border-color: transparent;\n",
              "      border-bottom-color: var(--fill-color);\n",
              "    }\n",
              "  }\n",
              "</style>\n",
              "\n",
              "  <script>\n",
              "    async function quickchart(key) {\n",
              "      const quickchartButtonEl =\n",
              "        document.querySelector('#' + key + ' button');\n",
              "      quickchartButtonEl.disabled = true;  // To prevent multiple clicks.\n",
              "      quickchartButtonEl.classList.add('colab-df-spinner');\n",
              "      try {\n",
              "        const charts = await google.colab.kernel.invokeFunction(\n",
              "            'suggestCharts', [key], {});\n",
              "      } catch (error) {\n",
              "        console.error('Error during call to suggestCharts:', error);\n",
              "      }\n",
              "      quickchartButtonEl.classList.remove('colab-df-spinner');\n",
              "      quickchartButtonEl.classList.add('colab-df-quickchart-complete');\n",
              "    }\n",
              "    (() => {\n",
              "      let quickchartButtonEl =\n",
              "        document.querySelector('#df-ed3a44db-e128-43fa-b708-6341eb911da1 button');\n",
              "      quickchartButtonEl.style.display =\n",
              "        google.colab.kernel.accessAllowed ? 'block' : 'none';\n",
              "    })();\n",
              "  </script>\n",
              "</div>\n",
              "\n",
              "    </div>\n",
              "  </div>\n"
            ],
            "application/vnd.google.colaboratory.intrinsic+json": {
              "type": "dataframe",
              "variable_name": "data",
              "summary": "{\n  \"name\": \"data\",\n  \"rows\": 200,\n  \"fields\": [\n    {\n      \"column\": \"Age\",\n      \"properties\": {\n        \"dtype\": \"number\",\n        \"std\": 16,\n        \"min\": 15,\n        \"max\": 74,\n        \"num_unique_values\": 57,\n        \"samples\": [\n          23,\n          49,\n          37\n        ],\n        \"semantic_type\": \"\",\n        \"description\": \"\"\n      }\n    },\n    {\n      \"column\": \"Sex\",\n      \"properties\": {\n        \"dtype\": \"category\",\n        \"num_unique_values\": 2,\n        \"samples\": [\n          \"M\",\n          \"F\"\n        ],\n        \"semantic_type\": \"\",\n        \"description\": \"\"\n      }\n    },\n    {\n      \"column\": \"BP\",\n      \"properties\": {\n        \"dtype\": \"category\",\n        \"num_unique_values\": 3,\n        \"samples\": [\n          \"HIGH\",\n          \"LOW\"\n        ],\n        \"semantic_type\": \"\",\n        \"description\": \"\"\n      }\n    },\n    {\n      \"column\": \"Cholesterol\",\n      \"properties\": {\n        \"dtype\": \"category\",\n        \"num_unique_values\": 2,\n        \"samples\": [\n          \"NORMAL\",\n          \"HIGH\"\n        ],\n        \"semantic_type\": \"\",\n        \"description\": \"\"\n      }\n    },\n    {\n      \"column\": \"Na_to_K\",\n      \"properties\": {\n        \"dtype\": \"number\",\n        \"std\": 7.223955528459516,\n        \"min\": 6.269,\n        \"max\": 38.247,\n        \"num_unique_values\": 198,\n        \"samples\": [\n          27.05,\n          9.281\n        ],\n        \"semantic_type\": \"\",\n        \"description\": \"\"\n      }\n    },\n    {\n      \"column\": \"Drug\",\n      \"properties\": {\n        \"dtype\": \"category\",\n        \"num_unique_values\": 5,\n        \"samples\": [\n          \"drugC\",\n          \"drugB\"\n        ],\n        \"semantic_type\": \"\",\n        \"description\": \"\"\n      }\n    }\n  ]\n}"
            }
          },
          "metadata": {},
          "execution_count": 8
        }
      ]
    },
    {
      "cell_type": "code",
      "source": [
        "data.info()"
      ],
      "metadata": {
        "colab": {
          "base_uri": "https://localhost:8080/"
        },
        "id": "lrMF3cCH_P7-",
        "outputId": "7eaca0f9-c6c5-471a-fb06-4d045f186cde"
      },
      "execution_count": null,
      "outputs": [
        {
          "output_type": "stream",
          "name": "stdout",
          "text": [
            "<class 'pandas.core.frame.DataFrame'>\n",
            "RangeIndex: 200 entries, 0 to 199\n",
            "Data columns (total 6 columns):\n",
            " #   Column       Non-Null Count  Dtype  \n",
            "---  ------       --------------  -----  \n",
            " 0   Age          200 non-null    int64  \n",
            " 1   Sex          200 non-null    object \n",
            " 2   BP           200 non-null    object \n",
            " 3   Cholesterol  200 non-null    object \n",
            " 4   Na_to_K      200 non-null    float64\n",
            " 5   Drug         200 non-null    object \n",
            "dtypes: float64(1), int64(1), object(4)\n",
            "memory usage: 9.5+ KB\n"
          ]
        }
      ]
    },
    {
      "cell_type": "code",
      "source": [
        "data.describe()"
      ],
      "metadata": {
        "colab": {
          "base_uri": "https://localhost:8080/",
          "height": 300
        },
        "id": "gWJbcr0r_SHO",
        "outputId": "b0b691d4-f64f-4c87-c63b-2253c649135c"
      },
      "execution_count": null,
      "outputs": [
        {
          "output_type": "execute_result",
          "data": {
            "text/plain": [
              "              Age     Na_to_K\n",
              "count  200.000000  200.000000\n",
              "mean    44.315000   16.084485\n",
              "std     16.544315    7.223956\n",
              "min     15.000000    6.269000\n",
              "25%     31.000000   10.445500\n",
              "50%     45.000000   13.936500\n",
              "75%     58.000000   19.380000\n",
              "max     74.000000   38.247000"
            ],
            "text/html": [
              "\n",
              "  <div id=\"df-6c72f12d-a422-4671-bc83-c335c36ca573\" class=\"colab-df-container\">\n",
              "    <div>\n",
              "<style scoped>\n",
              "    .dataframe tbody tr th:only-of-type {\n",
              "        vertical-align: middle;\n",
              "    }\n",
              "\n",
              "    .dataframe tbody tr th {\n",
              "        vertical-align: top;\n",
              "    }\n",
              "\n",
              "    .dataframe thead th {\n",
              "        text-align: right;\n",
              "    }\n",
              "</style>\n",
              "<table border=\"1\" class=\"dataframe\">\n",
              "  <thead>\n",
              "    <tr style=\"text-align: right;\">\n",
              "      <th></th>\n",
              "      <th>Age</th>\n",
              "      <th>Na_to_K</th>\n",
              "    </tr>\n",
              "  </thead>\n",
              "  <tbody>\n",
              "    <tr>\n",
              "      <th>count</th>\n",
              "      <td>200.000000</td>\n",
              "      <td>200.000000</td>\n",
              "    </tr>\n",
              "    <tr>\n",
              "      <th>mean</th>\n",
              "      <td>44.315000</td>\n",
              "      <td>16.084485</td>\n",
              "    </tr>\n",
              "    <tr>\n",
              "      <th>std</th>\n",
              "      <td>16.544315</td>\n",
              "      <td>7.223956</td>\n",
              "    </tr>\n",
              "    <tr>\n",
              "      <th>min</th>\n",
              "      <td>15.000000</td>\n",
              "      <td>6.269000</td>\n",
              "    </tr>\n",
              "    <tr>\n",
              "      <th>25%</th>\n",
              "      <td>31.000000</td>\n",
              "      <td>10.445500</td>\n",
              "    </tr>\n",
              "    <tr>\n",
              "      <th>50%</th>\n",
              "      <td>45.000000</td>\n",
              "      <td>13.936500</td>\n",
              "    </tr>\n",
              "    <tr>\n",
              "      <th>75%</th>\n",
              "      <td>58.000000</td>\n",
              "      <td>19.380000</td>\n",
              "    </tr>\n",
              "    <tr>\n",
              "      <th>max</th>\n",
              "      <td>74.000000</td>\n",
              "      <td>38.247000</td>\n",
              "    </tr>\n",
              "  </tbody>\n",
              "</table>\n",
              "</div>\n",
              "    <div class=\"colab-df-buttons\">\n",
              "\n",
              "  <div class=\"colab-df-container\">\n",
              "    <button class=\"colab-df-convert\" onclick=\"convertToInteractive('df-6c72f12d-a422-4671-bc83-c335c36ca573')\"\n",
              "            title=\"Convert this dataframe to an interactive table.\"\n",
              "            style=\"display:none;\">\n",
              "\n",
              "  <svg xmlns=\"http://www.w3.org/2000/svg\" height=\"24px\" viewBox=\"0 -960 960 960\">\n",
              "    <path d=\"M120-120v-720h720v720H120Zm60-500h600v-160H180v160Zm220 220h160v-160H400v160Zm0 220h160v-160H400v160ZM180-400h160v-160H180v160Zm440 0h160v-160H620v160ZM180-180h160v-160H180v160Zm440 0h160v-160H620v160Z\"/>\n",
              "  </svg>\n",
              "    </button>\n",
              "\n",
              "  <style>\n",
              "    .colab-df-container {\n",
              "      display:flex;\n",
              "      gap: 12px;\n",
              "    }\n",
              "\n",
              "    .colab-df-convert {\n",
              "      background-color: #E8F0FE;\n",
              "      border: none;\n",
              "      border-radius: 50%;\n",
              "      cursor: pointer;\n",
              "      display: none;\n",
              "      fill: #1967D2;\n",
              "      height: 32px;\n",
              "      padding: 0 0 0 0;\n",
              "      width: 32px;\n",
              "    }\n",
              "\n",
              "    .colab-df-convert:hover {\n",
              "      background-color: #E2EBFA;\n",
              "      box-shadow: 0px 1px 2px rgba(60, 64, 67, 0.3), 0px 1px 3px 1px rgba(60, 64, 67, 0.15);\n",
              "      fill: #174EA6;\n",
              "    }\n",
              "\n",
              "    .colab-df-buttons div {\n",
              "      margin-bottom: 4px;\n",
              "    }\n",
              "\n",
              "    [theme=dark] .colab-df-convert {\n",
              "      background-color: #3B4455;\n",
              "      fill: #D2E3FC;\n",
              "    }\n",
              "\n",
              "    [theme=dark] .colab-df-convert:hover {\n",
              "      background-color: #434B5C;\n",
              "      box-shadow: 0px 1px 3px 1px rgba(0, 0, 0, 0.15);\n",
              "      filter: drop-shadow(0px 1px 2px rgba(0, 0, 0, 0.3));\n",
              "      fill: #FFFFFF;\n",
              "    }\n",
              "  </style>\n",
              "\n",
              "    <script>\n",
              "      const buttonEl =\n",
              "        document.querySelector('#df-6c72f12d-a422-4671-bc83-c335c36ca573 button.colab-df-convert');\n",
              "      buttonEl.style.display =\n",
              "        google.colab.kernel.accessAllowed ? 'block' : 'none';\n",
              "\n",
              "      async function convertToInteractive(key) {\n",
              "        const element = document.querySelector('#df-6c72f12d-a422-4671-bc83-c335c36ca573');\n",
              "        const dataTable =\n",
              "          await google.colab.kernel.invokeFunction('convertToInteractive',\n",
              "                                                    [key], {});\n",
              "        if (!dataTable) return;\n",
              "\n",
              "        const docLinkHtml = 'Like what you see? Visit the ' +\n",
              "          '<a target=\"_blank\" href=https://colab.research.google.com/notebooks/data_table.ipynb>data table notebook</a>'\n",
              "          + ' to learn more about interactive tables.';\n",
              "        element.innerHTML = '';\n",
              "        dataTable['output_type'] = 'display_data';\n",
              "        await google.colab.output.renderOutput(dataTable, element);\n",
              "        const docLink = document.createElement('div');\n",
              "        docLink.innerHTML = docLinkHtml;\n",
              "        element.appendChild(docLink);\n",
              "      }\n",
              "    </script>\n",
              "  </div>\n",
              "\n",
              "\n",
              "<div id=\"df-e96371f4-63fc-41b2-bfd7-e22f418eb293\">\n",
              "  <button class=\"colab-df-quickchart\" onclick=\"quickchart('df-e96371f4-63fc-41b2-bfd7-e22f418eb293')\"\n",
              "            title=\"Suggest charts\"\n",
              "            style=\"display:none;\">\n",
              "\n",
              "<svg xmlns=\"http://www.w3.org/2000/svg\" height=\"24px\"viewBox=\"0 0 24 24\"\n",
              "     width=\"24px\">\n",
              "    <g>\n",
              "        <path d=\"M19 3H5c-1.1 0-2 .9-2 2v14c0 1.1.9 2 2 2h14c1.1 0 2-.9 2-2V5c0-1.1-.9-2-2-2zM9 17H7v-7h2v7zm4 0h-2V7h2v10zm4 0h-2v-4h2v4z\"/>\n",
              "    </g>\n",
              "</svg>\n",
              "  </button>\n",
              "\n",
              "<style>\n",
              "  .colab-df-quickchart {\n",
              "      --bg-color: #E8F0FE;\n",
              "      --fill-color: #1967D2;\n",
              "      --hover-bg-color: #E2EBFA;\n",
              "      --hover-fill-color: #174EA6;\n",
              "      --disabled-fill-color: #AAA;\n",
              "      --disabled-bg-color: #DDD;\n",
              "  }\n",
              "\n",
              "  [theme=dark] .colab-df-quickchart {\n",
              "      --bg-color: #3B4455;\n",
              "      --fill-color: #D2E3FC;\n",
              "      --hover-bg-color: #434B5C;\n",
              "      --hover-fill-color: #FFFFFF;\n",
              "      --disabled-bg-color: #3B4455;\n",
              "      --disabled-fill-color: #666;\n",
              "  }\n",
              "\n",
              "  .colab-df-quickchart {\n",
              "    background-color: var(--bg-color);\n",
              "    border: none;\n",
              "    border-radius: 50%;\n",
              "    cursor: pointer;\n",
              "    display: none;\n",
              "    fill: var(--fill-color);\n",
              "    height: 32px;\n",
              "    padding: 0;\n",
              "    width: 32px;\n",
              "  }\n",
              "\n",
              "  .colab-df-quickchart:hover {\n",
              "    background-color: var(--hover-bg-color);\n",
              "    box-shadow: 0 1px 2px rgba(60, 64, 67, 0.3), 0 1px 3px 1px rgba(60, 64, 67, 0.15);\n",
              "    fill: var(--button-hover-fill-color);\n",
              "  }\n",
              "\n",
              "  .colab-df-quickchart-complete:disabled,\n",
              "  .colab-df-quickchart-complete:disabled:hover {\n",
              "    background-color: var(--disabled-bg-color);\n",
              "    fill: var(--disabled-fill-color);\n",
              "    box-shadow: none;\n",
              "  }\n",
              "\n",
              "  .colab-df-spinner {\n",
              "    border: 2px solid var(--fill-color);\n",
              "    border-color: transparent;\n",
              "    border-bottom-color: var(--fill-color);\n",
              "    animation:\n",
              "      spin 1s steps(1) infinite;\n",
              "  }\n",
              "\n",
              "  @keyframes spin {\n",
              "    0% {\n",
              "      border-color: transparent;\n",
              "      border-bottom-color: var(--fill-color);\n",
              "      border-left-color: var(--fill-color);\n",
              "    }\n",
              "    20% {\n",
              "      border-color: transparent;\n",
              "      border-left-color: var(--fill-color);\n",
              "      border-top-color: var(--fill-color);\n",
              "    }\n",
              "    30% {\n",
              "      border-color: transparent;\n",
              "      border-left-color: var(--fill-color);\n",
              "      border-top-color: var(--fill-color);\n",
              "      border-right-color: var(--fill-color);\n",
              "    }\n",
              "    40% {\n",
              "      border-color: transparent;\n",
              "      border-right-color: var(--fill-color);\n",
              "      border-top-color: var(--fill-color);\n",
              "    }\n",
              "    60% {\n",
              "      border-color: transparent;\n",
              "      border-right-color: var(--fill-color);\n",
              "    }\n",
              "    80% {\n",
              "      border-color: transparent;\n",
              "      border-right-color: var(--fill-color);\n",
              "      border-bottom-color: var(--fill-color);\n",
              "    }\n",
              "    90% {\n",
              "      border-color: transparent;\n",
              "      border-bottom-color: var(--fill-color);\n",
              "    }\n",
              "  }\n",
              "</style>\n",
              "\n",
              "  <script>\n",
              "    async function quickchart(key) {\n",
              "      const quickchartButtonEl =\n",
              "        document.querySelector('#' + key + ' button');\n",
              "      quickchartButtonEl.disabled = true;  // To prevent multiple clicks.\n",
              "      quickchartButtonEl.classList.add('colab-df-spinner');\n",
              "      try {\n",
              "        const charts = await google.colab.kernel.invokeFunction(\n",
              "            'suggestCharts', [key], {});\n",
              "      } catch (error) {\n",
              "        console.error('Error during call to suggestCharts:', error);\n",
              "      }\n",
              "      quickchartButtonEl.classList.remove('colab-df-spinner');\n",
              "      quickchartButtonEl.classList.add('colab-df-quickchart-complete');\n",
              "    }\n",
              "    (() => {\n",
              "      let quickchartButtonEl =\n",
              "        document.querySelector('#df-e96371f4-63fc-41b2-bfd7-e22f418eb293 button');\n",
              "      quickchartButtonEl.style.display =\n",
              "        google.colab.kernel.accessAllowed ? 'block' : 'none';\n",
              "    })();\n",
              "  </script>\n",
              "</div>\n",
              "\n",
              "    </div>\n",
              "  </div>\n"
            ],
            "application/vnd.google.colaboratory.intrinsic+json": {
              "type": "dataframe",
              "summary": "{\n  \"name\": \"data\",\n  \"rows\": 8,\n  \"fields\": [\n    {\n      \"column\": \"Age\",\n      \"properties\": {\n        \"dtype\": \"number\",\n        \"std\": 59.78957628560131,\n        \"min\": 15.0,\n        \"max\": 200.0,\n        \"num_unique_values\": 8,\n        \"samples\": [\n          44.315,\n          45.0,\n          200.0\n        ],\n        \"semantic_type\": \"\",\n        \"description\": \"\"\n      }\n    },\n    {\n      \"column\": \"Na_to_K\",\n      \"properties\": {\n        \"dtype\": \"number\",\n        \"std\": 65.85284973066084,\n        \"min\": 6.269,\n        \"max\": 200.0,\n        \"num_unique_values\": 8,\n        \"samples\": [\n          16.084485,\n          13.9365,\n          200.0\n        ],\n        \"semantic_type\": \"\",\n        \"description\": \"\"\n      }\n    }\n  ]\n}"
            }
          },
          "metadata": {},
          "execution_count": 10
        }
      ]
    },
    {
      "cell_type": "code",
      "source": [
        "data.isnull().sum()"
      ],
      "metadata": {
        "colab": {
          "base_uri": "https://localhost:8080/"
        },
        "id": "jgpFwbzD_Ucz",
        "outputId": "e6b16ea0-11ab-42c7-a7f9-9470f955f1f6"
      },
      "execution_count": null,
      "outputs": [
        {
          "output_type": "execute_result",
          "data": {
            "text/plain": [
              "Age            0\n",
              "Sex            0\n",
              "BP             0\n",
              "Cholesterol    0\n",
              "Na_to_K        0\n",
              "Drug           0\n",
              "dtype: int64"
            ]
          },
          "metadata": {},
          "execution_count": 11
        }
      ]
    },
    {
      "cell_type": "code",
      "source": [
        "data.columns"
      ],
      "metadata": {
        "colab": {
          "base_uri": "https://localhost:8080/"
        },
        "id": "BJ_Q8TyX_YIn",
        "outputId": "0c12944b-c733-40a5-edb1-0b27863a46b0"
      },
      "execution_count": null,
      "outputs": [
        {
          "output_type": "execute_result",
          "data": {
            "text/plain": [
              "Index(['Age', 'Sex', 'BP', 'Cholesterol', 'Na_to_K', 'Drug'], dtype='object')"
            ]
          },
          "metadata": {},
          "execution_count": 12
        }
      ]
    },
    {
      "cell_type": "code",
      "source": [
        "from sklearn.preprocessing import LabelEncoder\n",
        "le = LabelEncoder()\n",
        "data['Sex'] = le.fit_transform(data['Sex'])"
      ],
      "metadata": {
        "id": "IyMGrocu_adI"
      },
      "execution_count": null,
      "outputs": []
    },
    {
      "cell_type": "code",
      "source": [
        "data"
      ],
      "metadata": {
        "colab": {
          "base_uri": "https://localhost:8080/",
          "height": 424
        },
        "id": "xOYnyS_f_uQn",
        "outputId": "416285a0-5419-4e38-9d96-9b056ebf5111"
      },
      "execution_count": null,
      "outputs": [
        {
          "output_type": "execute_result",
          "data": {
            "text/plain": [
              "     Age  Sex      BP Cholesterol  Na_to_K   Drug\n",
              "0     23    0    HIGH        HIGH   25.355  drugY\n",
              "1     47    1     LOW        HIGH   13.093  drugC\n",
              "2     47    1     LOW        HIGH   10.114  drugC\n",
              "3     28    0  NORMAL        HIGH    7.798  drugX\n",
              "4     61    0     LOW        HIGH   18.043  drugY\n",
              "..   ...  ...     ...         ...      ...    ...\n",
              "195   56    0     LOW        HIGH   11.567  drugC\n",
              "196   16    1     LOW        HIGH   12.006  drugC\n",
              "197   52    1  NORMAL        HIGH    9.894  drugX\n",
              "198   23    1  NORMAL      NORMAL   14.020  drugX\n",
              "199   40    0     LOW      NORMAL   11.349  drugX\n",
              "\n",
              "[200 rows x 6 columns]"
            ],
            "text/html": [
              "\n",
              "  <div id=\"df-80a87889-ff41-443e-beac-859c058d9cd6\" class=\"colab-df-container\">\n",
              "    <div>\n",
              "<style scoped>\n",
              "    .dataframe tbody tr th:only-of-type {\n",
              "        vertical-align: middle;\n",
              "    }\n",
              "\n",
              "    .dataframe tbody tr th {\n",
              "        vertical-align: top;\n",
              "    }\n",
              "\n",
              "    .dataframe thead th {\n",
              "        text-align: right;\n",
              "    }\n",
              "</style>\n",
              "<table border=\"1\" class=\"dataframe\">\n",
              "  <thead>\n",
              "    <tr style=\"text-align: right;\">\n",
              "      <th></th>\n",
              "      <th>Age</th>\n",
              "      <th>Sex</th>\n",
              "      <th>BP</th>\n",
              "      <th>Cholesterol</th>\n",
              "      <th>Na_to_K</th>\n",
              "      <th>Drug</th>\n",
              "    </tr>\n",
              "  </thead>\n",
              "  <tbody>\n",
              "    <tr>\n",
              "      <th>0</th>\n",
              "      <td>23</td>\n",
              "      <td>0</td>\n",
              "      <td>HIGH</td>\n",
              "      <td>HIGH</td>\n",
              "      <td>25.355</td>\n",
              "      <td>drugY</td>\n",
              "    </tr>\n",
              "    <tr>\n",
              "      <th>1</th>\n",
              "      <td>47</td>\n",
              "      <td>1</td>\n",
              "      <td>LOW</td>\n",
              "      <td>HIGH</td>\n",
              "      <td>13.093</td>\n",
              "      <td>drugC</td>\n",
              "    </tr>\n",
              "    <tr>\n",
              "      <th>2</th>\n",
              "      <td>47</td>\n",
              "      <td>1</td>\n",
              "      <td>LOW</td>\n",
              "      <td>HIGH</td>\n",
              "      <td>10.114</td>\n",
              "      <td>drugC</td>\n",
              "    </tr>\n",
              "    <tr>\n",
              "      <th>3</th>\n",
              "      <td>28</td>\n",
              "      <td>0</td>\n",
              "      <td>NORMAL</td>\n",
              "      <td>HIGH</td>\n",
              "      <td>7.798</td>\n",
              "      <td>drugX</td>\n",
              "    </tr>\n",
              "    <tr>\n",
              "      <th>4</th>\n",
              "      <td>61</td>\n",
              "      <td>0</td>\n",
              "      <td>LOW</td>\n",
              "      <td>HIGH</td>\n",
              "      <td>18.043</td>\n",
              "      <td>drugY</td>\n",
              "    </tr>\n",
              "    <tr>\n",
              "      <th>...</th>\n",
              "      <td>...</td>\n",
              "      <td>...</td>\n",
              "      <td>...</td>\n",
              "      <td>...</td>\n",
              "      <td>...</td>\n",
              "      <td>...</td>\n",
              "    </tr>\n",
              "    <tr>\n",
              "      <th>195</th>\n",
              "      <td>56</td>\n",
              "      <td>0</td>\n",
              "      <td>LOW</td>\n",
              "      <td>HIGH</td>\n",
              "      <td>11.567</td>\n",
              "      <td>drugC</td>\n",
              "    </tr>\n",
              "    <tr>\n",
              "      <th>196</th>\n",
              "      <td>16</td>\n",
              "      <td>1</td>\n",
              "      <td>LOW</td>\n",
              "      <td>HIGH</td>\n",
              "      <td>12.006</td>\n",
              "      <td>drugC</td>\n",
              "    </tr>\n",
              "    <tr>\n",
              "      <th>197</th>\n",
              "      <td>52</td>\n",
              "      <td>1</td>\n",
              "      <td>NORMAL</td>\n",
              "      <td>HIGH</td>\n",
              "      <td>9.894</td>\n",
              "      <td>drugX</td>\n",
              "    </tr>\n",
              "    <tr>\n",
              "      <th>198</th>\n",
              "      <td>23</td>\n",
              "      <td>1</td>\n",
              "      <td>NORMAL</td>\n",
              "      <td>NORMAL</td>\n",
              "      <td>14.020</td>\n",
              "      <td>drugX</td>\n",
              "    </tr>\n",
              "    <tr>\n",
              "      <th>199</th>\n",
              "      <td>40</td>\n",
              "      <td>0</td>\n",
              "      <td>LOW</td>\n",
              "      <td>NORMAL</td>\n",
              "      <td>11.349</td>\n",
              "      <td>drugX</td>\n",
              "    </tr>\n",
              "  </tbody>\n",
              "</table>\n",
              "<p>200 rows × 6 columns</p>\n",
              "</div>\n",
              "    <div class=\"colab-df-buttons\">\n",
              "\n",
              "  <div class=\"colab-df-container\">\n",
              "    <button class=\"colab-df-convert\" onclick=\"convertToInteractive('df-80a87889-ff41-443e-beac-859c058d9cd6')\"\n",
              "            title=\"Convert this dataframe to an interactive table.\"\n",
              "            style=\"display:none;\">\n",
              "\n",
              "  <svg xmlns=\"http://www.w3.org/2000/svg\" height=\"24px\" viewBox=\"0 -960 960 960\">\n",
              "    <path d=\"M120-120v-720h720v720H120Zm60-500h600v-160H180v160Zm220 220h160v-160H400v160Zm0 220h160v-160H400v160ZM180-400h160v-160H180v160Zm440 0h160v-160H620v160ZM180-180h160v-160H180v160Zm440 0h160v-160H620v160Z\"/>\n",
              "  </svg>\n",
              "    </button>\n",
              "\n",
              "  <style>\n",
              "    .colab-df-container {\n",
              "      display:flex;\n",
              "      gap: 12px;\n",
              "    }\n",
              "\n",
              "    .colab-df-convert {\n",
              "      background-color: #E8F0FE;\n",
              "      border: none;\n",
              "      border-radius: 50%;\n",
              "      cursor: pointer;\n",
              "      display: none;\n",
              "      fill: #1967D2;\n",
              "      height: 32px;\n",
              "      padding: 0 0 0 0;\n",
              "      width: 32px;\n",
              "    }\n",
              "\n",
              "    .colab-df-convert:hover {\n",
              "      background-color: #E2EBFA;\n",
              "      box-shadow: 0px 1px 2px rgba(60, 64, 67, 0.3), 0px 1px 3px 1px rgba(60, 64, 67, 0.15);\n",
              "      fill: #174EA6;\n",
              "    }\n",
              "\n",
              "    .colab-df-buttons div {\n",
              "      margin-bottom: 4px;\n",
              "    }\n",
              "\n",
              "    [theme=dark] .colab-df-convert {\n",
              "      background-color: #3B4455;\n",
              "      fill: #D2E3FC;\n",
              "    }\n",
              "\n",
              "    [theme=dark] .colab-df-convert:hover {\n",
              "      background-color: #434B5C;\n",
              "      box-shadow: 0px 1px 3px 1px rgba(0, 0, 0, 0.15);\n",
              "      filter: drop-shadow(0px 1px 2px rgba(0, 0, 0, 0.3));\n",
              "      fill: #FFFFFF;\n",
              "    }\n",
              "  </style>\n",
              "\n",
              "    <script>\n",
              "      const buttonEl =\n",
              "        document.querySelector('#df-80a87889-ff41-443e-beac-859c058d9cd6 button.colab-df-convert');\n",
              "      buttonEl.style.display =\n",
              "        google.colab.kernel.accessAllowed ? 'block' : 'none';\n",
              "\n",
              "      async function convertToInteractive(key) {\n",
              "        const element = document.querySelector('#df-80a87889-ff41-443e-beac-859c058d9cd6');\n",
              "        const dataTable =\n",
              "          await google.colab.kernel.invokeFunction('convertToInteractive',\n",
              "                                                    [key], {});\n",
              "        if (!dataTable) return;\n",
              "\n",
              "        const docLinkHtml = 'Like what you see? Visit the ' +\n",
              "          '<a target=\"_blank\" href=https://colab.research.google.com/notebooks/data_table.ipynb>data table notebook</a>'\n",
              "          + ' to learn more about interactive tables.';\n",
              "        element.innerHTML = '';\n",
              "        dataTable['output_type'] = 'display_data';\n",
              "        await google.colab.output.renderOutput(dataTable, element);\n",
              "        const docLink = document.createElement('div');\n",
              "        docLink.innerHTML = docLinkHtml;\n",
              "        element.appendChild(docLink);\n",
              "      }\n",
              "    </script>\n",
              "  </div>\n",
              "\n",
              "\n",
              "<div id=\"df-c9ab9b12-310a-4fe4-8ae7-154b3c1977e6\">\n",
              "  <button class=\"colab-df-quickchart\" onclick=\"quickchart('df-c9ab9b12-310a-4fe4-8ae7-154b3c1977e6')\"\n",
              "            title=\"Suggest charts\"\n",
              "            style=\"display:none;\">\n",
              "\n",
              "<svg xmlns=\"http://www.w3.org/2000/svg\" height=\"24px\"viewBox=\"0 0 24 24\"\n",
              "     width=\"24px\">\n",
              "    <g>\n",
              "        <path d=\"M19 3H5c-1.1 0-2 .9-2 2v14c0 1.1.9 2 2 2h14c1.1 0 2-.9 2-2V5c0-1.1-.9-2-2-2zM9 17H7v-7h2v7zm4 0h-2V7h2v10zm4 0h-2v-4h2v4z\"/>\n",
              "    </g>\n",
              "</svg>\n",
              "  </button>\n",
              "\n",
              "<style>\n",
              "  .colab-df-quickchart {\n",
              "      --bg-color: #E8F0FE;\n",
              "      --fill-color: #1967D2;\n",
              "      --hover-bg-color: #E2EBFA;\n",
              "      --hover-fill-color: #174EA6;\n",
              "      --disabled-fill-color: #AAA;\n",
              "      --disabled-bg-color: #DDD;\n",
              "  }\n",
              "\n",
              "  [theme=dark] .colab-df-quickchart {\n",
              "      --bg-color: #3B4455;\n",
              "      --fill-color: #D2E3FC;\n",
              "      --hover-bg-color: #434B5C;\n",
              "      --hover-fill-color: #FFFFFF;\n",
              "      --disabled-bg-color: #3B4455;\n",
              "      --disabled-fill-color: #666;\n",
              "  }\n",
              "\n",
              "  .colab-df-quickchart {\n",
              "    background-color: var(--bg-color);\n",
              "    border: none;\n",
              "    border-radius: 50%;\n",
              "    cursor: pointer;\n",
              "    display: none;\n",
              "    fill: var(--fill-color);\n",
              "    height: 32px;\n",
              "    padding: 0;\n",
              "    width: 32px;\n",
              "  }\n",
              "\n",
              "  .colab-df-quickchart:hover {\n",
              "    background-color: var(--hover-bg-color);\n",
              "    box-shadow: 0 1px 2px rgba(60, 64, 67, 0.3), 0 1px 3px 1px rgba(60, 64, 67, 0.15);\n",
              "    fill: var(--button-hover-fill-color);\n",
              "  }\n",
              "\n",
              "  .colab-df-quickchart-complete:disabled,\n",
              "  .colab-df-quickchart-complete:disabled:hover {\n",
              "    background-color: var(--disabled-bg-color);\n",
              "    fill: var(--disabled-fill-color);\n",
              "    box-shadow: none;\n",
              "  }\n",
              "\n",
              "  .colab-df-spinner {\n",
              "    border: 2px solid var(--fill-color);\n",
              "    border-color: transparent;\n",
              "    border-bottom-color: var(--fill-color);\n",
              "    animation:\n",
              "      spin 1s steps(1) infinite;\n",
              "  }\n",
              "\n",
              "  @keyframes spin {\n",
              "    0% {\n",
              "      border-color: transparent;\n",
              "      border-bottom-color: var(--fill-color);\n",
              "      border-left-color: var(--fill-color);\n",
              "    }\n",
              "    20% {\n",
              "      border-color: transparent;\n",
              "      border-left-color: var(--fill-color);\n",
              "      border-top-color: var(--fill-color);\n",
              "    }\n",
              "    30% {\n",
              "      border-color: transparent;\n",
              "      border-left-color: var(--fill-color);\n",
              "      border-top-color: var(--fill-color);\n",
              "      border-right-color: var(--fill-color);\n",
              "    }\n",
              "    40% {\n",
              "      border-color: transparent;\n",
              "      border-right-color: var(--fill-color);\n",
              "      border-top-color: var(--fill-color);\n",
              "    }\n",
              "    60% {\n",
              "      border-color: transparent;\n",
              "      border-right-color: var(--fill-color);\n",
              "    }\n",
              "    80% {\n",
              "      border-color: transparent;\n",
              "      border-right-color: var(--fill-color);\n",
              "      border-bottom-color: var(--fill-color);\n",
              "    }\n",
              "    90% {\n",
              "      border-color: transparent;\n",
              "      border-bottom-color: var(--fill-color);\n",
              "    }\n",
              "  }\n",
              "</style>\n",
              "\n",
              "  <script>\n",
              "    async function quickchart(key) {\n",
              "      const quickchartButtonEl =\n",
              "        document.querySelector('#' + key + ' button');\n",
              "      quickchartButtonEl.disabled = true;  // To prevent multiple clicks.\n",
              "      quickchartButtonEl.classList.add('colab-df-spinner');\n",
              "      try {\n",
              "        const charts = await google.colab.kernel.invokeFunction(\n",
              "            'suggestCharts', [key], {});\n",
              "      } catch (error) {\n",
              "        console.error('Error during call to suggestCharts:', error);\n",
              "      }\n",
              "      quickchartButtonEl.classList.remove('colab-df-spinner');\n",
              "      quickchartButtonEl.classList.add('colab-df-quickchart-complete');\n",
              "    }\n",
              "    (() => {\n",
              "      let quickchartButtonEl =\n",
              "        document.querySelector('#df-c9ab9b12-310a-4fe4-8ae7-154b3c1977e6 button');\n",
              "      quickchartButtonEl.style.display =\n",
              "        google.colab.kernel.accessAllowed ? 'block' : 'none';\n",
              "    })();\n",
              "  </script>\n",
              "</div>\n",
              "\n",
              "  <div id=\"id_fb478564-5be4-44a0-bf54-c6046035ce0c\">\n",
              "    <style>\n",
              "      .colab-df-generate {\n",
              "        background-color: #E8F0FE;\n",
              "        border: none;\n",
              "        border-radius: 50%;\n",
              "        cursor: pointer;\n",
              "        display: none;\n",
              "        fill: #1967D2;\n",
              "        height: 32px;\n",
              "        padding: 0 0 0 0;\n",
              "        width: 32px;\n",
              "      }\n",
              "\n",
              "      .colab-df-generate:hover {\n",
              "        background-color: #E2EBFA;\n",
              "        box-shadow: 0px 1px 2px rgba(60, 64, 67, 0.3), 0px 1px 3px 1px rgba(60, 64, 67, 0.15);\n",
              "        fill: #174EA6;\n",
              "      }\n",
              "\n",
              "      [theme=dark] .colab-df-generate {\n",
              "        background-color: #3B4455;\n",
              "        fill: #D2E3FC;\n",
              "      }\n",
              "\n",
              "      [theme=dark] .colab-df-generate:hover {\n",
              "        background-color: #434B5C;\n",
              "        box-shadow: 0px 1px 3px 1px rgba(0, 0, 0, 0.15);\n",
              "        filter: drop-shadow(0px 1px 2px rgba(0, 0, 0, 0.3));\n",
              "        fill: #FFFFFF;\n",
              "      }\n",
              "    </style>\n",
              "    <button class=\"colab-df-generate\" onclick=\"generateWithVariable('data')\"\n",
              "            title=\"Generate code using this dataframe.\"\n",
              "            style=\"display:none;\">\n",
              "\n",
              "  <svg xmlns=\"http://www.w3.org/2000/svg\" height=\"24px\"viewBox=\"0 0 24 24\"\n",
              "       width=\"24px\">\n",
              "    <path d=\"M7,19H8.4L18.45,9,17,7.55,7,17.6ZM5,21V16.75L18.45,3.32a2,2,0,0,1,2.83,0l1.4,1.43a1.91,1.91,0,0,1,.58,1.4,1.91,1.91,0,0,1-.58,1.4L9.25,21ZM18.45,9,17,7.55Zm-12,3A5.31,5.31,0,0,0,4.9,8.1,5.31,5.31,0,0,0,1,6.5,5.31,5.31,0,0,0,4.9,4.9,5.31,5.31,0,0,0,6.5,1,5.31,5.31,0,0,0,8.1,4.9,5.31,5.31,0,0,0,12,6.5,5.46,5.46,0,0,0,6.5,12Z\"/>\n",
              "  </svg>\n",
              "    </button>\n",
              "    <script>\n",
              "      (() => {\n",
              "      const buttonEl =\n",
              "        document.querySelector('#id_fb478564-5be4-44a0-bf54-c6046035ce0c button.colab-df-generate');\n",
              "      buttonEl.style.display =\n",
              "        google.colab.kernel.accessAllowed ? 'block' : 'none';\n",
              "\n",
              "      buttonEl.onclick = () => {\n",
              "        google.colab.notebook.generateWithVariable('data');\n",
              "      }\n",
              "      })();\n",
              "    </script>\n",
              "  </div>\n",
              "\n",
              "    </div>\n",
              "  </div>\n"
            ],
            "application/vnd.google.colaboratory.intrinsic+json": {
              "type": "dataframe",
              "variable_name": "data",
              "summary": "{\n  \"name\": \"data\",\n  \"rows\": 200,\n  \"fields\": [\n    {\n      \"column\": \"Age\",\n      \"properties\": {\n        \"dtype\": \"number\",\n        \"std\": 16,\n        \"min\": 15,\n        \"max\": 74,\n        \"num_unique_values\": 57,\n        \"samples\": [\n          23,\n          49,\n          37\n        ],\n        \"semantic_type\": \"\",\n        \"description\": \"\"\n      }\n    },\n    {\n      \"column\": \"Sex\",\n      \"properties\": {\n        \"dtype\": \"number\",\n        \"std\": 0,\n        \"min\": 0,\n        \"max\": 1,\n        \"num_unique_values\": 2,\n        \"samples\": [\n          1,\n          0\n        ],\n        \"semantic_type\": \"\",\n        \"description\": \"\"\n      }\n    },\n    {\n      \"column\": \"BP\",\n      \"properties\": {\n        \"dtype\": \"category\",\n        \"num_unique_values\": 3,\n        \"samples\": [\n          \"HIGH\",\n          \"LOW\"\n        ],\n        \"semantic_type\": \"\",\n        \"description\": \"\"\n      }\n    },\n    {\n      \"column\": \"Cholesterol\",\n      \"properties\": {\n        \"dtype\": \"category\",\n        \"num_unique_values\": 2,\n        \"samples\": [\n          \"NORMAL\",\n          \"HIGH\"\n        ],\n        \"semantic_type\": \"\",\n        \"description\": \"\"\n      }\n    },\n    {\n      \"column\": \"Na_to_K\",\n      \"properties\": {\n        \"dtype\": \"number\",\n        \"std\": 7.223955528459516,\n        \"min\": 6.269,\n        \"max\": 38.247,\n        \"num_unique_values\": 198,\n        \"samples\": [\n          27.05,\n          9.281\n        ],\n        \"semantic_type\": \"\",\n        \"description\": \"\"\n      }\n    },\n    {\n      \"column\": \"Drug\",\n      \"properties\": {\n        \"dtype\": \"category\",\n        \"num_unique_values\": 5,\n        \"samples\": [\n          \"drugC\",\n          \"drugB\"\n        ],\n        \"semantic_type\": \"\",\n        \"description\": \"\"\n      }\n    }\n  ]\n}"
            }
          },
          "metadata": {},
          "execution_count": 14
        }
      ]
    },
    {
      "cell_type": "code",
      "source": [
        "data['Sex'].value_counts()"
      ],
      "metadata": {
        "colab": {
          "base_uri": "https://localhost:8080/"
        },
        "id": "AOkGrpeD_qe0",
        "outputId": "9978b444-b2c4-40fc-b729-94de1dcc29b8"
      },
      "execution_count": null,
      "outputs": [
        {
          "output_type": "execute_result",
          "data": {
            "text/plain": [
              "Sex\n",
              "1    104\n",
              "0     96\n",
              "Name: count, dtype: int64"
            ]
          },
          "metadata": {},
          "execution_count": 15
        }
      ]
    },
    {
      "cell_type": "code",
      "source": [
        "X= data[['Age','Sex','BP','Cholesterol']]\n",
        "y = data['Drug']"
      ],
      "metadata": {
        "id": "OyNO2mvQ_wCi"
      },
      "execution_count": null,
      "outputs": []
    },
    {
      "cell_type": "code",
      "source": [
        "X = pd.get_dummies(X)"
      ],
      "metadata": {
        "id": "Oo9QS_TYAOkM"
      },
      "execution_count": null,
      "outputs": []
    },
    {
      "cell_type": "markdown",
      "source": [
        "Training the data"
      ],
      "metadata": {
        "id": "zTj8VrG15ZP_"
      }
    },
    {
      "cell_type": "code",
      "source": [
        "from sklearn.model_selection import train_test_split\n",
        "X_train,X_test,y_train,y_test = train_test_split(X,y,test_size=0.3,random_state=42)"
      ],
      "metadata": {
        "id": "_zY5yxcIAdas"
      },
      "execution_count": null,
      "outputs": []
    },
    {
      "cell_type": "code",
      "source": [
        "X_train"
      ],
      "metadata": {
        "colab": {
          "base_uri": "https://localhost:8080/",
          "height": 424
        },
        "id": "v-Fg0c4QAyB5",
        "outputId": "69eeca60-d4d8-4e6f-f41b-4d2a9c645726"
      },
      "execution_count": null,
      "outputs": [
        {
          "output_type": "execute_result",
          "data": {
            "text/plain": [
              "     Age  Sex  BP_HIGH  BP_LOW  BP_NORMAL  Cholesterol_HIGH  \\\n",
              "169   20    0     True   False      False              True   \n",
              "97    56    0     True   False      False              True   \n",
              "31    74    1     True   False      False              True   \n",
              "12    43    1    False    True      False              True   \n",
              "35    46    1    False   False       True             False   \n",
              "..   ...  ...      ...     ...        ...               ...   \n",
              "106   22    1    False   False       True              True   \n",
              "14    50    0    False   False       True              True   \n",
              "92    29    0     True   False      False              True   \n",
              "179   67    0    False   False       True              True   \n",
              "102   28    0    False    True      False              True   \n",
              "\n",
              "     Cholesterol_NORMAL  \n",
              "169               False  \n",
              "97                False  \n",
              "31                False  \n",
              "12                False  \n",
              "35                 True  \n",
              "..                  ...  \n",
              "106               False  \n",
              "14                False  \n",
              "92                False  \n",
              "179               False  \n",
              "102               False  \n",
              "\n",
              "[140 rows x 7 columns]"
            ],
            "text/html": [
              "\n",
              "  <div id=\"df-9fc5f98d-c00b-4e30-b0d6-9bf039393b43\" class=\"colab-df-container\">\n",
              "    <div>\n",
              "<style scoped>\n",
              "    .dataframe tbody tr th:only-of-type {\n",
              "        vertical-align: middle;\n",
              "    }\n",
              "\n",
              "    .dataframe tbody tr th {\n",
              "        vertical-align: top;\n",
              "    }\n",
              "\n",
              "    .dataframe thead th {\n",
              "        text-align: right;\n",
              "    }\n",
              "</style>\n",
              "<table border=\"1\" class=\"dataframe\">\n",
              "  <thead>\n",
              "    <tr style=\"text-align: right;\">\n",
              "      <th></th>\n",
              "      <th>Age</th>\n",
              "      <th>Sex</th>\n",
              "      <th>BP_HIGH</th>\n",
              "      <th>BP_LOW</th>\n",
              "      <th>BP_NORMAL</th>\n",
              "      <th>Cholesterol_HIGH</th>\n",
              "      <th>Cholesterol_NORMAL</th>\n",
              "    </tr>\n",
              "  </thead>\n",
              "  <tbody>\n",
              "    <tr>\n",
              "      <th>169</th>\n",
              "      <td>20</td>\n",
              "      <td>0</td>\n",
              "      <td>True</td>\n",
              "      <td>False</td>\n",
              "      <td>False</td>\n",
              "      <td>True</td>\n",
              "      <td>False</td>\n",
              "    </tr>\n",
              "    <tr>\n",
              "      <th>97</th>\n",
              "      <td>56</td>\n",
              "      <td>0</td>\n",
              "      <td>True</td>\n",
              "      <td>False</td>\n",
              "      <td>False</td>\n",
              "      <td>True</td>\n",
              "      <td>False</td>\n",
              "    </tr>\n",
              "    <tr>\n",
              "      <th>31</th>\n",
              "      <td>74</td>\n",
              "      <td>1</td>\n",
              "      <td>True</td>\n",
              "      <td>False</td>\n",
              "      <td>False</td>\n",
              "      <td>True</td>\n",
              "      <td>False</td>\n",
              "    </tr>\n",
              "    <tr>\n",
              "      <th>12</th>\n",
              "      <td>43</td>\n",
              "      <td>1</td>\n",
              "      <td>False</td>\n",
              "      <td>True</td>\n",
              "      <td>False</td>\n",
              "      <td>True</td>\n",
              "      <td>False</td>\n",
              "    </tr>\n",
              "    <tr>\n",
              "      <th>35</th>\n",
              "      <td>46</td>\n",
              "      <td>1</td>\n",
              "      <td>False</td>\n",
              "      <td>False</td>\n",
              "      <td>True</td>\n",
              "      <td>False</td>\n",
              "      <td>True</td>\n",
              "    </tr>\n",
              "    <tr>\n",
              "      <th>...</th>\n",
              "      <td>...</td>\n",
              "      <td>...</td>\n",
              "      <td>...</td>\n",
              "      <td>...</td>\n",
              "      <td>...</td>\n",
              "      <td>...</td>\n",
              "      <td>...</td>\n",
              "    </tr>\n",
              "    <tr>\n",
              "      <th>106</th>\n",
              "      <td>22</td>\n",
              "      <td>1</td>\n",
              "      <td>False</td>\n",
              "      <td>False</td>\n",
              "      <td>True</td>\n",
              "      <td>True</td>\n",
              "      <td>False</td>\n",
              "    </tr>\n",
              "    <tr>\n",
              "      <th>14</th>\n",
              "      <td>50</td>\n",
              "      <td>0</td>\n",
              "      <td>False</td>\n",
              "      <td>False</td>\n",
              "      <td>True</td>\n",
              "      <td>True</td>\n",
              "      <td>False</td>\n",
              "    </tr>\n",
              "    <tr>\n",
              "      <th>92</th>\n",
              "      <td>29</td>\n",
              "      <td>0</td>\n",
              "      <td>True</td>\n",
              "      <td>False</td>\n",
              "      <td>False</td>\n",
              "      <td>True</td>\n",
              "      <td>False</td>\n",
              "    </tr>\n",
              "    <tr>\n",
              "      <th>179</th>\n",
              "      <td>67</td>\n",
              "      <td>0</td>\n",
              "      <td>False</td>\n",
              "      <td>False</td>\n",
              "      <td>True</td>\n",
              "      <td>True</td>\n",
              "      <td>False</td>\n",
              "    </tr>\n",
              "    <tr>\n",
              "      <th>102</th>\n",
              "      <td>28</td>\n",
              "      <td>0</td>\n",
              "      <td>False</td>\n",
              "      <td>True</td>\n",
              "      <td>False</td>\n",
              "      <td>True</td>\n",
              "      <td>False</td>\n",
              "    </tr>\n",
              "  </tbody>\n",
              "</table>\n",
              "<p>140 rows × 7 columns</p>\n",
              "</div>\n",
              "    <div class=\"colab-df-buttons\">\n",
              "\n",
              "  <div class=\"colab-df-container\">\n",
              "    <button class=\"colab-df-convert\" onclick=\"convertToInteractive('df-9fc5f98d-c00b-4e30-b0d6-9bf039393b43')\"\n",
              "            title=\"Convert this dataframe to an interactive table.\"\n",
              "            style=\"display:none;\">\n",
              "\n",
              "  <svg xmlns=\"http://www.w3.org/2000/svg\" height=\"24px\" viewBox=\"0 -960 960 960\">\n",
              "    <path d=\"M120-120v-720h720v720H120Zm60-500h600v-160H180v160Zm220 220h160v-160H400v160Zm0 220h160v-160H400v160ZM180-400h160v-160H180v160Zm440 0h160v-160H620v160ZM180-180h160v-160H180v160Zm440 0h160v-160H620v160Z\"/>\n",
              "  </svg>\n",
              "    </button>\n",
              "\n",
              "  <style>\n",
              "    .colab-df-container {\n",
              "      display:flex;\n",
              "      gap: 12px;\n",
              "    }\n",
              "\n",
              "    .colab-df-convert {\n",
              "      background-color: #E8F0FE;\n",
              "      border: none;\n",
              "      border-radius: 50%;\n",
              "      cursor: pointer;\n",
              "      display: none;\n",
              "      fill: #1967D2;\n",
              "      height: 32px;\n",
              "      padding: 0 0 0 0;\n",
              "      width: 32px;\n",
              "    }\n",
              "\n",
              "    .colab-df-convert:hover {\n",
              "      background-color: #E2EBFA;\n",
              "      box-shadow: 0px 1px 2px rgba(60, 64, 67, 0.3), 0px 1px 3px 1px rgba(60, 64, 67, 0.15);\n",
              "      fill: #174EA6;\n",
              "    }\n",
              "\n",
              "    .colab-df-buttons div {\n",
              "      margin-bottom: 4px;\n",
              "    }\n",
              "\n",
              "    [theme=dark] .colab-df-convert {\n",
              "      background-color: #3B4455;\n",
              "      fill: #D2E3FC;\n",
              "    }\n",
              "\n",
              "    [theme=dark] .colab-df-convert:hover {\n",
              "      background-color: #434B5C;\n",
              "      box-shadow: 0px 1px 3px 1px rgba(0, 0, 0, 0.15);\n",
              "      filter: drop-shadow(0px 1px 2px rgba(0, 0, 0, 0.3));\n",
              "      fill: #FFFFFF;\n",
              "    }\n",
              "  </style>\n",
              "\n",
              "    <script>\n",
              "      const buttonEl =\n",
              "        document.querySelector('#df-9fc5f98d-c00b-4e30-b0d6-9bf039393b43 button.colab-df-convert');\n",
              "      buttonEl.style.display =\n",
              "        google.colab.kernel.accessAllowed ? 'block' : 'none';\n",
              "\n",
              "      async function convertToInteractive(key) {\n",
              "        const element = document.querySelector('#df-9fc5f98d-c00b-4e30-b0d6-9bf039393b43');\n",
              "        const dataTable =\n",
              "          await google.colab.kernel.invokeFunction('convertToInteractive',\n",
              "                                                    [key], {});\n",
              "        if (!dataTable) return;\n",
              "\n",
              "        const docLinkHtml = 'Like what you see? Visit the ' +\n",
              "          '<a target=\"_blank\" href=https://colab.research.google.com/notebooks/data_table.ipynb>data table notebook</a>'\n",
              "          + ' to learn more about interactive tables.';\n",
              "        element.innerHTML = '';\n",
              "        dataTable['output_type'] = 'display_data';\n",
              "        await google.colab.output.renderOutput(dataTable, element);\n",
              "        const docLink = document.createElement('div');\n",
              "        docLink.innerHTML = docLinkHtml;\n",
              "        element.appendChild(docLink);\n",
              "      }\n",
              "    </script>\n",
              "  </div>\n",
              "\n",
              "\n",
              "<div id=\"df-7730aed3-7369-4d3a-ad7c-da8e919b5880\">\n",
              "  <button class=\"colab-df-quickchart\" onclick=\"quickchart('df-7730aed3-7369-4d3a-ad7c-da8e919b5880')\"\n",
              "            title=\"Suggest charts\"\n",
              "            style=\"display:none;\">\n",
              "\n",
              "<svg xmlns=\"http://www.w3.org/2000/svg\" height=\"24px\"viewBox=\"0 0 24 24\"\n",
              "     width=\"24px\">\n",
              "    <g>\n",
              "        <path d=\"M19 3H5c-1.1 0-2 .9-2 2v14c0 1.1.9 2 2 2h14c1.1 0 2-.9 2-2V5c0-1.1-.9-2-2-2zM9 17H7v-7h2v7zm4 0h-2V7h2v10zm4 0h-2v-4h2v4z\"/>\n",
              "    </g>\n",
              "</svg>\n",
              "  </button>\n",
              "\n",
              "<style>\n",
              "  .colab-df-quickchart {\n",
              "      --bg-color: #E8F0FE;\n",
              "      --fill-color: #1967D2;\n",
              "      --hover-bg-color: #E2EBFA;\n",
              "      --hover-fill-color: #174EA6;\n",
              "      --disabled-fill-color: #AAA;\n",
              "      --disabled-bg-color: #DDD;\n",
              "  }\n",
              "\n",
              "  [theme=dark] .colab-df-quickchart {\n",
              "      --bg-color: #3B4455;\n",
              "      --fill-color: #D2E3FC;\n",
              "      --hover-bg-color: #434B5C;\n",
              "      --hover-fill-color: #FFFFFF;\n",
              "      --disabled-bg-color: #3B4455;\n",
              "      --disabled-fill-color: #666;\n",
              "  }\n",
              "\n",
              "  .colab-df-quickchart {\n",
              "    background-color: var(--bg-color);\n",
              "    border: none;\n",
              "    border-radius: 50%;\n",
              "    cursor: pointer;\n",
              "    display: none;\n",
              "    fill: var(--fill-color);\n",
              "    height: 32px;\n",
              "    padding: 0;\n",
              "    width: 32px;\n",
              "  }\n",
              "\n",
              "  .colab-df-quickchart:hover {\n",
              "    background-color: var(--hover-bg-color);\n",
              "    box-shadow: 0 1px 2px rgba(60, 64, 67, 0.3), 0 1px 3px 1px rgba(60, 64, 67, 0.15);\n",
              "    fill: var(--button-hover-fill-color);\n",
              "  }\n",
              "\n",
              "  .colab-df-quickchart-complete:disabled,\n",
              "  .colab-df-quickchart-complete:disabled:hover {\n",
              "    background-color: var(--disabled-bg-color);\n",
              "    fill: var(--disabled-fill-color);\n",
              "    box-shadow: none;\n",
              "  }\n",
              "\n",
              "  .colab-df-spinner {\n",
              "    border: 2px solid var(--fill-color);\n",
              "    border-color: transparent;\n",
              "    border-bottom-color: var(--fill-color);\n",
              "    animation:\n",
              "      spin 1s steps(1) infinite;\n",
              "  }\n",
              "\n",
              "  @keyframes spin {\n",
              "    0% {\n",
              "      border-color: transparent;\n",
              "      border-bottom-color: var(--fill-color);\n",
              "      border-left-color: var(--fill-color);\n",
              "    }\n",
              "    20% {\n",
              "      border-color: transparent;\n",
              "      border-left-color: var(--fill-color);\n",
              "      border-top-color: var(--fill-color);\n",
              "    }\n",
              "    30% {\n",
              "      border-color: transparent;\n",
              "      border-left-color: var(--fill-color);\n",
              "      border-top-color: var(--fill-color);\n",
              "      border-right-color: var(--fill-color);\n",
              "    }\n",
              "    40% {\n",
              "      border-color: transparent;\n",
              "      border-right-color: var(--fill-color);\n",
              "      border-top-color: var(--fill-color);\n",
              "    }\n",
              "    60% {\n",
              "      border-color: transparent;\n",
              "      border-right-color: var(--fill-color);\n",
              "    }\n",
              "    80% {\n",
              "      border-color: transparent;\n",
              "      border-right-color: var(--fill-color);\n",
              "      border-bottom-color: var(--fill-color);\n",
              "    }\n",
              "    90% {\n",
              "      border-color: transparent;\n",
              "      border-bottom-color: var(--fill-color);\n",
              "    }\n",
              "  }\n",
              "</style>\n",
              "\n",
              "  <script>\n",
              "    async function quickchart(key) {\n",
              "      const quickchartButtonEl =\n",
              "        document.querySelector('#' + key + ' button');\n",
              "      quickchartButtonEl.disabled = true;  // To prevent multiple clicks.\n",
              "      quickchartButtonEl.classList.add('colab-df-spinner');\n",
              "      try {\n",
              "        const charts = await google.colab.kernel.invokeFunction(\n",
              "            'suggestCharts', [key], {});\n",
              "      } catch (error) {\n",
              "        console.error('Error during call to suggestCharts:', error);\n",
              "      }\n",
              "      quickchartButtonEl.classList.remove('colab-df-spinner');\n",
              "      quickchartButtonEl.classList.add('colab-df-quickchart-complete');\n",
              "    }\n",
              "    (() => {\n",
              "      let quickchartButtonEl =\n",
              "        document.querySelector('#df-7730aed3-7369-4d3a-ad7c-da8e919b5880 button');\n",
              "      quickchartButtonEl.style.display =\n",
              "        google.colab.kernel.accessAllowed ? 'block' : 'none';\n",
              "    })();\n",
              "  </script>\n",
              "</div>\n",
              "\n",
              "  <div id=\"id_ad4ec1f9-fc11-401f-b1f0-4790f9d90b87\">\n",
              "    <style>\n",
              "      .colab-df-generate {\n",
              "        background-color: #E8F0FE;\n",
              "        border: none;\n",
              "        border-radius: 50%;\n",
              "        cursor: pointer;\n",
              "        display: none;\n",
              "        fill: #1967D2;\n",
              "        height: 32px;\n",
              "        padding: 0 0 0 0;\n",
              "        width: 32px;\n",
              "      }\n",
              "\n",
              "      .colab-df-generate:hover {\n",
              "        background-color: #E2EBFA;\n",
              "        box-shadow: 0px 1px 2px rgba(60, 64, 67, 0.3), 0px 1px 3px 1px rgba(60, 64, 67, 0.15);\n",
              "        fill: #174EA6;\n",
              "      }\n",
              "\n",
              "      [theme=dark] .colab-df-generate {\n",
              "        background-color: #3B4455;\n",
              "        fill: #D2E3FC;\n",
              "      }\n",
              "\n",
              "      [theme=dark] .colab-df-generate:hover {\n",
              "        background-color: #434B5C;\n",
              "        box-shadow: 0px 1px 3px 1px rgba(0, 0, 0, 0.15);\n",
              "        filter: drop-shadow(0px 1px 2px rgba(0, 0, 0, 0.3));\n",
              "        fill: #FFFFFF;\n",
              "      }\n",
              "    </style>\n",
              "    <button class=\"colab-df-generate\" onclick=\"generateWithVariable('X_train')\"\n",
              "            title=\"Generate code using this dataframe.\"\n",
              "            style=\"display:none;\">\n",
              "\n",
              "  <svg xmlns=\"http://www.w3.org/2000/svg\" height=\"24px\"viewBox=\"0 0 24 24\"\n",
              "       width=\"24px\">\n",
              "    <path d=\"M7,19H8.4L18.45,9,17,7.55,7,17.6ZM5,21V16.75L18.45,3.32a2,2,0,0,1,2.83,0l1.4,1.43a1.91,1.91,0,0,1,.58,1.4,1.91,1.91,0,0,1-.58,1.4L9.25,21ZM18.45,9,17,7.55Zm-12,3A5.31,5.31,0,0,0,4.9,8.1,5.31,5.31,0,0,0,1,6.5,5.31,5.31,0,0,0,4.9,4.9,5.31,5.31,0,0,0,6.5,1,5.31,5.31,0,0,0,8.1,4.9,5.31,5.31,0,0,0,12,6.5,5.46,5.46,0,0,0,6.5,12Z\"/>\n",
              "  </svg>\n",
              "    </button>\n",
              "    <script>\n",
              "      (() => {\n",
              "      const buttonEl =\n",
              "        document.querySelector('#id_ad4ec1f9-fc11-401f-b1f0-4790f9d90b87 button.colab-df-generate');\n",
              "      buttonEl.style.display =\n",
              "        google.colab.kernel.accessAllowed ? 'block' : 'none';\n",
              "\n",
              "      buttonEl.onclick = () => {\n",
              "        google.colab.notebook.generateWithVariable('X_train');\n",
              "      }\n",
              "      })();\n",
              "    </script>\n",
              "  </div>\n",
              "\n",
              "    </div>\n",
              "  </div>\n"
            ],
            "application/vnd.google.colaboratory.intrinsic+json": {
              "type": "dataframe",
              "variable_name": "X_train",
              "summary": "{\n  \"name\": \"X_train\",\n  \"rows\": 140,\n  \"fields\": [\n    {\n      \"column\": \"Age\",\n      \"properties\": {\n        \"dtype\": \"number\",\n        \"std\": 16,\n        \"min\": 15,\n        \"max\": 74,\n        \"num_unique_values\": 51,\n        \"samples\": [\n          38,\n          22,\n          16\n        ],\n        \"semantic_type\": \"\",\n        \"description\": \"\"\n      }\n    },\n    {\n      \"column\": \"Sex\",\n      \"properties\": {\n        \"dtype\": \"number\",\n        \"std\": 0,\n        \"min\": 0,\n        \"max\": 1,\n        \"num_unique_values\": 2,\n        \"samples\": [\n          1,\n          0\n        ],\n        \"semantic_type\": \"\",\n        \"description\": \"\"\n      }\n    },\n    {\n      \"column\": \"BP_HIGH\",\n      \"properties\": {\n        \"dtype\": \"boolean\",\n        \"num_unique_values\": 2,\n        \"samples\": [\n          false,\n          true\n        ],\n        \"semantic_type\": \"\",\n        \"description\": \"\"\n      }\n    },\n    {\n      \"column\": \"BP_LOW\",\n      \"properties\": {\n        \"dtype\": \"boolean\",\n        \"num_unique_values\": 2,\n        \"samples\": [\n          true,\n          false\n        ],\n        \"semantic_type\": \"\",\n        \"description\": \"\"\n      }\n    },\n    {\n      \"column\": \"BP_NORMAL\",\n      \"properties\": {\n        \"dtype\": \"boolean\",\n        \"num_unique_values\": 2,\n        \"samples\": [\n          true,\n          false\n        ],\n        \"semantic_type\": \"\",\n        \"description\": \"\"\n      }\n    },\n    {\n      \"column\": \"Cholesterol_HIGH\",\n      \"properties\": {\n        \"dtype\": \"boolean\",\n        \"num_unique_values\": 2,\n        \"samples\": [\n          false,\n          true\n        ],\n        \"semantic_type\": \"\",\n        \"description\": \"\"\n      }\n    },\n    {\n      \"column\": \"Cholesterol_NORMAL\",\n      \"properties\": {\n        \"dtype\": \"boolean\",\n        \"num_unique_values\": 2,\n        \"samples\": [\n          true,\n          false\n        ],\n        \"semantic_type\": \"\",\n        \"description\": \"\"\n      }\n    }\n  ]\n}"
            }
          },
          "metadata": {},
          "execution_count": 19
        }
      ]
    },
    {
      "cell_type": "code",
      "source": [
        "X_test"
      ],
      "metadata": {
        "colab": {
          "base_uri": "https://localhost:8080/",
          "height": 1000
        },
        "id": "wdD1cA2wA0cU",
        "outputId": "0931b9d4-9eab-48c1-ce1d-ef7bf8b13d2e"
      },
      "execution_count": null,
      "outputs": [
        {
          "output_type": "execute_result",
          "data": {
            "text/plain": [
              "     Age  Sex  BP_HIGH  BP_LOW  BP_NORMAL  Cholesterol_HIGH  \\\n",
              "95    36    1    False    True      False             False   \n",
              "15    16    0     True   False      False             False   \n",
              "30    18    0    False   False       True             False   \n",
              "158   59    0    False    True      False              True   \n",
              "128   47    1    False    True      False             False   \n",
              "115   51    1     True   False      False              True   \n",
              "69    18    0     True   False      False             False   \n",
              "170   28    0    False   False       True              True   \n",
              "174   42    1     True   False      False             False   \n",
              "45    66    0    False   False       True             False   \n",
              "66    29    1     True   False      False              True   \n",
              "182   20    0    False    True      False             False   \n",
              "165   38    1    False    True      False              True   \n",
              "78    19    0     True   False      False              True   \n",
              "186   70    1     True   False      False              True   \n",
              "177   25    1    False   False       True              True   \n",
              "56    65    1     True   False      False             False   \n",
              "152   55    1    False   False       True             False   \n",
              "82    32    0    False    True      False              True   \n",
              "68    54    1    False   False       True              True   \n",
              "124   53    0     True   False      False             False   \n",
              "16    69    1    False    True      False             False   \n",
              "148   61    0    False    True      False             False   \n",
              "93    42    0    False    True      False             False   \n",
              "65    68    0    False   False       True             False   \n",
              "60    38    0    False    True      False             False   \n",
              "84    47    0    False    True      False              True   \n",
              "67    17    1    False   False       True             False   \n",
              "125   19    0     True   False      False             False   \n",
              "132   49    1    False    True      False             False   \n",
              "9     43    1    False    True      False             False   \n",
              "18    23    1    False    True      False              True   \n",
              "55    26    0    False    True      False              True   \n",
              "75    26    1    False    True      False             False   \n",
              "150   49    1     True   False      False             False   \n",
              "104   22    1     True   False      False             False   \n",
              "135   74    1    False    True      False             False   \n",
              "137   35    0     True   False      False              True   \n",
              "164   16    1     True   False      False             False   \n",
              "76    36    0     True   False      False              True   \n",
              "79    32    0    False    True      False             False   \n",
              "197   52    1    False   False       True              True   \n",
              "38    39    0    False   False       True             False   \n",
              "24    33    0    False    True      False              True   \n",
              "122   34    1    False   False       True              True   \n",
              "195   56    0    False    True      False              True   \n",
              "29    45    1    False    True      False              True   \n",
              "19    32    0     True   False      False             False   \n",
              "143   74    1     True   False      False             False   \n",
              "86    51    0    False   False       True              True   \n",
              "114   20    0    False   False       True             False   \n",
              "173   41    0    False    True      False             False   \n",
              "5     22    0    False   False       True              True   \n",
              "126   66    1     True   False      False              True   \n",
              "117   40    0    False   False       True              True   \n",
              "73    41    0    False   False       True             False   \n",
              "140   49    1     True   False      False             False   \n",
              "98    20    1     True   False      False             False   \n",
              "172   39    0    False   False       True             False   \n",
              "96    58    0    False    True      False              True   \n",
              "\n",
              "     Cholesterol_NORMAL  \n",
              "95                 True  \n",
              "15                 True  \n",
              "30                 True  \n",
              "158               False  \n",
              "128                True  \n",
              "115               False  \n",
              "69                 True  \n",
              "170               False  \n",
              "174                True  \n",
              "45                 True  \n",
              "66                False  \n",
              "182                True  \n",
              "165               False  \n",
              "78                False  \n",
              "186               False  \n",
              "177               False  \n",
              "56                 True  \n",
              "152                True  \n",
              "82                False  \n",
              "68                False  \n",
              "124                True  \n",
              "16                 True  \n",
              "148                True  \n",
              "93                 True  \n",
              "65                 True  \n",
              "60                 True  \n",
              "84                False  \n",
              "67                 True  \n",
              "125                True  \n",
              "132                True  \n",
              "9                  True  \n",
              "18                False  \n",
              "55                False  \n",
              "75                 True  \n",
              "150                True  \n",
              "104                True  \n",
              "135                True  \n",
              "137               False  \n",
              "164                True  \n",
              "76                False  \n",
              "79                 True  \n",
              "197               False  \n",
              "38                 True  \n",
              "24                False  \n",
              "122               False  \n",
              "195               False  \n",
              "29                False  \n",
              "19                 True  \n",
              "143                True  \n",
              "86                False  \n",
              "114                True  \n",
              "173                True  \n",
              "5                 False  \n",
              "126               False  \n",
              "117               False  \n",
              "73                 True  \n",
              "140                True  \n",
              "98                 True  \n",
              "172                True  \n",
              "96                False  "
            ],
            "text/html": [
              "\n",
              "  <div id=\"df-68021528-5c37-4205-a866-0dfaea64fbf1\" class=\"colab-df-container\">\n",
              "    <div>\n",
              "<style scoped>\n",
              "    .dataframe tbody tr th:only-of-type {\n",
              "        vertical-align: middle;\n",
              "    }\n",
              "\n",
              "    .dataframe tbody tr th {\n",
              "        vertical-align: top;\n",
              "    }\n",
              "\n",
              "    .dataframe thead th {\n",
              "        text-align: right;\n",
              "    }\n",
              "</style>\n",
              "<table border=\"1\" class=\"dataframe\">\n",
              "  <thead>\n",
              "    <tr style=\"text-align: right;\">\n",
              "      <th></th>\n",
              "      <th>Age</th>\n",
              "      <th>Sex</th>\n",
              "      <th>BP_HIGH</th>\n",
              "      <th>BP_LOW</th>\n",
              "      <th>BP_NORMAL</th>\n",
              "      <th>Cholesterol_HIGH</th>\n",
              "      <th>Cholesterol_NORMAL</th>\n",
              "    </tr>\n",
              "  </thead>\n",
              "  <tbody>\n",
              "    <tr>\n",
              "      <th>95</th>\n",
              "      <td>36</td>\n",
              "      <td>1</td>\n",
              "      <td>False</td>\n",
              "      <td>True</td>\n",
              "      <td>False</td>\n",
              "      <td>False</td>\n",
              "      <td>True</td>\n",
              "    </tr>\n",
              "    <tr>\n",
              "      <th>15</th>\n",
              "      <td>16</td>\n",
              "      <td>0</td>\n",
              "      <td>True</td>\n",
              "      <td>False</td>\n",
              "      <td>False</td>\n",
              "      <td>False</td>\n",
              "      <td>True</td>\n",
              "    </tr>\n",
              "    <tr>\n",
              "      <th>30</th>\n",
              "      <td>18</td>\n",
              "      <td>0</td>\n",
              "      <td>False</td>\n",
              "      <td>False</td>\n",
              "      <td>True</td>\n",
              "      <td>False</td>\n",
              "      <td>True</td>\n",
              "    </tr>\n",
              "    <tr>\n",
              "      <th>158</th>\n",
              "      <td>59</td>\n",
              "      <td>0</td>\n",
              "      <td>False</td>\n",
              "      <td>True</td>\n",
              "      <td>False</td>\n",
              "      <td>True</td>\n",
              "      <td>False</td>\n",
              "    </tr>\n",
              "    <tr>\n",
              "      <th>128</th>\n",
              "      <td>47</td>\n",
              "      <td>1</td>\n",
              "      <td>False</td>\n",
              "      <td>True</td>\n",
              "      <td>False</td>\n",
              "      <td>False</td>\n",
              "      <td>True</td>\n",
              "    </tr>\n",
              "    <tr>\n",
              "      <th>115</th>\n",
              "      <td>51</td>\n",
              "      <td>1</td>\n",
              "      <td>True</td>\n",
              "      <td>False</td>\n",
              "      <td>False</td>\n",
              "      <td>True</td>\n",
              "      <td>False</td>\n",
              "    </tr>\n",
              "    <tr>\n",
              "      <th>69</th>\n",
              "      <td>18</td>\n",
              "      <td>0</td>\n",
              "      <td>True</td>\n",
              "      <td>False</td>\n",
              "      <td>False</td>\n",
              "      <td>False</td>\n",
              "      <td>True</td>\n",
              "    </tr>\n",
              "    <tr>\n",
              "      <th>170</th>\n",
              "      <td>28</td>\n",
              "      <td>0</td>\n",
              "      <td>False</td>\n",
              "      <td>False</td>\n",
              "      <td>True</td>\n",
              "      <td>True</td>\n",
              "      <td>False</td>\n",
              "    </tr>\n",
              "    <tr>\n",
              "      <th>174</th>\n",
              "      <td>42</td>\n",
              "      <td>1</td>\n",
              "      <td>True</td>\n",
              "      <td>False</td>\n",
              "      <td>False</td>\n",
              "      <td>False</td>\n",
              "      <td>True</td>\n",
              "    </tr>\n",
              "    <tr>\n",
              "      <th>45</th>\n",
              "      <td>66</td>\n",
              "      <td>0</td>\n",
              "      <td>False</td>\n",
              "      <td>False</td>\n",
              "      <td>True</td>\n",
              "      <td>False</td>\n",
              "      <td>True</td>\n",
              "    </tr>\n",
              "    <tr>\n",
              "      <th>66</th>\n",
              "      <td>29</td>\n",
              "      <td>1</td>\n",
              "      <td>True</td>\n",
              "      <td>False</td>\n",
              "      <td>False</td>\n",
              "      <td>True</td>\n",
              "      <td>False</td>\n",
              "    </tr>\n",
              "    <tr>\n",
              "      <th>182</th>\n",
              "      <td>20</td>\n",
              "      <td>0</td>\n",
              "      <td>False</td>\n",
              "      <td>True</td>\n",
              "      <td>False</td>\n",
              "      <td>False</td>\n",
              "      <td>True</td>\n",
              "    </tr>\n",
              "    <tr>\n",
              "      <th>165</th>\n",
              "      <td>38</td>\n",
              "      <td>1</td>\n",
              "      <td>False</td>\n",
              "      <td>True</td>\n",
              "      <td>False</td>\n",
              "      <td>True</td>\n",
              "      <td>False</td>\n",
              "    </tr>\n",
              "    <tr>\n",
              "      <th>78</th>\n",
              "      <td>19</td>\n",
              "      <td>0</td>\n",
              "      <td>True</td>\n",
              "      <td>False</td>\n",
              "      <td>False</td>\n",
              "      <td>True</td>\n",
              "      <td>False</td>\n",
              "    </tr>\n",
              "    <tr>\n",
              "      <th>186</th>\n",
              "      <td>70</td>\n",
              "      <td>1</td>\n",
              "      <td>True</td>\n",
              "      <td>False</td>\n",
              "      <td>False</td>\n",
              "      <td>True</td>\n",
              "      <td>False</td>\n",
              "    </tr>\n",
              "    <tr>\n",
              "      <th>177</th>\n",
              "      <td>25</td>\n",
              "      <td>1</td>\n",
              "      <td>False</td>\n",
              "      <td>False</td>\n",
              "      <td>True</td>\n",
              "      <td>True</td>\n",
              "      <td>False</td>\n",
              "    </tr>\n",
              "    <tr>\n",
              "      <th>56</th>\n",
              "      <td>65</td>\n",
              "      <td>1</td>\n",
              "      <td>True</td>\n",
              "      <td>False</td>\n",
              "      <td>False</td>\n",
              "      <td>False</td>\n",
              "      <td>True</td>\n",
              "    </tr>\n",
              "    <tr>\n",
              "      <th>152</th>\n",
              "      <td>55</td>\n",
              "      <td>1</td>\n",
              "      <td>False</td>\n",
              "      <td>False</td>\n",
              "      <td>True</td>\n",
              "      <td>False</td>\n",
              "      <td>True</td>\n",
              "    </tr>\n",
              "    <tr>\n",
              "      <th>82</th>\n",
              "      <td>32</td>\n",
              "      <td>0</td>\n",
              "      <td>False</td>\n",
              "      <td>True</td>\n",
              "      <td>False</td>\n",
              "      <td>True</td>\n",
              "      <td>False</td>\n",
              "    </tr>\n",
              "    <tr>\n",
              "      <th>68</th>\n",
              "      <td>54</td>\n",
              "      <td>1</td>\n",
              "      <td>False</td>\n",
              "      <td>False</td>\n",
              "      <td>True</td>\n",
              "      <td>True</td>\n",
              "      <td>False</td>\n",
              "    </tr>\n",
              "    <tr>\n",
              "      <th>124</th>\n",
              "      <td>53</td>\n",
              "      <td>0</td>\n",
              "      <td>True</td>\n",
              "      <td>False</td>\n",
              "      <td>False</td>\n",
              "      <td>False</td>\n",
              "      <td>True</td>\n",
              "    </tr>\n",
              "    <tr>\n",
              "      <th>16</th>\n",
              "      <td>69</td>\n",
              "      <td>1</td>\n",
              "      <td>False</td>\n",
              "      <td>True</td>\n",
              "      <td>False</td>\n",
              "      <td>False</td>\n",
              "      <td>True</td>\n",
              "    </tr>\n",
              "    <tr>\n",
              "      <th>148</th>\n",
              "      <td>61</td>\n",
              "      <td>0</td>\n",
              "      <td>False</td>\n",
              "      <td>True</td>\n",
              "      <td>False</td>\n",
              "      <td>False</td>\n",
              "      <td>True</td>\n",
              "    </tr>\n",
              "    <tr>\n",
              "      <th>93</th>\n",
              "      <td>42</td>\n",
              "      <td>0</td>\n",
              "      <td>False</td>\n",
              "      <td>True</td>\n",
              "      <td>False</td>\n",
              "      <td>False</td>\n",
              "      <td>True</td>\n",
              "    </tr>\n",
              "    <tr>\n",
              "      <th>65</th>\n",
              "      <td>68</td>\n",
              "      <td>0</td>\n",
              "      <td>False</td>\n",
              "      <td>False</td>\n",
              "      <td>True</td>\n",
              "      <td>False</td>\n",
              "      <td>True</td>\n",
              "    </tr>\n",
              "    <tr>\n",
              "      <th>60</th>\n",
              "      <td>38</td>\n",
              "      <td>0</td>\n",
              "      <td>False</td>\n",
              "      <td>True</td>\n",
              "      <td>False</td>\n",
              "      <td>False</td>\n",
              "      <td>True</td>\n",
              "    </tr>\n",
              "    <tr>\n",
              "      <th>84</th>\n",
              "      <td>47</td>\n",
              "      <td>0</td>\n",
              "      <td>False</td>\n",
              "      <td>True</td>\n",
              "      <td>False</td>\n",
              "      <td>True</td>\n",
              "      <td>False</td>\n",
              "    </tr>\n",
              "    <tr>\n",
              "      <th>67</th>\n",
              "      <td>17</td>\n",
              "      <td>1</td>\n",
              "      <td>False</td>\n",
              "      <td>False</td>\n",
              "      <td>True</td>\n",
              "      <td>False</td>\n",
              "      <td>True</td>\n",
              "    </tr>\n",
              "    <tr>\n",
              "      <th>125</th>\n",
              "      <td>19</td>\n",
              "      <td>0</td>\n",
              "      <td>True</td>\n",
              "      <td>False</td>\n",
              "      <td>False</td>\n",
              "      <td>False</td>\n",
              "      <td>True</td>\n",
              "    </tr>\n",
              "    <tr>\n",
              "      <th>132</th>\n",
              "      <td>49</td>\n",
              "      <td>1</td>\n",
              "      <td>False</td>\n",
              "      <td>True</td>\n",
              "      <td>False</td>\n",
              "      <td>False</td>\n",
              "      <td>True</td>\n",
              "    </tr>\n",
              "    <tr>\n",
              "      <th>9</th>\n",
              "      <td>43</td>\n",
              "      <td>1</td>\n",
              "      <td>False</td>\n",
              "      <td>True</td>\n",
              "      <td>False</td>\n",
              "      <td>False</td>\n",
              "      <td>True</td>\n",
              "    </tr>\n",
              "    <tr>\n",
              "      <th>18</th>\n",
              "      <td>23</td>\n",
              "      <td>1</td>\n",
              "      <td>False</td>\n",
              "      <td>True</td>\n",
              "      <td>False</td>\n",
              "      <td>True</td>\n",
              "      <td>False</td>\n",
              "    </tr>\n",
              "    <tr>\n",
              "      <th>55</th>\n",
              "      <td>26</td>\n",
              "      <td>0</td>\n",
              "      <td>False</td>\n",
              "      <td>True</td>\n",
              "      <td>False</td>\n",
              "      <td>True</td>\n",
              "      <td>False</td>\n",
              "    </tr>\n",
              "    <tr>\n",
              "      <th>75</th>\n",
              "      <td>26</td>\n",
              "      <td>1</td>\n",
              "      <td>False</td>\n",
              "      <td>True</td>\n",
              "      <td>False</td>\n",
              "      <td>False</td>\n",
              "      <td>True</td>\n",
              "    </tr>\n",
              "    <tr>\n",
              "      <th>150</th>\n",
              "      <td>49</td>\n",
              "      <td>1</td>\n",
              "      <td>True</td>\n",
              "      <td>False</td>\n",
              "      <td>False</td>\n",
              "      <td>False</td>\n",
              "      <td>True</td>\n",
              "    </tr>\n",
              "    <tr>\n",
              "      <th>104</th>\n",
              "      <td>22</td>\n",
              "      <td>1</td>\n",
              "      <td>True</td>\n",
              "      <td>False</td>\n",
              "      <td>False</td>\n",
              "      <td>False</td>\n",
              "      <td>True</td>\n",
              "    </tr>\n",
              "    <tr>\n",
              "      <th>135</th>\n",
              "      <td>74</td>\n",
              "      <td>1</td>\n",
              "      <td>False</td>\n",
              "      <td>True</td>\n",
              "      <td>False</td>\n",
              "      <td>False</td>\n",
              "      <td>True</td>\n",
              "    </tr>\n",
              "    <tr>\n",
              "      <th>137</th>\n",
              "      <td>35</td>\n",
              "      <td>0</td>\n",
              "      <td>True</td>\n",
              "      <td>False</td>\n",
              "      <td>False</td>\n",
              "      <td>True</td>\n",
              "      <td>False</td>\n",
              "    </tr>\n",
              "    <tr>\n",
              "      <th>164</th>\n",
              "      <td>16</td>\n",
              "      <td>1</td>\n",
              "      <td>True</td>\n",
              "      <td>False</td>\n",
              "      <td>False</td>\n",
              "      <td>False</td>\n",
              "      <td>True</td>\n",
              "    </tr>\n",
              "    <tr>\n",
              "      <th>76</th>\n",
              "      <td>36</td>\n",
              "      <td>0</td>\n",
              "      <td>True</td>\n",
              "      <td>False</td>\n",
              "      <td>False</td>\n",
              "      <td>True</td>\n",
              "      <td>False</td>\n",
              "    </tr>\n",
              "    <tr>\n",
              "      <th>79</th>\n",
              "      <td>32</td>\n",
              "      <td>0</td>\n",
              "      <td>False</td>\n",
              "      <td>True</td>\n",
              "      <td>False</td>\n",
              "      <td>False</td>\n",
              "      <td>True</td>\n",
              "    </tr>\n",
              "    <tr>\n",
              "      <th>197</th>\n",
              "      <td>52</td>\n",
              "      <td>1</td>\n",
              "      <td>False</td>\n",
              "      <td>False</td>\n",
              "      <td>True</td>\n",
              "      <td>True</td>\n",
              "      <td>False</td>\n",
              "    </tr>\n",
              "    <tr>\n",
              "      <th>38</th>\n",
              "      <td>39</td>\n",
              "      <td>0</td>\n",
              "      <td>False</td>\n",
              "      <td>False</td>\n",
              "      <td>True</td>\n",
              "      <td>False</td>\n",
              "      <td>True</td>\n",
              "    </tr>\n",
              "    <tr>\n",
              "      <th>24</th>\n",
              "      <td>33</td>\n",
              "      <td>0</td>\n",
              "      <td>False</td>\n",
              "      <td>True</td>\n",
              "      <td>False</td>\n",
              "      <td>True</td>\n",
              "      <td>False</td>\n",
              "    </tr>\n",
              "    <tr>\n",
              "      <th>122</th>\n",
              "      <td>34</td>\n",
              "      <td>1</td>\n",
              "      <td>False</td>\n",
              "      <td>False</td>\n",
              "      <td>True</td>\n",
              "      <td>True</td>\n",
              "      <td>False</td>\n",
              "    </tr>\n",
              "    <tr>\n",
              "      <th>195</th>\n",
              "      <td>56</td>\n",
              "      <td>0</td>\n",
              "      <td>False</td>\n",
              "      <td>True</td>\n",
              "      <td>False</td>\n",
              "      <td>True</td>\n",
              "      <td>False</td>\n",
              "    </tr>\n",
              "    <tr>\n",
              "      <th>29</th>\n",
              "      <td>45</td>\n",
              "      <td>1</td>\n",
              "      <td>False</td>\n",
              "      <td>True</td>\n",
              "      <td>False</td>\n",
              "      <td>True</td>\n",
              "      <td>False</td>\n",
              "    </tr>\n",
              "    <tr>\n",
              "      <th>19</th>\n",
              "      <td>32</td>\n",
              "      <td>0</td>\n",
              "      <td>True</td>\n",
              "      <td>False</td>\n",
              "      <td>False</td>\n",
              "      <td>False</td>\n",
              "      <td>True</td>\n",
              "    </tr>\n",
              "    <tr>\n",
              "      <th>143</th>\n",
              "      <td>74</td>\n",
              "      <td>1</td>\n",
              "      <td>True</td>\n",
              "      <td>False</td>\n",
              "      <td>False</td>\n",
              "      <td>False</td>\n",
              "      <td>True</td>\n",
              "    </tr>\n",
              "    <tr>\n",
              "      <th>86</th>\n",
              "      <td>51</td>\n",
              "      <td>0</td>\n",
              "      <td>False</td>\n",
              "      <td>False</td>\n",
              "      <td>True</td>\n",
              "      <td>True</td>\n",
              "      <td>False</td>\n",
              "    </tr>\n",
              "    <tr>\n",
              "      <th>114</th>\n",
              "      <td>20</td>\n",
              "      <td>0</td>\n",
              "      <td>False</td>\n",
              "      <td>False</td>\n",
              "      <td>True</td>\n",
              "      <td>False</td>\n",
              "      <td>True</td>\n",
              "    </tr>\n",
              "    <tr>\n",
              "      <th>173</th>\n",
              "      <td>41</td>\n",
              "      <td>0</td>\n",
              "      <td>False</td>\n",
              "      <td>True</td>\n",
              "      <td>False</td>\n",
              "      <td>False</td>\n",
              "      <td>True</td>\n",
              "    </tr>\n",
              "    <tr>\n",
              "      <th>5</th>\n",
              "      <td>22</td>\n",
              "      <td>0</td>\n",
              "      <td>False</td>\n",
              "      <td>False</td>\n",
              "      <td>True</td>\n",
              "      <td>True</td>\n",
              "      <td>False</td>\n",
              "    </tr>\n",
              "    <tr>\n",
              "      <th>126</th>\n",
              "      <td>66</td>\n",
              "      <td>1</td>\n",
              "      <td>True</td>\n",
              "      <td>False</td>\n",
              "      <td>False</td>\n",
              "      <td>True</td>\n",
              "      <td>False</td>\n",
              "    </tr>\n",
              "    <tr>\n",
              "      <th>117</th>\n",
              "      <td>40</td>\n",
              "      <td>0</td>\n",
              "      <td>False</td>\n",
              "      <td>False</td>\n",
              "      <td>True</td>\n",
              "      <td>True</td>\n",
              "      <td>False</td>\n",
              "    </tr>\n",
              "    <tr>\n",
              "      <th>73</th>\n",
              "      <td>41</td>\n",
              "      <td>0</td>\n",
              "      <td>False</td>\n",
              "      <td>False</td>\n",
              "      <td>True</td>\n",
              "      <td>False</td>\n",
              "      <td>True</td>\n",
              "    </tr>\n",
              "    <tr>\n",
              "      <th>140</th>\n",
              "      <td>49</td>\n",
              "      <td>1</td>\n",
              "      <td>True</td>\n",
              "      <td>False</td>\n",
              "      <td>False</td>\n",
              "      <td>False</td>\n",
              "      <td>True</td>\n",
              "    </tr>\n",
              "    <tr>\n",
              "      <th>98</th>\n",
              "      <td>20</td>\n",
              "      <td>1</td>\n",
              "      <td>True</td>\n",
              "      <td>False</td>\n",
              "      <td>False</td>\n",
              "      <td>False</td>\n",
              "      <td>True</td>\n",
              "    </tr>\n",
              "    <tr>\n",
              "      <th>172</th>\n",
              "      <td>39</td>\n",
              "      <td>0</td>\n",
              "      <td>False</td>\n",
              "      <td>False</td>\n",
              "      <td>True</td>\n",
              "      <td>False</td>\n",
              "      <td>True</td>\n",
              "    </tr>\n",
              "    <tr>\n",
              "      <th>96</th>\n",
              "      <td>58</td>\n",
              "      <td>0</td>\n",
              "      <td>False</td>\n",
              "      <td>True</td>\n",
              "      <td>False</td>\n",
              "      <td>True</td>\n",
              "      <td>False</td>\n",
              "    </tr>\n",
              "  </tbody>\n",
              "</table>\n",
              "</div>\n",
              "    <div class=\"colab-df-buttons\">\n",
              "\n",
              "  <div class=\"colab-df-container\">\n",
              "    <button class=\"colab-df-convert\" onclick=\"convertToInteractive('df-68021528-5c37-4205-a866-0dfaea64fbf1')\"\n",
              "            title=\"Convert this dataframe to an interactive table.\"\n",
              "            style=\"display:none;\">\n",
              "\n",
              "  <svg xmlns=\"http://www.w3.org/2000/svg\" height=\"24px\" viewBox=\"0 -960 960 960\">\n",
              "    <path d=\"M120-120v-720h720v720H120Zm60-500h600v-160H180v160Zm220 220h160v-160H400v160Zm0 220h160v-160H400v160ZM180-400h160v-160H180v160Zm440 0h160v-160H620v160ZM180-180h160v-160H180v160Zm440 0h160v-160H620v160Z\"/>\n",
              "  </svg>\n",
              "    </button>\n",
              "\n",
              "  <style>\n",
              "    .colab-df-container {\n",
              "      display:flex;\n",
              "      gap: 12px;\n",
              "    }\n",
              "\n",
              "    .colab-df-convert {\n",
              "      background-color: #E8F0FE;\n",
              "      border: none;\n",
              "      border-radius: 50%;\n",
              "      cursor: pointer;\n",
              "      display: none;\n",
              "      fill: #1967D2;\n",
              "      height: 32px;\n",
              "      padding: 0 0 0 0;\n",
              "      width: 32px;\n",
              "    }\n",
              "\n",
              "    .colab-df-convert:hover {\n",
              "      background-color: #E2EBFA;\n",
              "      box-shadow: 0px 1px 2px rgba(60, 64, 67, 0.3), 0px 1px 3px 1px rgba(60, 64, 67, 0.15);\n",
              "      fill: #174EA6;\n",
              "    }\n",
              "\n",
              "    .colab-df-buttons div {\n",
              "      margin-bottom: 4px;\n",
              "    }\n",
              "\n",
              "    [theme=dark] .colab-df-convert {\n",
              "      background-color: #3B4455;\n",
              "      fill: #D2E3FC;\n",
              "    }\n",
              "\n",
              "    [theme=dark] .colab-df-convert:hover {\n",
              "      background-color: #434B5C;\n",
              "      box-shadow: 0px 1px 3px 1px rgba(0, 0, 0, 0.15);\n",
              "      filter: drop-shadow(0px 1px 2px rgba(0, 0, 0, 0.3));\n",
              "      fill: #FFFFFF;\n",
              "    }\n",
              "  </style>\n",
              "\n",
              "    <script>\n",
              "      const buttonEl =\n",
              "        document.querySelector('#df-68021528-5c37-4205-a866-0dfaea64fbf1 button.colab-df-convert');\n",
              "      buttonEl.style.display =\n",
              "        google.colab.kernel.accessAllowed ? 'block' : 'none';\n",
              "\n",
              "      async function convertToInteractive(key) {\n",
              "        const element = document.querySelector('#df-68021528-5c37-4205-a866-0dfaea64fbf1');\n",
              "        const dataTable =\n",
              "          await google.colab.kernel.invokeFunction('convertToInteractive',\n",
              "                                                    [key], {});\n",
              "        if (!dataTable) return;\n",
              "\n",
              "        const docLinkHtml = 'Like what you see? Visit the ' +\n",
              "          '<a target=\"_blank\" href=https://colab.research.google.com/notebooks/data_table.ipynb>data table notebook</a>'\n",
              "          + ' to learn more about interactive tables.';\n",
              "        element.innerHTML = '';\n",
              "        dataTable['output_type'] = 'display_data';\n",
              "        await google.colab.output.renderOutput(dataTable, element);\n",
              "        const docLink = document.createElement('div');\n",
              "        docLink.innerHTML = docLinkHtml;\n",
              "        element.appendChild(docLink);\n",
              "      }\n",
              "    </script>\n",
              "  </div>\n",
              "\n",
              "\n",
              "<div id=\"df-1e2cdb4f-0d28-49ad-a42f-a3e440fdbaad\">\n",
              "  <button class=\"colab-df-quickchart\" onclick=\"quickchart('df-1e2cdb4f-0d28-49ad-a42f-a3e440fdbaad')\"\n",
              "            title=\"Suggest charts\"\n",
              "            style=\"display:none;\">\n",
              "\n",
              "<svg xmlns=\"http://www.w3.org/2000/svg\" height=\"24px\"viewBox=\"0 0 24 24\"\n",
              "     width=\"24px\">\n",
              "    <g>\n",
              "        <path d=\"M19 3H5c-1.1 0-2 .9-2 2v14c0 1.1.9 2 2 2h14c1.1 0 2-.9 2-2V5c0-1.1-.9-2-2-2zM9 17H7v-7h2v7zm4 0h-2V7h2v10zm4 0h-2v-4h2v4z\"/>\n",
              "    </g>\n",
              "</svg>\n",
              "  </button>\n",
              "\n",
              "<style>\n",
              "  .colab-df-quickchart {\n",
              "      --bg-color: #E8F0FE;\n",
              "      --fill-color: #1967D2;\n",
              "      --hover-bg-color: #E2EBFA;\n",
              "      --hover-fill-color: #174EA6;\n",
              "      --disabled-fill-color: #AAA;\n",
              "      --disabled-bg-color: #DDD;\n",
              "  }\n",
              "\n",
              "  [theme=dark] .colab-df-quickchart {\n",
              "      --bg-color: #3B4455;\n",
              "      --fill-color: #D2E3FC;\n",
              "      --hover-bg-color: #434B5C;\n",
              "      --hover-fill-color: #FFFFFF;\n",
              "      --disabled-bg-color: #3B4455;\n",
              "      --disabled-fill-color: #666;\n",
              "  }\n",
              "\n",
              "  .colab-df-quickchart {\n",
              "    background-color: var(--bg-color);\n",
              "    border: none;\n",
              "    border-radius: 50%;\n",
              "    cursor: pointer;\n",
              "    display: none;\n",
              "    fill: var(--fill-color);\n",
              "    height: 32px;\n",
              "    padding: 0;\n",
              "    width: 32px;\n",
              "  }\n",
              "\n",
              "  .colab-df-quickchart:hover {\n",
              "    background-color: var(--hover-bg-color);\n",
              "    box-shadow: 0 1px 2px rgba(60, 64, 67, 0.3), 0 1px 3px 1px rgba(60, 64, 67, 0.15);\n",
              "    fill: var(--button-hover-fill-color);\n",
              "  }\n",
              "\n",
              "  .colab-df-quickchart-complete:disabled,\n",
              "  .colab-df-quickchart-complete:disabled:hover {\n",
              "    background-color: var(--disabled-bg-color);\n",
              "    fill: var(--disabled-fill-color);\n",
              "    box-shadow: none;\n",
              "  }\n",
              "\n",
              "  .colab-df-spinner {\n",
              "    border: 2px solid var(--fill-color);\n",
              "    border-color: transparent;\n",
              "    border-bottom-color: var(--fill-color);\n",
              "    animation:\n",
              "      spin 1s steps(1) infinite;\n",
              "  }\n",
              "\n",
              "  @keyframes spin {\n",
              "    0% {\n",
              "      border-color: transparent;\n",
              "      border-bottom-color: var(--fill-color);\n",
              "      border-left-color: var(--fill-color);\n",
              "    }\n",
              "    20% {\n",
              "      border-color: transparent;\n",
              "      border-left-color: var(--fill-color);\n",
              "      border-top-color: var(--fill-color);\n",
              "    }\n",
              "    30% {\n",
              "      border-color: transparent;\n",
              "      border-left-color: var(--fill-color);\n",
              "      border-top-color: var(--fill-color);\n",
              "      border-right-color: var(--fill-color);\n",
              "    }\n",
              "    40% {\n",
              "      border-color: transparent;\n",
              "      border-right-color: var(--fill-color);\n",
              "      border-top-color: var(--fill-color);\n",
              "    }\n",
              "    60% {\n",
              "      border-color: transparent;\n",
              "      border-right-color: var(--fill-color);\n",
              "    }\n",
              "    80% {\n",
              "      border-color: transparent;\n",
              "      border-right-color: var(--fill-color);\n",
              "      border-bottom-color: var(--fill-color);\n",
              "    }\n",
              "    90% {\n",
              "      border-color: transparent;\n",
              "      border-bottom-color: var(--fill-color);\n",
              "    }\n",
              "  }\n",
              "</style>\n",
              "\n",
              "  <script>\n",
              "    async function quickchart(key) {\n",
              "      const quickchartButtonEl =\n",
              "        document.querySelector('#' + key + ' button');\n",
              "      quickchartButtonEl.disabled = true;  // To prevent multiple clicks.\n",
              "      quickchartButtonEl.classList.add('colab-df-spinner');\n",
              "      try {\n",
              "        const charts = await google.colab.kernel.invokeFunction(\n",
              "            'suggestCharts', [key], {});\n",
              "      } catch (error) {\n",
              "        console.error('Error during call to suggestCharts:', error);\n",
              "      }\n",
              "      quickchartButtonEl.classList.remove('colab-df-spinner');\n",
              "      quickchartButtonEl.classList.add('colab-df-quickchart-complete');\n",
              "    }\n",
              "    (() => {\n",
              "      let quickchartButtonEl =\n",
              "        document.querySelector('#df-1e2cdb4f-0d28-49ad-a42f-a3e440fdbaad button');\n",
              "      quickchartButtonEl.style.display =\n",
              "        google.colab.kernel.accessAllowed ? 'block' : 'none';\n",
              "    })();\n",
              "  </script>\n",
              "</div>\n",
              "\n",
              "  <div id=\"id_38d81c4a-0879-4597-ab28-1e1b148fa2b0\">\n",
              "    <style>\n",
              "      .colab-df-generate {\n",
              "        background-color: #E8F0FE;\n",
              "        border: none;\n",
              "        border-radius: 50%;\n",
              "        cursor: pointer;\n",
              "        display: none;\n",
              "        fill: #1967D2;\n",
              "        height: 32px;\n",
              "        padding: 0 0 0 0;\n",
              "        width: 32px;\n",
              "      }\n",
              "\n",
              "      .colab-df-generate:hover {\n",
              "        background-color: #E2EBFA;\n",
              "        box-shadow: 0px 1px 2px rgba(60, 64, 67, 0.3), 0px 1px 3px 1px rgba(60, 64, 67, 0.15);\n",
              "        fill: #174EA6;\n",
              "      }\n",
              "\n",
              "      [theme=dark] .colab-df-generate {\n",
              "        background-color: #3B4455;\n",
              "        fill: #D2E3FC;\n",
              "      }\n",
              "\n",
              "      [theme=dark] .colab-df-generate:hover {\n",
              "        background-color: #434B5C;\n",
              "        box-shadow: 0px 1px 3px 1px rgba(0, 0, 0, 0.15);\n",
              "        filter: drop-shadow(0px 1px 2px rgba(0, 0, 0, 0.3));\n",
              "        fill: #FFFFFF;\n",
              "      }\n",
              "    </style>\n",
              "    <button class=\"colab-df-generate\" onclick=\"generateWithVariable('X_test')\"\n",
              "            title=\"Generate code using this dataframe.\"\n",
              "            style=\"display:none;\">\n",
              "\n",
              "  <svg xmlns=\"http://www.w3.org/2000/svg\" height=\"24px\"viewBox=\"0 0 24 24\"\n",
              "       width=\"24px\">\n",
              "    <path d=\"M7,19H8.4L18.45,9,17,7.55,7,17.6ZM5,21V16.75L18.45,3.32a2,2,0,0,1,2.83,0l1.4,1.43a1.91,1.91,0,0,1,.58,1.4,1.91,1.91,0,0,1-.58,1.4L9.25,21ZM18.45,9,17,7.55Zm-12,3A5.31,5.31,0,0,0,4.9,8.1,5.31,5.31,0,0,0,1,6.5,5.31,5.31,0,0,0,4.9,4.9,5.31,5.31,0,0,0,6.5,1,5.31,5.31,0,0,0,8.1,4.9,5.31,5.31,0,0,0,12,6.5,5.46,5.46,0,0,0,6.5,12Z\"/>\n",
              "  </svg>\n",
              "    </button>\n",
              "    <script>\n",
              "      (() => {\n",
              "      const buttonEl =\n",
              "        document.querySelector('#id_38d81c4a-0879-4597-ab28-1e1b148fa2b0 button.colab-df-generate');\n",
              "      buttonEl.style.display =\n",
              "        google.colab.kernel.accessAllowed ? 'block' : 'none';\n",
              "\n",
              "      buttonEl.onclick = () => {\n",
              "        google.colab.notebook.generateWithVariable('X_test');\n",
              "      }\n",
              "      })();\n",
              "    </script>\n",
              "  </div>\n",
              "\n",
              "    </div>\n",
              "  </div>\n"
            ],
            "application/vnd.google.colaboratory.intrinsic+json": {
              "type": "dataframe",
              "variable_name": "X_test",
              "summary": "{\n  \"name\": \"X_test\",\n  \"rows\": 60,\n  \"fields\": [\n    {\n      \"column\": \"Age\",\n      \"properties\": {\n        \"dtype\": \"number\",\n        \"std\": 16,\n        \"min\": 16,\n        \"max\": 74,\n        \"num_unique_values\": 40,\n        \"samples\": [\n          53,\n          55,\n          65\n        ],\n        \"semantic_type\": \"\",\n        \"description\": \"\"\n      }\n    },\n    {\n      \"column\": \"Sex\",\n      \"properties\": {\n        \"dtype\": \"number\",\n        \"std\": 0,\n        \"min\": 0,\n        \"max\": 1,\n        \"num_unique_values\": 2,\n        \"samples\": [\n          0,\n          1\n        ],\n        \"semantic_type\": \"\",\n        \"description\": \"\"\n      }\n    },\n    {\n      \"column\": \"BP_HIGH\",\n      \"properties\": {\n        \"dtype\": \"boolean\",\n        \"num_unique_values\": 2,\n        \"samples\": [\n          true,\n          false\n        ],\n        \"semantic_type\": \"\",\n        \"description\": \"\"\n      }\n    },\n    {\n      \"column\": \"BP_LOW\",\n      \"properties\": {\n        \"dtype\": \"boolean\",\n        \"num_unique_values\": 2,\n        \"samples\": [\n          false,\n          true\n        ],\n        \"semantic_type\": \"\",\n        \"description\": \"\"\n      }\n    },\n    {\n      \"column\": \"BP_NORMAL\",\n      \"properties\": {\n        \"dtype\": \"boolean\",\n        \"num_unique_values\": 2,\n        \"samples\": [\n          true,\n          false\n        ],\n        \"semantic_type\": \"\",\n        \"description\": \"\"\n      }\n    },\n    {\n      \"column\": \"Cholesterol_HIGH\",\n      \"properties\": {\n        \"dtype\": \"boolean\",\n        \"num_unique_values\": 2,\n        \"samples\": [\n          true,\n          false\n        ],\n        \"semantic_type\": \"\",\n        \"description\": \"\"\n      }\n    },\n    {\n      \"column\": \"Cholesterol_NORMAL\",\n      \"properties\": {\n        \"dtype\": \"boolean\",\n        \"num_unique_values\": 2,\n        \"samples\": [\n          false,\n          true\n        ],\n        \"semantic_type\": \"\",\n        \"description\": \"\"\n      }\n    }\n  ]\n}"
            }
          },
          "metadata": {},
          "execution_count": 20
        }
      ]
    },
    {
      "cell_type": "code",
      "source": [
        "y_train"
      ],
      "metadata": {
        "colab": {
          "base_uri": "https://localhost:8080/"
        },
        "id": "abWZUPkAA4Ef",
        "outputId": "051f8bb5-4c45-45b1-b910-8f0be6f26340"
      },
      "execution_count": null,
      "outputs": [
        {
          "output_type": "execute_result",
          "data": {
            "text/plain": [
              "169    drugA\n",
              "97     drugY\n",
              "31     drugB\n",
              "12     drugY\n",
              "35     drugX\n",
              "       ...  \n",
              "106    drugX\n",
              "14     drugX\n",
              "92     drugY\n",
              "179    drugY\n",
              "102    drugC\n",
              "Name: Drug, Length: 140, dtype: object"
            ]
          },
          "metadata": {},
          "execution_count": 21
        }
      ]
    },
    {
      "cell_type": "code",
      "source": [
        "y_test"
      ],
      "metadata": {
        "colab": {
          "base_uri": "https://localhost:8080/"
        },
        "id": "B6oELLsmA6oU",
        "outputId": "3cae9197-148d-4450-a471-8ad89c55ed41"
      },
      "execution_count": null,
      "outputs": [
        {
          "output_type": "execute_result",
          "data": {
            "text/plain": [
              "95     drugX\n",
              "15     drugY\n",
              "30     drugX\n",
              "158    drugC\n",
              "128    drugY\n",
              "115    drugY\n",
              "69     drugY\n",
              "170    drugX\n",
              "174    drugA\n",
              "45     drugX\n",
              "66     drugA\n",
              "182    drugX\n",
              "165    drugY\n",
              "78     drugA\n",
              "186    drugB\n",
              "177    drugY\n",
              "56     drugB\n",
              "152    drugX\n",
              "82     drugC\n",
              "68     drugY\n",
              "124    drugB\n",
              "16     drugX\n",
              "148    drugX\n",
              "93     drugY\n",
              "65     drugY\n",
              "60     drugY\n",
              "84     drugC\n",
              "67     drugX\n",
              "125    drugY\n",
              "132    drugX\n",
              "9      drugY\n",
              "18     drugC\n",
              "55     drugC\n",
              "75     drugY\n",
              "150    drugA\n",
              "104    drugY\n",
              "135    drugX\n",
              "137    drugA\n",
              "164    drugY\n",
              "76     drugA\n",
              "79     drugX\n",
              "197    drugX\n",
              "38     drugX\n",
              "24     drugY\n",
              "122    drugY\n",
              "195    drugC\n",
              "29     drugY\n",
              "19     drugY\n",
              "143    drugY\n",
              "86     drugX\n",
              "114    drugX\n",
              "173    drugY\n",
              "5      drugX\n",
              "126    drugY\n",
              "117    drugX\n",
              "73     drugY\n",
              "140    drugA\n",
              "98     drugY\n",
              "172    drugY\n",
              "96     drugY\n",
              "Name: Drug, dtype: object"
            ]
          },
          "metadata": {},
          "execution_count": 22
        }
      ]
    },
    {
      "cell_type": "markdown",
      "source": [
        "Standard scaler"
      ],
      "metadata": {
        "id": "PFMKGYAw5c94"
      }
    },
    {
      "cell_type": "code",
      "source": [
        "from sklearn.preprocessing import StandardScaler\n",
        "ss = StandardScaler()\n",
        "X_train = ss.fit_transform(X_train)\n",
        "X_test = ss.fit_transform(X_test)"
      ],
      "metadata": {
        "id": "L1-uERMVA-Ww"
      },
      "execution_count": null,
      "outputs": []
    },
    {
      "cell_type": "markdown",
      "source": [
        "Logistic Regression"
      ],
      "metadata": {
        "id": "wmhoa8Oe5foE"
      }
    },
    {
      "cell_type": "code",
      "source": [
        "from sklearn.linear_model import LogisticRegression\n",
        "regressor = LogisticRegression()\n",
        "regressor.fit(X_train,y_train)"
      ],
      "metadata": {
        "colab": {
          "base_uri": "https://localhost:8080/",
          "height": 75
        },
        "id": "WNjMnOmeBU6R",
        "outputId": "62f857a5-342f-441e-d34d-a2ad79e7fb61"
      },
      "execution_count": null,
      "outputs": [
        {
          "output_type": "execute_result",
          "data": {
            "text/plain": [
              "LogisticRegression()"
            ],
            "text/html": [
              "<style>#sk-container-id-1 {color: black;background-color: white;}#sk-container-id-1 pre{padding: 0;}#sk-container-id-1 div.sk-toggleable {background-color: white;}#sk-container-id-1 label.sk-toggleable__label {cursor: pointer;display: block;width: 100%;margin-bottom: 0;padding: 0.3em;box-sizing: border-box;text-align: center;}#sk-container-id-1 label.sk-toggleable__label-arrow:before {content: \"▸\";float: left;margin-right: 0.25em;color: #696969;}#sk-container-id-1 label.sk-toggleable__label-arrow:hover:before {color: black;}#sk-container-id-1 div.sk-estimator:hover label.sk-toggleable__label-arrow:before {color: black;}#sk-container-id-1 div.sk-toggleable__content {max-height: 0;max-width: 0;overflow: hidden;text-align: left;background-color: #f0f8ff;}#sk-container-id-1 div.sk-toggleable__content pre {margin: 0.2em;color: black;border-radius: 0.25em;background-color: #f0f8ff;}#sk-container-id-1 input.sk-toggleable__control:checked~div.sk-toggleable__content {max-height: 200px;max-width: 100%;overflow: auto;}#sk-container-id-1 input.sk-toggleable__control:checked~label.sk-toggleable__label-arrow:before {content: \"▾\";}#sk-container-id-1 div.sk-estimator input.sk-toggleable__control:checked~label.sk-toggleable__label {background-color: #d4ebff;}#sk-container-id-1 div.sk-label input.sk-toggleable__control:checked~label.sk-toggleable__label {background-color: #d4ebff;}#sk-container-id-1 input.sk-hidden--visually {border: 0;clip: rect(1px 1px 1px 1px);clip: rect(1px, 1px, 1px, 1px);height: 1px;margin: -1px;overflow: hidden;padding: 0;position: absolute;width: 1px;}#sk-container-id-1 div.sk-estimator {font-family: monospace;background-color: #f0f8ff;border: 1px dotted black;border-radius: 0.25em;box-sizing: border-box;margin-bottom: 0.5em;}#sk-container-id-1 div.sk-estimator:hover {background-color: #d4ebff;}#sk-container-id-1 div.sk-parallel-item::after {content: \"\";width: 100%;border-bottom: 1px solid gray;flex-grow: 1;}#sk-container-id-1 div.sk-label:hover label.sk-toggleable__label {background-color: #d4ebff;}#sk-container-id-1 div.sk-serial::before {content: \"\";position: absolute;border-left: 1px solid gray;box-sizing: border-box;top: 0;bottom: 0;left: 50%;z-index: 0;}#sk-container-id-1 div.sk-serial {display: flex;flex-direction: column;align-items: center;background-color: white;padding-right: 0.2em;padding-left: 0.2em;position: relative;}#sk-container-id-1 div.sk-item {position: relative;z-index: 1;}#sk-container-id-1 div.sk-parallel {display: flex;align-items: stretch;justify-content: center;background-color: white;position: relative;}#sk-container-id-1 div.sk-item::before, #sk-container-id-1 div.sk-parallel-item::before {content: \"\";position: absolute;border-left: 1px solid gray;box-sizing: border-box;top: 0;bottom: 0;left: 50%;z-index: -1;}#sk-container-id-1 div.sk-parallel-item {display: flex;flex-direction: column;z-index: 1;position: relative;background-color: white;}#sk-container-id-1 div.sk-parallel-item:first-child::after {align-self: flex-end;width: 50%;}#sk-container-id-1 div.sk-parallel-item:last-child::after {align-self: flex-start;width: 50%;}#sk-container-id-1 div.sk-parallel-item:only-child::after {width: 0;}#sk-container-id-1 div.sk-dashed-wrapped {border: 1px dashed gray;margin: 0 0.4em 0.5em 0.4em;box-sizing: border-box;padding-bottom: 0.4em;background-color: white;}#sk-container-id-1 div.sk-label label {font-family: monospace;font-weight: bold;display: inline-block;line-height: 1.2em;}#sk-container-id-1 div.sk-label-container {text-align: center;}#sk-container-id-1 div.sk-container {/* jupyter's `normalize.less` sets `[hidden] { display: none; }` but bootstrap.min.css set `[hidden] { display: none !important; }` so we also need the `!important` here to be able to override the default hidden behavior on the sphinx rendered scikit-learn.org. See: https://github.com/scikit-learn/scikit-learn/issues/21755 */display: inline-block !important;position: relative;}#sk-container-id-1 div.sk-text-repr-fallback {display: none;}</style><div id=\"sk-container-id-1\" class=\"sk-top-container\"><div class=\"sk-text-repr-fallback\"><pre>LogisticRegression()</pre><b>In a Jupyter environment, please rerun this cell to show the HTML representation or trust the notebook. <br />On GitHub, the HTML representation is unable to render, please try loading this page with nbviewer.org.</b></div><div class=\"sk-container\" hidden><div class=\"sk-item\"><div class=\"sk-estimator sk-toggleable\"><input class=\"sk-toggleable__control sk-hidden--visually\" id=\"sk-estimator-id-1\" type=\"checkbox\" checked><label for=\"sk-estimator-id-1\" class=\"sk-toggleable__label sk-toggleable__label-arrow\">LogisticRegression</label><div class=\"sk-toggleable__content\"><pre>LogisticRegression()</pre></div></div></div></div></div>"
            ]
          },
          "metadata": {},
          "execution_count": 24
        }
      ]
    },
    {
      "cell_type": "code",
      "source": [
        "y_pred = regressor.predict(X_test)\n",
        "y_pred_train = regressor.predict(X_train)"
      ],
      "metadata": {
        "id": "5GJKM_HvCMqm"
      },
      "execution_count": null,
      "outputs": []
    },
    {
      "cell_type": "code",
      "source": [
        "y_pred"
      ],
      "metadata": {
        "colab": {
          "base_uri": "https://localhost:8080/"
        },
        "id": "mb3neVjECaJH",
        "outputId": "a20830a3-c8f7-4a18-9b58-4c271d0927e7"
      },
      "execution_count": null,
      "outputs": [
        {
          "output_type": "execute_result",
          "data": {
            "text/plain": [
              "array(['drugY', 'drugY', 'drugX', 'drugY', 'drugY', 'drugB', 'drugY',\n",
              "       'drugY', 'drugA', 'drugX', 'drugA', 'drugY', 'drugC', 'drugY',\n",
              "       'drugB', 'drugY', 'drugB', 'drugX', 'drugY', 'drugY', 'drugY',\n",
              "       'drugY', 'drugY', 'drugY', 'drugX', 'drugY', 'drugY', 'drugX',\n",
              "       'drugY', 'drugY', 'drugY', 'drugC', 'drugY', 'drugY', 'drugB',\n",
              "       'drugA', 'drugY', 'drugY', 'drugA', 'drugY', 'drugY', 'drugY',\n",
              "       'drugX', 'drugY', 'drugY', 'drugY', 'drugC', 'drugY', 'drugB',\n",
              "       'drugY', 'drugX', 'drugY', 'drugY', 'drugB', 'drugY', 'drugX',\n",
              "       'drugB', 'drugA', 'drugX', 'drugY'], dtype=object)"
            ]
          },
          "metadata": {},
          "execution_count": 26
        }
      ]
    },
    {
      "cell_type": "code",
      "source": [
        "y_pred_train"
      ],
      "metadata": {
        "colab": {
          "base_uri": "https://localhost:8080/"
        },
        "id": "GmWwvNu6CcZx",
        "outputId": "371a0d1e-e07c-4a04-8340-8fde364da6f2"
      },
      "execution_count": null,
      "outputs": [
        {
          "output_type": "execute_result",
          "data": {
            "text/plain": [
              "array(['drugY', 'drugY', 'drugB', 'drugC', 'drugX', 'drugY', 'drugX',\n",
              "       'drugB', 'drugY', 'drugY', 'drugX', 'drugX', 'drugX', 'drugY',\n",
              "       'drugY', 'drugY', 'drugA', 'drugY', 'drugA', 'drugX', 'drugC',\n",
              "       'drugY', 'drugY', 'drugY', 'drugA', 'drugB', 'drugY', 'drugA',\n",
              "       'drugB', 'drugA', 'drugY', 'drugY', 'drugY', 'drugB', 'drugY',\n",
              "       'drugY', 'drugX', 'drugY', 'drugX', 'drugX', 'drugY', 'drugY',\n",
              "       'drugB', 'drugY', 'drugX', 'drugA', 'drugY', 'drugY', 'drugX',\n",
              "       'drugX', 'drugY', 'drugY', 'drugX', 'drugY', 'drugB', 'drugX',\n",
              "       'drugY', 'drugX', 'drugY', 'drugX', 'drugY', 'drugB', 'drugC',\n",
              "       'drugA', 'drugY', 'drugY', 'drugY', 'drugY', 'drugY', 'drugX',\n",
              "       'drugY', 'drugY', 'drugC', 'drugX', 'drugX', 'drugY', 'drugX',\n",
              "       'drugX', 'drugY', 'drugX', 'drugY', 'drugY', 'drugX', 'drugY',\n",
              "       'drugB', 'drugY', 'drugC', 'drugY', 'drugY', 'drugY', 'drugY',\n",
              "       'drugY', 'drugX', 'drugY', 'drugY', 'drugA', 'drugY', 'drugY',\n",
              "       'drugA', 'drugX', 'drugB', 'drugY', 'drugY', 'drugY', 'drugY',\n",
              "       'drugB', 'drugC', 'drugY', 'drugC', 'drugX', 'drugX', 'drugY',\n",
              "       'drugY', 'drugA', 'drugX', 'drugY', 'drugX', 'drugX', 'drugC',\n",
              "       'drugY', 'drugC', 'drugY', 'drugC', 'drugY', 'drugB', 'drugY',\n",
              "       'drugY', 'drugX', 'drugY', 'drugA', 'drugA', 'drugX', 'drugY',\n",
              "       'drugB', 'drugX', 'drugX', 'drugY', 'drugY', 'drugY', 'drugY'],\n",
              "      dtype=object)"
            ]
          },
          "metadata": {},
          "execution_count": 27
        }
      ]
    },
    {
      "cell_type": "code",
      "source": [
        "from sklearn import metrics\n",
        "cm = metrics.confusion_matrix(y_test,y_pred)\n",
        "print(cm)"
      ],
      "metadata": {
        "colab": {
          "base_uri": "https://localhost:8080/"
        },
        "id": "O04yBwk3CeaI",
        "outputId": "fd633df6-71e5-4dfd-a904-4b1631d60a78"
      },
      "execution_count": null,
      "outputs": [
        {
          "output_type": "stream",
          "name": "stdout",
          "text": [
            "[[ 2  2  0  0  3]\n",
            " [ 0  2  0  0  1]\n",
            " [ 0  0  1  0  5]\n",
            " [ 0  0  0  6 12]\n",
            " [ 3  3  2  3 15]]\n"
          ]
        }
      ]
    },
    {
      "cell_type": "code",
      "source": [
        "accuracy = metrics.accuracy_score(y_test,y_pred)"
      ],
      "metadata": {
        "id": "1ezCBFgFCuqJ"
      },
      "execution_count": null,
      "outputs": []
    },
    {
      "cell_type": "code",
      "source": [
        "accuracy"
      ],
      "metadata": {
        "colab": {
          "base_uri": "https://localhost:8080/"
        },
        "id": "ldV6VHlAC75a",
        "outputId": "5e9ea75d-a3d1-4c46-a30d-57f169ed470c"
      },
      "execution_count": null,
      "outputs": [
        {
          "output_type": "execute_result",
          "data": {
            "text/plain": [
              "0.43333333333333335"
            ]
          },
          "metadata": {},
          "execution_count": 30
        }
      ]
    },
    {
      "cell_type": "code",
      "source": [
        "from sklearn.metrics import roc_curve, auc\n",
        "from sklearn.metrics import roc_auc_score,recall_score,precision_score,f1_score\n",
        "from sklearn.metrics import accuracy_score,confusion_matrix,classification_report,average_precision_score"
      ],
      "metadata": {
        "id": "NLN59YlEC9yi"
      },
      "execution_count": null,
      "outputs": []
    },
    {
      "cell_type": "code",
      "source": [
        "cm = confusion_matrix(y_test,y_pred)\n",
        "print(cm)"
      ],
      "metadata": {
        "colab": {
          "base_uri": "https://localhost:8080/"
        },
        "id": "qTJjm7WjHHzh",
        "outputId": "e5afcfb7-3ae6-4a1b-a0a7-5ba50a16162e"
      },
      "execution_count": null,
      "outputs": [
        {
          "output_type": "stream",
          "name": "stdout",
          "text": [
            "[[ 2  2  0  0  3]\n",
            " [ 0  2  0  0  1]\n",
            " [ 0  0  1  0  5]\n",
            " [ 0  0  0  6 12]\n",
            " [ 3  3  2  3 15]]\n"
          ]
        }
      ]
    },
    {
      "cell_type": "code",
      "source": [
        "cr = classification_report(y_test,y_pred)\n",
        "print(cr)"
      ],
      "metadata": {
        "colab": {
          "base_uri": "https://localhost:8080/"
        },
        "id": "E_bfmrHZHOzK",
        "outputId": "9d25dd0a-0393-468f-cf8b-11f065ae3248"
      },
      "execution_count": null,
      "outputs": [
        {
          "output_type": "stream",
          "name": "stdout",
          "text": [
            "              precision    recall  f1-score   support\n",
            "\n",
            "       drugA       0.40      0.29      0.33         7\n",
            "       drugB       0.29      0.67      0.40         3\n",
            "       drugC       0.33      0.17      0.22         6\n",
            "       drugX       0.67      0.33      0.44        18\n",
            "       drugY       0.42      0.58      0.48        26\n",
            "\n",
            "    accuracy                           0.43        60\n",
            "   macro avg       0.42      0.41      0.38        60\n",
            "weighted avg       0.47      0.43      0.42        60\n",
            "\n"
          ]
        }
      ]
    },
    {
      "cell_type": "markdown",
      "source": [
        "Decision Tree"
      ],
      "metadata": {
        "id": "CCssuYSJ5kOE"
      }
    },
    {
      "cell_type": "code",
      "source": [
        "from sklearn.tree import DecisionTreeClassifier\n",
        "model = DecisionTreeClassifier()\n",
        "model.fit(X_train,y_train)"
      ],
      "metadata": {
        "colab": {
          "base_uri": "https://localhost:8080/",
          "height": 75
        },
        "id": "8jpLtsH8JWSa",
        "outputId": "824dbaa2-d06e-4382-91b6-886b92a2cc94"
      },
      "execution_count": null,
      "outputs": [
        {
          "output_type": "execute_result",
          "data": {
            "text/plain": [
              "DecisionTreeClassifier()"
            ],
            "text/html": [
              "<style>#sk-container-id-2 {color: black;background-color: white;}#sk-container-id-2 pre{padding: 0;}#sk-container-id-2 div.sk-toggleable {background-color: white;}#sk-container-id-2 label.sk-toggleable__label {cursor: pointer;display: block;width: 100%;margin-bottom: 0;padding: 0.3em;box-sizing: border-box;text-align: center;}#sk-container-id-2 label.sk-toggleable__label-arrow:before {content: \"▸\";float: left;margin-right: 0.25em;color: #696969;}#sk-container-id-2 label.sk-toggleable__label-arrow:hover:before {color: black;}#sk-container-id-2 div.sk-estimator:hover label.sk-toggleable__label-arrow:before {color: black;}#sk-container-id-2 div.sk-toggleable__content {max-height: 0;max-width: 0;overflow: hidden;text-align: left;background-color: #f0f8ff;}#sk-container-id-2 div.sk-toggleable__content pre {margin: 0.2em;color: black;border-radius: 0.25em;background-color: #f0f8ff;}#sk-container-id-2 input.sk-toggleable__control:checked~div.sk-toggleable__content {max-height: 200px;max-width: 100%;overflow: auto;}#sk-container-id-2 input.sk-toggleable__control:checked~label.sk-toggleable__label-arrow:before {content: \"▾\";}#sk-container-id-2 div.sk-estimator input.sk-toggleable__control:checked~label.sk-toggleable__label {background-color: #d4ebff;}#sk-container-id-2 div.sk-label input.sk-toggleable__control:checked~label.sk-toggleable__label {background-color: #d4ebff;}#sk-container-id-2 input.sk-hidden--visually {border: 0;clip: rect(1px 1px 1px 1px);clip: rect(1px, 1px, 1px, 1px);height: 1px;margin: -1px;overflow: hidden;padding: 0;position: absolute;width: 1px;}#sk-container-id-2 div.sk-estimator {font-family: monospace;background-color: #f0f8ff;border: 1px dotted black;border-radius: 0.25em;box-sizing: border-box;margin-bottom: 0.5em;}#sk-container-id-2 div.sk-estimator:hover {background-color: #d4ebff;}#sk-container-id-2 div.sk-parallel-item::after {content: \"\";width: 100%;border-bottom: 1px solid gray;flex-grow: 1;}#sk-container-id-2 div.sk-label:hover label.sk-toggleable__label {background-color: #d4ebff;}#sk-container-id-2 div.sk-serial::before {content: \"\";position: absolute;border-left: 1px solid gray;box-sizing: border-box;top: 0;bottom: 0;left: 50%;z-index: 0;}#sk-container-id-2 div.sk-serial {display: flex;flex-direction: column;align-items: center;background-color: white;padding-right: 0.2em;padding-left: 0.2em;position: relative;}#sk-container-id-2 div.sk-item {position: relative;z-index: 1;}#sk-container-id-2 div.sk-parallel {display: flex;align-items: stretch;justify-content: center;background-color: white;position: relative;}#sk-container-id-2 div.sk-item::before, #sk-container-id-2 div.sk-parallel-item::before {content: \"\";position: absolute;border-left: 1px solid gray;box-sizing: border-box;top: 0;bottom: 0;left: 50%;z-index: -1;}#sk-container-id-2 div.sk-parallel-item {display: flex;flex-direction: column;z-index: 1;position: relative;background-color: white;}#sk-container-id-2 div.sk-parallel-item:first-child::after {align-self: flex-end;width: 50%;}#sk-container-id-2 div.sk-parallel-item:last-child::after {align-self: flex-start;width: 50%;}#sk-container-id-2 div.sk-parallel-item:only-child::after {width: 0;}#sk-container-id-2 div.sk-dashed-wrapped {border: 1px dashed gray;margin: 0 0.4em 0.5em 0.4em;box-sizing: border-box;padding-bottom: 0.4em;background-color: white;}#sk-container-id-2 div.sk-label label {font-family: monospace;font-weight: bold;display: inline-block;line-height: 1.2em;}#sk-container-id-2 div.sk-label-container {text-align: center;}#sk-container-id-2 div.sk-container {/* jupyter's `normalize.less` sets `[hidden] { display: none; }` but bootstrap.min.css set `[hidden] { display: none !important; }` so we also need the `!important` here to be able to override the default hidden behavior on the sphinx rendered scikit-learn.org. See: https://github.com/scikit-learn/scikit-learn/issues/21755 */display: inline-block !important;position: relative;}#sk-container-id-2 div.sk-text-repr-fallback {display: none;}</style><div id=\"sk-container-id-2\" class=\"sk-top-container\"><div class=\"sk-text-repr-fallback\"><pre>DecisionTreeClassifier()</pre><b>In a Jupyter environment, please rerun this cell to show the HTML representation or trust the notebook. <br />On GitHub, the HTML representation is unable to render, please try loading this page with nbviewer.org.</b></div><div class=\"sk-container\" hidden><div class=\"sk-item\"><div class=\"sk-estimator sk-toggleable\"><input class=\"sk-toggleable__control sk-hidden--visually\" id=\"sk-estimator-id-2\" type=\"checkbox\" checked><label for=\"sk-estimator-id-2\" class=\"sk-toggleable__label sk-toggleable__label-arrow\">DecisionTreeClassifier</label><div class=\"sk-toggleable__content\"><pre>DecisionTreeClassifier()</pre></div></div></div></div></div>"
            ]
          },
          "metadata": {},
          "execution_count": 34
        }
      ]
    },
    {
      "cell_type": "code",
      "source": [
        "y_pred = model.predict(X_test)\n",
        "y_pred_train = model.predict(X_train)"
      ],
      "metadata": {
        "id": "TbILEutwp7kY"
      },
      "execution_count": null,
      "outputs": []
    },
    {
      "cell_type": "code",
      "source": [
        "y_pred"
      ],
      "metadata": {
        "colab": {
          "base_uri": "https://localhost:8080/"
        },
        "id": "Azr9IUtJqQSi",
        "outputId": "3ceee073-c22d-4fc0-dc9f-b134b0e64739"
      },
      "execution_count": null,
      "outputs": [
        {
          "output_type": "execute_result",
          "data": {
            "text/plain": [
              "array(['drugX', 'drugY', 'drugX', 'drugY', 'drugY', 'drugY', 'drugY',\n",
              "       'drugX', 'drugA', 'drugY', 'drugY', 'drugX', 'drugY', 'drugY',\n",
              "       'drugB', 'drugY', 'drugB', 'drugX', 'drugC', 'drugX', 'drugB',\n",
              "       'drugY', 'drugX', 'drugY', 'drugY', 'drugX', 'drugY', 'drugX',\n",
              "       'drugY', 'drugY', 'drugX', 'drugC', 'drugC', 'drugX', 'drugB',\n",
              "       'drugA', 'drugY', 'drugY', 'drugA', 'drugY', 'drugX', 'drugX',\n",
              "       'drugX', 'drugC', 'drugY', 'drugY', 'drugC', 'drugY', 'drugB',\n",
              "       'drugX', 'drugX', 'drugY', 'drugX', 'drugB', 'drugY', 'drugX',\n",
              "       'drugB', 'drugA', 'drugX', 'drugY'], dtype=object)"
            ]
          },
          "metadata": {},
          "execution_count": 36
        }
      ]
    },
    {
      "cell_type": "code",
      "source": [
        "y_pred_train"
      ],
      "metadata": {
        "colab": {
          "base_uri": "https://localhost:8080/"
        },
        "id": "OWj6Ac1WqSFN",
        "outputId": "dce1db2a-af78-4eb4-80d5-c93749d0f6e5"
      },
      "execution_count": null,
      "outputs": [
        {
          "output_type": "execute_result",
          "data": {
            "text/plain": [
              "array(['drugA', 'drugY', 'drugB', 'drugY', 'drugX', 'drugY', 'drugY',\n",
              "       'drugY', 'drugY', 'drugB', 'drugX', 'drugX', 'drugX', 'drugB',\n",
              "       'drugA', 'drugX', 'drugY', 'drugX', 'drugA', 'drugX', 'drugC',\n",
              "       'drugA', 'drugA', 'drugA', 'drugA', 'drugB', 'drugB', 'drugA',\n",
              "       'drugY', 'drugA', 'drugY', 'drugY', 'drugA', 'drugY', 'drugY',\n",
              "       'drugY', 'drugX', 'drugY', 'drugX', 'drugY', 'drugY', 'drugX',\n",
              "       'drugB', 'drugX', 'drugY', 'drugA', 'drugC', 'drugY', 'drugX',\n",
              "       'drugX', 'drugY', 'drugY', 'drugX', 'drugX', 'drugB', 'drugY',\n",
              "       'drugB', 'drugX', 'drugY', 'drugY', 'drugY', 'drugB', 'drugC',\n",
              "       'drugA', 'drugY', 'drugY', 'drugY', 'drugA', 'drugX', 'drugX',\n",
              "       'drugY', 'drugC', 'drugY', 'drugX', 'drugY', 'drugB', 'drugX',\n",
              "       'drugX', 'drugY', 'drugY', 'drugY', 'drugY', 'drugY', 'drugC',\n",
              "       'drugB', 'drugX', 'drugC', 'drugA', 'drugY', 'drugA', 'drugA',\n",
              "       'drugX', 'drugX', 'drugY', 'drugY', 'drugY', 'drugX', 'drugY',\n",
              "       'drugA', 'drugX', 'drugY', 'drugY', 'drugX', 'drugY', 'drugX',\n",
              "       'drugB', 'drugY', 'drugY', 'drugC', 'drugX', 'drugY', 'drugY',\n",
              "       'drugY', 'drugY', 'drugX', 'drugC', 'drugX', 'drugX', 'drugY',\n",
              "       'drugC', 'drugC', 'drugY', 'drugC', 'drugY', 'drugB', 'drugX',\n",
              "       'drugY', 'drugX', 'drugY', 'drugA', 'drugY', 'drugX', 'drugY',\n",
              "       'drugY', 'drugX', 'drugX', 'drugX', 'drugY', 'drugY', 'drugC'],\n",
              "      dtype=object)"
            ]
          },
          "metadata": {},
          "execution_count": 37
        }
      ]
    },
    {
      "cell_type": "code",
      "source": [
        "cm = confusion_matrix(y_test,y_pred)\n",
        "print(cm)"
      ],
      "metadata": {
        "colab": {
          "base_uri": "https://localhost:8080/"
        },
        "id": "HWITvYFFqUa7",
        "outputId": "aa63f5af-0aa0-45af-9b15-d7d639604b3f"
      },
      "execution_count": null,
      "outputs": [
        {
          "output_type": "stream",
          "name": "stdout",
          "text": [
            "[[ 1  2  0  0  4]\n",
            " [ 0  3  0  0  0]\n",
            " [ 0  0  3  0  3]\n",
            " [ 0  0  0 13  5]\n",
            " [ 3  2  2  6 13]]\n"
          ]
        }
      ]
    },
    {
      "cell_type": "code",
      "source": [
        "cr = classification_report(y_test,y_pred)\n",
        "print(cr)"
      ],
      "metadata": {
        "colab": {
          "base_uri": "https://localhost:8080/"
        },
        "id": "Sv1acp5aqeuV",
        "outputId": "6c58d92b-8862-4e22-ac19-169a687676ce"
      },
      "execution_count": null,
      "outputs": [
        {
          "output_type": "stream",
          "name": "stdout",
          "text": [
            "              precision    recall  f1-score   support\n",
            "\n",
            "       drugA       0.25      0.14      0.18         7\n",
            "       drugB       0.43      1.00      0.60         3\n",
            "       drugC       0.60      0.50      0.55         6\n",
            "       drugX       0.68      0.72      0.70        18\n",
            "       drugY       0.52      0.50      0.51        26\n",
            "\n",
            "    accuracy                           0.55        60\n",
            "   macro avg       0.50      0.57      0.51        60\n",
            "weighted avg       0.54      0.55      0.54        60\n",
            "\n"
          ]
        }
      ]
    },
    {
      "cell_type": "code",
      "source": [
        "accuracy = metrics.accuracy_score(y_test,y_pred)\n",
        "accuracy"
      ],
      "metadata": {
        "colab": {
          "base_uri": "https://localhost:8080/"
        },
        "id": "U3UmUzw7sGIu",
        "outputId": "a0e767f9-c73f-4977-f1c0-5a2af2c93fdc"
      },
      "execution_count": null,
      "outputs": [
        {
          "output_type": "execute_result",
          "data": {
            "text/plain": [
              "0.5666666666666667"
            ]
          },
          "metadata": {},
          "execution_count": 45
        }
      ]
    },
    {
      "cell_type": "code",
      "source": [
        "from sklearn.tree import plot_tree\n",
        "plot_tree(model)"
      ],
      "metadata": {
        "colab": {
          "base_uri": "https://localhost:8080/",
          "height": 1000
        },
        "id": "khEvhT4i5xfW",
        "outputId": "d05d3202-c30c-45a0-c775-7df7a6c36017"
      },
      "execution_count": null,
      "outputs": [
        {
          "output_type": "execute_result",
          "data": {
            "text/plain": [
              "[Text(0.5711538461538461, 0.9642857142857143, 'x[2] <= 0.189\\ngini = 0.692\\nsamples = 140\\nvalue = [16, 13, 10, 36, 65]'),\n",
              " Text(0.28846153846153844, 0.8928571428571429, 'x[3] <= 0.455\\ngini = 0.599\\nsamples = 83\\nvalue = [0, 0, 10, 36, 37]'),\n",
              " Text(0.11153846153846154, 0.8214285714285714, 'x[0] <= 1.456\\ngini = 0.482\\nsamples = 42\\nvalue = [0, 0, 0, 25, 17]'),\n",
              " Text(0.09615384615384616, 0.75, 'x[5] <= -0.115\\ngini = 0.469\\nsamples = 40\\nvalue = [0, 0, 0, 25, 15]'),\n",
              " Text(0.046153846153846156, 0.6785714285714286, 'x[0] <= 0.225\\ngini = 0.355\\nsamples = 13\\nvalue = [0, 0, 0, 10, 3]'),\n",
              " Text(0.03076923076923077, 0.6071428571428571, 'gini = 0.0\\nsamples = 6\\nvalue = [0, 0, 0, 6, 0]'),\n",
              " Text(0.06153846153846154, 0.6071428571428571, 'x[0] <= 0.779\\ngini = 0.49\\nsamples = 7\\nvalue = [0, 0, 0, 4, 3]'),\n",
              " Text(0.046153846153846156, 0.5357142857142857, 'x[1] <= -0.086\\ngini = 0.375\\nsamples = 4\\nvalue = [0, 0, 0, 1, 3]'),\n",
              " Text(0.03076923076923077, 0.4642857142857143, 'x[0] <= 0.471\\ngini = 0.444\\nsamples = 3\\nvalue = [0, 0, 0, 1, 2]'),\n",
              " Text(0.015384615384615385, 0.39285714285714285, 'gini = 0.5\\nsamples = 2\\nvalue = [0, 0, 0, 1, 1]'),\n",
              " Text(0.046153846153846156, 0.39285714285714285, 'gini = 0.0\\nsamples = 1\\nvalue = [0, 0, 0, 0, 1]'),\n",
              " Text(0.06153846153846154, 0.4642857142857143, 'gini = 0.0\\nsamples = 1\\nvalue = [0, 0, 0, 0, 1]'),\n",
              " Text(0.07692307692307693, 0.5357142857142857, 'gini = 0.0\\nsamples = 3\\nvalue = [0, 0, 0, 3, 0]'),\n",
              " Text(0.14615384615384616, 0.6785714285714286, 'x[0] <= -1.437\\ngini = 0.494\\nsamples = 27\\nvalue = [0, 0, 0, 15, 12]'),\n",
              " Text(0.13076923076923078, 0.6071428571428571, 'gini = 0.0\\nsamples = 2\\nvalue = [0, 0, 0, 2, 0]'),\n",
              " Text(0.16153846153846155, 0.6071428571428571, 'x[0] <= 0.225\\ngini = 0.499\\nsamples = 25\\nvalue = [0, 0, 0, 13, 12]'),\n",
              " Text(0.12307692307692308, 0.5357142857142857, 'x[0] <= -0.729\\ngini = 0.473\\nsamples = 13\\nvalue = [0, 0, 0, 5, 8]'),\n",
              " Text(0.1076923076923077, 0.4642857142857143, 'x[1] <= -0.086\\ngini = 0.5\\nsamples = 10\\nvalue = [0, 0, 0, 5, 5]'),\n",
              " Text(0.07692307692307693, 0.39285714285714285, 'x[0] <= -1.037\\ngini = 0.32\\nsamples = 5\\nvalue = [0, 0, 0, 4, 1]'),\n",
              " Text(0.06153846153846154, 0.32142857142857145, 'x[0] <= -1.221\\ngini = 0.444\\nsamples = 3\\nvalue = [0, 0, 0, 2, 1]'),\n",
              " Text(0.046153846153846156, 0.25, 'gini = 0.0\\nsamples = 1\\nvalue = [0, 0, 0, 1, 0]'),\n",
              " Text(0.07692307692307693, 0.25, 'gini = 0.5\\nsamples = 2\\nvalue = [0, 0, 0, 1, 1]'),\n",
              " Text(0.09230769230769231, 0.32142857142857145, 'gini = 0.0\\nsamples = 2\\nvalue = [0, 0, 0, 2, 0]'),\n",
              " Text(0.13846153846153847, 0.39285714285714285, 'x[0] <= -1.375\\ngini = 0.32\\nsamples = 5\\nvalue = [0, 0, 0, 1, 4]'),\n",
              " Text(0.12307692307692308, 0.32142857142857145, 'gini = 0.444\\nsamples = 3\\nvalue = [0, 0, 0, 1, 2]'),\n",
              " Text(0.15384615384615385, 0.32142857142857145, 'gini = 0.0\\nsamples = 2\\nvalue = [0, 0, 0, 0, 2]'),\n",
              " Text(0.13846153846153847, 0.4642857142857143, 'gini = 0.0\\nsamples = 3\\nvalue = [0, 0, 0, 0, 3]'),\n",
              " Text(0.2, 0.5357142857142857, 'x[0] <= 0.841\\ngini = 0.444\\nsamples = 12\\nvalue = [0, 0, 0, 8, 4]'),\n",
              " Text(0.18461538461538463, 0.4642857142857143, 'gini = 0.0\\nsamples = 5\\nvalue = [0, 0, 0, 5, 0]'),\n",
              " Text(0.2153846153846154, 0.4642857142857143, 'x[0] <= 1.364\\ngini = 0.49\\nsamples = 7\\nvalue = [0, 0, 0, 3, 4]'),\n",
              " Text(0.2, 0.39285714285714285, 'x[0] <= 0.902\\ngini = 0.444\\nsamples = 6\\nvalue = [0, 0, 0, 2, 4]'),\n",
              " Text(0.18461538461538463, 0.32142857142857145, 'gini = 0.0\\nsamples = 1\\nvalue = [0, 0, 0, 0, 1]'),\n",
              " Text(0.2153846153846154, 0.32142857142857145, 'x[0] <= 0.964\\ngini = 0.48\\nsamples = 5\\nvalue = [0, 0, 0, 2, 3]'),\n",
              " Text(0.2, 0.25, 'gini = 0.0\\nsamples = 1\\nvalue = [0, 0, 0, 1, 0]'),\n",
              " Text(0.23076923076923078, 0.25, 'x[0] <= 1.087\\ngini = 0.375\\nsamples = 4\\nvalue = [0, 0, 0, 1, 3]'),\n",
              " Text(0.2153846153846154, 0.17857142857142858, 'gini = 0.0\\nsamples = 2\\nvalue = [0, 0, 0, 0, 2]'),\n",
              " Text(0.24615384615384617, 0.17857142857142858, 'x[0] <= 1.21\\ngini = 0.5\\nsamples = 2\\nvalue = [0, 0, 0, 1, 1]'),\n",
              " Text(0.23076923076923078, 0.10714285714285714, 'gini = 0.0\\nsamples = 1\\nvalue = [0, 0, 0, 1, 0]'),\n",
              " Text(0.26153846153846155, 0.10714285714285714, 'gini = 0.0\\nsamples = 1\\nvalue = [0, 0, 0, 0, 1]'),\n",
              " Text(0.23076923076923078, 0.39285714285714285, 'gini = 0.0\\nsamples = 1\\nvalue = [0, 0, 0, 1, 0]'),\n",
              " Text(0.12692307692307692, 0.75, 'gini = 0.0\\nsamples = 2\\nvalue = [0, 0, 0, 0, 2]'),\n",
              " Text(0.4653846153846154, 0.8214285714285714, 'x[6] <= 0.115\\ngini = 0.631\\nsamples = 41\\nvalue = [0, 0, 10, 11, 20]'),\n",
              " Text(0.34615384615384615, 0.75, 'x[0] <= 0.317\\ngini = 0.499\\nsamples = 21\\nvalue = [0, 0, 10, 0, 11]'),\n",
              " Text(0.3076923076923077, 0.6785714285714286, 'x[0] <= -1.283\\ngini = 0.444\\nsamples = 12\\nvalue = [0, 0, 8, 0, 4]'),\n",
              " Text(0.2923076923076923, 0.6071428571428571, 'gini = 0.0\\nsamples = 2\\nvalue = [0, 0, 2, 0, 0]'),\n",
              " Text(0.3230769230769231, 0.6071428571428571, 'x[0] <= -0.052\\ngini = 0.48\\nsamples = 10\\nvalue = [0, 0, 6, 0, 4]'),\n",
              " Text(0.2923076923076923, 0.5357142857142857, 'x[0] <= -0.267\\ngini = 0.48\\nsamples = 5\\nvalue = [0, 0, 2, 0, 3]'),\n",
              " Text(0.27692307692307694, 0.4642857142857143, 'x[1] <= -0.086\\ngini = 0.444\\nsamples = 3\\nvalue = [0, 0, 2, 0, 1]'),\n",
              " Text(0.26153846153846155, 0.39285714285714285, 'gini = 0.5\\nsamples = 2\\nvalue = [0, 0, 1, 0, 1]'),\n",
              " Text(0.2923076923076923, 0.39285714285714285, 'gini = 0.0\\nsamples = 1\\nvalue = [0, 0, 1, 0, 0]'),\n",
              " Text(0.3076923076923077, 0.4642857142857143, 'gini = 0.0\\nsamples = 2\\nvalue = [0, 0, 0, 0, 2]'),\n",
              " Text(0.35384615384615387, 0.5357142857142857, 'x[0] <= 0.102\\ngini = 0.32\\nsamples = 5\\nvalue = [0, 0, 4, 0, 1]'),\n",
              " Text(0.3384615384615385, 0.4642857142857143, 'gini = 0.0\\nsamples = 3\\nvalue = [0, 0, 3, 0, 0]'),\n",
              " Text(0.36923076923076925, 0.4642857142857143, 'x[1] <= -0.086\\ngini = 0.5\\nsamples = 2\\nvalue = [0, 0, 1, 0, 1]'),\n",
              " Text(0.35384615384615387, 0.39285714285714285, 'gini = 0.0\\nsamples = 1\\nvalue = [0, 0, 0, 0, 1]'),\n",
              " Text(0.38461538461538464, 0.39285714285714285, 'gini = 0.0\\nsamples = 1\\nvalue = [0, 0, 1, 0, 0]'),\n",
              " Text(0.38461538461538464, 0.6785714285714286, 'x[0] <= 1.148\\ngini = 0.346\\nsamples = 9\\nvalue = [0, 0, 2, 0, 7]'),\n",
              " Text(0.36923076923076925, 0.6071428571428571, 'gini = 0.0\\nsamples = 4\\nvalue = [0, 0, 0, 0, 4]'),\n",
              " Text(0.4, 0.6071428571428571, 'x[0] <= 1.394\\ngini = 0.48\\nsamples = 5\\nvalue = [0, 0, 2, 0, 3]'),\n",
              " Text(0.38461538461538464, 0.5357142857142857, 'gini = 0.0\\nsamples = 1\\nvalue = [0, 0, 1, 0, 0]'),\n",
              " Text(0.4153846153846154, 0.5357142857142857, 'x[0] <= 1.517\\ngini = 0.375\\nsamples = 4\\nvalue = [0, 0, 1, 0, 3]'),\n",
              " Text(0.4, 0.4642857142857143, 'gini = 0.0\\nsamples = 1\\nvalue = [0, 0, 0, 0, 1]'),\n",
              " Text(0.4307692307692308, 0.4642857142857143, 'x[1] <= -0.086\\ngini = 0.444\\nsamples = 3\\nvalue = [0, 0, 1, 0, 2]'),\n",
              " Text(0.4153846153846154, 0.39285714285714285, 'gini = 0.0\\nsamples = 1\\nvalue = [0, 0, 0, 0, 1]'),\n",
              " Text(0.4461538461538462, 0.39285714285714285, 'gini = 0.5\\nsamples = 2\\nvalue = [0, 0, 1, 0, 1]'),\n",
              " Text(0.5846153846153846, 0.75, 'x[0] <= 0.01\\ngini = 0.495\\nsamples = 20\\nvalue = [0, 0, 0, 11, 9]'),\n",
              " Text(0.5230769230769231, 0.6785714285714286, 'x[0] <= -0.39\\ngini = 0.32\\nsamples = 10\\nvalue = [0, 0, 0, 8, 2]'),\n",
              " Text(0.5076923076923077, 0.6071428571428571, 'x[0] <= -0.606\\ngini = 0.408\\nsamples = 7\\nvalue = [0, 0, 0, 5, 2]'),\n",
              " Text(0.49230769230769234, 0.5357142857142857, 'gini = 0.0\\nsamples = 2\\nvalue = [0, 0, 0, 2, 0]'),\n",
              " Text(0.5230769230769231, 0.5357142857142857, 'x[0] <= -0.483\\ngini = 0.48\\nsamples = 5\\nvalue = [0, 0, 0, 3, 2]'),\n",
              " Text(0.49230769230769234, 0.4642857142857143, 'x[1] <= -0.086\\ngini = 0.444\\nsamples = 3\\nvalue = [0, 0, 0, 2, 1]'),\n",
              " Text(0.47692307692307695, 0.39285714285714285, 'gini = 0.0\\nsamples = 1\\nvalue = [0, 0, 0, 1, 0]'),\n",
              " Text(0.5076923076923077, 0.39285714285714285, 'gini = 0.5\\nsamples = 2\\nvalue = [0, 0, 0, 1, 1]'),\n",
              " Text(0.5538461538461539, 0.4642857142857143, 'x[1] <= -0.086\\ngini = 0.5\\nsamples = 2\\nvalue = [0, 0, 0, 1, 1]'),\n",
              " Text(0.5384615384615384, 0.39285714285714285, 'gini = 0.0\\nsamples = 1\\nvalue = [0, 0, 0, 0, 1]'),\n",
              " Text(0.5692307692307692, 0.39285714285714285, 'gini = 0.0\\nsamples = 1\\nvalue = [0, 0, 0, 1, 0]'),\n",
              " Text(0.5384615384615384, 0.6071428571428571, 'gini = 0.0\\nsamples = 3\\nvalue = [0, 0, 0, 3, 0]'),\n",
              " Text(0.6461538461538462, 0.6785714285714286, 'x[0] <= 1.148\\ngini = 0.42\\nsamples = 10\\nvalue = [0, 0, 0, 3, 7]'),\n",
              " Text(0.6153846153846154, 0.6071428571428571, 'x[0] <= 0.256\\ngini = 0.245\\nsamples = 7\\nvalue = [0, 0, 0, 1, 6]'),\n",
              " Text(0.6, 0.5357142857142857, 'x[0] <= 0.133\\ngini = 0.5\\nsamples = 2\\nvalue = [0, 0, 0, 1, 1]'),\n",
              " Text(0.5846153846153846, 0.4642857142857143, 'gini = 0.0\\nsamples = 1\\nvalue = [0, 0, 0, 0, 1]'),\n",
              " Text(0.6153846153846154, 0.4642857142857143, 'gini = 0.0\\nsamples = 1\\nvalue = [0, 0, 0, 1, 0]'),\n",
              " Text(0.6307692307692307, 0.5357142857142857, 'gini = 0.0\\nsamples = 5\\nvalue = [0, 0, 0, 0, 5]'),\n",
              " Text(0.676923076923077, 0.6071428571428571, 'x[1] <= -0.086\\ngini = 0.444\\nsamples = 3\\nvalue = [0, 0, 0, 2, 1]'),\n",
              " Text(0.6615384615384615, 0.5357142857142857, 'gini = 0.0\\nsamples = 2\\nvalue = [0, 0, 0, 2, 0]'),\n",
              " Text(0.6923076923076923, 0.5357142857142857, 'gini = 0.0\\nsamples = 1\\nvalue = [0, 0, 0, 0, 1]'),\n",
              " Text(0.8538461538461538, 0.8928571428571429, 'x[0] <= 0.287\\ngini = 0.628\\nsamples = 57\\nvalue = [16, 13, 0, 0, 28]'),\n",
              " Text(0.7846153846153846, 0.8214285714285714, 'x[0] <= -0.206\\ngini = 0.494\\nsamples = 36\\nvalue = [16, 0, 0, 0, 20]'),\n",
              " Text(0.7384615384615385, 0.75, 'x[0] <= -1.652\\ngini = 0.464\\nsamples = 30\\nvalue = [11, 0, 0, 0, 19]'),\n",
              " Text(0.7230769230769231, 0.6785714285714286, 'gini = 0.0\\nsamples = 3\\nvalue = [0, 0, 0, 0, 3]'),\n",
              " Text(0.7538461538461538, 0.6785714285714286, 'x[0] <= -0.39\\ngini = 0.483\\nsamples = 27\\nvalue = [11, 0, 0, 0, 16]'),\n",
              " Text(0.7384615384615385, 0.6071428571428571, 'x[0] <= -0.513\\ngini = 0.497\\nsamples = 24\\nvalue = [11, 0, 0, 0, 13]'),\n",
              " Text(0.7230769230769231, 0.5357142857142857, 'x[1] <= -0.086\\ngini = 0.483\\nsamples = 22\\nvalue = [9, 0, 0, 0, 13]'),\n",
              " Text(0.6538461538461539, 0.4642857142857143, 'x[0] <= -1.56\\ngini = 0.408\\nsamples = 14\\nvalue = [4, 0, 0, 0, 10]'),\n",
              " Text(0.6384615384615384, 0.39285714285714285, 'gini = 0.0\\nsamples = 1\\nvalue = [1, 0, 0, 0, 0]'),\n",
              " Text(0.6692307692307692, 0.39285714285714285, 'x[0] <= -1.283\\ngini = 0.355\\nsamples = 13\\nvalue = [3, 0, 0, 0, 10]'),\n",
              " Text(0.6538461538461539, 0.32142857142857145, 'gini = 0.0\\nsamples = 4\\nvalue = [0, 0, 0, 0, 4]'),\n",
              " Text(0.6846153846153846, 0.32142857142857145, 'x[5] <= -0.115\\ngini = 0.444\\nsamples = 9\\nvalue = [3, 0, 0, 0, 6]'),\n",
              " Text(0.6538461538461539, 0.25, 'x[0] <= -0.79\\ngini = 0.408\\nsamples = 7\\nvalue = [2, 0, 0, 0, 5]'),\n",
              " Text(0.6384615384615384, 0.17857142857142858, 'x[0] <= -0.975\\ngini = 0.5\\nsamples = 4\\nvalue = [2, 0, 0, 0, 2]'),\n",
              " Text(0.6230769230769231, 0.10714285714285714, 'x[0] <= -1.16\\ngini = 0.444\\nsamples = 3\\nvalue = [1, 0, 0, 0, 2]'),\n",
              " Text(0.6076923076923076, 0.03571428571428571, 'gini = 0.5\\nsamples = 2\\nvalue = [1, 0, 0, 0, 1]'),\n",
              " Text(0.6384615384615384, 0.03571428571428571, 'gini = 0.0\\nsamples = 1\\nvalue = [0, 0, 0, 0, 1]'),\n",
              " Text(0.6538461538461539, 0.10714285714285714, 'gini = 0.0\\nsamples = 1\\nvalue = [1, 0, 0, 0, 0]'),\n",
              " Text(0.6692307692307692, 0.17857142857142858, 'gini = 0.0\\nsamples = 3\\nvalue = [0, 0, 0, 0, 3]'),\n",
              " Text(0.7153846153846154, 0.25, 'x[0] <= -0.79\\ngini = 0.5\\nsamples = 2\\nvalue = [1, 0, 0, 0, 1]'),\n",
              " Text(0.7, 0.17857142857142858, 'gini = 0.0\\nsamples = 1\\nvalue = [0, 0, 0, 0, 1]'),\n",
              " Text(0.7307692307692307, 0.17857142857142858, 'gini = 0.0\\nsamples = 1\\nvalue = [1, 0, 0, 0, 0]'),\n",
              " Text(0.7923076923076923, 0.4642857142857143, 'x[0] <= -0.79\\ngini = 0.469\\nsamples = 8\\nvalue = [5, 0, 0, 0, 3]'),\n",
              " Text(0.7769230769230769, 0.39285714285714285, 'x[0] <= -1.129\\ngini = 0.408\\nsamples = 7\\nvalue = [5, 0, 0, 0, 2]'),\n",
              " Text(0.7615384615384615, 0.32142857142857145, 'gini = 0.0\\nsamples = 2\\nvalue = [2, 0, 0, 0, 0]'),\n",
              " Text(0.7923076923076923, 0.32142857142857145, 'x[5] <= -0.115\\ngini = 0.48\\nsamples = 5\\nvalue = [3, 0, 0, 0, 2]'),\n",
              " Text(0.7769230769230769, 0.25, 'x[0] <= -0.883\\ngini = 0.375\\nsamples = 4\\nvalue = [3, 0, 0, 0, 1]'),\n",
              " Text(0.7615384615384615, 0.17857142857142858, 'gini = 0.444\\nsamples = 3\\nvalue = [2, 0, 0, 0, 1]'),\n",
              " Text(0.7923076923076923, 0.17857142857142858, 'gini = 0.0\\nsamples = 1\\nvalue = [1, 0, 0, 0, 0]'),\n",
              " Text(0.8076923076923077, 0.25, 'gini = 0.0\\nsamples = 1\\nvalue = [0, 0, 0, 0, 1]'),\n",
              " Text(0.8076923076923077, 0.39285714285714285, 'gini = 0.0\\nsamples = 1\\nvalue = [0, 0, 0, 0, 1]'),\n",
              " Text(0.7538461538461538, 0.5357142857142857, 'gini = 0.0\\nsamples = 2\\nvalue = [2, 0, 0, 0, 0]'),\n",
              " Text(0.7692307692307693, 0.6071428571428571, 'gini = 0.0\\nsamples = 3\\nvalue = [0, 0, 0, 0, 3]'),\n",
              " Text(0.8307692307692308, 0.75, 'x[1] <= -0.086\\ngini = 0.278\\nsamples = 6\\nvalue = [5, 0, 0, 0, 1]'),\n",
              " Text(0.8153846153846154, 0.6785714285714286, 'x[0] <= -0.021\\ngini = 0.5\\nsamples = 2\\nvalue = [1, 0, 0, 0, 1]'),\n",
              " Text(0.8, 0.6071428571428571, 'gini = 0.0\\nsamples = 1\\nvalue = [1, 0, 0, 0, 0]'),\n",
              " Text(0.8307692307692308, 0.6071428571428571, 'gini = 0.0\\nsamples = 1\\nvalue = [0, 0, 0, 0, 1]'),\n",
              " Text(0.8461538461538461, 0.6785714285714286, 'gini = 0.0\\nsamples = 4\\nvalue = [4, 0, 0, 0, 0]'),\n",
              " Text(0.9230769230769231, 0.8214285714285714, 'x[0] <= 1.271\\ngini = 0.472\\nsamples = 21\\nvalue = [0, 13, 0, 0, 8]'),\n",
              " Text(0.8923076923076924, 0.75, 'x[0] <= 0.902\\ngini = 0.498\\nsamples = 15\\nvalue = [0, 8, 0, 0, 7]'),\n",
              " Text(0.8769230769230769, 0.6785714285714286, 'x[6] <= 0.115\\ngini = 0.397\\nsamples = 11\\nvalue = [0, 8, 0, 0, 3]'),\n",
              " Text(0.8615384615384616, 0.6071428571428571, 'x[0] <= 0.779\\ngini = 0.49\\nsamples = 7\\nvalue = [0, 4, 0, 0, 3]'),\n",
              " Text(0.8461538461538461, 0.5357142857142857, 'x[0] <= 0.594\\ngini = 0.375\\nsamples = 4\\nvalue = [0, 1, 0, 0, 3]'),\n",
              " Text(0.8307692307692308, 0.4642857142857143, 'gini = 0.0\\nsamples = 1\\nvalue = [0, 1, 0, 0, 0]'),\n",
              " Text(0.8615384615384616, 0.4642857142857143, 'gini = 0.0\\nsamples = 3\\nvalue = [0, 0, 0, 0, 3]'),\n",
              " Text(0.8769230769230769, 0.5357142857142857, 'gini = 0.0\\nsamples = 3\\nvalue = [0, 3, 0, 0, 0]'),\n",
              " Text(0.8923076923076924, 0.6071428571428571, 'gini = 0.0\\nsamples = 4\\nvalue = [0, 4, 0, 0, 0]'),\n",
              " Text(0.9076923076923077, 0.6785714285714286, 'gini = 0.0\\nsamples = 4\\nvalue = [0, 0, 0, 0, 4]'),\n",
              " Text(0.9538461538461539, 0.75, 'x[0] <= 1.641\\ngini = 0.278\\nsamples = 6\\nvalue = [0, 5, 0, 0, 1]'),\n",
              " Text(0.9384615384615385, 0.6785714285714286, 'gini = 0.0\\nsamples = 4\\nvalue = [0, 4, 0, 0, 0]'),\n",
              " Text(0.9692307692307692, 0.6785714285714286, 'x[0] <= 1.702\\ngini = 0.5\\nsamples = 2\\nvalue = [0, 1, 0, 0, 1]'),\n",
              " Text(0.9538461538461539, 0.6071428571428571, 'gini = 0.0\\nsamples = 1\\nvalue = [0, 0, 0, 0, 1]'),\n",
              " Text(0.9846153846153847, 0.6071428571428571, 'gini = 0.0\\nsamples = 1\\nvalue = [0, 1, 0, 0, 0]')]"
            ]
          },
          "metadata": {},
          "execution_count": 77
        },
        {
          "output_type": "display_data",
          "data": {
            "text/plain": [
              "<Figure size 640x480 with 1 Axes>"
            ],
            "image/png": "[encoded data removed]"
          },
          "metadata": {}
        }
      ]
    },
    {
      "cell_type": "code",
      "source": [
        "import graphviz\n",
        "from sklearn import tree\n",
        "dot_data = tree.export_graphviz(model)\n",
        "graph = graphviz.Source(dot_data)\n",
        "graph"
      ],
      "metadata": {
        "colab": {
          "base_uri": "https://localhost:8080/",
          "height": 1000
        },
        "id": "TjJjY0F-6B_p",
        "outputId": "1fc9dca9-c9ea-4884-e9ed-b67140537cc7"
      },
      "execution_count": null,
      "outputs": [
        {
          "output_type": "execute_result",
          "data": {
            "image/svg+xml": "<?xml version=\"1.0\" encoding=\"UTF-8\" standalone=\"no\"?>\n<!DOCTYPE svg PUBLIC \"-//W3C//DTD SVG 1.1//EN\"\n \"http://www.w3.org/Graphics/SVG/1.1/DTD/svg11.dtd\">\n<!-- Generated by graphviz version 2.43.0 (0)\n -->\n<!-- Title: Tree Pages: 1 -->\n<svg width=\"4327pt\" height=\"1413pt\"\n viewBox=\"0.00 0.00 4327.00 1413.00\" xmlns=\"http://www.w3.org/2000/svg\" xmlns:xlink=\"http://www.w3.org/1999/xlink\">\n<g id=\"graph0\" class=\"graph\" transform=\"scale(1 1) rotate(0) translate(4 1409)\">\n<title>Tree</title>\n<polygon fill=\"white\" stroke=\"transparent\" points=\"-4,4 -4,-1409 4323,-1409 4323,4 -4,4\"/>\n<!-- 0 -->\n<g id=\"node1\" class=\"node\">\n<title>0</title>\n<polygon fill=\"none\" stroke=\"black\" points=\"2616.5,-1405 2439.5,-1405 2439.5,-1337 2616.5,-1337 2616.5,-1405\"/>\n<text text-anchor=\"middle\" x=\"2528\" y=\"-1389.8\" font-family=\"Helvetica,sans-Serif\" font-size=\"14.00\">x[2] &lt;= 0.189</text>\n<text text-anchor=\"middle\" x=\"2528\" y=\"-1374.8\" font-family=\"Helvetica,sans-Serif\" font-size=\"14.00\">gini = 0.692</text>\n<text text-anchor=\"middle\" x=\"2528\" y=\"-1359.8\" font-family=\"Helvetica,sans-Serif\" font-size=\"14.00\">samples = 140</text>\n<text text-anchor=\"middle\" x=\"2528\" y=\"-1344.8\" font-family=\"Helvetica,sans-Serif\" font-size=\"14.00\">value = [16, 13, 10, 36, 65]</text>\n</g>\n<!-- 1 -->\n<g id=\"node2\" class=\"node\">\n<title>1</title>\n<polygon fill=\"none\" stroke=\"black\" points=\"1922,-1301 1760,-1301 1760,-1233 1922,-1233 1922,-1301\"/>\n<text text-anchor=\"middle\" x=\"1841\" y=\"-1285.8\" font-family=\"Helvetica,sans-Serif\" font-size=\"14.00\">x[3] &lt;= 0.455</text>\n<text text-anchor=\"middle\" x=\"1841\" y=\"-1270.8\" font-family=\"Helvetica,sans-Serif\" font-size=\"14.00\">gini = 0.599</text>\n<text text-anchor=\"middle\" x=\"1841\" y=\"-1255.8\" font-family=\"Helvetica,sans-Serif\" font-size=\"14.00\">samples = 83</text>\n<text text-anchor=\"middle\" x=\"1841\" y=\"-1240.8\" font-family=\"Helvetica,sans-Serif\" font-size=\"14.00\">value = [0, 0, 10, 36, 37]</text>\n</g>\n<!-- 0&#45;&gt;1 -->\n<g id=\"edge1\" class=\"edge\">\n<title>0&#45;&gt;1</title>\n<path fill=\"none\" stroke=\"black\" d=\"M2439.24,-1356.82C2308.26,-1337.38 2064.47,-1301.18 1932.14,-1281.53\"/>\n<polygon fill=\"black\" stroke=\"black\" points=\"1932.43,-1278.04 1922.03,-1280.03 1931.41,-1284.96 1932.43,-1278.04\"/>\n<text text-anchor=\"middle\" x=\"1936.92\" y=\"-1296.41\" font-family=\"Helvetica,sans-Serif\" font-size=\"14.00\">True</text>\n</g>\n<!-- 86 -->\n<g id=\"node87\" class=\"node\">\n<title>86</title>\n<polygon fill=\"none\" stroke=\"black\" points=\"3378,-1301 3216,-1301 3216,-1233 3378,-1233 3378,-1301\"/>\n<text text-anchor=\"middle\" x=\"3297\" y=\"-1285.8\" font-family=\"Helvetica,sans-Serif\" font-size=\"14.00\">x[0] &lt;= 0.287</text>\n<text text-anchor=\"middle\" x=\"3297\" y=\"-1270.8\" font-family=\"Helvetica,sans-Serif\" font-size=\"14.00\">gini = 0.628</text>\n<text text-anchor=\"middle\" x=\"3297\" y=\"-1255.8\" font-family=\"Helvetica,sans-Serif\" font-size=\"14.00\">samples = 57</text>\n<text text-anchor=\"middle\" x=\"3297\" y=\"-1240.8\" font-family=\"Helvetica,sans-Serif\" font-size=\"14.00\">value = [16, 13, 0, 0, 28]</text>\n</g>\n<!-- 0&#45;&gt;86 -->\n<g id=\"edge86\" class=\"edge\">\n<title>0&#45;&gt;86</title>\n<path fill=\"none\" stroke=\"black\" d=\"M2616.59,-1358.25C2763.68,-1338.74 3056.81,-1299.86 3205.69,-1280.11\"/>\n<polygon fill=\"black\" stroke=\"black\" points=\"3206.26,-1283.57 3215.72,-1278.78 3205.34,-1276.63 3206.26,-1283.57\"/>\n<text text-anchor=\"middle\" x=\"3200.52\" y=\"-1294.93\" font-family=\"Helvetica,sans-Serif\" font-size=\"14.00\">False</text>\n</g>\n<!-- 2 -->\n<g id=\"node3\" class=\"node\">\n<title>2</title>\n<polygon fill=\"none\" stroke=\"black\" points=\"1549.5,-1197 1394.5,-1197 1394.5,-1129 1549.5,-1129 1549.5,-1197\"/>\n<text text-anchor=\"middle\" x=\"1472\" y=\"-1181.8\" font-family=\"Helvetica,sans-Serif\" font-size=\"14.00\">x[0] &lt;= 1.456</text>\n<text text-anchor=\"middle\" x=\"1472\" y=\"-1166.8\" font-family=\"Helvetica,sans-Serif\" font-size=\"14.00\">gini = 0.482</text>\n<text text-anchor=\"middle\" x=\"1472\" y=\"-1151.8\" font-family=\"Helvetica,sans-Serif\" font-size=\"14.00\">samples = 42</text>\n<text text-anchor=\"middle\" x=\"1472\" y=\"-1136.8\" font-family=\"Helvetica,sans-Serif\" font-size=\"14.00\">value = [0, 0, 0, 25, 17]</text>\n</g>\n<!-- 1&#45;&gt;2 -->\n<g id=\"edge2\" class=\"edge\">\n<title>1&#45;&gt;2</title>\n<path fill=\"none\" stroke=\"black\" d=\"M1759.56,-1243.49C1700.36,-1227.12 1620.3,-1204.99 1559.69,-1188.24\"/>\n<polygon fill=\"black\" stroke=\"black\" points=\"1560.32,-1184.78 1549.75,-1185.49 1558.46,-1191.53 1560.32,-1184.78\"/>\n</g>\n<!-- 41 -->\n<g id=\"node42\" class=\"node\">\n<title>41</title>\n<polygon fill=\"none\" stroke=\"black\" points=\"1922,-1197 1760,-1197 1760,-1129 1922,-1129 1922,-1197\"/>\n<text text-anchor=\"middle\" x=\"1841\" y=\"-1181.8\" font-family=\"Helvetica,sans-Serif\" font-size=\"14.00\">x[6] &lt;= 0.115</text>\n<text text-anchor=\"middle\" x=\"1841\" y=\"-1166.8\" font-family=\"Helvetica,sans-Serif\" font-size=\"14.00\">gini = 0.631</text>\n<text text-anchor=\"middle\" x=\"1841\" y=\"-1151.8\" font-family=\"Helvetica,sans-Serif\" font-size=\"14.00\">samples = 41</text>\n<text text-anchor=\"middle\" x=\"1841\" y=\"-1136.8\" font-family=\"Helvetica,sans-Serif\" font-size=\"14.00\">value = [0, 0, 10, 11, 20]</text>\n</g>\n<!-- 1&#45;&gt;41 -->\n<g id=\"edge41\" class=\"edge\">\n<title>1&#45;&gt;41</title>\n<path fill=\"none\" stroke=\"black\" d=\"M1841,-1232.88C1841,-1224.78 1841,-1215.98 1841,-1207.47\"/>\n<polygon fill=\"black\" stroke=\"black\" points=\"1844.5,-1207.3 1841,-1197.3 1837.5,-1207.3 1844.5,-1207.3\"/>\n</g>\n<!-- 3 -->\n<g id=\"node4\" class=\"node\">\n<title>3</title>\n<polygon fill=\"none\" stroke=\"black\" points=\"861.5,-1093 706.5,-1093 706.5,-1025 861.5,-1025 861.5,-1093\"/>\n<text text-anchor=\"middle\" x=\"784\" y=\"-1077.8\" font-family=\"Helvetica,sans-Serif\" font-size=\"14.00\">x[5] &lt;= &#45;0.115</text>\n<text text-anchor=\"middle\" x=\"784\" y=\"-1062.8\" font-family=\"Helvetica,sans-Serif\" font-size=\"14.00\">gini = 0.469</text>\n<text text-anchor=\"middle\" x=\"784\" y=\"-1047.8\" font-family=\"Helvetica,sans-Serif\" font-size=\"14.00\">samples = 40</text>\n<text text-anchor=\"middle\" x=\"784\" y=\"-1032.8\" font-family=\"Helvetica,sans-Serif\" font-size=\"14.00\">value = [0, 0, 0, 25, 15]</text>\n</g>\n<!-- 2&#45;&gt;3 -->\n<g id=\"edge3\" class=\"edge\">\n<title>2&#45;&gt;3</title>\n<path fill=\"none\" stroke=\"black\" d=\"M1394.42,-1150.5C1265.25,-1131.35 1006.96,-1093.05 871.5,-1072.97\"/>\n<polygon fill=\"black\" stroke=\"black\" points=\"871.97,-1069.5 861.56,-1071.5 870.94,-1076.43 871.97,-1069.5\"/>\n</g>\n<!-- 40 -->\n<g id=\"node41\" class=\"node\">\n<title>40</title>\n<polygon fill=\"none\" stroke=\"black\" points=\"1542,-1085.5 1402,-1085.5 1402,-1032.5 1542,-1032.5 1542,-1085.5\"/>\n<text text-anchor=\"middle\" x=\"1472\" y=\"-1070.3\" font-family=\"Helvetica,sans-Serif\" font-size=\"14.00\">gini = 0.0</text>\n<text text-anchor=\"middle\" x=\"1472\" y=\"-1055.3\" font-family=\"Helvetica,sans-Serif\" font-size=\"14.00\">samples = 2</text>\n<text text-anchor=\"middle\" x=\"1472\" y=\"-1040.3\" font-family=\"Helvetica,sans-Serif\" font-size=\"14.00\">value = [0, 0, 0, 0, 2]</text>\n</g>\n<!-- 2&#45;&gt;40 -->\n<g id=\"edge40\" class=\"edge\">\n<title>2&#45;&gt;40</title>\n<path fill=\"none\" stroke=\"black\" d=\"M1472,-1128.88C1472,-1118.33 1472,-1106.6 1472,-1095.85\"/>\n<polygon fill=\"black\" stroke=\"black\" points=\"1475.5,-1095.52 1472,-1085.52 1468.5,-1095.52 1475.5,-1095.52\"/>\n</g>\n<!-- 4 -->\n<g id=\"node5\" class=\"node\">\n<title>4</title>\n<polygon fill=\"none\" stroke=\"black\" points=\"611.5,-989 464.5,-989 464.5,-921 611.5,-921 611.5,-989\"/>\n<text text-anchor=\"middle\" x=\"538\" y=\"-973.8\" font-family=\"Helvetica,sans-Serif\" font-size=\"14.00\">x[0] &lt;= 0.225</text>\n<text text-anchor=\"middle\" x=\"538\" y=\"-958.8\" font-family=\"Helvetica,sans-Serif\" font-size=\"14.00\">gini = 0.355</text>\n<text text-anchor=\"middle\" x=\"538\" y=\"-943.8\" font-family=\"Helvetica,sans-Serif\" font-size=\"14.00\">samples = 13</text>\n<text text-anchor=\"middle\" x=\"538\" y=\"-928.8\" font-family=\"Helvetica,sans-Serif\" font-size=\"14.00\">value = [0, 0, 0, 10, 3]</text>\n</g>\n<!-- 3&#45;&gt;4 -->\n<g id=\"edge4\" class=\"edge\">\n<title>3&#45;&gt;4</title>\n<path fill=\"none\" stroke=\"black\" d=\"M706.16,-1025.73C679.09,-1014.5 648.63,-1001.87 621.15,-990.47\"/>\n<polygon fill=\"black\" stroke=\"black\" points=\"622.14,-987.1 611.56,-986.5 619.46,-993.56 622.14,-987.1\"/>\n</g>\n<!-- 13 -->\n<g id=\"node14\" class=\"node\">\n<title>13</title>\n<polygon fill=\"none\" stroke=\"black\" points=\"861.5,-989 706.5,-989 706.5,-921 861.5,-921 861.5,-989\"/>\n<text text-anchor=\"middle\" x=\"784\" y=\"-973.8\" font-family=\"Helvetica,sans-Serif\" font-size=\"14.00\">x[0] &lt;= &#45;1.437</text>\n<text text-anchor=\"middle\" x=\"784\" y=\"-958.8\" font-family=\"Helvetica,sans-Serif\" font-size=\"14.00\">gini = 0.494</text>\n<text text-anchor=\"middle\" x=\"784\" y=\"-943.8\" font-family=\"Helvetica,sans-Serif\" font-size=\"14.00\">samples = 27</text>\n<text text-anchor=\"middle\" x=\"784\" y=\"-928.8\" font-family=\"Helvetica,sans-Serif\" font-size=\"14.00\">value = [0, 0, 0, 15, 12]</text>\n</g>\n<!-- 3&#45;&gt;13 -->\n<g id=\"edge13\" class=\"edge\">\n<title>3&#45;&gt;13</title>\n<path fill=\"none\" stroke=\"black\" d=\"M784,-1024.88C784,-1016.78 784,-1007.98 784,-999.47\"/>\n<polygon fill=\"black\" stroke=\"black\" points=\"787.5,-999.3 784,-989.3 780.5,-999.3 787.5,-999.3\"/>\n</g>\n<!-- 5 -->\n<g id=\"node6\" class=\"node\">\n<title>5</title>\n<polygon fill=\"none\" stroke=\"black\" points=\"450,-877.5 310,-877.5 310,-824.5 450,-824.5 450,-877.5\"/>\n<text text-anchor=\"middle\" x=\"380\" y=\"-862.3\" font-family=\"Helvetica,sans-Serif\" font-size=\"14.00\">gini = 0.0</text>\n<text text-anchor=\"middle\" x=\"380\" y=\"-847.3\" font-family=\"Helvetica,sans-Serif\" font-size=\"14.00\">samples = 6</text>\n<text text-anchor=\"middle\" x=\"380\" y=\"-832.3\" font-family=\"Helvetica,sans-Serif\" font-size=\"14.00\">value = [0, 0, 0, 6, 0]</text>\n</g>\n<!-- 4&#45;&gt;5 -->\n<g id=\"edge5\" class=\"edge\">\n<title>4&#45;&gt;5</title>\n<path fill=\"none\" stroke=\"black\" d=\"M486.7,-920.88C467.88,-908.73 446.65,-895.03 428.11,-883.06\"/>\n<polygon fill=\"black\" stroke=\"black\" points=\"429.83,-880 419.53,-877.52 426.03,-885.88 429.83,-880\"/>\n</g>\n<!-- 6 -->\n<g id=\"node7\" class=\"node\">\n<title>6</title>\n<polygon fill=\"none\" stroke=\"black\" points=\"608,-885 468,-885 468,-817 608,-817 608,-885\"/>\n<text text-anchor=\"middle\" x=\"538\" y=\"-869.8\" font-family=\"Helvetica,sans-Serif\" font-size=\"14.00\">x[0] &lt;= 0.779</text>\n<text text-anchor=\"middle\" x=\"538\" y=\"-854.8\" font-family=\"Helvetica,sans-Serif\" font-size=\"14.00\">gini = 0.49</text>\n<text text-anchor=\"middle\" x=\"538\" y=\"-839.8\" font-family=\"Helvetica,sans-Serif\" font-size=\"14.00\">samples = 7</text>\n<text text-anchor=\"middle\" x=\"538\" y=\"-824.8\" font-family=\"Helvetica,sans-Serif\" font-size=\"14.00\">value = [0, 0, 0, 4, 3]</text>\n</g>\n<!-- 4&#45;&gt;6 -->\n<g id=\"edge6\" class=\"edge\">\n<title>4&#45;&gt;6</title>\n<path fill=\"none\" stroke=\"black\" d=\"M538,-920.88C538,-912.78 538,-903.98 538,-895.47\"/>\n<polygon fill=\"black\" stroke=\"black\" points=\"541.5,-895.3 538,-885.3 534.5,-895.3 541.5,-895.3\"/>\n</g>\n<!-- 7 -->\n<g id=\"node8\" class=\"node\">\n<title>7</title>\n<polygon fill=\"none\" stroke=\"black\" points=\"452,-781 312,-781 312,-713 452,-713 452,-781\"/>\n<text text-anchor=\"middle\" x=\"382\" y=\"-765.8\" font-family=\"Helvetica,sans-Serif\" font-size=\"14.00\">x[1] &lt;= &#45;0.086</text>\n<text text-anchor=\"middle\" x=\"382\" y=\"-750.8\" font-family=\"Helvetica,sans-Serif\" font-size=\"14.00\">gini = 0.375</text>\n<text text-anchor=\"middle\" x=\"382\" y=\"-735.8\" font-family=\"Helvetica,sans-Serif\" font-size=\"14.00\">samples = 4</text>\n<text text-anchor=\"middle\" x=\"382\" y=\"-720.8\" font-family=\"Helvetica,sans-Serif\" font-size=\"14.00\">value = [0, 0, 0, 1, 3]</text>\n</g>\n<!-- 6&#45;&gt;7 -->\n<g id=\"edge7\" class=\"edge\">\n<title>6&#45;&gt;7</title>\n<path fill=\"none\" stroke=\"black\" d=\"M487.35,-816.88C472.7,-807.3 456.58,-796.76 441.44,-786.86\"/>\n<polygon fill=\"black\" stroke=\"black\" points=\"442.95,-783.67 432.66,-781.12 439.12,-789.53 442.95,-783.67\"/>\n</g>\n<!-- 12 -->\n<g id=\"node13\" class=\"node\">\n<title>12</title>\n<polygon fill=\"none\" stroke=\"black\" points=\"610,-773.5 470,-773.5 470,-720.5 610,-720.5 610,-773.5\"/>\n<text text-anchor=\"middle\" x=\"540\" y=\"-758.3\" font-family=\"Helvetica,sans-Serif\" font-size=\"14.00\">gini = 0.0</text>\n<text text-anchor=\"middle\" x=\"540\" y=\"-743.3\" font-family=\"Helvetica,sans-Serif\" font-size=\"14.00\">samples = 3</text>\n<text text-anchor=\"middle\" x=\"540\" y=\"-728.3\" font-family=\"Helvetica,sans-Serif\" font-size=\"14.00\">value = [0, 0, 0, 3, 0]</text>\n</g>\n<!-- 6&#45;&gt;12 -->\n<g id=\"edge12\" class=\"edge\">\n<title>6&#45;&gt;12</title>\n<path fill=\"none\" stroke=\"black\" d=\"M538.65,-816.88C538.86,-806.22 539.09,-794.35 539.3,-783.52\"/>\n<polygon fill=\"black\" stroke=\"black\" points=\"542.8,-783.59 539.5,-773.52 535.8,-783.45 542.8,-783.59\"/>\n</g>\n<!-- 8 -->\n<g id=\"node9\" class=\"node\">\n<title>8</title>\n<polygon fill=\"none\" stroke=\"black\" points=\"296,-677 156,-677 156,-609 296,-609 296,-677\"/>\n<text text-anchor=\"middle\" x=\"226\" y=\"-661.8\" font-family=\"Helvetica,sans-Serif\" font-size=\"14.00\">x[0] &lt;= 0.471</text>\n<text text-anchor=\"middle\" x=\"226\" y=\"-646.8\" font-family=\"Helvetica,sans-Serif\" font-size=\"14.00\">gini = 0.444</text>\n<text text-anchor=\"middle\" x=\"226\" y=\"-631.8\" font-family=\"Helvetica,sans-Serif\" font-size=\"14.00\">samples = 3</text>\n<text text-anchor=\"middle\" x=\"226\" y=\"-616.8\" font-family=\"Helvetica,sans-Serif\" font-size=\"14.00\">value = [0, 0, 0, 1, 2]</text>\n</g>\n<!-- 7&#45;&gt;8 -->\n<g id=\"edge8\" class=\"edge\">\n<title>7&#45;&gt;8</title>\n<path fill=\"none\" stroke=\"black\" d=\"M331.35,-712.88C316.7,-703.3 300.58,-692.76 285.44,-682.86\"/>\n<polygon fill=\"black\" stroke=\"black\" points=\"286.95,-679.67 276.66,-677.12 283.12,-685.53 286.95,-679.67\"/>\n</g>\n<!-- 11 -->\n<g id=\"node12\" class=\"node\">\n<title>11</title>\n<polygon fill=\"none\" stroke=\"black\" points=\"454,-669.5 314,-669.5 314,-616.5 454,-616.5 454,-669.5\"/>\n<text text-anchor=\"middle\" x=\"384\" y=\"-654.3\" font-family=\"Helvetica,sans-Serif\" font-size=\"14.00\">gini = 0.0</text>\n<text text-anchor=\"middle\" x=\"384\" y=\"-639.3\" font-family=\"Helvetica,sans-Serif\" font-size=\"14.00\">samples = 1</text>\n<text text-anchor=\"middle\" x=\"384\" y=\"-624.3\" font-family=\"Helvetica,sans-Serif\" font-size=\"14.00\">value = [0, 0, 0, 0, 1]</text>\n</g>\n<!-- 7&#45;&gt;11 -->\n<g id=\"edge11\" class=\"edge\">\n<title>7&#45;&gt;11</title>\n<path fill=\"none\" stroke=\"black\" d=\"M382.65,-712.88C382.86,-702.22 383.09,-690.35 383.3,-679.52\"/>\n<polygon fill=\"black\" stroke=\"black\" points=\"386.8,-679.59 383.5,-669.52 379.8,-679.45 386.8,-679.59\"/>\n</g>\n<!-- 9 -->\n<g id=\"node10\" class=\"node\">\n<title>9</title>\n<polygon fill=\"none\" stroke=\"black\" points=\"140,-565.5 0,-565.5 0,-512.5 140,-512.5 140,-565.5\"/>\n<text text-anchor=\"middle\" x=\"70\" y=\"-550.3\" font-family=\"Helvetica,sans-Serif\" font-size=\"14.00\">gini = 0.5</text>\n<text text-anchor=\"middle\" x=\"70\" y=\"-535.3\" font-family=\"Helvetica,sans-Serif\" font-size=\"14.00\">samples = 2</text>\n<text text-anchor=\"middle\" x=\"70\" y=\"-520.3\" font-family=\"Helvetica,sans-Serif\" font-size=\"14.00\">value = [0, 0, 0, 1, 1]</text>\n</g>\n<!-- 8&#45;&gt;9 -->\n<g id=\"edge9\" class=\"edge\">\n<title>8&#45;&gt;9</title>\n<path fill=\"none\" stroke=\"black\" d=\"M175.35,-608.88C156.85,-596.79 136,-583.15 117.75,-571.22\"/>\n<polygon fill=\"black\" stroke=\"black\" points=\"119.32,-568.06 109.03,-565.52 115.48,-573.92 119.32,-568.06\"/>\n</g>\n<!-- 10 -->\n<g id=\"node11\" class=\"node\">\n<title>10</title>\n<polygon fill=\"none\" stroke=\"black\" points=\"298,-565.5 158,-565.5 158,-512.5 298,-512.5 298,-565.5\"/>\n<text text-anchor=\"middle\" x=\"228\" y=\"-550.3\" font-family=\"Helvetica,sans-Serif\" font-size=\"14.00\">gini = 0.0</text>\n<text text-anchor=\"middle\" x=\"228\" y=\"-535.3\" font-family=\"Helvetica,sans-Serif\" font-size=\"14.00\">samples = 1</text>\n<text text-anchor=\"middle\" x=\"228\" y=\"-520.3\" font-family=\"Helvetica,sans-Serif\" font-size=\"14.00\">value = [0, 0, 0, 0, 1]</text>\n</g>\n<!-- 8&#45;&gt;10 -->\n<g id=\"edge10\" class=\"edge\">\n<title>8&#45;&gt;10</title>\n<path fill=\"none\" stroke=\"black\" d=\"M226.65,-608.88C226.86,-598.22 227.09,-586.35 227.3,-575.52\"/>\n<polygon fill=\"black\" stroke=\"black\" points=\"230.8,-575.59 227.5,-565.52 223.8,-575.45 230.8,-575.59\"/>\n</g>\n<!-- 14 -->\n<g id=\"node15\" class=\"node\">\n<title>14</title>\n<polygon fill=\"none\" stroke=\"black\" points=\"766,-877.5 626,-877.5 626,-824.5 766,-824.5 766,-877.5\"/>\n<text text-anchor=\"middle\" x=\"696\" y=\"-862.3\" font-family=\"Helvetica,sans-Serif\" font-size=\"14.00\">gini = 0.0</text>\n<text text-anchor=\"middle\" x=\"696\" y=\"-847.3\" font-family=\"Helvetica,sans-Serif\" font-size=\"14.00\">samples = 2</text>\n<text text-anchor=\"middle\" x=\"696\" y=\"-832.3\" font-family=\"Helvetica,sans-Serif\" font-size=\"14.00\">value = [0, 0, 0, 2, 0]</text>\n</g>\n<!-- 13&#45;&gt;14 -->\n<g id=\"edge14\" class=\"edge\">\n<title>13&#45;&gt;14</title>\n<path fill=\"none\" stroke=\"black\" d=\"M755.43,-920.88C745.56,-909.45 734.51,-896.63 724.63,-885.19\"/>\n<polygon fill=\"black\" stroke=\"black\" points=\"727.2,-882.81 718.02,-877.52 721.9,-887.38 727.2,-882.81\"/>\n</g>\n<!-- 15 -->\n<g id=\"node16\" class=\"node\">\n<title>15</title>\n<polygon fill=\"none\" stroke=\"black\" points=\"939.5,-885 784.5,-885 784.5,-817 939.5,-817 939.5,-885\"/>\n<text text-anchor=\"middle\" x=\"862\" y=\"-869.8\" font-family=\"Helvetica,sans-Serif\" font-size=\"14.00\">x[0] &lt;= 0.225</text>\n<text text-anchor=\"middle\" x=\"862\" y=\"-854.8\" font-family=\"Helvetica,sans-Serif\" font-size=\"14.00\">gini = 0.499</text>\n<text text-anchor=\"middle\" x=\"862\" y=\"-839.8\" font-family=\"Helvetica,sans-Serif\" font-size=\"14.00\">samples = 25</text>\n<text text-anchor=\"middle\" x=\"862\" y=\"-824.8\" font-family=\"Helvetica,sans-Serif\" font-size=\"14.00\">value = [0, 0, 0, 13, 12]</text>\n</g>\n<!-- 13&#45;&gt;15 -->\n<g id=\"edge15\" class=\"edge\">\n<title>13&#45;&gt;15</title>\n<path fill=\"none\" stroke=\"black\" d=\"M809.32,-920.88C816,-912.15 823.29,-902.62 830.25,-893.51\"/>\n<polygon fill=\"black\" stroke=\"black\" points=\"833.24,-895.37 836.54,-885.3 827.68,-891.12 833.24,-895.37\"/>\n</g>\n<!-- 16 -->\n<g id=\"node17\" class=\"node\">\n<title>16</title>\n<polygon fill=\"none\" stroke=\"black\" points=\"772,-781 632,-781 632,-713 772,-713 772,-781\"/>\n<text text-anchor=\"middle\" x=\"702\" y=\"-765.8\" font-family=\"Helvetica,sans-Serif\" font-size=\"14.00\">x[0] &lt;= &#45;0.729</text>\n<text text-anchor=\"middle\" x=\"702\" y=\"-750.8\" font-family=\"Helvetica,sans-Serif\" font-size=\"14.00\">gini = 0.473</text>\n<text text-anchor=\"middle\" x=\"702\" y=\"-735.8\" font-family=\"Helvetica,sans-Serif\" font-size=\"14.00\">samples = 13</text>\n<text text-anchor=\"middle\" x=\"702\" y=\"-720.8\" font-family=\"Helvetica,sans-Serif\" font-size=\"14.00\">value = [0, 0, 0, 5, 8]</text>\n</g>\n<!-- 15&#45;&gt;16 -->\n<g id=\"edge16\" class=\"edge\">\n<title>15&#45;&gt;16</title>\n<path fill=\"none\" stroke=\"black\" d=\"M810.05,-816.88C794.89,-807.21 778.18,-796.56 762.53,-786.59\"/>\n<polygon fill=\"black\" stroke=\"black\" points=\"764.27,-783.55 753.96,-781.12 760.51,-789.45 764.27,-783.55\"/>\n</g>\n<!-- 27 -->\n<g id=\"node28\" class=\"node\">\n<title>27</title>\n<polygon fill=\"none\" stroke=\"black\" points=\"932,-781 792,-781 792,-713 932,-713 932,-781\"/>\n<text text-anchor=\"middle\" x=\"862\" y=\"-765.8\" font-family=\"Helvetica,sans-Serif\" font-size=\"14.00\">x[0] &lt;= 0.841</text>\n<text text-anchor=\"middle\" x=\"862\" y=\"-750.8\" font-family=\"Helvetica,sans-Serif\" font-size=\"14.00\">gini = 0.444</text>\n<text text-anchor=\"middle\" x=\"862\" y=\"-735.8\" font-family=\"Helvetica,sans-Serif\" font-size=\"14.00\">samples = 12</text>\n<text text-anchor=\"middle\" x=\"862\" y=\"-720.8\" font-family=\"Helvetica,sans-Serif\" font-size=\"14.00\">value = [0, 0, 0, 8, 4]</text>\n</g>\n<!-- 15&#45;&gt;27 -->\n<g id=\"edge27\" class=\"edge\">\n<title>15&#45;&gt;27</title>\n<path fill=\"none\" stroke=\"black\" d=\"M862,-816.88C862,-808.78 862,-799.98 862,-791.47\"/>\n<polygon fill=\"black\" stroke=\"black\" points=\"865.5,-791.3 862,-781.3 858.5,-791.3 865.5,-791.3\"/>\n</g>\n<!-- 17 -->\n<g id=\"node18\" class=\"node\">\n<title>17</title>\n<polygon fill=\"none\" stroke=\"black\" points=\"614,-677 474,-677 474,-609 614,-609 614,-677\"/>\n<text text-anchor=\"middle\" x=\"544\" y=\"-661.8\" font-family=\"Helvetica,sans-Serif\" font-size=\"14.00\">x[1] &lt;= &#45;0.086</text>\n<text text-anchor=\"middle\" x=\"544\" y=\"-646.8\" font-family=\"Helvetica,sans-Serif\" font-size=\"14.00\">gini = 0.5</text>\n<text text-anchor=\"middle\" x=\"544\" y=\"-631.8\" font-family=\"Helvetica,sans-Serif\" font-size=\"14.00\">samples = 10</text>\n<text text-anchor=\"middle\" x=\"544\" y=\"-616.8\" font-family=\"Helvetica,sans-Serif\" font-size=\"14.00\">value = [0, 0, 0, 5, 5]</text>\n</g>\n<!-- 16&#45;&gt;17 -->\n<g id=\"edge17\" class=\"edge\">\n<title>16&#45;&gt;17</title>\n<path fill=\"none\" stroke=\"black\" d=\"M650.7,-712.88C635.72,-703.21 619.23,-692.56 603.77,-682.59\"/>\n<polygon fill=\"black\" stroke=\"black\" points=\"605.61,-679.61 595.31,-677.12 601.81,-685.49 605.61,-679.61\"/>\n</g>\n<!-- 26 -->\n<g id=\"node27\" class=\"node\">\n<title>26</title>\n<polygon fill=\"none\" stroke=\"black\" points=\"772,-669.5 632,-669.5 632,-616.5 772,-616.5 772,-669.5\"/>\n<text text-anchor=\"middle\" x=\"702\" y=\"-654.3\" font-family=\"Helvetica,sans-Serif\" font-size=\"14.00\">gini = 0.0</text>\n<text text-anchor=\"middle\" x=\"702\" y=\"-639.3\" font-family=\"Helvetica,sans-Serif\" font-size=\"14.00\">samples = 3</text>\n<text text-anchor=\"middle\" x=\"702\" y=\"-624.3\" font-family=\"Helvetica,sans-Serif\" font-size=\"14.00\">value = [0, 0, 0, 0, 3]</text>\n</g>\n<!-- 16&#45;&gt;26 -->\n<g id=\"edge26\" class=\"edge\">\n<title>16&#45;&gt;26</title>\n<path fill=\"none\" stroke=\"black\" d=\"M702,-712.88C702,-702.33 702,-690.6 702,-679.85\"/>\n<polygon fill=\"black\" stroke=\"black\" points=\"705.5,-679.52 702,-669.52 698.5,-679.52 705.5,-679.52\"/>\n</g>\n<!-- 18 -->\n<g id=\"node19\" class=\"node\">\n<title>18</title>\n<polygon fill=\"none\" stroke=\"black\" points=\"456,-573 316,-573 316,-505 456,-505 456,-573\"/>\n<text text-anchor=\"middle\" x=\"386\" y=\"-557.8\" font-family=\"Helvetica,sans-Serif\" font-size=\"14.00\">x[0] &lt;= &#45;1.037</text>\n<text text-anchor=\"middle\" x=\"386\" y=\"-542.8\" font-family=\"Helvetica,sans-Serif\" font-size=\"14.00\">gini = 0.32</text>\n<text text-anchor=\"middle\" x=\"386\" y=\"-527.8\" font-family=\"Helvetica,sans-Serif\" font-size=\"14.00\">samples = 5</text>\n<text text-anchor=\"middle\" x=\"386\" y=\"-512.8\" font-family=\"Helvetica,sans-Serif\" font-size=\"14.00\">value = [0, 0, 0, 4, 1]</text>\n</g>\n<!-- 17&#45;&gt;18 -->\n<g id=\"edge18\" class=\"edge\">\n<title>17&#45;&gt;18</title>\n<path fill=\"none\" stroke=\"black\" d=\"M492.7,-608.88C477.72,-599.21 461.23,-588.56 445.77,-578.59\"/>\n<polygon fill=\"black\" stroke=\"black\" points=\"447.61,-575.61 437.31,-573.12 443.81,-581.49 447.61,-575.61\"/>\n</g>\n<!-- 23 -->\n<g id=\"node24\" class=\"node\">\n<title>23</title>\n<polygon fill=\"none\" stroke=\"black\" points=\"614,-573 474,-573 474,-505 614,-505 614,-573\"/>\n<text text-anchor=\"middle\" x=\"544\" y=\"-557.8\" font-family=\"Helvetica,sans-Serif\" font-size=\"14.00\">x[0] &lt;= &#45;1.375</text>\n<text text-anchor=\"middle\" x=\"544\" y=\"-542.8\" font-family=\"Helvetica,sans-Serif\" font-size=\"14.00\">gini = 0.32</text>\n<text text-anchor=\"middle\" x=\"544\" y=\"-527.8\" font-family=\"Helvetica,sans-Serif\" font-size=\"14.00\">samples = 5</text>\n<text text-anchor=\"middle\" x=\"544\" y=\"-512.8\" font-family=\"Helvetica,sans-Serif\" font-size=\"14.00\">value = [0, 0, 0, 1, 4]</text>\n</g>\n<!-- 17&#45;&gt;23 -->\n<g id=\"edge23\" class=\"edge\">\n<title>17&#45;&gt;23</title>\n<path fill=\"none\" stroke=\"black\" d=\"M544,-608.88C544,-600.78 544,-591.98 544,-583.47\"/>\n<polygon fill=\"black\" stroke=\"black\" points=\"547.5,-583.3 544,-573.3 540.5,-583.3 547.5,-583.3\"/>\n</g>\n<!-- 19 -->\n<g id=\"node20\" class=\"node\">\n<title>19</title>\n<polygon fill=\"none\" stroke=\"black\" points=\"298,-469 158,-469 158,-401 298,-401 298,-469\"/>\n<text text-anchor=\"middle\" x=\"228\" y=\"-453.8\" font-family=\"Helvetica,sans-Serif\" font-size=\"14.00\">x[0] &lt;= &#45;1.221</text>\n<text text-anchor=\"middle\" x=\"228\" y=\"-438.8\" font-family=\"Helvetica,sans-Serif\" font-size=\"14.00\">gini = 0.444</text>\n<text text-anchor=\"middle\" x=\"228\" y=\"-423.8\" font-family=\"Helvetica,sans-Serif\" font-size=\"14.00\">samples = 3</text>\n<text text-anchor=\"middle\" x=\"228\" y=\"-408.8\" font-family=\"Helvetica,sans-Serif\" font-size=\"14.00\">value = [0, 0, 0, 2, 1]</text>\n</g>\n<!-- 18&#45;&gt;19 -->\n<g id=\"edge19\" class=\"edge\">\n<title>18&#45;&gt;19</title>\n<path fill=\"none\" stroke=\"black\" d=\"M334.7,-504.88C319.72,-495.21 303.23,-484.56 287.77,-474.59\"/>\n<polygon fill=\"black\" stroke=\"black\" points=\"289.61,-471.61 279.31,-469.12 285.81,-477.49 289.61,-471.61\"/>\n</g>\n<!-- 22 -->\n<g id=\"node23\" class=\"node\">\n<title>22</title>\n<polygon fill=\"none\" stroke=\"black\" points=\"456,-461.5 316,-461.5 316,-408.5 456,-408.5 456,-461.5\"/>\n<text text-anchor=\"middle\" x=\"386\" y=\"-446.3\" font-family=\"Helvetica,sans-Serif\" font-size=\"14.00\">gini = 0.0</text>\n<text text-anchor=\"middle\" x=\"386\" y=\"-431.3\" font-family=\"Helvetica,sans-Serif\" font-size=\"14.00\">samples = 2</text>\n<text text-anchor=\"middle\" x=\"386\" y=\"-416.3\" font-family=\"Helvetica,sans-Serif\" font-size=\"14.00\">value = [0, 0, 0, 2, 0]</text>\n</g>\n<!-- 18&#45;&gt;22 -->\n<g id=\"edge22\" class=\"edge\">\n<title>18&#45;&gt;22</title>\n<path fill=\"none\" stroke=\"black\" d=\"M386,-504.88C386,-494.33 386,-482.6 386,-471.85\"/>\n<polygon fill=\"black\" stroke=\"black\" points=\"389.5,-471.52 386,-461.52 382.5,-471.52 389.5,-471.52\"/>\n</g>\n<!-- 20 -->\n<g id=\"node21\" class=\"node\">\n<title>20</title>\n<polygon fill=\"none\" stroke=\"black\" points=\"219,-357.5 79,-357.5 79,-304.5 219,-304.5 219,-357.5\"/>\n<text text-anchor=\"middle\" x=\"149\" y=\"-342.3\" font-family=\"Helvetica,sans-Serif\" font-size=\"14.00\">gini = 0.0</text>\n<text text-anchor=\"middle\" x=\"149\" y=\"-327.3\" font-family=\"Helvetica,sans-Serif\" font-size=\"14.00\">samples = 1</text>\n<text text-anchor=\"middle\" x=\"149\" y=\"-312.3\" font-family=\"Helvetica,sans-Serif\" font-size=\"14.00\">value = [0, 0, 0, 1, 0]</text>\n</g>\n<!-- 19&#45;&gt;20 -->\n<g id=\"edge20\" class=\"edge\">\n<title>19&#45;&gt;20</title>\n<path fill=\"none\" stroke=\"black\" d=\"M202.35,-400.88C193.58,-389.56 183.76,-376.88 174.96,-365.52\"/>\n<polygon fill=\"black\" stroke=\"black\" points=\"177.66,-363.28 168.77,-357.52 172.12,-367.57 177.66,-363.28\"/>\n</g>\n<!-- 21 -->\n<g id=\"node22\" class=\"node\">\n<title>21</title>\n<polygon fill=\"none\" stroke=\"black\" points=\"377,-357.5 237,-357.5 237,-304.5 377,-304.5 377,-357.5\"/>\n<text text-anchor=\"middle\" x=\"307\" y=\"-342.3\" font-family=\"Helvetica,sans-Serif\" font-size=\"14.00\">gini = 0.5</text>\n<text text-anchor=\"middle\" x=\"307\" y=\"-327.3\" font-family=\"Helvetica,sans-Serif\" font-size=\"14.00\">samples = 2</text>\n<text text-anchor=\"middle\" x=\"307\" y=\"-312.3\" font-family=\"Helvetica,sans-Serif\" font-size=\"14.00\">value = [0, 0, 0, 1, 1]</text>\n</g>\n<!-- 19&#45;&gt;21 -->\n<g id=\"edge21\" class=\"edge\">\n<title>19&#45;&gt;21</title>\n<path fill=\"none\" stroke=\"black\" d=\"M253.65,-400.88C262.42,-389.56 272.24,-376.88 281.04,-365.52\"/>\n<polygon fill=\"black\" stroke=\"black\" points=\"283.88,-367.57 287.23,-357.52 278.34,-363.28 283.88,-367.57\"/>\n</g>\n<!-- 24 -->\n<g id=\"node25\" class=\"node\">\n<title>24</title>\n<polygon fill=\"none\" stroke=\"black\" points=\"614,-461.5 474,-461.5 474,-408.5 614,-408.5 614,-461.5\"/>\n<text text-anchor=\"middle\" x=\"544\" y=\"-446.3\" font-family=\"Helvetica,sans-Serif\" font-size=\"14.00\">gini = 0.444</text>\n<text text-anchor=\"middle\" x=\"544\" y=\"-431.3\" font-family=\"Helvetica,sans-Serif\" font-size=\"14.00\">samples = 3</text>\n<text text-anchor=\"middle\" x=\"544\" y=\"-416.3\" font-family=\"Helvetica,sans-Serif\" font-size=\"14.00\">value = [0, 0, 0, 1, 2]</text>\n</g>\n<!-- 23&#45;&gt;24 -->\n<g id=\"edge24\" class=\"edge\">\n<title>23&#45;&gt;24</title>\n<path fill=\"none\" stroke=\"black\" d=\"M544,-504.88C544,-494.33 544,-482.6 544,-471.85\"/>\n<polygon fill=\"black\" stroke=\"black\" points=\"547.5,-471.52 544,-461.52 540.5,-471.52 547.5,-471.52\"/>\n</g>\n<!-- 25 -->\n<g id=\"node26\" class=\"node\">\n<title>25</title>\n<polygon fill=\"none\" stroke=\"black\" points=\"772,-461.5 632,-461.5 632,-408.5 772,-408.5 772,-461.5\"/>\n<text text-anchor=\"middle\" x=\"702\" y=\"-446.3\" font-family=\"Helvetica,sans-Serif\" font-size=\"14.00\">gini = 0.0</text>\n<text text-anchor=\"middle\" x=\"702\" y=\"-431.3\" font-family=\"Helvetica,sans-Serif\" font-size=\"14.00\">samples = 2</text>\n<text text-anchor=\"middle\" x=\"702\" y=\"-416.3\" font-family=\"Helvetica,sans-Serif\" font-size=\"14.00\">value = [0, 0, 0, 0, 2]</text>\n</g>\n<!-- 23&#45;&gt;25 -->\n<g id=\"edge25\" class=\"edge\">\n<title>23&#45;&gt;25</title>\n<path fill=\"none\" stroke=\"black\" d=\"M595.3,-504.88C614.12,-492.73 635.35,-479.03 653.89,-467.06\"/>\n<polygon fill=\"black\" stroke=\"black\" points=\"655.97,-469.88 662.47,-461.52 652.17,-464 655.97,-469.88\"/>\n</g>\n<!-- 28 -->\n<g id=\"node29\" class=\"node\">\n<title>28</title>\n<polygon fill=\"none\" stroke=\"black\" points=\"930,-669.5 790,-669.5 790,-616.5 930,-616.5 930,-669.5\"/>\n<text text-anchor=\"middle\" x=\"860\" y=\"-654.3\" font-family=\"Helvetica,sans-Serif\" font-size=\"14.00\">gini = 0.0</text>\n<text text-anchor=\"middle\" x=\"860\" y=\"-639.3\" font-family=\"Helvetica,sans-Serif\" font-size=\"14.00\">samples = 5</text>\n<text text-anchor=\"middle\" x=\"860\" y=\"-624.3\" font-family=\"Helvetica,sans-Serif\" font-size=\"14.00\">value = [0, 0, 0, 5, 0]</text>\n</g>\n<!-- 27&#45;&gt;28 -->\n<g id=\"edge28\" class=\"edge\">\n<title>27&#45;&gt;28</title>\n<path fill=\"none\" stroke=\"black\" d=\"M861.35,-712.88C861.14,-702.22 860.91,-690.35 860.7,-679.52\"/>\n<polygon fill=\"black\" stroke=\"black\" points=\"864.2,-679.45 860.5,-669.52 857.2,-679.59 864.2,-679.45\"/>\n</g>\n<!-- 29 -->\n<g id=\"node30\" class=\"node\">\n<title>29</title>\n<polygon fill=\"none\" stroke=\"black\" points=\"1088,-677 948,-677 948,-609 1088,-609 1088,-677\"/>\n<text text-anchor=\"middle\" x=\"1018\" y=\"-661.8\" font-family=\"Helvetica,sans-Serif\" font-size=\"14.00\">x[0] &lt;= 1.364</text>\n<text text-anchor=\"middle\" x=\"1018\" y=\"-646.8\" font-family=\"Helvetica,sans-Serif\" font-size=\"14.00\">gini = 0.49</text>\n<text text-anchor=\"middle\" x=\"1018\" y=\"-631.8\" font-family=\"Helvetica,sans-Serif\" font-size=\"14.00\">samples = 7</text>\n<text text-anchor=\"middle\" x=\"1018\" y=\"-616.8\" font-family=\"Helvetica,sans-Serif\" font-size=\"14.00\">value = [0, 0, 0, 3, 4]</text>\n</g>\n<!-- 27&#45;&gt;29 -->\n<g id=\"edge29\" class=\"edge\">\n<title>27&#45;&gt;29</title>\n<path fill=\"none\" stroke=\"black\" d=\"M912.65,-712.88C927.3,-703.3 943.42,-692.76 958.56,-682.86\"/>\n<polygon fill=\"black\" stroke=\"black\" points=\"960.88,-685.53 967.34,-677.12 957.05,-679.67 960.88,-685.53\"/>\n</g>\n<!-- 30 -->\n<g id=\"node31\" class=\"node\">\n<title>30</title>\n<polygon fill=\"none\" stroke=\"black\" points=\"930,-573 790,-573 790,-505 930,-505 930,-573\"/>\n<text text-anchor=\"middle\" x=\"860\" y=\"-557.8\" font-family=\"Helvetica,sans-Serif\" font-size=\"14.00\">x[0] &lt;= 0.902</text>\n<text text-anchor=\"middle\" x=\"860\" y=\"-542.8\" font-family=\"Helvetica,sans-Serif\" font-size=\"14.00\">gini = 0.444</text>\n<text text-anchor=\"middle\" x=\"860\" y=\"-527.8\" font-family=\"Helvetica,sans-Serif\" font-size=\"14.00\">samples = 6</text>\n<text text-anchor=\"middle\" x=\"860\" y=\"-512.8\" font-family=\"Helvetica,sans-Serif\" font-size=\"14.00\">value = [0, 0, 0, 2, 4]</text>\n</g>\n<!-- 29&#45;&gt;30 -->\n<g id=\"edge30\" class=\"edge\">\n<title>29&#45;&gt;30</title>\n<path fill=\"none\" stroke=\"black\" d=\"M966.7,-608.88C951.72,-599.21 935.23,-588.56 919.77,-578.59\"/>\n<polygon fill=\"black\" stroke=\"black\" points=\"921.61,-575.61 911.31,-573.12 917.81,-581.49 921.61,-575.61\"/>\n</g>\n<!-- 39 -->\n<g id=\"node40\" class=\"node\">\n<title>39</title>\n<polygon fill=\"none\" stroke=\"black\" points=\"1088,-565.5 948,-565.5 948,-512.5 1088,-512.5 1088,-565.5\"/>\n<text text-anchor=\"middle\" x=\"1018\" y=\"-550.3\" font-family=\"Helvetica,sans-Serif\" font-size=\"14.00\">gini = 0.0</text>\n<text text-anchor=\"middle\" x=\"1018\" y=\"-535.3\" font-family=\"Helvetica,sans-Serif\" font-size=\"14.00\">samples = 1</text>\n<text text-anchor=\"middle\" x=\"1018\" y=\"-520.3\" font-family=\"Helvetica,sans-Serif\" font-size=\"14.00\">value = [0, 0, 0, 1, 0]</text>\n</g>\n<!-- 29&#45;&gt;39 -->\n<g id=\"edge39\" class=\"edge\">\n<title>29&#45;&gt;39</title>\n<path fill=\"none\" stroke=\"black\" d=\"M1018,-608.88C1018,-598.33 1018,-586.6 1018,-575.85\"/>\n<polygon fill=\"black\" stroke=\"black\" points=\"1021.5,-575.52 1018,-565.52 1014.5,-575.52 1021.5,-575.52\"/>\n</g>\n<!-- 31 -->\n<g id=\"node32\" class=\"node\">\n<title>31</title>\n<polygon fill=\"none\" stroke=\"black\" points=\"930,-461.5 790,-461.5 790,-408.5 930,-408.5 930,-461.5\"/>\n<text text-anchor=\"middle\" x=\"860\" y=\"-446.3\" font-family=\"Helvetica,sans-Serif\" font-size=\"14.00\">gini = 0.0</text>\n<text text-anchor=\"middle\" x=\"860\" y=\"-431.3\" font-family=\"Helvetica,sans-Serif\" font-size=\"14.00\">samples = 1</text>\n<text text-anchor=\"middle\" x=\"860\" y=\"-416.3\" font-family=\"Helvetica,sans-Serif\" font-size=\"14.00\">value = [0, 0, 0, 0, 1]</text>\n</g>\n<!-- 30&#45;&gt;31 -->\n<g id=\"edge31\" class=\"edge\">\n<title>30&#45;&gt;31</title>\n<path fill=\"none\" stroke=\"black\" d=\"M860,-504.88C860,-494.33 860,-482.6 860,-471.85\"/>\n<polygon fill=\"black\" stroke=\"black\" points=\"863.5,-471.52 860,-461.52 856.5,-471.52 863.5,-471.52\"/>\n</g>\n<!-- 32 -->\n<g id=\"node33\" class=\"node\">\n<title>32</title>\n<polygon fill=\"none\" stroke=\"black\" points=\"1088,-469 948,-469 948,-401 1088,-401 1088,-469\"/>\n<text text-anchor=\"middle\" x=\"1018\" y=\"-453.8\" font-family=\"Helvetica,sans-Serif\" font-size=\"14.00\">x[0] &lt;= 0.964</text>\n<text text-anchor=\"middle\" x=\"1018\" y=\"-438.8\" font-family=\"Helvetica,sans-Serif\" font-size=\"14.00\">gini = 0.48</text>\n<text text-anchor=\"middle\" x=\"1018\" y=\"-423.8\" font-family=\"Helvetica,sans-Serif\" font-size=\"14.00\">samples = 5</text>\n<text text-anchor=\"middle\" x=\"1018\" y=\"-408.8\" font-family=\"Helvetica,sans-Serif\" font-size=\"14.00\">value = [0, 0, 0, 2, 3]</text>\n</g>\n<!-- 30&#45;&gt;32 -->\n<g id=\"edge32\" class=\"edge\">\n<title>30&#45;&gt;32</title>\n<path fill=\"none\" stroke=\"black\" d=\"M911.3,-504.88C926.28,-495.21 942.77,-484.56 958.23,-474.59\"/>\n<polygon fill=\"black\" stroke=\"black\" points=\"960.19,-477.49 966.69,-469.12 956.39,-471.61 960.19,-477.49\"/>\n</g>\n<!-- 33 -->\n<g id=\"node34\" class=\"node\">\n<title>33</title>\n<polygon fill=\"none\" stroke=\"black\" points=\"1009,-357.5 869,-357.5 869,-304.5 1009,-304.5 1009,-357.5\"/>\n<text text-anchor=\"middle\" x=\"939\" y=\"-342.3\" font-family=\"Helvetica,sans-Serif\" font-size=\"14.00\">gini = 0.0</text>\n<text text-anchor=\"middle\" x=\"939\" y=\"-327.3\" font-family=\"Helvetica,sans-Serif\" font-size=\"14.00\">samples = 1</text>\n<text text-anchor=\"middle\" x=\"939\" y=\"-312.3\" font-family=\"Helvetica,sans-Serif\" font-size=\"14.00\">value = [0, 0, 0, 1, 0]</text>\n</g>\n<!-- 32&#45;&gt;33 -->\n<g id=\"edge33\" class=\"edge\">\n<title>32&#45;&gt;33</title>\n<path fill=\"none\" stroke=\"black\" d=\"M992.35,-400.88C983.58,-389.56 973.76,-376.88 964.96,-365.52\"/>\n<polygon fill=\"black\" stroke=\"black\" points=\"967.66,-363.28 958.77,-357.52 962.12,-367.57 967.66,-363.28\"/>\n</g>\n<!-- 34 -->\n<g id=\"node35\" class=\"node\">\n<title>34</title>\n<polygon fill=\"none\" stroke=\"black\" points=\"1167,-365 1027,-365 1027,-297 1167,-297 1167,-365\"/>\n<text text-anchor=\"middle\" x=\"1097\" y=\"-349.8\" font-family=\"Helvetica,sans-Serif\" font-size=\"14.00\">x[0] &lt;= 1.087</text>\n<text text-anchor=\"middle\" x=\"1097\" y=\"-334.8\" font-family=\"Helvetica,sans-Serif\" font-size=\"14.00\">gini = 0.375</text>\n<text text-anchor=\"middle\" x=\"1097\" y=\"-319.8\" font-family=\"Helvetica,sans-Serif\" font-size=\"14.00\">samples = 4</text>\n<text text-anchor=\"middle\" x=\"1097\" y=\"-304.8\" font-family=\"Helvetica,sans-Serif\" font-size=\"14.00\">value = [0, 0, 0, 1, 3]</text>\n</g>\n<!-- 32&#45;&gt;34 -->\n<g id=\"edge34\" class=\"edge\">\n<title>32&#45;&gt;34</title>\n<path fill=\"none\" stroke=\"black\" d=\"M1043.65,-400.88C1050.48,-392.07 1057.94,-382.43 1065.06,-373.24\"/>\n<polygon fill=\"black\" stroke=\"black\" points=\"1067.85,-375.35 1071.21,-365.3 1062.32,-371.06 1067.85,-375.35\"/>\n</g>\n<!-- 35 -->\n<g id=\"node36\" class=\"node\">\n<title>35</title>\n<polygon fill=\"none\" stroke=\"black\" points=\"1088,-253.5 948,-253.5 948,-200.5 1088,-200.5 1088,-253.5\"/>\n<text text-anchor=\"middle\" x=\"1018\" y=\"-238.3\" font-family=\"Helvetica,sans-Serif\" font-size=\"14.00\">gini = 0.0</text>\n<text text-anchor=\"middle\" x=\"1018\" y=\"-223.3\" font-family=\"Helvetica,sans-Serif\" font-size=\"14.00\">samples = 2</text>\n<text text-anchor=\"middle\" x=\"1018\" y=\"-208.3\" font-family=\"Helvetica,sans-Serif\" font-size=\"14.00\">value = [0, 0, 0, 0, 2]</text>\n</g>\n<!-- 34&#45;&gt;35 -->\n<g id=\"edge35\" class=\"edge\">\n<title>34&#45;&gt;35</title>\n<path fill=\"none\" stroke=\"black\" d=\"M1071.35,-296.88C1062.58,-285.56 1052.76,-272.88 1043.96,-261.52\"/>\n<polygon fill=\"black\" stroke=\"black\" points=\"1046.66,-259.28 1037.77,-253.52 1041.12,-263.57 1046.66,-259.28\"/>\n</g>\n<!-- 36 -->\n<g id=\"node37\" class=\"node\">\n<title>36</title>\n<polygon fill=\"none\" stroke=\"black\" points=\"1246,-261 1106,-261 1106,-193 1246,-193 1246,-261\"/>\n<text text-anchor=\"middle\" x=\"1176\" y=\"-245.8\" font-family=\"Helvetica,sans-Serif\" font-size=\"14.00\">x[0] &lt;= 1.21</text>\n<text text-anchor=\"middle\" x=\"1176\" y=\"-230.8\" font-family=\"Helvetica,sans-Serif\" font-size=\"14.00\">gini = 0.5</text>\n<text text-anchor=\"middle\" x=\"1176\" y=\"-215.8\" font-family=\"Helvetica,sans-Serif\" font-size=\"14.00\">samples = 2</text>\n<text text-anchor=\"middle\" x=\"1176\" y=\"-200.8\" font-family=\"Helvetica,sans-Serif\" font-size=\"14.00\">value = [0, 0, 0, 1, 1]</text>\n</g>\n<!-- 34&#45;&gt;36 -->\n<g id=\"edge36\" class=\"edge\">\n<title>34&#45;&gt;36</title>\n<path fill=\"none\" stroke=\"black\" d=\"M1122.65,-296.88C1129.48,-288.07 1136.94,-278.43 1144.06,-269.24\"/>\n<polygon fill=\"black\" stroke=\"black\" points=\"1146.85,-271.35 1150.21,-261.3 1141.32,-267.06 1146.85,-271.35\"/>\n</g>\n<!-- 37 -->\n<g id=\"node38\" class=\"node\">\n<title>37</title>\n<polygon fill=\"none\" stroke=\"black\" points=\"1167,-149.5 1027,-149.5 1027,-96.5 1167,-96.5 1167,-149.5\"/>\n<text text-anchor=\"middle\" x=\"1097\" y=\"-134.3\" font-family=\"Helvetica,sans-Serif\" font-size=\"14.00\">gini = 0.0</text>\n<text text-anchor=\"middle\" x=\"1097\" y=\"-119.3\" font-family=\"Helvetica,sans-Serif\" font-size=\"14.00\">samples = 1</text>\n<text text-anchor=\"middle\" x=\"1097\" y=\"-104.3\" font-family=\"Helvetica,sans-Serif\" font-size=\"14.00\">value = [0, 0, 0, 1, 0]</text>\n</g>\n<!-- 36&#45;&gt;37 -->\n<g id=\"edge37\" class=\"edge\">\n<title>36&#45;&gt;37</title>\n<path fill=\"none\" stroke=\"black\" d=\"M1150.35,-192.88C1141.58,-181.56 1131.76,-168.88 1122.96,-157.52\"/>\n<polygon fill=\"black\" stroke=\"black\" points=\"1125.66,-155.28 1116.77,-149.52 1120.12,-159.57 1125.66,-155.28\"/>\n</g>\n<!-- 38 -->\n<g id=\"node39\" class=\"node\">\n<title>38</title>\n<polygon fill=\"none\" stroke=\"black\" points=\"1325,-149.5 1185,-149.5 1185,-96.5 1325,-96.5 1325,-149.5\"/>\n<text text-anchor=\"middle\" x=\"1255\" y=\"-134.3\" font-family=\"Helvetica,sans-Serif\" font-size=\"14.00\">gini = 0.0</text>\n<text text-anchor=\"middle\" x=\"1255\" y=\"-119.3\" font-family=\"Helvetica,sans-Serif\" font-size=\"14.00\">samples = 1</text>\n<text text-anchor=\"middle\" x=\"1255\" y=\"-104.3\" font-family=\"Helvetica,sans-Serif\" font-size=\"14.00\">value = [0, 0, 0, 0, 1]</text>\n</g>\n<!-- 36&#45;&gt;38 -->\n<g id=\"edge38\" class=\"edge\">\n<title>36&#45;&gt;38</title>\n<path fill=\"none\" stroke=\"black\" d=\"M1201.65,-192.88C1210.42,-181.56 1220.24,-168.88 1229.04,-157.52\"/>\n<polygon fill=\"black\" stroke=\"black\" points=\"1231.88,-159.57 1235.23,-149.52 1226.34,-155.28 1231.88,-159.57\"/>\n</g>\n<!-- 42 -->\n<g id=\"node43\" class=\"node\">\n<title>42</title>\n<polygon fill=\"none\" stroke=\"black\" points=\"1816.5,-1093 1661.5,-1093 1661.5,-1025 1816.5,-1025 1816.5,-1093\"/>\n<text text-anchor=\"middle\" x=\"1739\" y=\"-1077.8\" font-family=\"Helvetica,sans-Serif\" font-size=\"14.00\">x[0] &lt;= 0.317</text>\n<text text-anchor=\"middle\" x=\"1739\" y=\"-1062.8\" font-family=\"Helvetica,sans-Serif\" font-size=\"14.00\">gini = 0.499</text>\n<text text-anchor=\"middle\" x=\"1739\" y=\"-1047.8\" font-family=\"Helvetica,sans-Serif\" font-size=\"14.00\">samples = 21</text>\n<text text-anchor=\"middle\" x=\"1739\" y=\"-1032.8\" font-family=\"Helvetica,sans-Serif\" font-size=\"14.00\">value = [0, 0, 10, 0, 11]</text>\n</g>\n<!-- 41&#45;&gt;42 -->\n<g id=\"edge42\" class=\"edge\">\n<title>41&#45;&gt;42</title>\n<path fill=\"none\" stroke=\"black\" d=\"M1807.88,-1128.88C1798.8,-1119.8 1788.85,-1109.85 1779.4,-1100.4\"/>\n<polygon fill=\"black\" stroke=\"black\" points=\"1781.85,-1097.9 1772.3,-1093.3 1776.9,-1102.85 1781.85,-1097.9\"/>\n</g>\n<!-- 65 -->\n<g id=\"node66\" class=\"node\">\n<title>65</title>\n<polygon fill=\"none\" stroke=\"black\" points=\"2236.5,-1093 2089.5,-1093 2089.5,-1025 2236.5,-1025 2236.5,-1093\"/>\n<text text-anchor=\"middle\" x=\"2163\" y=\"-1077.8\" font-family=\"Helvetica,sans-Serif\" font-size=\"14.00\">x[0] &lt;= 0.01</text>\n<text text-anchor=\"middle\" x=\"2163\" y=\"-1062.8\" font-family=\"Helvetica,sans-Serif\" font-size=\"14.00\">gini = 0.495</text>\n<text text-anchor=\"middle\" x=\"2163\" y=\"-1047.8\" font-family=\"Helvetica,sans-Serif\" font-size=\"14.00\">samples = 20</text>\n<text text-anchor=\"middle\" x=\"2163\" y=\"-1032.8\" font-family=\"Helvetica,sans-Serif\" font-size=\"14.00\">value = [0, 0, 0, 11, 9]</text>\n</g>\n<!-- 41&#45;&gt;65 -->\n<g id=\"edge65\" class=\"edge\">\n<title>41&#45;&gt;65</title>\n<path fill=\"none\" stroke=\"black\" d=\"M1922.25,-1136.26C1970.36,-1121.02 2031.18,-1101.76 2079.65,-1086.4\"/>\n<polygon fill=\"black\" stroke=\"black\" points=\"2081,-1089.65 2089.48,-1083.29 2078.89,-1082.97 2081,-1089.65\"/>\n</g>\n<!-- 43 -->\n<g id=\"node44\" class=\"node\">\n<title>43</title>\n<polygon fill=\"none\" stroke=\"black\" points=\"1562,-989 1422,-989 1422,-921 1562,-921 1562,-989\"/>\n<text text-anchor=\"middle\" x=\"1492\" y=\"-973.8\" font-family=\"Helvetica,sans-Serif\" font-size=\"14.00\">x[0] &lt;= &#45;1.283</text>\n<text text-anchor=\"middle\" x=\"1492\" y=\"-958.8\" font-family=\"Helvetica,sans-Serif\" font-size=\"14.00\">gini = 0.444</text>\n<text text-anchor=\"middle\" x=\"1492\" y=\"-943.8\" font-family=\"Helvetica,sans-Serif\" font-size=\"14.00\">samples = 12</text>\n<text text-anchor=\"middle\" x=\"1492\" y=\"-928.8\" font-family=\"Helvetica,sans-Serif\" font-size=\"14.00\">value = [0, 0, 8, 0, 4]</text>\n</g>\n<!-- 42&#45;&gt;43 -->\n<g id=\"edge43\" class=\"edge\">\n<title>42&#45;&gt;43</title>\n<path fill=\"none\" stroke=\"black\" d=\"M1661.19,-1025.87C1632.73,-1014.11 1600.5,-1000.81 1571.87,-988.98\"/>\n<polygon fill=\"black\" stroke=\"black\" points=\"1572.88,-985.61 1562.31,-985.03 1570.21,-992.08 1572.88,-985.61\"/>\n</g>\n<!-- 56 -->\n<g id=\"node57\" class=\"node\">\n<title>56</title>\n<polygon fill=\"none\" stroke=\"black\" points=\"1809,-989 1669,-989 1669,-921 1809,-921 1809,-989\"/>\n<text text-anchor=\"middle\" x=\"1739\" y=\"-973.8\" font-family=\"Helvetica,sans-Serif\" font-size=\"14.00\">x[0] &lt;= 1.148</text>\n<text text-anchor=\"middle\" x=\"1739\" y=\"-958.8\" font-family=\"Helvetica,sans-Serif\" font-size=\"14.00\">gini = 0.346</text>\n<text text-anchor=\"middle\" x=\"1739\" y=\"-943.8\" font-family=\"Helvetica,sans-Serif\" font-size=\"14.00\">samples = 9</text>\n<text text-anchor=\"middle\" x=\"1739\" y=\"-928.8\" font-family=\"Helvetica,sans-Serif\" font-size=\"14.00\">value = [0, 0, 2, 0, 7]</text>\n</g>\n<!-- 42&#45;&gt;56 -->\n<g id=\"edge56\" class=\"edge\">\n<title>42&#45;&gt;56</title>\n<path fill=\"none\" stroke=\"black\" d=\"M1739,-1024.88C1739,-1016.78 1739,-1007.98 1739,-999.47\"/>\n<polygon fill=\"black\" stroke=\"black\" points=\"1742.5,-999.3 1739,-989.3 1735.5,-999.3 1742.5,-999.3\"/>\n</g>\n<!-- 44 -->\n<g id=\"node45\" class=\"node\">\n<title>44</title>\n<polygon fill=\"none\" stroke=\"black\" points=\"1404,-877.5 1264,-877.5 1264,-824.5 1404,-824.5 1404,-877.5\"/>\n<text text-anchor=\"middle\" x=\"1334\" y=\"-862.3\" font-family=\"Helvetica,sans-Serif\" font-size=\"14.00\">gini = 0.0</text>\n<text text-anchor=\"middle\" x=\"1334\" y=\"-847.3\" font-family=\"Helvetica,sans-Serif\" font-size=\"14.00\">samples = 2</text>\n<text text-anchor=\"middle\" x=\"1334\" y=\"-832.3\" font-family=\"Helvetica,sans-Serif\" font-size=\"14.00\">value = [0, 0, 2, 0, 0]</text>\n</g>\n<!-- 43&#45;&gt;44 -->\n<g id=\"edge44\" class=\"edge\">\n<title>43&#45;&gt;44</title>\n<path fill=\"none\" stroke=\"black\" d=\"M1440.7,-920.88C1421.88,-908.73 1400.65,-895.03 1382.11,-883.06\"/>\n<polygon fill=\"black\" stroke=\"black\" points=\"1383.83,-880 1373.53,-877.52 1380.03,-885.88 1383.83,-880\"/>\n</g>\n<!-- 45 -->\n<g id=\"node46\" class=\"node\">\n<title>45</title>\n<polygon fill=\"none\" stroke=\"black\" points=\"1562,-885 1422,-885 1422,-817 1562,-817 1562,-885\"/>\n<text text-anchor=\"middle\" x=\"1492\" y=\"-869.8\" font-family=\"Helvetica,sans-Serif\" font-size=\"14.00\">x[0] &lt;= &#45;0.052</text>\n<text text-anchor=\"middle\" x=\"1492\" y=\"-854.8\" font-family=\"Helvetica,sans-Serif\" font-size=\"14.00\">gini = 0.48</text>\n<text text-anchor=\"middle\" x=\"1492\" y=\"-839.8\" font-family=\"Helvetica,sans-Serif\" font-size=\"14.00\">samples = 10</text>\n<text text-anchor=\"middle\" x=\"1492\" y=\"-824.8\" font-family=\"Helvetica,sans-Serif\" font-size=\"14.00\">value = [0, 0, 6, 0, 4]</text>\n</g>\n<!-- 43&#45;&gt;45 -->\n<g id=\"edge45\" class=\"edge\">\n<title>43&#45;&gt;45</title>\n<path fill=\"none\" stroke=\"black\" d=\"M1492,-920.88C1492,-912.78 1492,-903.98 1492,-895.47\"/>\n<polygon fill=\"black\" stroke=\"black\" points=\"1495.5,-895.3 1492,-885.3 1488.5,-895.3 1495.5,-895.3\"/>\n</g>\n<!-- 46 -->\n<g id=\"node47\" class=\"node\">\n<title>46</title>\n<polygon fill=\"none\" stroke=\"black\" points=\"1404,-781 1264,-781 1264,-713 1404,-713 1404,-781\"/>\n<text text-anchor=\"middle\" x=\"1334\" y=\"-765.8\" font-family=\"Helvetica,sans-Serif\" font-size=\"14.00\">x[0] &lt;= &#45;0.267</text>\n<text text-anchor=\"middle\" x=\"1334\" y=\"-750.8\" font-family=\"Helvetica,sans-Serif\" font-size=\"14.00\">gini = 0.48</text>\n<text text-anchor=\"middle\" x=\"1334\" y=\"-735.8\" font-family=\"Helvetica,sans-Serif\" font-size=\"14.00\">samples = 5</text>\n<text text-anchor=\"middle\" x=\"1334\" y=\"-720.8\" font-family=\"Helvetica,sans-Serif\" font-size=\"14.00\">value = [0, 0, 2, 0, 3]</text>\n</g>\n<!-- 45&#45;&gt;46 -->\n<g id=\"edge46\" class=\"edge\">\n<title>45&#45;&gt;46</title>\n<path fill=\"none\" stroke=\"black\" d=\"M1440.7,-816.88C1425.72,-807.21 1409.23,-796.56 1393.77,-786.59\"/>\n<polygon fill=\"black\" stroke=\"black\" points=\"1395.61,-783.61 1385.31,-781.12 1391.81,-789.49 1395.61,-783.61\"/>\n</g>\n<!-- 51 -->\n<g id=\"node52\" class=\"node\">\n<title>51</title>\n<polygon fill=\"none\" stroke=\"black\" points=\"1562,-781 1422,-781 1422,-713 1562,-713 1562,-781\"/>\n<text text-anchor=\"middle\" x=\"1492\" y=\"-765.8\" font-family=\"Helvetica,sans-Serif\" font-size=\"14.00\">x[0] &lt;= 0.102</text>\n<text text-anchor=\"middle\" x=\"1492\" y=\"-750.8\" font-family=\"Helvetica,sans-Serif\" font-size=\"14.00\">gini = 0.32</text>\n<text text-anchor=\"middle\" x=\"1492\" y=\"-735.8\" font-family=\"Helvetica,sans-Serif\" font-size=\"14.00\">samples = 5</text>\n<text text-anchor=\"middle\" x=\"1492\" y=\"-720.8\" font-family=\"Helvetica,sans-Serif\" font-size=\"14.00\">value = [0, 0, 4, 0, 1]</text>\n</g>\n<!-- 45&#45;&gt;51 -->\n<g id=\"edge51\" class=\"edge\">\n<title>45&#45;&gt;51</title>\n<path fill=\"none\" stroke=\"black\" d=\"M1492,-816.88C1492,-808.78 1492,-799.98 1492,-791.47\"/>\n<polygon fill=\"black\" stroke=\"black\" points=\"1495.5,-791.3 1492,-781.3 1488.5,-791.3 1495.5,-791.3\"/>\n</g>\n<!-- 47 -->\n<g id=\"node48\" class=\"node\">\n<title>47</title>\n<polygon fill=\"none\" stroke=\"black\" points=\"1246,-677 1106,-677 1106,-609 1246,-609 1246,-677\"/>\n<text text-anchor=\"middle\" x=\"1176\" y=\"-661.8\" font-family=\"Helvetica,sans-Serif\" font-size=\"14.00\">x[1] &lt;= &#45;0.086</text>\n<text text-anchor=\"middle\" x=\"1176\" y=\"-646.8\" font-family=\"Helvetica,sans-Serif\" font-size=\"14.00\">gini = 0.444</text>\n<text text-anchor=\"middle\" x=\"1176\" y=\"-631.8\" font-family=\"Helvetica,sans-Serif\" font-size=\"14.00\">samples = 3</text>\n<text text-anchor=\"middle\" x=\"1176\" y=\"-616.8\" font-family=\"Helvetica,sans-Serif\" font-size=\"14.00\">value = [0, 0, 2, 0, 1]</text>\n</g>\n<!-- 46&#45;&gt;47 -->\n<g id=\"edge47\" class=\"edge\">\n<title>46&#45;&gt;47</title>\n<path fill=\"none\" stroke=\"black\" d=\"M1282.7,-712.88C1267.72,-703.21 1251.23,-692.56 1235.77,-682.59\"/>\n<polygon fill=\"black\" stroke=\"black\" points=\"1237.61,-679.61 1227.31,-677.12 1233.81,-685.49 1237.61,-679.61\"/>\n</g>\n<!-- 50 -->\n<g id=\"node51\" class=\"node\">\n<title>50</title>\n<polygon fill=\"none\" stroke=\"black\" points=\"1404,-669.5 1264,-669.5 1264,-616.5 1404,-616.5 1404,-669.5\"/>\n<text text-anchor=\"middle\" x=\"1334\" y=\"-654.3\" font-family=\"Helvetica,sans-Serif\" font-size=\"14.00\">gini = 0.0</text>\n<text text-anchor=\"middle\" x=\"1334\" y=\"-639.3\" font-family=\"Helvetica,sans-Serif\" font-size=\"14.00\">samples = 2</text>\n<text text-anchor=\"middle\" x=\"1334\" y=\"-624.3\" font-family=\"Helvetica,sans-Serif\" font-size=\"14.00\">value = [0, 0, 0, 0, 2]</text>\n</g>\n<!-- 46&#45;&gt;50 -->\n<g id=\"edge50\" class=\"edge\">\n<title>46&#45;&gt;50</title>\n<path fill=\"none\" stroke=\"black\" d=\"M1334,-712.88C1334,-702.33 1334,-690.6 1334,-679.85\"/>\n<polygon fill=\"black\" stroke=\"black\" points=\"1337.5,-679.52 1334,-669.52 1330.5,-679.52 1337.5,-679.52\"/>\n</g>\n<!-- 48 -->\n<g id=\"node49\" class=\"node\">\n<title>48</title>\n<polygon fill=\"none\" stroke=\"black\" points=\"1246,-565.5 1106,-565.5 1106,-512.5 1246,-512.5 1246,-565.5\"/>\n<text text-anchor=\"middle\" x=\"1176\" y=\"-550.3\" font-family=\"Helvetica,sans-Serif\" font-size=\"14.00\">gini = 0.5</text>\n<text text-anchor=\"middle\" x=\"1176\" y=\"-535.3\" font-family=\"Helvetica,sans-Serif\" font-size=\"14.00\">samples = 2</text>\n<text text-anchor=\"middle\" x=\"1176\" y=\"-520.3\" font-family=\"Helvetica,sans-Serif\" font-size=\"14.00\">value = [0, 0, 1, 0, 1]</text>\n</g>\n<!-- 47&#45;&gt;48 -->\n<g id=\"edge48\" class=\"edge\">\n<title>47&#45;&gt;48</title>\n<path fill=\"none\" stroke=\"black\" d=\"M1176,-608.88C1176,-598.33 1176,-586.6 1176,-575.85\"/>\n<polygon fill=\"black\" stroke=\"black\" points=\"1179.5,-575.52 1176,-565.52 1172.5,-575.52 1179.5,-575.52\"/>\n</g>\n<!-- 49 -->\n<g id=\"node50\" class=\"node\">\n<title>49</title>\n<polygon fill=\"none\" stroke=\"black\" points=\"1404,-565.5 1264,-565.5 1264,-512.5 1404,-512.5 1404,-565.5\"/>\n<text text-anchor=\"middle\" x=\"1334\" y=\"-550.3\" font-family=\"Helvetica,sans-Serif\" font-size=\"14.00\">gini = 0.0</text>\n<text text-anchor=\"middle\" x=\"1334\" y=\"-535.3\" font-family=\"Helvetica,sans-Serif\" font-size=\"14.00\">samples = 1</text>\n<text text-anchor=\"middle\" x=\"1334\" y=\"-520.3\" font-family=\"Helvetica,sans-Serif\" font-size=\"14.00\">value = [0, 0, 1, 0, 0]</text>\n</g>\n<!-- 47&#45;&gt;49 -->\n<g id=\"edge49\" class=\"edge\">\n<title>47&#45;&gt;49</title>\n<path fill=\"none\" stroke=\"black\" d=\"M1227.3,-608.88C1246.12,-596.73 1267.35,-583.03 1285.89,-571.06\"/>\n<polygon fill=\"black\" stroke=\"black\" points=\"1287.97,-573.88 1294.47,-565.52 1284.17,-568 1287.97,-573.88\"/>\n</g>\n<!-- 52 -->\n<g id=\"node53\" class=\"node\">\n<title>52</title>\n<polygon fill=\"none\" stroke=\"black\" points=\"1562,-669.5 1422,-669.5 1422,-616.5 1562,-616.5 1562,-669.5\"/>\n<text text-anchor=\"middle\" x=\"1492\" y=\"-654.3\" font-family=\"Helvetica,sans-Serif\" font-size=\"14.00\">gini = 0.0</text>\n<text text-anchor=\"middle\" x=\"1492\" y=\"-639.3\" font-family=\"Helvetica,sans-Serif\" font-size=\"14.00\">samples = 3</text>\n<text text-anchor=\"middle\" x=\"1492\" y=\"-624.3\" font-family=\"Helvetica,sans-Serif\" font-size=\"14.00\">value = [0, 0, 3, 0, 0]</text>\n</g>\n<!-- 51&#45;&gt;52 -->\n<g id=\"edge52\" class=\"edge\">\n<title>51&#45;&gt;52</title>\n<path fill=\"none\" stroke=\"black\" d=\"M1492,-712.88C1492,-702.33 1492,-690.6 1492,-679.85\"/>\n<polygon fill=\"black\" stroke=\"black\" points=\"1495.5,-679.52 1492,-669.52 1488.5,-679.52 1495.5,-679.52\"/>\n</g>\n<!-- 53 -->\n<g id=\"node54\" class=\"node\">\n<title>53</title>\n<polygon fill=\"none\" stroke=\"black\" points=\"1720,-677 1580,-677 1580,-609 1720,-609 1720,-677\"/>\n<text text-anchor=\"middle\" x=\"1650\" y=\"-661.8\" font-family=\"Helvetica,sans-Serif\" font-size=\"14.00\">x[1] &lt;= &#45;0.086</text>\n<text text-anchor=\"middle\" x=\"1650\" y=\"-646.8\" font-family=\"Helvetica,sans-Serif\" font-size=\"14.00\">gini = 0.5</text>\n<text text-anchor=\"middle\" x=\"1650\" y=\"-631.8\" font-family=\"Helvetica,sans-Serif\" font-size=\"14.00\">samples = 2</text>\n<text text-anchor=\"middle\" x=\"1650\" y=\"-616.8\" font-family=\"Helvetica,sans-Serif\" font-size=\"14.00\">value = [0, 0, 1, 0, 1]</text>\n</g>\n<!-- 51&#45;&gt;53 -->\n<g id=\"edge53\" class=\"edge\">\n<title>51&#45;&gt;53</title>\n<path fill=\"none\" stroke=\"black\" d=\"M1543.3,-712.88C1558.28,-703.21 1574.77,-692.56 1590.23,-682.59\"/>\n<polygon fill=\"black\" stroke=\"black\" points=\"1592.19,-685.49 1598.69,-677.12 1588.39,-679.61 1592.19,-685.49\"/>\n</g>\n<!-- 54 -->\n<g id=\"node55\" class=\"node\">\n<title>54</title>\n<polygon fill=\"none\" stroke=\"black\" points=\"1562,-565.5 1422,-565.5 1422,-512.5 1562,-512.5 1562,-565.5\"/>\n<text text-anchor=\"middle\" x=\"1492\" y=\"-550.3\" font-family=\"Helvetica,sans-Serif\" font-size=\"14.00\">gini = 0.0</text>\n<text text-anchor=\"middle\" x=\"1492\" y=\"-535.3\" font-family=\"Helvetica,sans-Serif\" font-size=\"14.00\">samples = 1</text>\n<text text-anchor=\"middle\" x=\"1492\" y=\"-520.3\" font-family=\"Helvetica,sans-Serif\" font-size=\"14.00\">value = [0, 0, 0, 0, 1]</text>\n</g>\n<!-- 53&#45;&gt;54 -->\n<g id=\"edge54\" class=\"edge\">\n<title>53&#45;&gt;54</title>\n<path fill=\"none\" stroke=\"black\" d=\"M1598.7,-608.88C1579.88,-596.73 1558.65,-583.03 1540.11,-571.06\"/>\n<polygon fill=\"black\" stroke=\"black\" points=\"1541.83,-568 1531.53,-565.52 1538.03,-573.88 1541.83,-568\"/>\n</g>\n<!-- 55 -->\n<g id=\"node56\" class=\"node\">\n<title>55</title>\n<polygon fill=\"none\" stroke=\"black\" points=\"1720,-565.5 1580,-565.5 1580,-512.5 1720,-512.5 1720,-565.5\"/>\n<text text-anchor=\"middle\" x=\"1650\" y=\"-550.3\" font-family=\"Helvetica,sans-Serif\" font-size=\"14.00\">gini = 0.0</text>\n<text text-anchor=\"middle\" x=\"1650\" y=\"-535.3\" font-family=\"Helvetica,sans-Serif\" font-size=\"14.00\">samples = 1</text>\n<text text-anchor=\"middle\" x=\"1650\" y=\"-520.3\" font-family=\"Helvetica,sans-Serif\" font-size=\"14.00\">value = [0, 0, 1, 0, 0]</text>\n</g>\n<!-- 53&#45;&gt;55 -->\n<g id=\"edge55\" class=\"edge\">\n<title>53&#45;&gt;55</title>\n<path fill=\"none\" stroke=\"black\" d=\"M1650,-608.88C1650,-598.33 1650,-586.6 1650,-575.85\"/>\n<polygon fill=\"black\" stroke=\"black\" points=\"1653.5,-575.52 1650,-565.52 1646.5,-575.52 1653.5,-575.52\"/>\n</g>\n<!-- 57 -->\n<g id=\"node58\" class=\"node\">\n<title>57</title>\n<polygon fill=\"none\" stroke=\"black\" points=\"1730,-877.5 1590,-877.5 1590,-824.5 1730,-824.5 1730,-877.5\"/>\n<text text-anchor=\"middle\" x=\"1660\" y=\"-862.3\" font-family=\"Helvetica,sans-Serif\" font-size=\"14.00\">gini = 0.0</text>\n<text text-anchor=\"middle\" x=\"1660\" y=\"-847.3\" font-family=\"Helvetica,sans-Serif\" font-size=\"14.00\">samples = 4</text>\n<text text-anchor=\"middle\" x=\"1660\" y=\"-832.3\" font-family=\"Helvetica,sans-Serif\" font-size=\"14.00\">value = [0, 0, 0, 0, 4]</text>\n</g>\n<!-- 56&#45;&gt;57 -->\n<g id=\"edge57\" class=\"edge\">\n<title>56&#45;&gt;57</title>\n<path fill=\"none\" stroke=\"black\" d=\"M1713.35,-920.88C1704.58,-909.56 1694.76,-896.88 1685.96,-885.52\"/>\n<polygon fill=\"black\" stroke=\"black\" points=\"1688.66,-883.28 1679.77,-877.52 1683.12,-887.57 1688.66,-883.28\"/>\n</g>\n<!-- 58 -->\n<g id=\"node59\" class=\"node\">\n<title>58</title>\n<polygon fill=\"none\" stroke=\"black\" points=\"1888,-885 1748,-885 1748,-817 1888,-817 1888,-885\"/>\n<text text-anchor=\"middle\" x=\"1818\" y=\"-869.8\" font-family=\"Helvetica,sans-Serif\" font-size=\"14.00\">x[0] &lt;= 1.394</text>\n<text text-anchor=\"middle\" x=\"1818\" y=\"-854.8\" font-family=\"Helvetica,sans-Serif\" font-size=\"14.00\">gini = 0.48</text>\n<text text-anchor=\"middle\" x=\"1818\" y=\"-839.8\" font-family=\"Helvetica,sans-Serif\" font-size=\"14.00\">samples = 5</text>\n<text text-anchor=\"middle\" x=\"1818\" y=\"-824.8\" font-family=\"Helvetica,sans-Serif\" font-size=\"14.00\">value = [0, 0, 2, 0, 3]</text>\n</g>\n<!-- 56&#45;&gt;58 -->\n<g id=\"edge58\" class=\"edge\">\n<title>56&#45;&gt;58</title>\n<path fill=\"none\" stroke=\"black\" d=\"M1764.65,-920.88C1771.48,-912.07 1778.94,-902.43 1786.06,-893.24\"/>\n<polygon fill=\"black\" stroke=\"black\" points=\"1788.85,-895.35 1792.21,-885.3 1783.32,-891.06 1788.85,-895.35\"/>\n</g>\n<!-- 59 -->\n<g id=\"node60\" class=\"node\">\n<title>59</title>\n<polygon fill=\"none\" stroke=\"black\" points=\"1740,-773.5 1600,-773.5 1600,-720.5 1740,-720.5 1740,-773.5\"/>\n<text text-anchor=\"middle\" x=\"1670\" y=\"-758.3\" font-family=\"Helvetica,sans-Serif\" font-size=\"14.00\">gini = 0.0</text>\n<text text-anchor=\"middle\" x=\"1670\" y=\"-743.3\" font-family=\"Helvetica,sans-Serif\" font-size=\"14.00\">samples = 1</text>\n<text text-anchor=\"middle\" x=\"1670\" y=\"-728.3\" font-family=\"Helvetica,sans-Serif\" font-size=\"14.00\">value = [0, 0, 1, 0, 0]</text>\n</g>\n<!-- 58&#45;&gt;59 -->\n<g id=\"edge59\" class=\"edge\">\n<title>58&#45;&gt;59</title>\n<path fill=\"none\" stroke=\"black\" d=\"M1769.95,-816.88C1752.4,-804.79 1732.61,-791.15 1715.31,-779.22\"/>\n<polygon fill=\"black\" stroke=\"black\" points=\"1717.25,-776.31 1707.03,-773.52 1713.28,-782.08 1717.25,-776.31\"/>\n</g>\n<!-- 60 -->\n<g id=\"node61\" class=\"node\">\n<title>60</title>\n<polygon fill=\"none\" stroke=\"black\" points=\"1898,-781 1758,-781 1758,-713 1898,-713 1898,-781\"/>\n<text text-anchor=\"middle\" x=\"1828\" y=\"-765.8\" font-family=\"Helvetica,sans-Serif\" font-size=\"14.00\">x[0] &lt;= 1.517</text>\n<text text-anchor=\"middle\" x=\"1828\" y=\"-750.8\" font-family=\"Helvetica,sans-Serif\" font-size=\"14.00\">gini = 0.375</text>\n<text text-anchor=\"middle\" x=\"1828\" y=\"-735.8\" font-family=\"Helvetica,sans-Serif\" font-size=\"14.00\">samples = 4</text>\n<text text-anchor=\"middle\" x=\"1828\" y=\"-720.8\" font-family=\"Helvetica,sans-Serif\" font-size=\"14.00\">value = [0, 0, 1, 0, 3]</text>\n</g>\n<!-- 58&#45;&gt;60 -->\n<g id=\"edge60\" class=\"edge\">\n<title>58&#45;&gt;60</title>\n<path fill=\"none\" stroke=\"black\" d=\"M1821.25,-816.88C1822.04,-808.78 1822.9,-799.98 1823.74,-791.47\"/>\n<polygon fill=\"black\" stroke=\"black\" points=\"1827.24,-791.59 1824.74,-781.3 1820.28,-790.91 1827.24,-791.59\"/>\n</g>\n<!-- 61 -->\n<g id=\"node62\" class=\"node\">\n<title>61</title>\n<polygon fill=\"none\" stroke=\"black\" points=\"1878,-669.5 1738,-669.5 1738,-616.5 1878,-616.5 1878,-669.5\"/>\n<text text-anchor=\"middle\" x=\"1808\" y=\"-654.3\" font-family=\"Helvetica,sans-Serif\" font-size=\"14.00\">gini = 0.0</text>\n<text text-anchor=\"middle\" x=\"1808\" y=\"-639.3\" font-family=\"Helvetica,sans-Serif\" font-size=\"14.00\">samples = 1</text>\n<text text-anchor=\"middle\" x=\"1808\" y=\"-624.3\" font-family=\"Helvetica,sans-Serif\" font-size=\"14.00\">value = [0, 0, 0, 0, 1]</text>\n</g>\n<!-- 60&#45;&gt;61 -->\n<g id=\"edge61\" class=\"edge\">\n<title>60&#45;&gt;61</title>\n<path fill=\"none\" stroke=\"black\" d=\"M1821.51,-712.88C1819.41,-702.22 1817.09,-690.35 1814.96,-679.52\"/>\n<polygon fill=\"black\" stroke=\"black\" points=\"1818.36,-678.66 1813,-669.52 1811.49,-680.01 1818.36,-678.66\"/>\n</g>\n<!-- 62 -->\n<g id=\"node63\" class=\"node\">\n<title>62</title>\n<polygon fill=\"none\" stroke=\"black\" points=\"2036,-677 1896,-677 1896,-609 2036,-609 2036,-677\"/>\n<text text-anchor=\"middle\" x=\"1966\" y=\"-661.8\" font-family=\"Helvetica,sans-Serif\" font-size=\"14.00\">x[1] &lt;= &#45;0.086</text>\n<text text-anchor=\"middle\" x=\"1966\" y=\"-646.8\" font-family=\"Helvetica,sans-Serif\" font-size=\"14.00\">gini = 0.444</text>\n<text text-anchor=\"middle\" x=\"1966\" y=\"-631.8\" font-family=\"Helvetica,sans-Serif\" font-size=\"14.00\">samples = 3</text>\n<text text-anchor=\"middle\" x=\"1966\" y=\"-616.8\" font-family=\"Helvetica,sans-Serif\" font-size=\"14.00\">value = [0, 0, 1, 0, 2]</text>\n</g>\n<!-- 60&#45;&gt;62 -->\n<g id=\"edge62\" class=\"edge\">\n<title>60&#45;&gt;62</title>\n<path fill=\"none\" stroke=\"black\" d=\"M1872.8,-712.88C1885.58,-703.44 1899.62,-693.06 1912.84,-683.29\"/>\n<polygon fill=\"black\" stroke=\"black\" points=\"1914.99,-686.06 1920.95,-677.3 1910.83,-680.43 1914.99,-686.06\"/>\n</g>\n<!-- 63 -->\n<g id=\"node64\" class=\"node\">\n<title>63</title>\n<polygon fill=\"none\" stroke=\"black\" points=\"1878,-565.5 1738,-565.5 1738,-512.5 1878,-512.5 1878,-565.5\"/>\n<text text-anchor=\"middle\" x=\"1808\" y=\"-550.3\" font-family=\"Helvetica,sans-Serif\" font-size=\"14.00\">gini = 0.0</text>\n<text text-anchor=\"middle\" x=\"1808\" y=\"-535.3\" font-family=\"Helvetica,sans-Serif\" font-size=\"14.00\">samples = 1</text>\n<text text-anchor=\"middle\" x=\"1808\" y=\"-520.3\" font-family=\"Helvetica,sans-Serif\" font-size=\"14.00\">value = [0, 0, 0, 0, 1]</text>\n</g>\n<!-- 62&#45;&gt;63 -->\n<g id=\"edge63\" class=\"edge\">\n<title>62&#45;&gt;63</title>\n<path fill=\"none\" stroke=\"black\" d=\"M1914.7,-608.88C1895.88,-596.73 1874.65,-583.03 1856.11,-571.06\"/>\n<polygon fill=\"black\" stroke=\"black\" points=\"1857.83,-568 1847.53,-565.52 1854.03,-573.88 1857.83,-568\"/>\n</g>\n<!-- 64 -->\n<g id=\"node65\" class=\"node\">\n<title>64</title>\n<polygon fill=\"none\" stroke=\"black\" points=\"2036,-565.5 1896,-565.5 1896,-512.5 2036,-512.5 2036,-565.5\"/>\n<text text-anchor=\"middle\" x=\"1966\" y=\"-550.3\" font-family=\"Helvetica,sans-Serif\" font-size=\"14.00\">gini = 0.5</text>\n<text text-anchor=\"middle\" x=\"1966\" y=\"-535.3\" font-family=\"Helvetica,sans-Serif\" font-size=\"14.00\">samples = 2</text>\n<text text-anchor=\"middle\" x=\"1966\" y=\"-520.3\" font-family=\"Helvetica,sans-Serif\" font-size=\"14.00\">value = [0, 0, 1, 0, 1]</text>\n</g>\n<!-- 62&#45;&gt;64 -->\n<g id=\"edge64\" class=\"edge\">\n<title>62&#45;&gt;64</title>\n<path fill=\"none\" stroke=\"black\" d=\"M1966,-608.88C1966,-598.33 1966,-586.6 1966,-575.85\"/>\n<polygon fill=\"black\" stroke=\"black\" points=\"1969.5,-575.52 1966,-565.52 1962.5,-575.52 1969.5,-575.52\"/>\n</g>\n<!-- 66 -->\n<g id=\"node67\" class=\"node\">\n<title>66</title>\n<polygon fill=\"none\" stroke=\"black\" points=\"2233,-989 2093,-989 2093,-921 2233,-921 2233,-989\"/>\n<text text-anchor=\"middle\" x=\"2163\" y=\"-973.8\" font-family=\"Helvetica,sans-Serif\" font-size=\"14.00\">x[0] &lt;= &#45;0.39</text>\n<text text-anchor=\"middle\" x=\"2163\" y=\"-958.8\" font-family=\"Helvetica,sans-Serif\" font-size=\"14.00\">gini = 0.32</text>\n<text text-anchor=\"middle\" x=\"2163\" y=\"-943.8\" font-family=\"Helvetica,sans-Serif\" font-size=\"14.00\">samples = 10</text>\n<text text-anchor=\"middle\" x=\"2163\" y=\"-928.8\" font-family=\"Helvetica,sans-Serif\" font-size=\"14.00\">value = [0, 0, 0, 8, 2]</text>\n</g>\n<!-- 65&#45;&gt;66 -->\n<g id=\"edge66\" class=\"edge\">\n<title>65&#45;&gt;66</title>\n<path fill=\"none\" stroke=\"black\" d=\"M2163,-1024.88C2163,-1016.78 2163,-1007.98 2163,-999.47\"/>\n<polygon fill=\"black\" stroke=\"black\" points=\"2166.5,-999.3 2163,-989.3 2159.5,-999.3 2166.5,-999.3\"/>\n</g>\n<!-- 77 -->\n<g id=\"node78\" class=\"node\">\n<title>77</title>\n<polygon fill=\"none\" stroke=\"black\" points=\"2569,-989 2429,-989 2429,-921 2569,-921 2569,-989\"/>\n<text text-anchor=\"middle\" x=\"2499\" y=\"-973.8\" font-family=\"Helvetica,sans-Serif\" font-size=\"14.00\">x[0] &lt;= 1.148</text>\n<text text-anchor=\"middle\" x=\"2499\" y=\"-958.8\" font-family=\"Helvetica,sans-Serif\" font-size=\"14.00\">gini = 0.42</text>\n<text text-anchor=\"middle\" x=\"2499\" y=\"-943.8\" font-family=\"Helvetica,sans-Serif\" font-size=\"14.00\">samples = 10</text>\n<text text-anchor=\"middle\" x=\"2499\" y=\"-928.8\" font-family=\"Helvetica,sans-Serif\" font-size=\"14.00\">value = [0, 0, 0, 3, 7]</text>\n</g>\n<!-- 65&#45;&gt;77 -->\n<g id=\"edge77\" class=\"edge\">\n<title>65&#45;&gt;77</title>\n<path fill=\"none\" stroke=\"black\" d=\"M2236.74,-1035.62C2290.68,-1019.24 2363.79,-997.05 2419.12,-980.25\"/>\n<polygon fill=\"black\" stroke=\"black\" points=\"2420.33,-983.54 2428.88,-977.29 2418.3,-976.84 2420.33,-983.54\"/>\n</g>\n<!-- 67 -->\n<g id=\"node68\" class=\"node\">\n<title>67</title>\n<polygon fill=\"none\" stroke=\"black\" points=\"2154,-885 2014,-885 2014,-817 2154,-817 2154,-885\"/>\n<text text-anchor=\"middle\" x=\"2084\" y=\"-869.8\" font-family=\"Helvetica,sans-Serif\" font-size=\"14.00\">x[0] &lt;= &#45;0.606</text>\n<text text-anchor=\"middle\" x=\"2084\" y=\"-854.8\" font-family=\"Helvetica,sans-Serif\" font-size=\"14.00\">gini = 0.408</text>\n<text text-anchor=\"middle\" x=\"2084\" y=\"-839.8\" font-family=\"Helvetica,sans-Serif\" font-size=\"14.00\">samples = 7</text>\n<text text-anchor=\"middle\" x=\"2084\" y=\"-824.8\" font-family=\"Helvetica,sans-Serif\" font-size=\"14.00\">value = [0, 0, 0, 5, 2]</text>\n</g>\n<!-- 66&#45;&gt;67 -->\n<g id=\"edge67\" class=\"edge\">\n<title>66&#45;&gt;67</title>\n<path fill=\"none\" stroke=\"black\" d=\"M2137.35,-920.88C2130.52,-912.07 2123.06,-902.43 2115.94,-893.24\"/>\n<polygon fill=\"black\" stroke=\"black\" points=\"2118.68,-891.06 2109.79,-885.3 2113.15,-895.35 2118.68,-891.06\"/>\n</g>\n<!-- 76 -->\n<g id=\"node77\" class=\"node\">\n<title>76</title>\n<polygon fill=\"none\" stroke=\"black\" points=\"2312,-877.5 2172,-877.5 2172,-824.5 2312,-824.5 2312,-877.5\"/>\n<text text-anchor=\"middle\" x=\"2242\" y=\"-862.3\" font-family=\"Helvetica,sans-Serif\" font-size=\"14.00\">gini = 0.0</text>\n<text text-anchor=\"middle\" x=\"2242\" y=\"-847.3\" font-family=\"Helvetica,sans-Serif\" font-size=\"14.00\">samples = 3</text>\n<text text-anchor=\"middle\" x=\"2242\" y=\"-832.3\" font-family=\"Helvetica,sans-Serif\" font-size=\"14.00\">value = [0, 0, 0, 3, 0]</text>\n</g>\n<!-- 66&#45;&gt;76 -->\n<g id=\"edge76\" class=\"edge\">\n<title>66&#45;&gt;76</title>\n<path fill=\"none\" stroke=\"black\" d=\"M2188.65,-920.88C2197.42,-909.56 2207.24,-896.88 2216.04,-885.52\"/>\n<polygon fill=\"black\" stroke=\"black\" points=\"2218.88,-887.57 2222.23,-877.52 2213.34,-883.28 2218.88,-887.57\"/>\n</g>\n<!-- 68 -->\n<g id=\"node69\" class=\"node\">\n<title>68</title>\n<polygon fill=\"none\" stroke=\"black\" points=\"2135,-773.5 1995,-773.5 1995,-720.5 2135,-720.5 2135,-773.5\"/>\n<text text-anchor=\"middle\" x=\"2065\" y=\"-758.3\" font-family=\"Helvetica,sans-Serif\" font-size=\"14.00\">gini = 0.0</text>\n<text text-anchor=\"middle\" x=\"2065\" y=\"-743.3\" font-family=\"Helvetica,sans-Serif\" font-size=\"14.00\">samples = 2</text>\n<text text-anchor=\"middle\" x=\"2065\" y=\"-728.3\" font-family=\"Helvetica,sans-Serif\" font-size=\"14.00\">value = [0, 0, 0, 2, 0]</text>\n</g>\n<!-- 67&#45;&gt;68 -->\n<g id=\"edge68\" class=\"edge\">\n<title>67&#45;&gt;68</title>\n<path fill=\"none\" stroke=\"black\" d=\"M2077.83,-816.88C2075.84,-806.22 2073.63,-794.35 2071.62,-783.52\"/>\n<polygon fill=\"black\" stroke=\"black\" points=\"2075.03,-782.71 2069.75,-773.52 2068.14,-783.99 2075.03,-782.71\"/>\n</g>\n<!-- 69 -->\n<g id=\"node70\" class=\"node\">\n<title>69</title>\n<polygon fill=\"none\" stroke=\"black\" points=\"2293,-781 2153,-781 2153,-713 2293,-713 2293,-781\"/>\n<text text-anchor=\"middle\" x=\"2223\" y=\"-765.8\" font-family=\"Helvetica,sans-Serif\" font-size=\"14.00\">x[0] &lt;= &#45;0.483</text>\n<text text-anchor=\"middle\" x=\"2223\" y=\"-750.8\" font-family=\"Helvetica,sans-Serif\" font-size=\"14.00\">gini = 0.48</text>\n<text text-anchor=\"middle\" x=\"2223\" y=\"-735.8\" font-family=\"Helvetica,sans-Serif\" font-size=\"14.00\">samples = 5</text>\n<text text-anchor=\"middle\" x=\"2223\" y=\"-720.8\" font-family=\"Helvetica,sans-Serif\" font-size=\"14.00\">value = [0, 0, 0, 3, 2]</text>\n</g>\n<!-- 67&#45;&gt;69 -->\n<g id=\"edge69\" class=\"edge\">\n<title>67&#45;&gt;69</title>\n<path fill=\"none\" stroke=\"black\" d=\"M2129.13,-816.88C2142,-807.44 2156.14,-797.06 2169.46,-787.29\"/>\n<polygon fill=\"black\" stroke=\"black\" points=\"2171.63,-790.04 2177.62,-781.3 2167.49,-784.39 2171.63,-790.04\"/>\n</g>\n<!-- 70 -->\n<g id=\"node71\" class=\"node\">\n<title>70</title>\n<polygon fill=\"none\" stroke=\"black\" points=\"2243,-677 2103,-677 2103,-609 2243,-609 2243,-677\"/>\n<text text-anchor=\"middle\" x=\"2173\" y=\"-661.8\" font-family=\"Helvetica,sans-Serif\" font-size=\"14.00\">x[1] &lt;= &#45;0.086</text>\n<text text-anchor=\"middle\" x=\"2173\" y=\"-646.8\" font-family=\"Helvetica,sans-Serif\" font-size=\"14.00\">gini = 0.444</text>\n<text text-anchor=\"middle\" x=\"2173\" y=\"-631.8\" font-family=\"Helvetica,sans-Serif\" font-size=\"14.00\">samples = 3</text>\n<text text-anchor=\"middle\" x=\"2173\" y=\"-616.8\" font-family=\"Helvetica,sans-Serif\" font-size=\"14.00\">value = [0, 0, 0, 2, 1]</text>\n</g>\n<!-- 69&#45;&gt;70 -->\n<g id=\"edge70\" class=\"edge\">\n<title>69&#45;&gt;70</title>\n<path fill=\"none\" stroke=\"black\" d=\"M2206.77,-712.88C2202.62,-704.42 2198.1,-695.21 2193.76,-686.35\"/>\n<polygon fill=\"black\" stroke=\"black\" points=\"2196.87,-684.74 2189.32,-677.3 2190.58,-687.82 2196.87,-684.74\"/>\n</g>\n<!-- 73 -->\n<g id=\"node74\" class=\"node\">\n<title>73</title>\n<polygon fill=\"none\" stroke=\"black\" points=\"2401,-677 2261,-677 2261,-609 2401,-609 2401,-677\"/>\n<text text-anchor=\"middle\" x=\"2331\" y=\"-661.8\" font-family=\"Helvetica,sans-Serif\" font-size=\"14.00\">x[1] &lt;= &#45;0.086</text>\n<text text-anchor=\"middle\" x=\"2331\" y=\"-646.8\" font-family=\"Helvetica,sans-Serif\" font-size=\"14.00\">gini = 0.5</text>\n<text text-anchor=\"middle\" x=\"2331\" y=\"-631.8\" font-family=\"Helvetica,sans-Serif\" font-size=\"14.00\">samples = 2</text>\n<text text-anchor=\"middle\" x=\"2331\" y=\"-616.8\" font-family=\"Helvetica,sans-Serif\" font-size=\"14.00\">value = [0, 0, 0, 1, 1]</text>\n</g>\n<!-- 69&#45;&gt;73 -->\n<g id=\"edge73\" class=\"edge\">\n<title>69&#45;&gt;73</title>\n<path fill=\"none\" stroke=\"black\" d=\"M2258.06,-712.88C2267.68,-703.8 2278.22,-693.85 2288.22,-684.4\"/>\n<polygon fill=\"black\" stroke=\"black\" points=\"2290.87,-686.71 2295.74,-677.3 2286.07,-681.62 2290.87,-686.71\"/>\n</g>\n<!-- 71 -->\n<g id=\"node72\" class=\"node\">\n<title>71</title>\n<polygon fill=\"none\" stroke=\"black\" points=\"2194,-565.5 2054,-565.5 2054,-512.5 2194,-512.5 2194,-565.5\"/>\n<text text-anchor=\"middle\" x=\"2124\" y=\"-550.3\" font-family=\"Helvetica,sans-Serif\" font-size=\"14.00\">gini = 0.0</text>\n<text text-anchor=\"middle\" x=\"2124\" y=\"-535.3\" font-family=\"Helvetica,sans-Serif\" font-size=\"14.00\">samples = 1</text>\n<text text-anchor=\"middle\" x=\"2124\" y=\"-520.3\" font-family=\"Helvetica,sans-Serif\" font-size=\"14.00\">value = [0, 0, 0, 1, 0]</text>\n</g>\n<!-- 70&#45;&gt;71 -->\n<g id=\"edge71\" class=\"edge\">\n<title>70&#45;&gt;71</title>\n<path fill=\"none\" stroke=\"black\" d=\"M2157.09,-608.88C2151.86,-598 2146.03,-585.86 2140.74,-574.85\"/>\n<polygon fill=\"black\" stroke=\"black\" points=\"2143.74,-573.02 2136.26,-565.52 2137.43,-576.05 2143.74,-573.02\"/>\n</g>\n<!-- 72 -->\n<g id=\"node73\" class=\"node\">\n<title>72</title>\n<polygon fill=\"none\" stroke=\"black\" points=\"2352,-565.5 2212,-565.5 2212,-512.5 2352,-512.5 2352,-565.5\"/>\n<text text-anchor=\"middle\" x=\"2282\" y=\"-550.3\" font-family=\"Helvetica,sans-Serif\" font-size=\"14.00\">gini = 0.5</text>\n<text text-anchor=\"middle\" x=\"2282\" y=\"-535.3\" font-family=\"Helvetica,sans-Serif\" font-size=\"14.00\">samples = 2</text>\n<text text-anchor=\"middle\" x=\"2282\" y=\"-520.3\" font-family=\"Helvetica,sans-Serif\" font-size=\"14.00\">value = [0, 0, 0, 1, 1]</text>\n</g>\n<!-- 70&#45;&gt;72 -->\n<g id=\"edge72\" class=\"edge\">\n<title>70&#45;&gt;72</title>\n<path fill=\"none\" stroke=\"black\" d=\"M2208.39,-608.88C2220.85,-597.23 2234.83,-584.14 2247.24,-572.53\"/>\n<polygon fill=\"black\" stroke=\"black\" points=\"2249.82,-574.91 2254.73,-565.52 2245.04,-569.8 2249.82,-574.91\"/>\n</g>\n<!-- 74 -->\n<g id=\"node75\" class=\"node\">\n<title>74</title>\n<polygon fill=\"none\" stroke=\"black\" points=\"2510,-565.5 2370,-565.5 2370,-512.5 2510,-512.5 2510,-565.5\"/>\n<text text-anchor=\"middle\" x=\"2440\" y=\"-550.3\" font-family=\"Helvetica,sans-Serif\" font-size=\"14.00\">gini = 0.0</text>\n<text text-anchor=\"middle\" x=\"2440\" y=\"-535.3\" font-family=\"Helvetica,sans-Serif\" font-size=\"14.00\">samples = 1</text>\n<text text-anchor=\"middle\" x=\"2440\" y=\"-520.3\" font-family=\"Helvetica,sans-Serif\" font-size=\"14.00\">value = [0, 0, 0, 0, 1]</text>\n</g>\n<!-- 73&#45;&gt;74 -->\n<g id=\"edge74\" class=\"edge\">\n<title>73&#45;&gt;74</title>\n<path fill=\"none\" stroke=\"black\" d=\"M2366.39,-608.88C2378.85,-597.23 2392.83,-584.14 2405.24,-572.53\"/>\n<polygon fill=\"black\" stroke=\"black\" points=\"2407.82,-574.91 2412.73,-565.52 2403.04,-569.8 2407.82,-574.91\"/>\n</g>\n<!-- 75 -->\n<g id=\"node76\" class=\"node\">\n<title>75</title>\n<polygon fill=\"none\" stroke=\"black\" points=\"2668,-565.5 2528,-565.5 2528,-512.5 2668,-512.5 2668,-565.5\"/>\n<text text-anchor=\"middle\" x=\"2598\" y=\"-550.3\" font-family=\"Helvetica,sans-Serif\" font-size=\"14.00\">gini = 0.0</text>\n<text text-anchor=\"middle\" x=\"2598\" y=\"-535.3\" font-family=\"Helvetica,sans-Serif\" font-size=\"14.00\">samples = 1</text>\n<text text-anchor=\"middle\" x=\"2598\" y=\"-520.3\" font-family=\"Helvetica,sans-Serif\" font-size=\"14.00\">value = [0, 0, 0, 1, 0]</text>\n</g>\n<!-- 73&#45;&gt;75 -->\n<g id=\"edge75\" class=\"edge\">\n<title>73&#45;&gt;75</title>\n<path fill=\"none\" stroke=\"black\" d=\"M2401.1,-612.39C2404.1,-611.23 2407.08,-610.09 2410,-609 2457.8,-591.15 2471.2,-590.85 2519,-573 2522.23,-571.79 2525.53,-570.53 2528.84,-569.24\"/>\n<polygon fill=\"black\" stroke=\"black\" points=\"2530.22,-572.46 2538.24,-565.53 2527.65,-565.95 2530.22,-572.46\"/>\n</g>\n<!-- 78 -->\n<g id=\"node79\" class=\"node\">\n<title>78</title>\n<polygon fill=\"none\" stroke=\"black\" points=\"2569,-885 2429,-885 2429,-817 2569,-817 2569,-885\"/>\n<text text-anchor=\"middle\" x=\"2499\" y=\"-869.8\" font-family=\"Helvetica,sans-Serif\" font-size=\"14.00\">x[0] &lt;= 0.256</text>\n<text text-anchor=\"middle\" x=\"2499\" y=\"-854.8\" font-family=\"Helvetica,sans-Serif\" font-size=\"14.00\">gini = 0.245</text>\n<text text-anchor=\"middle\" x=\"2499\" y=\"-839.8\" font-family=\"Helvetica,sans-Serif\" font-size=\"14.00\">samples = 7</text>\n<text text-anchor=\"middle\" x=\"2499\" y=\"-824.8\" font-family=\"Helvetica,sans-Serif\" font-size=\"14.00\">value = [0, 0, 0, 1, 6]</text>\n</g>\n<!-- 77&#45;&gt;78 -->\n<g id=\"edge78\" class=\"edge\">\n<title>77&#45;&gt;78</title>\n<path fill=\"none\" stroke=\"black\" d=\"M2499,-920.88C2499,-912.78 2499,-903.98 2499,-895.47\"/>\n<polygon fill=\"black\" stroke=\"black\" points=\"2502.5,-895.3 2499,-885.3 2495.5,-895.3 2502.5,-895.3\"/>\n</g>\n<!-- 83 -->\n<g id=\"node84\" class=\"node\">\n<title>83</title>\n<polygon fill=\"none\" stroke=\"black\" points=\"2806,-885 2666,-885 2666,-817 2806,-817 2806,-885\"/>\n<text text-anchor=\"middle\" x=\"2736\" y=\"-869.8\" font-family=\"Helvetica,sans-Serif\" font-size=\"14.00\">x[1] &lt;= &#45;0.086</text>\n<text text-anchor=\"middle\" x=\"2736\" y=\"-854.8\" font-family=\"Helvetica,sans-Serif\" font-size=\"14.00\">gini = 0.444</text>\n<text text-anchor=\"middle\" x=\"2736\" y=\"-839.8\" font-family=\"Helvetica,sans-Serif\" font-size=\"14.00\">samples = 3</text>\n<text text-anchor=\"middle\" x=\"2736\" y=\"-824.8\" font-family=\"Helvetica,sans-Serif\" font-size=\"14.00\">value = [0, 0, 0, 2, 1]</text>\n</g>\n<!-- 77&#45;&gt;83 -->\n<g id=\"edge83\" class=\"edge\">\n<title>77&#45;&gt;83</title>\n<path fill=\"none\" stroke=\"black\" d=\"M2569.15,-923.81C2596.49,-912.04 2627.99,-898.49 2656.2,-886.35\"/>\n<polygon fill=\"black\" stroke=\"black\" points=\"2657.82,-889.46 2665.62,-882.29 2655.06,-883.03 2657.82,-889.46\"/>\n</g>\n<!-- 79 -->\n<g id=\"node80\" class=\"node\">\n<title>79</title>\n<polygon fill=\"none\" stroke=\"black\" points=\"2490,-781 2350,-781 2350,-713 2490,-713 2490,-781\"/>\n<text text-anchor=\"middle\" x=\"2420\" y=\"-765.8\" font-family=\"Helvetica,sans-Serif\" font-size=\"14.00\">x[0] &lt;= 0.133</text>\n<text text-anchor=\"middle\" x=\"2420\" y=\"-750.8\" font-family=\"Helvetica,sans-Serif\" font-size=\"14.00\">gini = 0.5</text>\n<text text-anchor=\"middle\" x=\"2420\" y=\"-735.8\" font-family=\"Helvetica,sans-Serif\" font-size=\"14.00\">samples = 2</text>\n<text text-anchor=\"middle\" x=\"2420\" y=\"-720.8\" font-family=\"Helvetica,sans-Serif\" font-size=\"14.00\">value = [0, 0, 0, 1, 1]</text>\n</g>\n<!-- 78&#45;&gt;79 -->\n<g id=\"edge79\" class=\"edge\">\n<title>78&#45;&gt;79</title>\n<path fill=\"none\" stroke=\"black\" d=\"M2473.35,-816.88C2466.52,-808.07 2459.06,-798.43 2451.94,-789.24\"/>\n<polygon fill=\"black\" stroke=\"black\" points=\"2454.68,-787.06 2445.79,-781.3 2449.15,-791.35 2454.68,-787.06\"/>\n</g>\n<!-- 82 -->\n<g id=\"node83\" class=\"node\">\n<title>82</title>\n<polygon fill=\"none\" stroke=\"black\" points=\"2648,-773.5 2508,-773.5 2508,-720.5 2648,-720.5 2648,-773.5\"/>\n<text text-anchor=\"middle\" x=\"2578\" y=\"-758.3\" font-family=\"Helvetica,sans-Serif\" font-size=\"14.00\">gini = 0.0</text>\n<text text-anchor=\"middle\" x=\"2578\" y=\"-743.3\" font-family=\"Helvetica,sans-Serif\" font-size=\"14.00\">samples = 5</text>\n<text text-anchor=\"middle\" x=\"2578\" y=\"-728.3\" font-family=\"Helvetica,sans-Serif\" font-size=\"14.00\">value = [0, 0, 0, 0, 5]</text>\n</g>\n<!-- 78&#45;&gt;82 -->\n<g id=\"edge82\" class=\"edge\">\n<title>78&#45;&gt;82</title>\n<path fill=\"none\" stroke=\"black\" d=\"M2524.65,-816.88C2533.42,-805.56 2543.24,-792.88 2552.04,-781.52\"/>\n<polygon fill=\"black\" stroke=\"black\" points=\"2554.88,-783.57 2558.23,-773.52 2549.34,-779.28 2554.88,-783.57\"/>\n</g>\n<!-- 80 -->\n<g id=\"node81\" class=\"node\">\n<title>80</title>\n<polygon fill=\"none\" stroke=\"black\" points=\"2559,-669.5 2419,-669.5 2419,-616.5 2559,-616.5 2559,-669.5\"/>\n<text text-anchor=\"middle\" x=\"2489\" y=\"-654.3\" font-family=\"Helvetica,sans-Serif\" font-size=\"14.00\">gini = 0.0</text>\n<text text-anchor=\"middle\" x=\"2489\" y=\"-639.3\" font-family=\"Helvetica,sans-Serif\" font-size=\"14.00\">samples = 1</text>\n<text text-anchor=\"middle\" x=\"2489\" y=\"-624.3\" font-family=\"Helvetica,sans-Serif\" font-size=\"14.00\">value = [0, 0, 0, 0, 1]</text>\n</g>\n<!-- 79&#45;&gt;80 -->\n<g id=\"edge80\" class=\"edge\">\n<title>79&#45;&gt;80</title>\n<path fill=\"none\" stroke=\"black\" d=\"M2442.4,-712.88C2449.99,-701.67 2458.47,-689.13 2466.1,-677.85\"/>\n<polygon fill=\"black\" stroke=\"black\" points=\"2469.03,-679.76 2471.74,-669.52 2463.23,-675.84 2469.03,-679.76\"/>\n</g>\n<!-- 81 -->\n<g id=\"node82\" class=\"node\">\n<title>81</title>\n<polygon fill=\"none\" stroke=\"black\" points=\"2717,-669.5 2577,-669.5 2577,-616.5 2717,-616.5 2717,-669.5\"/>\n<text text-anchor=\"middle\" x=\"2647\" y=\"-654.3\" font-family=\"Helvetica,sans-Serif\" font-size=\"14.00\">gini = 0.0</text>\n<text text-anchor=\"middle\" x=\"2647\" y=\"-639.3\" font-family=\"Helvetica,sans-Serif\" font-size=\"14.00\">samples = 1</text>\n<text text-anchor=\"middle\" x=\"2647\" y=\"-624.3\" font-family=\"Helvetica,sans-Serif\" font-size=\"14.00\">value = [0, 0, 0, 1, 0]</text>\n</g>\n<!-- 79&#45;&gt;81 -->\n<g id=\"edge81\" class=\"edge\">\n<title>79&#45;&gt;81</title>\n<path fill=\"none\" stroke=\"black\" d=\"M2490.27,-714.43C2519.05,-701.49 2552.19,-686.6 2580.56,-673.86\"/>\n<polygon fill=\"black\" stroke=\"black\" points=\"2582.3,-676.91 2589.98,-669.62 2579.43,-670.53 2582.3,-676.91\"/>\n</g>\n<!-- 84 -->\n<g id=\"node85\" class=\"node\">\n<title>84</title>\n<polygon fill=\"none\" stroke=\"black\" points=\"2806,-773.5 2666,-773.5 2666,-720.5 2806,-720.5 2806,-773.5\"/>\n<text text-anchor=\"middle\" x=\"2736\" y=\"-758.3\" font-family=\"Helvetica,sans-Serif\" font-size=\"14.00\">gini = 0.0</text>\n<text text-anchor=\"middle\" x=\"2736\" y=\"-743.3\" font-family=\"Helvetica,sans-Serif\" font-size=\"14.00\">samples = 2</text>\n<text text-anchor=\"middle\" x=\"2736\" y=\"-728.3\" font-family=\"Helvetica,sans-Serif\" font-size=\"14.00\">value = [0, 0, 0, 2, 0]</text>\n</g>\n<!-- 83&#45;&gt;84 -->\n<g id=\"edge84\" class=\"edge\">\n<title>83&#45;&gt;84</title>\n<path fill=\"none\" stroke=\"black\" d=\"M2736,-816.88C2736,-806.33 2736,-794.6 2736,-783.85\"/>\n<polygon fill=\"black\" stroke=\"black\" points=\"2739.5,-783.52 2736,-773.52 2732.5,-783.52 2739.5,-783.52\"/>\n</g>\n<!-- 85 -->\n<g id=\"node86\" class=\"node\">\n<title>85</title>\n<polygon fill=\"none\" stroke=\"black\" points=\"2964,-773.5 2824,-773.5 2824,-720.5 2964,-720.5 2964,-773.5\"/>\n<text text-anchor=\"middle\" x=\"2894\" y=\"-758.3\" font-family=\"Helvetica,sans-Serif\" font-size=\"14.00\">gini = 0.0</text>\n<text text-anchor=\"middle\" x=\"2894\" y=\"-743.3\" font-family=\"Helvetica,sans-Serif\" font-size=\"14.00\">samples = 1</text>\n<text text-anchor=\"middle\" x=\"2894\" y=\"-728.3\" font-family=\"Helvetica,sans-Serif\" font-size=\"14.00\">value = [0, 0, 0, 0, 1]</text>\n</g>\n<!-- 83&#45;&gt;85 -->\n<g id=\"edge85\" class=\"edge\">\n<title>83&#45;&gt;85</title>\n<path fill=\"none\" stroke=\"black\" d=\"M2787.3,-816.88C2806.12,-804.73 2827.35,-791.03 2845.89,-779.06\"/>\n<polygon fill=\"black\" stroke=\"black\" points=\"2847.97,-781.88 2854.47,-773.52 2844.17,-776 2847.97,-781.88\"/>\n</g>\n<!-- 87 -->\n<g id=\"node88\" class=\"node\">\n<title>87</title>\n<polygon fill=\"none\" stroke=\"black\" points=\"3374.5,-1197 3219.5,-1197 3219.5,-1129 3374.5,-1129 3374.5,-1197\"/>\n<text text-anchor=\"middle\" x=\"3297\" y=\"-1181.8\" font-family=\"Helvetica,sans-Serif\" font-size=\"14.00\">x[0] &lt;= &#45;0.206</text>\n<text text-anchor=\"middle\" x=\"3297\" y=\"-1166.8\" font-family=\"Helvetica,sans-Serif\" font-size=\"14.00\">gini = 0.494</text>\n<text text-anchor=\"middle\" x=\"3297\" y=\"-1151.8\" font-family=\"Helvetica,sans-Serif\" font-size=\"14.00\">samples = 36</text>\n<text text-anchor=\"middle\" x=\"3297\" y=\"-1136.8\" font-family=\"Helvetica,sans-Serif\" font-size=\"14.00\">value = [16, 0, 0, 0, 20]</text>\n</g>\n<!-- 86&#45;&gt;87 -->\n<g id=\"edge87\" class=\"edge\">\n<title>86&#45;&gt;87</title>\n<path fill=\"none\" stroke=\"black\" d=\"M3297,-1232.88C3297,-1224.78 3297,-1215.98 3297,-1207.47\"/>\n<polygon fill=\"black\" stroke=\"black\" points=\"3300.5,-1207.3 3297,-1197.3 3293.5,-1207.3 3300.5,-1207.3\"/>\n</g>\n<!-- 124 -->\n<g id=\"node125\" class=\"node\">\n<title>124</title>\n<polygon fill=\"none\" stroke=\"black\" points=\"3848.5,-1197 3701.5,-1197 3701.5,-1129 3848.5,-1129 3848.5,-1197\"/>\n<text text-anchor=\"middle\" x=\"3775\" y=\"-1181.8\" font-family=\"Helvetica,sans-Serif\" font-size=\"14.00\">x[0] &lt;= 1.271</text>\n<text text-anchor=\"middle\" x=\"3775\" y=\"-1166.8\" font-family=\"Helvetica,sans-Serif\" font-size=\"14.00\">gini = 0.472</text>\n<text text-anchor=\"middle\" x=\"3775\" y=\"-1151.8\" font-family=\"Helvetica,sans-Serif\" font-size=\"14.00\">samples = 21</text>\n<text text-anchor=\"middle\" x=\"3775\" y=\"-1136.8\" font-family=\"Helvetica,sans-Serif\" font-size=\"14.00\">value = [0, 13, 0, 0, 8]</text>\n</g>\n<!-- 86&#45;&gt;124 -->\n<g id=\"edge124\" class=\"edge\">\n<title>86&#45;&gt;124</title>\n<path fill=\"none\" stroke=\"black\" d=\"M3378.09,-1248.7C3465.29,-1230.09 3603.25,-1200.65 3691.41,-1181.84\"/>\n<polygon fill=\"black\" stroke=\"black\" points=\"3692.33,-1185.22 3701.38,-1179.71 3690.87,-1178.37 3692.33,-1185.22\"/>\n</g>\n<!-- 88 -->\n<g id=\"node89\" class=\"node\">\n<title>88</title>\n<polygon fill=\"none\" stroke=\"black\" points=\"3291.5,-1093 3136.5,-1093 3136.5,-1025 3291.5,-1025 3291.5,-1093\"/>\n<text text-anchor=\"middle\" x=\"3214\" y=\"-1077.8\" font-family=\"Helvetica,sans-Serif\" font-size=\"14.00\">x[0] &lt;= &#45;1.652</text>\n<text text-anchor=\"middle\" x=\"3214\" y=\"-1062.8\" font-family=\"Helvetica,sans-Serif\" font-size=\"14.00\">gini = 0.464</text>\n<text text-anchor=\"middle\" x=\"3214\" y=\"-1047.8\" font-family=\"Helvetica,sans-Serif\" font-size=\"14.00\">samples = 30</text>\n<text text-anchor=\"middle\" x=\"3214\" y=\"-1032.8\" font-family=\"Helvetica,sans-Serif\" font-size=\"14.00\">value = [11, 0, 0, 0, 19]</text>\n</g>\n<!-- 87&#45;&gt;88 -->\n<g id=\"edge88\" class=\"edge\">\n<title>87&#45;&gt;88</title>\n<path fill=\"none\" stroke=\"black\" d=\"M3270.05,-1128.88C3262.88,-1120.07 3255.04,-1110.43 3247.55,-1101.24\"/>\n<polygon fill=\"black\" stroke=\"black\" points=\"3250.12,-1098.85 3241.1,-1093.3 3244.69,-1103.26 3250.12,-1098.85\"/>\n</g>\n<!-- 119 -->\n<g id=\"node120\" class=\"node\">\n<title>119</title>\n<polygon fill=\"none\" stroke=\"black\" points=\"3450,-1093 3310,-1093 3310,-1025 3450,-1025 3450,-1093\"/>\n<text text-anchor=\"middle\" x=\"3380\" y=\"-1077.8\" font-family=\"Helvetica,sans-Serif\" font-size=\"14.00\">x[1] &lt;= &#45;0.086</text>\n<text text-anchor=\"middle\" x=\"3380\" y=\"-1062.8\" font-family=\"Helvetica,sans-Serif\" font-size=\"14.00\">gini = 0.278</text>\n<text text-anchor=\"middle\" x=\"3380\" y=\"-1047.8\" font-family=\"Helvetica,sans-Serif\" font-size=\"14.00\">samples = 6</text>\n<text text-anchor=\"middle\" x=\"3380\" y=\"-1032.8\" font-family=\"Helvetica,sans-Serif\" font-size=\"14.00\">value = [5, 0, 0, 0, 1]</text>\n</g>\n<!-- 87&#45;&gt;119 -->\n<g id=\"edge119\" class=\"edge\">\n<title>87&#45;&gt;119</title>\n<path fill=\"none\" stroke=\"black\" d=\"M3323.95,-1128.88C3331.12,-1120.07 3338.96,-1110.43 3346.45,-1101.24\"/>\n<polygon fill=\"black\" stroke=\"black\" points=\"3349.31,-1103.26 3352.9,-1093.3 3343.88,-1098.85 3349.31,-1103.26\"/>\n</g>\n<!-- 89 -->\n<g id=\"node90\" class=\"node\">\n<title>89</title>\n<polygon fill=\"none\" stroke=\"black\" points=\"3118,-981.5 2978,-981.5 2978,-928.5 3118,-928.5 3118,-981.5\"/>\n<text text-anchor=\"middle\" x=\"3048\" y=\"-966.3\" font-family=\"Helvetica,sans-Serif\" font-size=\"14.00\">gini = 0.0</text>\n<text text-anchor=\"middle\" x=\"3048\" y=\"-951.3\" font-family=\"Helvetica,sans-Serif\" font-size=\"14.00\">samples = 3</text>\n<text text-anchor=\"middle\" x=\"3048\" y=\"-936.3\" font-family=\"Helvetica,sans-Serif\" font-size=\"14.00\">value = [0, 0, 0, 0, 3]</text>\n</g>\n<!-- 88&#45;&gt;89 -->\n<g id=\"edge89\" class=\"edge\">\n<title>88&#45;&gt;89</title>\n<path fill=\"none\" stroke=\"black\" d=\"M3160.1,-1024.88C3140.24,-1012.68 3117.82,-998.9 3098.29,-986.9\"/>\n<polygon fill=\"black\" stroke=\"black\" points=\"3099.88,-983.77 3089.53,-981.52 3096.22,-989.74 3099.88,-983.77\"/>\n</g>\n<!-- 90 -->\n<g id=\"node91\" class=\"node\">\n<title>90</title>\n<polygon fill=\"none\" stroke=\"black\" points=\"3291.5,-989 3136.5,-989 3136.5,-921 3291.5,-921 3291.5,-989\"/>\n<text text-anchor=\"middle\" x=\"3214\" y=\"-973.8\" font-family=\"Helvetica,sans-Serif\" font-size=\"14.00\">x[0] &lt;= &#45;0.39</text>\n<text text-anchor=\"middle\" x=\"3214\" y=\"-958.8\" font-family=\"Helvetica,sans-Serif\" font-size=\"14.00\">gini = 0.483</text>\n<text text-anchor=\"middle\" x=\"3214\" y=\"-943.8\" font-family=\"Helvetica,sans-Serif\" font-size=\"14.00\">samples = 27</text>\n<text text-anchor=\"middle\" x=\"3214\" y=\"-928.8\" font-family=\"Helvetica,sans-Serif\" font-size=\"14.00\">value = [11, 0, 0, 0, 16]</text>\n</g>\n<!-- 88&#45;&gt;90 -->\n<g id=\"edge90\" class=\"edge\">\n<title>88&#45;&gt;90</title>\n<path fill=\"none\" stroke=\"black\" d=\"M3214,-1024.88C3214,-1016.78 3214,-1007.98 3214,-999.47\"/>\n<polygon fill=\"black\" stroke=\"black\" points=\"3217.5,-999.3 3214,-989.3 3210.5,-999.3 3217.5,-999.3\"/>\n</g>\n<!-- 91 -->\n<g id=\"node92\" class=\"node\">\n<title>91</title>\n<polygon fill=\"none\" stroke=\"black\" points=\"3133.5,-885 2978.5,-885 2978.5,-817 3133.5,-817 3133.5,-885\"/>\n<text text-anchor=\"middle\" x=\"3056\" y=\"-869.8\" font-family=\"Helvetica,sans-Serif\" font-size=\"14.00\">x[0] &lt;= &#45;0.513</text>\n<text text-anchor=\"middle\" x=\"3056\" y=\"-854.8\" font-family=\"Helvetica,sans-Serif\" font-size=\"14.00\">gini = 0.497</text>\n<text text-anchor=\"middle\" x=\"3056\" y=\"-839.8\" font-family=\"Helvetica,sans-Serif\" font-size=\"14.00\">samples = 24</text>\n<text text-anchor=\"middle\" x=\"3056\" y=\"-824.8\" font-family=\"Helvetica,sans-Serif\" font-size=\"14.00\">value = [11, 0, 0, 0, 13]</text>\n</g>\n<!-- 90&#45;&gt;91 -->\n<g id=\"edge91\" class=\"edge\">\n<title>90&#45;&gt;91</title>\n<path fill=\"none\" stroke=\"black\" d=\"M3162.7,-920.88C3147.72,-911.21 3131.23,-900.56 3115.77,-890.59\"/>\n<polygon fill=\"black\" stroke=\"black\" points=\"3117.61,-887.61 3107.31,-885.12 3113.81,-893.49 3117.61,-887.61\"/>\n</g>\n<!-- 118 -->\n<g id=\"node119\" class=\"node\">\n<title>118</title>\n<polygon fill=\"none\" stroke=\"black\" points=\"3292,-877.5 3152,-877.5 3152,-824.5 3292,-824.5 3292,-877.5\"/>\n<text text-anchor=\"middle\" x=\"3222\" y=\"-862.3\" font-family=\"Helvetica,sans-Serif\" font-size=\"14.00\">gini = 0.0</text>\n<text text-anchor=\"middle\" x=\"3222\" y=\"-847.3\" font-family=\"Helvetica,sans-Serif\" font-size=\"14.00\">samples = 3</text>\n<text text-anchor=\"middle\" x=\"3222\" y=\"-832.3\" font-family=\"Helvetica,sans-Serif\" font-size=\"14.00\">value = [0, 0, 0, 0, 3]</text>\n</g>\n<!-- 90&#45;&gt;118 -->\n<g id=\"edge118\" class=\"edge\">\n<title>90&#45;&gt;118</title>\n<path fill=\"none\" stroke=\"black\" d=\"M3216.6,-920.88C3217.43,-910.22 3218.36,-898.35 3219.21,-887.52\"/>\n<polygon fill=\"black\" stroke=\"black\" points=\"3222.71,-887.76 3220,-877.52 3215.73,-887.22 3222.71,-887.76\"/>\n</g>\n<!-- 92 -->\n<g id=\"node93\" class=\"node\">\n<title>92</title>\n<polygon fill=\"none\" stroke=\"black\" points=\"3129.5,-781 2982.5,-781 2982.5,-713 3129.5,-713 3129.5,-781\"/>\n<text text-anchor=\"middle\" x=\"3056\" y=\"-765.8\" font-family=\"Helvetica,sans-Serif\" font-size=\"14.00\">x[1] &lt;= &#45;0.086</text>\n<text text-anchor=\"middle\" x=\"3056\" y=\"-750.8\" font-family=\"Helvetica,sans-Serif\" font-size=\"14.00\">gini = 0.483</text>\n<text text-anchor=\"middle\" x=\"3056\" y=\"-735.8\" font-family=\"Helvetica,sans-Serif\" font-size=\"14.00\">samples = 22</text>\n<text text-anchor=\"middle\" x=\"3056\" y=\"-720.8\" font-family=\"Helvetica,sans-Serif\" font-size=\"14.00\">value = [9, 0, 0, 0, 13]</text>\n</g>\n<!-- 91&#45;&gt;92 -->\n<g id=\"edge92\" class=\"edge\">\n<title>91&#45;&gt;92</title>\n<path fill=\"none\" stroke=\"black\" d=\"M3056,-816.88C3056,-808.78 3056,-799.98 3056,-791.47\"/>\n<polygon fill=\"black\" stroke=\"black\" points=\"3059.5,-791.3 3056,-781.3 3052.5,-791.3 3059.5,-791.3\"/>\n</g>\n<!-- 117 -->\n<g id=\"node118\" class=\"node\">\n<title>117</title>\n<polygon fill=\"none\" stroke=\"black\" points=\"3288,-773.5 3148,-773.5 3148,-720.5 3288,-720.5 3288,-773.5\"/>\n<text text-anchor=\"middle\" x=\"3218\" y=\"-758.3\" font-family=\"Helvetica,sans-Serif\" font-size=\"14.00\">gini = 0.0</text>\n<text text-anchor=\"middle\" x=\"3218\" y=\"-743.3\" font-family=\"Helvetica,sans-Serif\" font-size=\"14.00\">samples = 2</text>\n<text text-anchor=\"middle\" x=\"3218\" y=\"-728.3\" font-family=\"Helvetica,sans-Serif\" font-size=\"14.00\">value = [2, 0, 0, 0, 0]</text>\n</g>\n<!-- 91&#45;&gt;117 -->\n<g id=\"edge117\" class=\"edge\">\n<title>91&#45;&gt;117</title>\n<path fill=\"none\" stroke=\"black\" d=\"M3108.6,-816.88C3127.99,-804.68 3149.86,-790.9 3168.93,-778.9\"/>\n<polygon fill=\"black\" stroke=\"black\" points=\"3170.87,-781.81 3177.47,-773.52 3167.14,-775.89 3170.87,-781.81\"/>\n</g>\n<!-- 93 -->\n<g id=\"node94\" class=\"node\">\n<title>93</title>\n<polygon fill=\"none\" stroke=\"black\" points=\"3050.5,-677 2903.5,-677 2903.5,-609 3050.5,-609 3050.5,-677\"/>\n<text text-anchor=\"middle\" x=\"2977\" y=\"-661.8\" font-family=\"Helvetica,sans-Serif\" font-size=\"14.00\">x[0] &lt;= &#45;1.56</text>\n<text text-anchor=\"middle\" x=\"2977\" y=\"-646.8\" font-family=\"Helvetica,sans-Serif\" font-size=\"14.00\">gini = 0.408</text>\n<text text-anchor=\"middle\" x=\"2977\" y=\"-631.8\" font-family=\"Helvetica,sans-Serif\" font-size=\"14.00\">samples = 14</text>\n<text text-anchor=\"middle\" x=\"2977\" y=\"-616.8\" font-family=\"Helvetica,sans-Serif\" font-size=\"14.00\">value = [4, 0, 0, 0, 10]</text>\n</g>\n<!-- 92&#45;&gt;93 -->\n<g id=\"edge93\" class=\"edge\">\n<title>92&#45;&gt;93</title>\n<path fill=\"none\" stroke=\"black\" d=\"M3030.35,-712.88C3023.52,-704.07 3016.06,-694.43 3008.94,-685.24\"/>\n<polygon fill=\"black\" stroke=\"black\" points=\"3011.68,-683.06 3002.79,-677.3 3006.15,-687.35 3011.68,-683.06\"/>\n</g>\n<!-- 108 -->\n<g id=\"node109\" class=\"node\">\n<title>108</title>\n<polygon fill=\"none\" stroke=\"black\" points=\"3209,-677 3069,-677 3069,-609 3209,-609 3209,-677\"/>\n<text text-anchor=\"middle\" x=\"3139\" y=\"-661.8\" font-family=\"Helvetica,sans-Serif\" font-size=\"14.00\">x[0] &lt;= &#45;0.79</text>\n<text text-anchor=\"middle\" x=\"3139\" y=\"-646.8\" font-family=\"Helvetica,sans-Serif\" font-size=\"14.00\">gini = 0.469</text>\n<text text-anchor=\"middle\" x=\"3139\" y=\"-631.8\" font-family=\"Helvetica,sans-Serif\" font-size=\"14.00\">samples = 8</text>\n<text text-anchor=\"middle\" x=\"3139\" y=\"-616.8\" font-family=\"Helvetica,sans-Serif\" font-size=\"14.00\">value = [5, 0, 0, 0, 3]</text>\n</g>\n<!-- 92&#45;&gt;108 -->\n<g id=\"edge108\" class=\"edge\">\n<title>92&#45;&gt;108</title>\n<path fill=\"none\" stroke=\"black\" d=\"M3082.95,-712.88C3090.12,-704.07 3097.96,-694.43 3105.45,-685.24\"/>\n<polygon fill=\"black\" stroke=\"black\" points=\"3108.31,-687.26 3111.9,-677.3 3102.88,-682.85 3108.31,-687.26\"/>\n</g>\n<!-- 94 -->\n<g id=\"node95\" class=\"node\">\n<title>94</title>\n<polygon fill=\"none\" stroke=\"black\" points=\"2885,-565.5 2745,-565.5 2745,-512.5 2885,-512.5 2885,-565.5\"/>\n<text text-anchor=\"middle\" x=\"2815\" y=\"-550.3\" font-family=\"Helvetica,sans-Serif\" font-size=\"14.00\">gini = 0.0</text>\n<text text-anchor=\"middle\" x=\"2815\" y=\"-535.3\" font-family=\"Helvetica,sans-Serif\" font-size=\"14.00\">samples = 1</text>\n<text text-anchor=\"middle\" x=\"2815\" y=\"-520.3\" font-family=\"Helvetica,sans-Serif\" font-size=\"14.00\">value = [1, 0, 0, 0, 0]</text>\n</g>\n<!-- 93&#45;&gt;94 -->\n<g id=\"edge94\" class=\"edge\">\n<title>93&#45;&gt;94</title>\n<path fill=\"none\" stroke=\"black\" d=\"M2924.4,-608.88C2905.01,-596.68 2883.14,-582.9 2864.07,-570.9\"/>\n<polygon fill=\"black\" stroke=\"black\" points=\"2865.86,-567.89 2855.53,-565.52 2862.13,-573.81 2865.86,-567.89\"/>\n</g>\n<!-- 95 -->\n<g id=\"node96\" class=\"node\">\n<title>95</title>\n<polygon fill=\"none\" stroke=\"black\" points=\"3050.5,-573 2903.5,-573 2903.5,-505 3050.5,-505 3050.5,-573\"/>\n<text text-anchor=\"middle\" x=\"2977\" y=\"-557.8\" font-family=\"Helvetica,sans-Serif\" font-size=\"14.00\">x[0] &lt;= &#45;1.283</text>\n<text text-anchor=\"middle\" x=\"2977\" y=\"-542.8\" font-family=\"Helvetica,sans-Serif\" font-size=\"14.00\">gini = 0.355</text>\n<text text-anchor=\"middle\" x=\"2977\" y=\"-527.8\" font-family=\"Helvetica,sans-Serif\" font-size=\"14.00\">samples = 13</text>\n<text text-anchor=\"middle\" x=\"2977\" y=\"-512.8\" font-family=\"Helvetica,sans-Serif\" font-size=\"14.00\">value = [3, 0, 0, 0, 10]</text>\n</g>\n<!-- 93&#45;&gt;95 -->\n<g id=\"edge95\" class=\"edge\">\n<title>93&#45;&gt;95</title>\n<path fill=\"none\" stroke=\"black\" d=\"M2977,-608.88C2977,-600.78 2977,-591.98 2977,-583.47\"/>\n<polygon fill=\"black\" stroke=\"black\" points=\"2980.5,-583.3 2977,-573.3 2973.5,-583.3 2980.5,-583.3\"/>\n</g>\n<!-- 96 -->\n<g id=\"node97\" class=\"node\">\n<title>96</title>\n<polygon fill=\"none\" stroke=\"black\" points=\"2890,-461.5 2750,-461.5 2750,-408.5 2890,-408.5 2890,-461.5\"/>\n<text text-anchor=\"middle\" x=\"2820\" y=\"-446.3\" font-family=\"Helvetica,sans-Serif\" font-size=\"14.00\">gini = 0.0</text>\n<text text-anchor=\"middle\" x=\"2820\" y=\"-431.3\" font-family=\"Helvetica,sans-Serif\" font-size=\"14.00\">samples = 4</text>\n<text text-anchor=\"middle\" x=\"2820\" y=\"-416.3\" font-family=\"Helvetica,sans-Serif\" font-size=\"14.00\">value = [0, 0, 0, 0, 4]</text>\n</g>\n<!-- 95&#45;&gt;96 -->\n<g id=\"edge96\" class=\"edge\">\n<title>95&#45;&gt;96</title>\n<path fill=\"none\" stroke=\"black\" d=\"M2926.03,-504.88C2907.32,-492.73 2886.23,-479.03 2867.81,-467.06\"/>\n<polygon fill=\"black\" stroke=\"black\" points=\"2869.57,-464.03 2859.28,-461.52 2865.76,-469.9 2869.57,-464.03\"/>\n</g>\n<!-- 97 -->\n<g id=\"node98\" class=\"node\">\n<title>97</title>\n<polygon fill=\"none\" stroke=\"black\" points=\"3048,-469 2908,-469 2908,-401 3048,-401 3048,-469\"/>\n<text text-anchor=\"middle\" x=\"2978\" y=\"-453.8\" font-family=\"Helvetica,sans-Serif\" font-size=\"14.00\">x[5] &lt;= &#45;0.115</text>\n<text text-anchor=\"middle\" x=\"2978\" y=\"-438.8\" font-family=\"Helvetica,sans-Serif\" font-size=\"14.00\">gini = 0.444</text>\n<text text-anchor=\"middle\" x=\"2978\" y=\"-423.8\" font-family=\"Helvetica,sans-Serif\" font-size=\"14.00\">samples = 9</text>\n<text text-anchor=\"middle\" x=\"2978\" y=\"-408.8\" font-family=\"Helvetica,sans-Serif\" font-size=\"14.00\">value = [3, 0, 0, 0, 6]</text>\n</g>\n<!-- 95&#45;&gt;97 -->\n<g id=\"edge97\" class=\"edge\">\n<title>95&#45;&gt;97</title>\n<path fill=\"none\" stroke=\"black\" d=\"M2977.32,-504.88C2977.4,-496.78 2977.49,-487.98 2977.57,-479.47\"/>\n<polygon fill=\"black\" stroke=\"black\" points=\"2981.08,-479.33 2977.67,-469.3 2974.08,-479.26 2981.08,-479.33\"/>\n</g>\n<!-- 98 -->\n<g id=\"node99\" class=\"node\">\n<title>98</title>\n<polygon fill=\"none\" stroke=\"black\" points=\"2891,-365 2751,-365 2751,-297 2891,-297 2891,-365\"/>\n<text text-anchor=\"middle\" x=\"2821\" y=\"-349.8\" font-family=\"Helvetica,sans-Serif\" font-size=\"14.00\">x[0] &lt;= &#45;0.79</text>\n<text text-anchor=\"middle\" x=\"2821\" y=\"-334.8\" font-family=\"Helvetica,sans-Serif\" font-size=\"14.00\">gini = 0.408</text>\n<text text-anchor=\"middle\" x=\"2821\" y=\"-319.8\" font-family=\"Helvetica,sans-Serif\" font-size=\"14.00\">samples = 7</text>\n<text text-anchor=\"middle\" x=\"2821\" y=\"-304.8\" font-family=\"Helvetica,sans-Serif\" font-size=\"14.00\">value = [2, 0, 0, 0, 5]</text>\n</g>\n<!-- 97&#45;&gt;98 -->\n<g id=\"edge98\" class=\"edge\">\n<title>97&#45;&gt;98</title>\n<path fill=\"none\" stroke=\"black\" d=\"M2927.03,-400.88C2912.14,-391.21 2895.75,-380.56 2880.39,-370.59\"/>\n<polygon fill=\"black\" stroke=\"black\" points=\"2882.28,-367.64 2871.99,-365.12 2878.46,-373.51 2882.28,-367.64\"/>\n</g>\n<!-- 105 -->\n<g id=\"node106\" class=\"node\">\n<title>105</title>\n<polygon fill=\"none\" stroke=\"black\" points=\"3049,-365 2909,-365 2909,-297 3049,-297 3049,-365\"/>\n<text text-anchor=\"middle\" x=\"2979\" y=\"-349.8\" font-family=\"Helvetica,sans-Serif\" font-size=\"14.00\">x[0] &lt;= &#45;0.79</text>\n<text text-anchor=\"middle\" x=\"2979\" y=\"-334.8\" font-family=\"Helvetica,sans-Serif\" font-size=\"14.00\">gini = 0.5</text>\n<text text-anchor=\"middle\" x=\"2979\" y=\"-319.8\" font-family=\"Helvetica,sans-Serif\" font-size=\"14.00\">samples = 2</text>\n<text text-anchor=\"middle\" x=\"2979\" y=\"-304.8\" font-family=\"Helvetica,sans-Serif\" font-size=\"14.00\">value = [1, 0, 0, 0, 1]</text>\n</g>\n<!-- 97&#45;&gt;105 -->\n<g id=\"edge105\" class=\"edge\">\n<title>97&#45;&gt;105</title>\n<path fill=\"none\" stroke=\"black\" d=\"M2978.32,-400.88C2978.4,-392.78 2978.49,-383.98 2978.57,-375.47\"/>\n<polygon fill=\"black\" stroke=\"black\" points=\"2982.08,-375.33 2978.67,-365.3 2975.08,-375.26 2982.08,-375.33\"/>\n</g>\n<!-- 99 -->\n<g id=\"node100\" class=\"node\">\n<title>99</title>\n<polygon fill=\"none\" stroke=\"black\" points=\"2733,-261 2593,-261 2593,-193 2733,-193 2733,-261\"/>\n<text text-anchor=\"middle\" x=\"2663\" y=\"-245.8\" font-family=\"Helvetica,sans-Serif\" font-size=\"14.00\">x[0] &lt;= &#45;0.975</text>\n<text text-anchor=\"middle\" x=\"2663\" y=\"-230.8\" font-family=\"Helvetica,sans-Serif\" font-size=\"14.00\">gini = 0.5</text>\n<text text-anchor=\"middle\" x=\"2663\" y=\"-215.8\" font-family=\"Helvetica,sans-Serif\" font-size=\"14.00\">samples = 4</text>\n<text text-anchor=\"middle\" x=\"2663\" y=\"-200.8\" font-family=\"Helvetica,sans-Serif\" font-size=\"14.00\">value = [2, 0, 0, 0, 2]</text>\n</g>\n<!-- 98&#45;&gt;99 -->\n<g id=\"edge99\" class=\"edge\">\n<title>98&#45;&gt;99</title>\n<path fill=\"none\" stroke=\"black\" d=\"M2769.7,-296.88C2754.72,-287.21 2738.23,-276.56 2722.77,-266.59\"/>\n<polygon fill=\"black\" stroke=\"black\" points=\"2724.61,-263.61 2714.31,-261.12 2720.81,-269.49 2724.61,-263.61\"/>\n</g>\n<!-- 104 -->\n<g id=\"node105\" class=\"node\">\n<title>104</title>\n<polygon fill=\"none\" stroke=\"black\" points=\"2891,-253.5 2751,-253.5 2751,-200.5 2891,-200.5 2891,-253.5\"/>\n<text text-anchor=\"middle\" x=\"2821\" y=\"-238.3\" font-family=\"Helvetica,sans-Serif\" font-size=\"14.00\">gini = 0.0</text>\n<text text-anchor=\"middle\" x=\"2821\" y=\"-223.3\" font-family=\"Helvetica,sans-Serif\" font-size=\"14.00\">samples = 3</text>\n<text text-anchor=\"middle\" x=\"2821\" y=\"-208.3\" font-family=\"Helvetica,sans-Serif\" font-size=\"14.00\">value = [0, 0, 0, 0, 3]</text>\n</g>\n<!-- 98&#45;&gt;104 -->\n<g id=\"edge104\" class=\"edge\">\n<title>98&#45;&gt;104</title>\n<path fill=\"none\" stroke=\"black\" d=\"M2821,-296.88C2821,-286.33 2821,-274.6 2821,-263.85\"/>\n<polygon fill=\"black\" stroke=\"black\" points=\"2824.5,-263.52 2821,-253.52 2817.5,-263.52 2824.5,-263.52\"/>\n</g>\n<!-- 100 -->\n<g id=\"node101\" class=\"node\">\n<title>100</title>\n<polygon fill=\"none\" stroke=\"black\" points=\"2654,-157 2514,-157 2514,-89 2654,-89 2654,-157\"/>\n<text text-anchor=\"middle\" x=\"2584\" y=\"-141.8\" font-family=\"Helvetica,sans-Serif\" font-size=\"14.00\">x[0] &lt;= &#45;1.16</text>\n<text text-anchor=\"middle\" x=\"2584\" y=\"-126.8\" font-family=\"Helvetica,sans-Serif\" font-size=\"14.00\">gini = 0.444</text>\n<text text-anchor=\"middle\" x=\"2584\" y=\"-111.8\" font-family=\"Helvetica,sans-Serif\" font-size=\"14.00\">samples = 3</text>\n<text text-anchor=\"middle\" x=\"2584\" y=\"-96.8\" font-family=\"Helvetica,sans-Serif\" font-size=\"14.00\">value = [1, 0, 0, 0, 2]</text>\n</g>\n<!-- 99&#45;&gt;100 -->\n<g id=\"edge100\" class=\"edge\">\n<title>99&#45;&gt;100</title>\n<path fill=\"none\" stroke=\"black\" d=\"M2637.35,-192.88C2630.52,-184.07 2623.06,-174.43 2615.94,-165.24\"/>\n<polygon fill=\"black\" stroke=\"black\" points=\"2618.68,-163.06 2609.79,-157.3 2613.15,-167.35 2618.68,-163.06\"/>\n</g>\n<!-- 103 -->\n<g id=\"node104\" class=\"node\">\n<title>103</title>\n<polygon fill=\"none\" stroke=\"black\" points=\"2812,-149.5 2672,-149.5 2672,-96.5 2812,-96.5 2812,-149.5\"/>\n<text text-anchor=\"middle\" x=\"2742\" y=\"-134.3\" font-family=\"Helvetica,sans-Serif\" font-size=\"14.00\">gini = 0.0</text>\n<text text-anchor=\"middle\" x=\"2742\" y=\"-119.3\" font-family=\"Helvetica,sans-Serif\" font-size=\"14.00\">samples = 1</text>\n<text text-anchor=\"middle\" x=\"2742\" y=\"-104.3\" font-family=\"Helvetica,sans-Serif\" font-size=\"14.00\">value = [1, 0, 0, 0, 0]</text>\n</g>\n<!-- 99&#45;&gt;103 -->\n<g id=\"edge103\" class=\"edge\">\n<title>99&#45;&gt;103</title>\n<path fill=\"none\" stroke=\"black\" d=\"M2688.65,-192.88C2697.42,-181.56 2707.24,-168.88 2716.04,-157.52\"/>\n<polygon fill=\"black\" stroke=\"black\" points=\"2718.88,-159.57 2722.23,-149.52 2713.34,-155.28 2718.88,-159.57\"/>\n</g>\n<!-- 101 -->\n<g id=\"node102\" class=\"node\">\n<title>101</title>\n<polygon fill=\"none\" stroke=\"black\" points=\"2575,-53 2435,-53 2435,0 2575,0 2575,-53\"/>\n<text text-anchor=\"middle\" x=\"2505\" y=\"-37.8\" font-family=\"Helvetica,sans-Serif\" font-size=\"14.00\">gini = 0.5</text>\n<text text-anchor=\"middle\" x=\"2505\" y=\"-22.8\" font-family=\"Helvetica,sans-Serif\" font-size=\"14.00\">samples = 2</text>\n<text text-anchor=\"middle\" x=\"2505\" y=\"-7.8\" font-family=\"Helvetica,sans-Serif\" font-size=\"14.00\">value = [1, 0, 0, 0, 1]</text>\n</g>\n<!-- 100&#45;&gt;101 -->\n<g id=\"edge101\" class=\"edge\">\n<title>100&#45;&gt;101</title>\n<path fill=\"none\" stroke=\"black\" d=\"M2556.37,-88.95C2548.8,-79.89 2540.59,-70.07 2532.99,-60.99\"/>\n<polygon fill=\"black\" stroke=\"black\" points=\"2535.61,-58.66 2526.52,-53.24 2530.24,-63.15 2535.61,-58.66\"/>\n</g>\n<!-- 102 -->\n<g id=\"node103\" class=\"node\">\n<title>102</title>\n<polygon fill=\"none\" stroke=\"black\" points=\"2733,-53 2593,-53 2593,0 2733,0 2733,-53\"/>\n<text text-anchor=\"middle\" x=\"2663\" y=\"-37.8\" font-family=\"Helvetica,sans-Serif\" font-size=\"14.00\">gini = 0.0</text>\n<text text-anchor=\"middle\" x=\"2663\" y=\"-22.8\" font-family=\"Helvetica,sans-Serif\" font-size=\"14.00\">samples = 1</text>\n<text text-anchor=\"middle\" x=\"2663\" y=\"-7.8\" font-family=\"Helvetica,sans-Serif\" font-size=\"14.00\">value = [0, 0, 0, 0, 1]</text>\n</g>\n<!-- 100&#45;&gt;102 -->\n<g id=\"edge102\" class=\"edge\">\n<title>100&#45;&gt;102</title>\n<path fill=\"none\" stroke=\"black\" d=\"M2611.63,-88.95C2619.2,-79.89 2627.41,-70.07 2635.01,-60.99\"/>\n<polygon fill=\"black\" stroke=\"black\" points=\"2637.76,-63.15 2641.48,-53.24 2632.39,-58.66 2637.76,-63.15\"/>\n</g>\n<!-- 106 -->\n<g id=\"node107\" class=\"node\">\n<title>106</title>\n<polygon fill=\"none\" stroke=\"black\" points=\"3049,-253.5 2909,-253.5 2909,-200.5 3049,-200.5 3049,-253.5\"/>\n<text text-anchor=\"middle\" x=\"2979\" y=\"-238.3\" font-family=\"Helvetica,sans-Serif\" font-size=\"14.00\">gini = 0.0</text>\n<text text-anchor=\"middle\" x=\"2979\" y=\"-223.3\" font-family=\"Helvetica,sans-Serif\" font-size=\"14.00\">samples = 1</text>\n<text text-anchor=\"middle\" x=\"2979\" y=\"-208.3\" font-family=\"Helvetica,sans-Serif\" font-size=\"14.00\">value = [0, 0, 0, 0, 1]</text>\n</g>\n<!-- 105&#45;&gt;106 -->\n<g id=\"edge106\" class=\"edge\">\n<title>105&#45;&gt;106</title>\n<path fill=\"none\" stroke=\"black\" d=\"M2979,-296.88C2979,-286.33 2979,-274.6 2979,-263.85\"/>\n<polygon fill=\"black\" stroke=\"black\" points=\"2982.5,-263.52 2979,-253.52 2975.5,-263.52 2982.5,-263.52\"/>\n</g>\n<!-- 107 -->\n<g id=\"node108\" class=\"node\">\n<title>107</title>\n<polygon fill=\"none\" stroke=\"black\" points=\"3207,-253.5 3067,-253.5 3067,-200.5 3207,-200.5 3207,-253.5\"/>\n<text text-anchor=\"middle\" x=\"3137\" y=\"-238.3\" font-family=\"Helvetica,sans-Serif\" font-size=\"14.00\">gini = 0.0</text>\n<text text-anchor=\"middle\" x=\"3137\" y=\"-223.3\" font-family=\"Helvetica,sans-Serif\" font-size=\"14.00\">samples = 1</text>\n<text text-anchor=\"middle\" x=\"3137\" y=\"-208.3\" font-family=\"Helvetica,sans-Serif\" font-size=\"14.00\">value = [1, 0, 0, 0, 0]</text>\n</g>\n<!-- 105&#45;&gt;107 -->\n<g id=\"edge107\" class=\"edge\">\n<title>105&#45;&gt;107</title>\n<path fill=\"none\" stroke=\"black\" d=\"M3030.3,-296.88C3049.12,-284.73 3070.35,-271.03 3088.89,-259.06\"/>\n<polygon fill=\"black\" stroke=\"black\" points=\"3090.97,-261.88 3097.47,-253.52 3087.17,-256 3090.97,-261.88\"/>\n</g>\n<!-- 109 -->\n<g id=\"node110\" class=\"node\">\n<title>109</title>\n<polygon fill=\"none\" stroke=\"black\" points=\"3209,-573 3069,-573 3069,-505 3209,-505 3209,-573\"/>\n<text text-anchor=\"middle\" x=\"3139\" y=\"-557.8\" font-family=\"Helvetica,sans-Serif\" font-size=\"14.00\">x[0] &lt;= &#45;1.129</text>\n<text text-anchor=\"middle\" x=\"3139\" y=\"-542.8\" font-family=\"Helvetica,sans-Serif\" font-size=\"14.00\">gini = 0.408</text>\n<text text-anchor=\"middle\" x=\"3139\" y=\"-527.8\" font-family=\"Helvetica,sans-Serif\" font-size=\"14.00\">samples = 7</text>\n<text text-anchor=\"middle\" x=\"3139\" y=\"-512.8\" font-family=\"Helvetica,sans-Serif\" font-size=\"14.00\">value = [5, 0, 0, 0, 2]</text>\n</g>\n<!-- 108&#45;&gt;109 -->\n<g id=\"edge109\" class=\"edge\">\n<title>108&#45;&gt;109</title>\n<path fill=\"none\" stroke=\"black\" d=\"M3139,-608.88C3139,-600.78 3139,-591.98 3139,-583.47\"/>\n<polygon fill=\"black\" stroke=\"black\" points=\"3142.5,-583.3 3139,-573.3 3135.5,-583.3 3142.5,-583.3\"/>\n</g>\n<!-- 116 -->\n<g id=\"node117\" class=\"node\">\n<title>116</title>\n<polygon fill=\"none\" stroke=\"black\" points=\"3367,-565.5 3227,-565.5 3227,-512.5 3367,-512.5 3367,-565.5\"/>\n<text text-anchor=\"middle\" x=\"3297\" y=\"-550.3\" font-family=\"Helvetica,sans-Serif\" font-size=\"14.00\">gini = 0.0</text>\n<text text-anchor=\"middle\" x=\"3297\" y=\"-535.3\" font-family=\"Helvetica,sans-Serif\" font-size=\"14.00\">samples = 1</text>\n<text text-anchor=\"middle\" x=\"3297\" y=\"-520.3\" font-family=\"Helvetica,sans-Serif\" font-size=\"14.00\">value = [0, 0, 0, 0, 1]</text>\n</g>\n<!-- 108&#45;&gt;116 -->\n<g id=\"edge116\" class=\"edge\">\n<title>108&#45;&gt;116</title>\n<path fill=\"none\" stroke=\"black\" d=\"M3190.3,-608.88C3209.12,-596.73 3230.35,-583.03 3248.89,-571.06\"/>\n<polygon fill=\"black\" stroke=\"black\" points=\"3250.97,-573.88 3257.47,-565.52 3247.17,-568 3250.97,-573.88\"/>\n</g>\n<!-- 110 -->\n<g id=\"node111\" class=\"node\">\n<title>110</title>\n<polygon fill=\"none\" stroke=\"black\" points=\"3208,-461.5 3068,-461.5 3068,-408.5 3208,-408.5 3208,-461.5\"/>\n<text text-anchor=\"middle\" x=\"3138\" y=\"-446.3\" font-family=\"Helvetica,sans-Serif\" font-size=\"14.00\">gini = 0.0</text>\n<text text-anchor=\"middle\" x=\"3138\" y=\"-431.3\" font-family=\"Helvetica,sans-Serif\" font-size=\"14.00\">samples = 2</text>\n<text text-anchor=\"middle\" x=\"3138\" y=\"-416.3\" font-family=\"Helvetica,sans-Serif\" font-size=\"14.00\">value = [2, 0, 0, 0, 0]</text>\n</g>\n<!-- 109&#45;&gt;110 -->\n<g id=\"edge110\" class=\"edge\">\n<title>109&#45;&gt;110</title>\n<path fill=\"none\" stroke=\"black\" d=\"M3138.68,-504.88C3138.57,-494.33 3138.46,-482.6 3138.35,-471.85\"/>\n<polygon fill=\"black\" stroke=\"black\" points=\"3141.85,-471.49 3138.25,-461.52 3134.85,-471.55 3141.85,-471.49\"/>\n</g>\n<!-- 111 -->\n<g id=\"node112\" class=\"node\">\n<title>111</title>\n<polygon fill=\"none\" stroke=\"black\" points=\"3366,-469 3226,-469 3226,-401 3366,-401 3366,-469\"/>\n<text text-anchor=\"middle\" x=\"3296\" y=\"-453.8\" font-family=\"Helvetica,sans-Serif\" font-size=\"14.00\">x[5] &lt;= &#45;0.115</text>\n<text text-anchor=\"middle\" x=\"3296\" y=\"-438.8\" font-family=\"Helvetica,sans-Serif\" font-size=\"14.00\">gini = 0.48</text>\n<text text-anchor=\"middle\" x=\"3296\" y=\"-423.8\" font-family=\"Helvetica,sans-Serif\" font-size=\"14.00\">samples = 5</text>\n<text text-anchor=\"middle\" x=\"3296\" y=\"-408.8\" font-family=\"Helvetica,sans-Serif\" font-size=\"14.00\">value = [3, 0, 0, 0, 2]</text>\n</g>\n<!-- 109&#45;&gt;111 -->\n<g id=\"edge111\" class=\"edge\">\n<title>109&#45;&gt;111</title>\n<path fill=\"none\" stroke=\"black\" d=\"M3189.97,-504.88C3204.86,-495.21 3221.25,-484.56 3236.61,-474.59\"/>\n<polygon fill=\"black\" stroke=\"black\" points=\"3238.54,-477.51 3245.01,-469.12 3234.72,-471.64 3238.54,-477.51\"/>\n</g>\n<!-- 112 -->\n<g id=\"node113\" class=\"node\">\n<title>112</title>\n<polygon fill=\"none\" stroke=\"black\" points=\"3366,-365 3226,-365 3226,-297 3366,-297 3366,-365\"/>\n<text text-anchor=\"middle\" x=\"3296\" y=\"-349.8\" font-family=\"Helvetica,sans-Serif\" font-size=\"14.00\">x[0] &lt;= &#45;0.883</text>\n<text text-anchor=\"middle\" x=\"3296\" y=\"-334.8\" font-family=\"Helvetica,sans-Serif\" font-size=\"14.00\">gini = 0.375</text>\n<text text-anchor=\"middle\" x=\"3296\" y=\"-319.8\" font-family=\"Helvetica,sans-Serif\" font-size=\"14.00\">samples = 4</text>\n<text text-anchor=\"middle\" x=\"3296\" y=\"-304.8\" font-family=\"Helvetica,sans-Serif\" font-size=\"14.00\">value = [3, 0, 0, 0, 1]</text>\n</g>\n<!-- 111&#45;&gt;112 -->\n<g id=\"edge112\" class=\"edge\">\n<title>111&#45;&gt;112</title>\n<path fill=\"none\" stroke=\"black\" d=\"M3296,-400.88C3296,-392.78 3296,-383.98 3296,-375.47\"/>\n<polygon fill=\"black\" stroke=\"black\" points=\"3299.5,-375.3 3296,-365.3 3292.5,-375.3 3299.5,-375.3\"/>\n</g>\n<!-- 115 -->\n<g id=\"node116\" class=\"node\">\n<title>115</title>\n<polygon fill=\"none\" stroke=\"black\" points=\"3524,-357.5 3384,-357.5 3384,-304.5 3524,-304.5 3524,-357.5\"/>\n<text text-anchor=\"middle\" x=\"3454\" y=\"-342.3\" font-family=\"Helvetica,sans-Serif\" font-size=\"14.00\">gini = 0.0</text>\n<text text-anchor=\"middle\" x=\"3454\" y=\"-327.3\" font-family=\"Helvetica,sans-Serif\" font-size=\"14.00\">samples = 1</text>\n<text text-anchor=\"middle\" x=\"3454\" y=\"-312.3\" font-family=\"Helvetica,sans-Serif\" font-size=\"14.00\">value = [0, 0, 0, 0, 1]</text>\n</g>\n<!-- 111&#45;&gt;115 -->\n<g id=\"edge115\" class=\"edge\">\n<title>111&#45;&gt;115</title>\n<path fill=\"none\" stroke=\"black\" d=\"M3347.3,-400.88C3366.12,-388.73 3387.35,-375.03 3405.89,-363.06\"/>\n<polygon fill=\"black\" stroke=\"black\" points=\"3407.97,-365.88 3414.47,-357.52 3404.17,-360 3407.97,-365.88\"/>\n</g>\n<!-- 113 -->\n<g id=\"node114\" class=\"node\">\n<title>113</title>\n<polygon fill=\"none\" stroke=\"black\" points=\"3365,-253.5 3225,-253.5 3225,-200.5 3365,-200.5 3365,-253.5\"/>\n<text text-anchor=\"middle\" x=\"3295\" y=\"-238.3\" font-family=\"Helvetica,sans-Serif\" font-size=\"14.00\">gini = 0.444</text>\n<text text-anchor=\"middle\" x=\"3295\" y=\"-223.3\" font-family=\"Helvetica,sans-Serif\" font-size=\"14.00\">samples = 3</text>\n<text text-anchor=\"middle\" x=\"3295\" y=\"-208.3\" font-family=\"Helvetica,sans-Serif\" font-size=\"14.00\">value = [2, 0, 0, 0, 1]</text>\n</g>\n<!-- 112&#45;&gt;113 -->\n<g id=\"edge113\" class=\"edge\">\n<title>112&#45;&gt;113</title>\n<path fill=\"none\" stroke=\"black\" d=\"M3295.68,-296.88C3295.57,-286.33 3295.46,-274.6 3295.35,-263.85\"/>\n<polygon fill=\"black\" stroke=\"black\" points=\"3298.85,-263.49 3295.25,-253.52 3291.85,-263.55 3298.85,-263.49\"/>\n</g>\n<!-- 114 -->\n<g id=\"node115\" class=\"node\">\n<title>114</title>\n<polygon fill=\"none\" stroke=\"black\" points=\"3523,-253.5 3383,-253.5 3383,-200.5 3523,-200.5 3523,-253.5\"/>\n<text text-anchor=\"middle\" x=\"3453\" y=\"-238.3\" font-family=\"Helvetica,sans-Serif\" font-size=\"14.00\">gini = 0.0</text>\n<text text-anchor=\"middle\" x=\"3453\" y=\"-223.3\" font-family=\"Helvetica,sans-Serif\" font-size=\"14.00\">samples = 1</text>\n<text text-anchor=\"middle\" x=\"3453\" y=\"-208.3\" font-family=\"Helvetica,sans-Serif\" font-size=\"14.00\">value = [1, 0, 0, 0, 0]</text>\n</g>\n<!-- 112&#45;&gt;114 -->\n<g id=\"edge114\" class=\"edge\">\n<title>112&#45;&gt;114</title>\n<path fill=\"none\" stroke=\"black\" d=\"M3346.97,-296.88C3365.68,-284.73 3386.77,-271.03 3405.19,-259.06\"/>\n<polygon fill=\"black\" stroke=\"black\" points=\"3407.24,-261.9 3413.72,-253.52 3403.43,-256.03 3407.24,-261.9\"/>\n</g>\n<!-- 120 -->\n<g id=\"node121\" class=\"node\">\n<title>120</title>\n<polygon fill=\"none\" stroke=\"black\" points=\"3450,-989 3310,-989 3310,-921 3450,-921 3450,-989\"/>\n<text text-anchor=\"middle\" x=\"3380\" y=\"-973.8\" font-family=\"Helvetica,sans-Serif\" font-size=\"14.00\">x[0] &lt;= &#45;0.021</text>\n<text text-anchor=\"middle\" x=\"3380\" y=\"-958.8\" font-family=\"Helvetica,sans-Serif\" font-size=\"14.00\">gini = 0.5</text>\n<text text-anchor=\"middle\" x=\"3380\" y=\"-943.8\" font-family=\"Helvetica,sans-Serif\" font-size=\"14.00\">samples = 2</text>\n<text text-anchor=\"middle\" x=\"3380\" y=\"-928.8\" font-family=\"Helvetica,sans-Serif\" font-size=\"14.00\">value = [1, 0, 0, 0, 1]</text>\n</g>\n<!-- 119&#45;&gt;120 -->\n<g id=\"edge120\" class=\"edge\">\n<title>119&#45;&gt;120</title>\n<path fill=\"none\" stroke=\"black\" d=\"M3380,-1024.88C3380,-1016.78 3380,-1007.98 3380,-999.47\"/>\n<polygon fill=\"black\" stroke=\"black\" points=\"3383.5,-999.3 3380,-989.3 3376.5,-999.3 3383.5,-999.3\"/>\n</g>\n<!-- 123 -->\n<g id=\"node124\" class=\"node\">\n<title>123</title>\n<polygon fill=\"none\" stroke=\"black\" points=\"3608,-981.5 3468,-981.5 3468,-928.5 3608,-928.5 3608,-981.5\"/>\n<text text-anchor=\"middle\" x=\"3538\" y=\"-966.3\" font-family=\"Helvetica,sans-Serif\" font-size=\"14.00\">gini = 0.0</text>\n<text text-anchor=\"middle\" x=\"3538\" y=\"-951.3\" font-family=\"Helvetica,sans-Serif\" font-size=\"14.00\">samples = 4</text>\n<text text-anchor=\"middle\" x=\"3538\" y=\"-936.3\" font-family=\"Helvetica,sans-Serif\" font-size=\"14.00\">value = [4, 0, 0, 0, 0]</text>\n</g>\n<!-- 119&#45;&gt;123 -->\n<g id=\"edge123\" class=\"edge\">\n<title>119&#45;&gt;123</title>\n<path fill=\"none\" stroke=\"black\" d=\"M3431.3,-1024.88C3450.12,-1012.73 3471.35,-999.03 3489.89,-987.06\"/>\n<polygon fill=\"black\" stroke=\"black\" points=\"3491.97,-989.88 3498.47,-981.52 3488.17,-984 3491.97,-989.88\"/>\n</g>\n<!-- 121 -->\n<g id=\"node122\" class=\"node\">\n<title>121</title>\n<polygon fill=\"none\" stroke=\"black\" points=\"3450,-877.5 3310,-877.5 3310,-824.5 3450,-824.5 3450,-877.5\"/>\n<text text-anchor=\"middle\" x=\"3380\" y=\"-862.3\" font-family=\"Helvetica,sans-Serif\" font-size=\"14.00\">gini = 0.0</text>\n<text text-anchor=\"middle\" x=\"3380\" y=\"-847.3\" font-family=\"Helvetica,sans-Serif\" font-size=\"14.00\">samples = 1</text>\n<text text-anchor=\"middle\" x=\"3380\" y=\"-832.3\" font-family=\"Helvetica,sans-Serif\" font-size=\"14.00\">value = [1, 0, 0, 0, 0]</text>\n</g>\n<!-- 120&#45;&gt;121 -->\n<g id=\"edge121\" class=\"edge\">\n<title>120&#45;&gt;121</title>\n<path fill=\"none\" stroke=\"black\" d=\"M3380,-920.88C3380,-910.33 3380,-898.6 3380,-887.85\"/>\n<polygon fill=\"black\" stroke=\"black\" points=\"3383.5,-887.52 3380,-877.52 3376.5,-887.52 3383.5,-887.52\"/>\n</g>\n<!-- 122 -->\n<g id=\"node123\" class=\"node\">\n<title>122</title>\n<polygon fill=\"none\" stroke=\"black\" points=\"3608,-877.5 3468,-877.5 3468,-824.5 3608,-824.5 3608,-877.5\"/>\n<text text-anchor=\"middle\" x=\"3538\" y=\"-862.3\" font-family=\"Helvetica,sans-Serif\" font-size=\"14.00\">gini = 0.0</text>\n<text text-anchor=\"middle\" x=\"3538\" y=\"-847.3\" font-family=\"Helvetica,sans-Serif\" font-size=\"14.00\">samples = 1</text>\n<text text-anchor=\"middle\" x=\"3538\" y=\"-832.3\" font-family=\"Helvetica,sans-Serif\" font-size=\"14.00\">value = [0, 0, 0, 0, 1]</text>\n</g>\n<!-- 120&#45;&gt;122 -->\n<g id=\"edge122\" class=\"edge\">\n<title>120&#45;&gt;122</title>\n<path fill=\"none\" stroke=\"black\" d=\"M3431.3,-920.88C3450.12,-908.73 3471.35,-895.03 3489.89,-883.06\"/>\n<polygon fill=\"black\" stroke=\"black\" points=\"3491.97,-885.88 3498.47,-877.52 3488.17,-880 3491.97,-885.88\"/>\n</g>\n<!-- 125 -->\n<g id=\"node126\" class=\"node\">\n<title>125</title>\n<polygon fill=\"none\" stroke=\"black\" points=\"3845,-1093 3705,-1093 3705,-1025 3845,-1025 3845,-1093\"/>\n<text text-anchor=\"middle\" x=\"3775\" y=\"-1077.8\" font-family=\"Helvetica,sans-Serif\" font-size=\"14.00\">x[0] &lt;= 0.902</text>\n<text text-anchor=\"middle\" x=\"3775\" y=\"-1062.8\" font-family=\"Helvetica,sans-Serif\" font-size=\"14.00\">gini = 0.498</text>\n<text text-anchor=\"middle\" x=\"3775\" y=\"-1047.8\" font-family=\"Helvetica,sans-Serif\" font-size=\"14.00\">samples = 15</text>\n<text text-anchor=\"middle\" x=\"3775\" y=\"-1032.8\" font-family=\"Helvetica,sans-Serif\" font-size=\"14.00\">value = [0, 8, 0, 0, 7]</text>\n</g>\n<!-- 124&#45;&gt;125 -->\n<g id=\"edge125\" class=\"edge\">\n<title>124&#45;&gt;125</title>\n<path fill=\"none\" stroke=\"black\" d=\"M3775,-1128.88C3775,-1120.78 3775,-1111.98 3775,-1103.47\"/>\n<polygon fill=\"black\" stroke=\"black\" points=\"3778.5,-1103.3 3775,-1093.3 3771.5,-1103.3 3778.5,-1103.3\"/>\n</g>\n<!-- 134 -->\n<g id=\"node135\" class=\"node\">\n<title>134</title>\n<polygon fill=\"none\" stroke=\"black\" points=\"4082,-1093 3942,-1093 3942,-1025 4082,-1025 4082,-1093\"/>\n<text text-anchor=\"middle\" x=\"4012\" y=\"-1077.8\" font-family=\"Helvetica,sans-Serif\" font-size=\"14.00\">x[0] &lt;= 1.641</text>\n<text text-anchor=\"middle\" x=\"4012\" y=\"-1062.8\" font-family=\"Helvetica,sans-Serif\" font-size=\"14.00\">gini = 0.278</text>\n<text text-anchor=\"middle\" x=\"4012\" y=\"-1047.8\" font-family=\"Helvetica,sans-Serif\" font-size=\"14.00\">samples = 6</text>\n<text text-anchor=\"middle\" x=\"4012\" y=\"-1032.8\" font-family=\"Helvetica,sans-Serif\" font-size=\"14.00\">value = [0, 5, 0, 0, 1]</text>\n</g>\n<!-- 124&#45;&gt;134 -->\n<g id=\"edge134\" class=\"edge\">\n<title>124&#45;&gt;134</title>\n<path fill=\"none\" stroke=\"black\" d=\"M3848.69,-1130.29C3875.19,-1118.88 3905.19,-1105.97 3932.19,-1094.35\"/>\n<polygon fill=\"black\" stroke=\"black\" points=\"3933.8,-1097.47 3941.6,-1090.3 3931.03,-1091.04 3933.8,-1097.47\"/>\n</g>\n<!-- 126 -->\n<g id=\"node127\" class=\"node\">\n<title>126</title>\n<polygon fill=\"none\" stroke=\"black\" points=\"3766,-989 3626,-989 3626,-921 3766,-921 3766,-989\"/>\n<text text-anchor=\"middle\" x=\"3696\" y=\"-973.8\" font-family=\"Helvetica,sans-Serif\" font-size=\"14.00\">x[6] &lt;= 0.115</text>\n<text text-anchor=\"middle\" x=\"3696\" y=\"-958.8\" font-family=\"Helvetica,sans-Serif\" font-size=\"14.00\">gini = 0.397</text>\n<text text-anchor=\"middle\" x=\"3696\" y=\"-943.8\" font-family=\"Helvetica,sans-Serif\" font-size=\"14.00\">samples = 11</text>\n<text text-anchor=\"middle\" x=\"3696\" y=\"-928.8\" font-family=\"Helvetica,sans-Serif\" font-size=\"14.00\">value = [0, 8, 0, 0, 3]</text>\n</g>\n<!-- 125&#45;&gt;126 -->\n<g id=\"edge126\" class=\"edge\">\n<title>125&#45;&gt;126</title>\n<path fill=\"none\" stroke=\"black\" d=\"M3749.35,-1024.88C3742.52,-1016.07 3735.06,-1006.43 3727.94,-997.24\"/>\n<polygon fill=\"black\" stroke=\"black\" points=\"3730.68,-995.06 3721.79,-989.3 3725.15,-999.35 3730.68,-995.06\"/>\n</g>\n<!-- 133 -->\n<g id=\"node134\" class=\"node\">\n<title>133</title>\n<polygon fill=\"none\" stroke=\"black\" points=\"3924,-981.5 3784,-981.5 3784,-928.5 3924,-928.5 3924,-981.5\"/>\n<text text-anchor=\"middle\" x=\"3854\" y=\"-966.3\" font-family=\"Helvetica,sans-Serif\" font-size=\"14.00\">gini = 0.0</text>\n<text text-anchor=\"middle\" x=\"3854\" y=\"-951.3\" font-family=\"Helvetica,sans-Serif\" font-size=\"14.00\">samples = 4</text>\n<text text-anchor=\"middle\" x=\"3854\" y=\"-936.3\" font-family=\"Helvetica,sans-Serif\" font-size=\"14.00\">value = [0, 0, 0, 0, 4]</text>\n</g>\n<!-- 125&#45;&gt;133 -->\n<g id=\"edge133\" class=\"edge\">\n<title>125&#45;&gt;133</title>\n<path fill=\"none\" stroke=\"black\" d=\"M3800.65,-1024.88C3809.42,-1013.56 3819.24,-1000.88 3828.04,-989.52\"/>\n<polygon fill=\"black\" stroke=\"black\" points=\"3830.88,-991.57 3834.23,-981.52 3825.34,-987.28 3830.88,-991.57\"/>\n</g>\n<!-- 127 -->\n<g id=\"node128\" class=\"node\">\n<title>127</title>\n<polygon fill=\"none\" stroke=\"black\" points=\"3766,-885 3626,-885 3626,-817 3766,-817 3766,-885\"/>\n<text text-anchor=\"middle\" x=\"3696\" y=\"-869.8\" font-family=\"Helvetica,sans-Serif\" font-size=\"14.00\">x[0] &lt;= 0.779</text>\n<text text-anchor=\"middle\" x=\"3696\" y=\"-854.8\" font-family=\"Helvetica,sans-Serif\" font-size=\"14.00\">gini = 0.49</text>\n<text text-anchor=\"middle\" x=\"3696\" y=\"-839.8\" font-family=\"Helvetica,sans-Serif\" font-size=\"14.00\">samples = 7</text>\n<text text-anchor=\"middle\" x=\"3696\" y=\"-824.8\" font-family=\"Helvetica,sans-Serif\" font-size=\"14.00\">value = [0, 4, 0, 0, 3]</text>\n</g>\n<!-- 126&#45;&gt;127 -->\n<g id=\"edge127\" class=\"edge\">\n<title>126&#45;&gt;127</title>\n<path fill=\"none\" stroke=\"black\" d=\"M3696,-920.88C3696,-912.78 3696,-903.98 3696,-895.47\"/>\n<polygon fill=\"black\" stroke=\"black\" points=\"3699.5,-895.3 3696,-885.3 3692.5,-895.3 3699.5,-895.3\"/>\n</g>\n<!-- 132 -->\n<g id=\"node133\" class=\"node\">\n<title>132</title>\n<polygon fill=\"none\" stroke=\"black\" points=\"3924,-877.5 3784,-877.5 3784,-824.5 3924,-824.5 3924,-877.5\"/>\n<text text-anchor=\"middle\" x=\"3854\" y=\"-862.3\" font-family=\"Helvetica,sans-Serif\" font-size=\"14.00\">gini = 0.0</text>\n<text text-anchor=\"middle\" x=\"3854\" y=\"-847.3\" font-family=\"Helvetica,sans-Serif\" font-size=\"14.00\">samples = 4</text>\n<text text-anchor=\"middle\" x=\"3854\" y=\"-832.3\" font-family=\"Helvetica,sans-Serif\" font-size=\"14.00\">value = [0, 4, 0, 0, 0]</text>\n</g>\n<!-- 126&#45;&gt;132 -->\n<g id=\"edge132\" class=\"edge\">\n<title>126&#45;&gt;132</title>\n<path fill=\"none\" stroke=\"black\" d=\"M3747.3,-920.88C3766.12,-908.73 3787.35,-895.03 3805.89,-883.06\"/>\n<polygon fill=\"black\" stroke=\"black\" points=\"3807.97,-885.88 3814.47,-877.52 3804.17,-880 3807.97,-885.88\"/>\n</g>\n<!-- 128 -->\n<g id=\"node129\" class=\"node\">\n<title>128</title>\n<polygon fill=\"none\" stroke=\"black\" points=\"3687,-781 3547,-781 3547,-713 3687,-713 3687,-781\"/>\n<text text-anchor=\"middle\" x=\"3617\" y=\"-765.8\" font-family=\"Helvetica,sans-Serif\" font-size=\"14.00\">x[0] &lt;= 0.594</text>\n<text text-anchor=\"middle\" x=\"3617\" y=\"-750.8\" font-family=\"Helvetica,sans-Serif\" font-size=\"14.00\">gini = 0.375</text>\n<text text-anchor=\"middle\" x=\"3617\" y=\"-735.8\" font-family=\"Helvetica,sans-Serif\" font-size=\"14.00\">samples = 4</text>\n<text text-anchor=\"middle\" x=\"3617\" y=\"-720.8\" font-family=\"Helvetica,sans-Serif\" font-size=\"14.00\">value = [0, 1, 0, 0, 3]</text>\n</g>\n<!-- 127&#45;&gt;128 -->\n<g id=\"edge128\" class=\"edge\">\n<title>127&#45;&gt;128</title>\n<path fill=\"none\" stroke=\"black\" d=\"M3670.35,-816.88C3663.52,-808.07 3656.06,-798.43 3648.94,-789.24\"/>\n<polygon fill=\"black\" stroke=\"black\" points=\"3651.68,-787.06 3642.79,-781.3 3646.15,-791.35 3651.68,-787.06\"/>\n</g>\n<!-- 131 -->\n<g id=\"node132\" class=\"node\">\n<title>131</title>\n<polygon fill=\"none\" stroke=\"black\" points=\"3845,-773.5 3705,-773.5 3705,-720.5 3845,-720.5 3845,-773.5\"/>\n<text text-anchor=\"middle\" x=\"3775\" y=\"-758.3\" font-family=\"Helvetica,sans-Serif\" font-size=\"14.00\">gini = 0.0</text>\n<text text-anchor=\"middle\" x=\"3775\" y=\"-743.3\" font-family=\"Helvetica,sans-Serif\" font-size=\"14.00\">samples = 3</text>\n<text text-anchor=\"middle\" x=\"3775\" y=\"-728.3\" font-family=\"Helvetica,sans-Serif\" font-size=\"14.00\">value = [0, 3, 0, 0, 0]</text>\n</g>\n<!-- 127&#45;&gt;131 -->\n<g id=\"edge131\" class=\"edge\">\n<title>127&#45;&gt;131</title>\n<path fill=\"none\" stroke=\"black\" d=\"M3721.65,-816.88C3730.42,-805.56 3740.24,-792.88 3749.04,-781.52\"/>\n<polygon fill=\"black\" stroke=\"black\" points=\"3751.88,-783.57 3755.23,-773.52 3746.34,-779.28 3751.88,-783.57\"/>\n</g>\n<!-- 129 -->\n<g id=\"node130\" class=\"node\">\n<title>129</title>\n<polygon fill=\"none\" stroke=\"black\" points=\"3608,-669.5 3468,-669.5 3468,-616.5 3608,-616.5 3608,-669.5\"/>\n<text text-anchor=\"middle\" x=\"3538\" y=\"-654.3\" font-family=\"Helvetica,sans-Serif\" font-size=\"14.00\">gini = 0.0</text>\n<text text-anchor=\"middle\" x=\"3538\" y=\"-639.3\" font-family=\"Helvetica,sans-Serif\" font-size=\"14.00\">samples = 1</text>\n<text text-anchor=\"middle\" x=\"3538\" y=\"-624.3\" font-family=\"Helvetica,sans-Serif\" font-size=\"14.00\">value = [0, 1, 0, 0, 0]</text>\n</g>\n<!-- 128&#45;&gt;129 -->\n<g id=\"edge129\" class=\"edge\">\n<title>128&#45;&gt;129</title>\n<path fill=\"none\" stroke=\"black\" d=\"M3591.35,-712.88C3582.58,-701.56 3572.76,-688.88 3563.96,-677.52\"/>\n<polygon fill=\"black\" stroke=\"black\" points=\"3566.66,-675.28 3557.77,-669.52 3561.12,-679.57 3566.66,-675.28\"/>\n</g>\n<!-- 130 -->\n<g id=\"node131\" class=\"node\">\n<title>130</title>\n<polygon fill=\"none\" stroke=\"black\" points=\"3766,-669.5 3626,-669.5 3626,-616.5 3766,-616.5 3766,-669.5\"/>\n<text text-anchor=\"middle\" x=\"3696\" y=\"-654.3\" font-family=\"Helvetica,sans-Serif\" font-size=\"14.00\">gini = 0.0</text>\n<text text-anchor=\"middle\" x=\"3696\" y=\"-639.3\" font-family=\"Helvetica,sans-Serif\" font-size=\"14.00\">samples = 3</text>\n<text text-anchor=\"middle\" x=\"3696\" y=\"-624.3\" font-family=\"Helvetica,sans-Serif\" font-size=\"14.00\">value = [0, 0, 0, 0, 3]</text>\n</g>\n<!-- 128&#45;&gt;130 -->\n<g id=\"edge130\" class=\"edge\">\n<title>128&#45;&gt;130</title>\n<path fill=\"none\" stroke=\"black\" d=\"M3642.65,-712.88C3651.42,-701.56 3661.24,-688.88 3670.04,-677.52\"/>\n<polygon fill=\"black\" stroke=\"black\" points=\"3672.88,-679.57 3676.23,-669.52 3667.34,-675.28 3672.88,-679.57\"/>\n</g>\n<!-- 135 -->\n<g id=\"node136\" class=\"node\">\n<title>135</title>\n<polygon fill=\"none\" stroke=\"black\" points=\"4082,-981.5 3942,-981.5 3942,-928.5 4082,-928.5 4082,-981.5\"/>\n<text text-anchor=\"middle\" x=\"4012\" y=\"-966.3\" font-family=\"Helvetica,sans-Serif\" font-size=\"14.00\">gini = 0.0</text>\n<text text-anchor=\"middle\" x=\"4012\" y=\"-951.3\" font-family=\"Helvetica,sans-Serif\" font-size=\"14.00\">samples = 4</text>\n<text text-anchor=\"middle\" x=\"4012\" y=\"-936.3\" font-family=\"Helvetica,sans-Serif\" font-size=\"14.00\">value = [0, 4, 0, 0, 0]</text>\n</g>\n<!-- 134&#45;&gt;135 -->\n<g id=\"edge135\" class=\"edge\">\n<title>134&#45;&gt;135</title>\n<path fill=\"none\" stroke=\"black\" d=\"M4012,-1024.88C4012,-1014.33 4012,-1002.6 4012,-991.85\"/>\n<polygon fill=\"black\" stroke=\"black\" points=\"4015.5,-991.52 4012,-981.52 4008.5,-991.52 4015.5,-991.52\"/>\n</g>\n<!-- 136 -->\n<g id=\"node137\" class=\"node\">\n<title>136</title>\n<polygon fill=\"none\" stroke=\"black\" points=\"4240,-989 4100,-989 4100,-921 4240,-921 4240,-989\"/>\n<text text-anchor=\"middle\" x=\"4170\" y=\"-973.8\" font-family=\"Helvetica,sans-Serif\" font-size=\"14.00\">x[0] &lt;= 1.702</text>\n<text text-anchor=\"middle\" x=\"4170\" y=\"-958.8\" font-family=\"Helvetica,sans-Serif\" font-size=\"14.00\">gini = 0.5</text>\n<text text-anchor=\"middle\" x=\"4170\" y=\"-943.8\" font-family=\"Helvetica,sans-Serif\" font-size=\"14.00\">samples = 2</text>\n<text text-anchor=\"middle\" x=\"4170\" y=\"-928.8\" font-family=\"Helvetica,sans-Serif\" font-size=\"14.00\">value = [0, 1, 0, 0, 1]</text>\n</g>\n<!-- 134&#45;&gt;136 -->\n<g id=\"edge136\" class=\"edge\">\n<title>134&#45;&gt;136</title>\n<path fill=\"none\" stroke=\"black\" d=\"M4063.3,-1024.88C4078.28,-1015.21 4094.77,-1004.56 4110.23,-994.59\"/>\n<polygon fill=\"black\" stroke=\"black\" points=\"4112.19,-997.49 4118.69,-989.12 4108.39,-991.61 4112.19,-997.49\"/>\n</g>\n<!-- 137 -->\n<g id=\"node138\" class=\"node\">\n<title>137</title>\n<polygon fill=\"none\" stroke=\"black\" points=\"4161,-877.5 4021,-877.5 4021,-824.5 4161,-824.5 4161,-877.5\"/>\n<text text-anchor=\"middle\" x=\"4091\" y=\"-862.3\" font-family=\"Helvetica,sans-Serif\" font-size=\"14.00\">gini = 0.0</text>\n<text text-anchor=\"middle\" x=\"4091\" y=\"-847.3\" font-family=\"Helvetica,sans-Serif\" font-size=\"14.00\">samples = 1</text>\n<text text-anchor=\"middle\" x=\"4091\" y=\"-832.3\" font-family=\"Helvetica,sans-Serif\" font-size=\"14.00\">value = [0, 0, 0, 0, 1]</text>\n</g>\n<!-- 136&#45;&gt;137 -->\n<g id=\"edge137\" class=\"edge\">\n<title>136&#45;&gt;137</title>\n<path fill=\"none\" stroke=\"black\" d=\"M4144.35,-920.88C4135.58,-909.56 4125.76,-896.88 4116.96,-885.52\"/>\n<polygon fill=\"black\" stroke=\"black\" points=\"4119.66,-883.28 4110.77,-877.52 4114.12,-887.57 4119.66,-883.28\"/>\n</g>\n<!-- 138 -->\n<g id=\"node139\" class=\"node\">\n<title>138</title>\n<polygon fill=\"none\" stroke=\"black\" points=\"4319,-877.5 4179,-877.5 4179,-824.5 4319,-824.5 4319,-877.5\"/>\n<text text-anchor=\"middle\" x=\"4249\" y=\"-862.3\" font-family=\"Helvetica,sans-Serif\" font-size=\"14.00\">gini = 0.0</text>\n<text text-anchor=\"middle\" x=\"4249\" y=\"-847.3\" font-family=\"Helvetica,sans-Serif\" font-size=\"14.00\">samples = 1</text>\n<text text-anchor=\"middle\" x=\"4249\" y=\"-832.3\" font-family=\"Helvetica,sans-Serif\" font-size=\"14.00\">value = [0, 1, 0, 0, 0]</text>\n</g>\n<!-- 136&#45;&gt;138 -->\n<g id=\"edge138\" class=\"edge\">\n<title>136&#45;&gt;138</title>\n<path fill=\"none\" stroke=\"black\" d=\"M4195.65,-920.88C4204.42,-909.56 4214.24,-896.88 4223.04,-885.52\"/>\n<polygon fill=\"black\" stroke=\"black\" points=\"4225.88,-887.57 4229.23,-877.52 4220.34,-883.28 4225.88,-887.57\"/>\n</g>\n</g>\n</svg>\n",
            "text/plain": [
              "<graphviz.sources.Source at 0x7b499d23bc40>"
            ]
          },
          "metadata": {},
          "execution_count": 78
        }
      ]
    },
    {
      "cell_type": "markdown",
      "source": [
        "Random Forest"
      ],
      "metadata": {
        "id": "QF9fOo_66iQX"
      }
    },
    {
      "cell_type": "code",
      "source": [
        "from sklearn.ensemble import RandomForestClassifier\n",
        "random = RandomForestClassifier(n_estimators=100, criterion='entropy',random_state=42)\n",
        "random.fit(X_train,y_train)"
      ],
      "metadata": {
        "colab": {
          "base_uri": "https://localhost:8080/",
          "height": 75
        },
        "id": "25MJ0XD9qmfq",
        "outputId": "76a38958-9bcf-4659-c0f0-0d9d9e6b214b"
      },
      "execution_count": null,
      "outputs": [
        {
          "output_type": "execute_result",
          "data": {
            "text/plain": [
              "RandomForestClassifier(criterion='entropy', random_state=42)"
            ],
            "text/html": [
              "<style>#sk-container-id-3 {color: black;background-color: white;}#sk-container-id-3 pre{padding: 0;}#sk-container-id-3 div.sk-toggleable {background-color: white;}#sk-container-id-3 label.sk-toggleable__label {cursor: pointer;display: block;width: 100%;margin-bottom: 0;padding: 0.3em;box-sizing: border-box;text-align: center;}#sk-container-id-3 label.sk-toggleable__label-arrow:before {content: \"▸\";float: left;margin-right: 0.25em;color: #696969;}#sk-container-id-3 label.sk-toggleable__label-arrow:hover:before {color: black;}#sk-container-id-3 div.sk-estimator:hover label.sk-toggleable__label-arrow:before {color: black;}#sk-container-id-3 div.sk-toggleable__content {max-height: 0;max-width: 0;overflow: hidden;text-align: left;background-color: #f0f8ff;}#sk-container-id-3 div.sk-toggleable__content pre {margin: 0.2em;color: black;border-radius: 0.25em;background-color: #f0f8ff;}#sk-container-id-3 input.sk-toggleable__control:checked~div.sk-toggleable__content {max-height: 200px;max-width: 100%;overflow: auto;}#sk-container-id-3 input.sk-toggleable__control:checked~label.sk-toggleable__label-arrow:before {content: \"▾\";}#sk-container-id-3 div.sk-estimator input.sk-toggleable__control:checked~label.sk-toggleable__label {background-color: #d4ebff;}#sk-container-id-3 div.sk-label input.sk-toggleable__control:checked~label.sk-toggleable__label {background-color: #d4ebff;}#sk-container-id-3 input.sk-hidden--visually {border: 0;clip: rect(1px 1px 1px 1px);clip: rect(1px, 1px, 1px, 1px);height: 1px;margin: -1px;overflow: hidden;padding: 0;position: absolute;width: 1px;}#sk-container-id-3 div.sk-estimator {font-family: monospace;background-color: #f0f8ff;border: 1px dotted black;border-radius: 0.25em;box-sizing: border-box;margin-bottom: 0.5em;}#sk-container-id-3 div.sk-estimator:hover {background-color: #d4ebff;}#sk-container-id-3 div.sk-parallel-item::after {content: \"\";width: 100%;border-bottom: 1px solid gray;flex-grow: 1;}#sk-container-id-3 div.sk-label:hover label.sk-toggleable__label {background-color: #d4ebff;}#sk-container-id-3 div.sk-serial::before {content: \"\";position: absolute;border-left: 1px solid gray;box-sizing: border-box;top: 0;bottom: 0;left: 50%;z-index: 0;}#sk-container-id-3 div.sk-serial {display: flex;flex-direction: column;align-items: center;background-color: white;padding-right: 0.2em;padding-left: 0.2em;position: relative;}#sk-container-id-3 div.sk-item {position: relative;z-index: 1;}#sk-container-id-3 div.sk-parallel {display: flex;align-items: stretch;justify-content: center;background-color: white;position: relative;}#sk-container-id-3 div.sk-item::before, #sk-container-id-3 div.sk-parallel-item::before {content: \"\";position: absolute;border-left: 1px solid gray;box-sizing: border-box;top: 0;bottom: 0;left: 50%;z-index: -1;}#sk-container-id-3 div.sk-parallel-item {display: flex;flex-direction: column;z-index: 1;position: relative;background-color: white;}#sk-container-id-3 div.sk-parallel-item:first-child::after {align-self: flex-end;width: 50%;}#sk-container-id-3 div.sk-parallel-item:last-child::after {align-self: flex-start;width: 50%;}#sk-container-id-3 div.sk-parallel-item:only-child::after {width: 0;}#sk-container-id-3 div.sk-dashed-wrapped {border: 1px dashed gray;margin: 0 0.4em 0.5em 0.4em;box-sizing: border-box;padding-bottom: 0.4em;background-color: white;}#sk-container-id-3 div.sk-label label {font-family: monospace;font-weight: bold;display: inline-block;line-height: 1.2em;}#sk-container-id-3 div.sk-label-container {text-align: center;}#sk-container-id-3 div.sk-container {/* jupyter's `normalize.less` sets `[hidden] { display: none; }` but bootstrap.min.css set `[hidden] { display: none !important; }` so we also need the `!important` here to be able to override the default hidden behavior on the sphinx rendered scikit-learn.org. See: https://github.com/scikit-learn/scikit-learn/issues/21755 */display: inline-block !important;position: relative;}#sk-container-id-3 div.sk-text-repr-fallback {display: none;}</style><div id=\"sk-container-id-3\" class=\"sk-top-container\"><div class=\"sk-text-repr-fallback\"><pre>RandomForestClassifier(criterion=&#x27;entropy&#x27;, random_state=42)</pre><b>In a Jupyter environment, please rerun this cell to show the HTML representation or trust the notebook. <br />On GitHub, the HTML representation is unable to render, please try loading this page with nbviewer.org.</b></div><div class=\"sk-container\" hidden><div class=\"sk-item\"><div class=\"sk-estimator sk-toggleable\"><input class=\"sk-toggleable__control sk-hidden--visually\" id=\"sk-estimator-id-3\" type=\"checkbox\" checked><label for=\"sk-estimator-id-3\" class=\"sk-toggleable__label sk-toggleable__label-arrow\">RandomForestClassifier</label><div class=\"sk-toggleable__content\"><pre>RandomForestClassifier(criterion=&#x27;entropy&#x27;, random_state=42)</pre></div></div></div></div></div>"
            ]
          },
          "metadata": {},
          "execution_count": 40
        }
      ]
    },
    {
      "cell_type": "code",
      "source": [
        "y_pred = random.predict(X_test)"
      ],
      "metadata": {
        "id": "zUvK26targr-"
      },
      "execution_count": null,
      "outputs": []
    },
    {
      "cell_type": "code",
      "source": [
        "cm = confusion_matrix(y_test,y_pred)\n",
        "print(cm)"
      ],
      "metadata": {
        "colab": {
          "base_uri": "https://localhost:8080/"
        },
        "id": "BdrfJUbhrriJ",
        "outputId": "760cceff-1c56-4394-8466-f4b5a333d28e"
      },
      "execution_count": null,
      "outputs": [
        {
          "output_type": "stream",
          "name": "stdout",
          "text": [
            "[[ 1  2  0  0  4]\n",
            " [ 0  3  0  0  0]\n",
            " [ 0  0  3  0  3]\n",
            " [ 0  0  0 13  5]\n",
            " [ 3  2  2  5 14]]\n"
          ]
        }
      ]
    },
    {
      "cell_type": "code",
      "source": [
        "cr = classification_report(y_test,y_pred)\n",
        "print(cr)"
      ],
      "metadata": {
        "colab": {
          "base_uri": "https://localhost:8080/"
        },
        "id": "XkcvS-Bsr0xW",
        "outputId": "92468cb4-88db-442c-f98e-4d7310dc7c83"
      },
      "execution_count": null,
      "outputs": [
        {
          "output_type": "stream",
          "name": "stdout",
          "text": [
            "              precision    recall  f1-score   support\n",
            "\n",
            "       drugA       0.25      0.14      0.18         7\n",
            "       drugB       0.43      1.00      0.60         3\n",
            "       drugC       0.60      0.50      0.55         6\n",
            "       drugX       0.72      0.72      0.72        18\n",
            "       drugY       0.54      0.54      0.54        26\n",
            "\n",
            "    accuracy                           0.57        60\n",
            "   macro avg       0.51      0.58      0.52        60\n",
            "weighted avg       0.56      0.57      0.56        60\n",
            "\n"
          ]
        }
      ]
    },
    {
      "cell_type": "code",
      "source": [
        "accuracy = metrics.accuracy_score(y_test,y_pred)\n",
        "accuracy"
      ],
      "metadata": {
        "colab": {
          "base_uri": "https://localhost:8080/"
        },
        "id": "DTNuCrO6r71f",
        "outputId": "d0ac8d54-89ca-4739-ec6d-fb3da70ed258"
      },
      "execution_count": null,
      "outputs": [
        {
          "output_type": "execute_result",
          "data": {
            "text/plain": [
              "0.5666666666666667"
            ]
          },
          "metadata": {},
          "execution_count": 46
        }
      ]
    },
    {
      "cell_type": "markdown",
      "source": [
        "KNN Classification"
      ],
      "metadata": {
        "id": "NGdcfHyK6mLL"
      }
    },
    {
      "cell_type": "code",
      "source": [
        "from sklearn.neighbors import KNeighborsClassifier\n",
        "knn = KNeighborsClassifier(n_neighbors=2,p=2,metric='minkowski')\n",
        "knn.fit(X_train,y_train)"
      ],
      "metadata": {
        "colab": {
          "base_uri": "https://localhost:8080/",
          "height": 75
        },
        "id": "xn_k_9Gxs3MO",
        "outputId": "3d818b12-0abe-44e5-b553-045452d0f619"
      },
      "execution_count": null,
      "outputs": [
        {
          "output_type": "execute_result",
          "data": {
            "text/plain": [
              "KNeighborsClassifier(n_neighbors=2)"
            ],
            "text/html": [
              "<style>#sk-container-id-4 {color: black;background-color: white;}#sk-container-id-4 pre{padding: 0;}#sk-container-id-4 div.sk-toggleable {background-color: white;}#sk-container-id-4 label.sk-toggleable__label {cursor: pointer;display: block;width: 100%;margin-bottom: 0;padding: 0.3em;box-sizing: border-box;text-align: center;}#sk-container-id-4 label.sk-toggleable__label-arrow:before {content: \"▸\";float: left;margin-right: 0.25em;color: #696969;}#sk-container-id-4 label.sk-toggleable__label-arrow:hover:before {color: black;}#sk-container-id-4 div.sk-estimator:hover label.sk-toggleable__label-arrow:before {color: black;}#sk-container-id-4 div.sk-toggleable__content {max-height: 0;max-width: 0;overflow: hidden;text-align: left;background-color: #f0f8ff;}#sk-container-id-4 div.sk-toggleable__content pre {margin: 0.2em;color: black;border-radius: 0.25em;background-color: #f0f8ff;}#sk-container-id-4 input.sk-toggleable__control:checked~div.sk-toggleable__content {max-height: 200px;max-width: 100%;overflow: auto;}#sk-container-id-4 input.sk-toggleable__control:checked~label.sk-toggleable__label-arrow:before {content: \"▾\";}#sk-container-id-4 div.sk-estimator input.sk-toggleable__control:checked~label.sk-toggleable__label {background-color: #d4ebff;}#sk-container-id-4 div.sk-label input.sk-toggleable__control:checked~label.sk-toggleable__label {background-color: #d4ebff;}#sk-container-id-4 input.sk-hidden--visually {border: 0;clip: rect(1px 1px 1px 1px);clip: rect(1px, 1px, 1px, 1px);height: 1px;margin: -1px;overflow: hidden;padding: 0;position: absolute;width: 1px;}#sk-container-id-4 div.sk-estimator {font-family: monospace;background-color: #f0f8ff;border: 1px dotted black;border-radius: 0.25em;box-sizing: border-box;margin-bottom: 0.5em;}#sk-container-id-4 div.sk-estimator:hover {background-color: #d4ebff;}#sk-container-id-4 div.sk-parallel-item::after {content: \"\";width: 100%;border-bottom: 1px solid gray;flex-grow: 1;}#sk-container-id-4 div.sk-label:hover label.sk-toggleable__label {background-color: #d4ebff;}#sk-container-id-4 div.sk-serial::before {content: \"\";position: absolute;border-left: 1px solid gray;box-sizing: border-box;top: 0;bottom: 0;left: 50%;z-index: 0;}#sk-container-id-4 div.sk-serial {display: flex;flex-direction: column;align-items: center;background-color: white;padding-right: 0.2em;padding-left: 0.2em;position: relative;}#sk-container-id-4 div.sk-item {position: relative;z-index: 1;}#sk-container-id-4 div.sk-parallel {display: flex;align-items: stretch;justify-content: center;background-color: white;position: relative;}#sk-container-id-4 div.sk-item::before, #sk-container-id-4 div.sk-parallel-item::before {content: \"\";position: absolute;border-left: 1px solid gray;box-sizing: border-box;top: 0;bottom: 0;left: 50%;z-index: -1;}#sk-container-id-4 div.sk-parallel-item {display: flex;flex-direction: column;z-index: 1;position: relative;background-color: white;}#sk-container-id-4 div.sk-parallel-item:first-child::after {align-self: flex-end;width: 50%;}#sk-container-id-4 div.sk-parallel-item:last-child::after {align-self: flex-start;width: 50%;}#sk-container-id-4 div.sk-parallel-item:only-child::after {width: 0;}#sk-container-id-4 div.sk-dashed-wrapped {border: 1px dashed gray;margin: 0 0.4em 0.5em 0.4em;box-sizing: border-box;padding-bottom: 0.4em;background-color: white;}#sk-container-id-4 div.sk-label label {font-family: monospace;font-weight: bold;display: inline-block;line-height: 1.2em;}#sk-container-id-4 div.sk-label-container {text-align: center;}#sk-container-id-4 div.sk-container {/* jupyter's `normalize.less` sets `[hidden] { display: none; }` but bootstrap.min.css set `[hidden] { display: none !important; }` so we also need the `!important` here to be able to override the default hidden behavior on the sphinx rendered scikit-learn.org. See: https://github.com/scikit-learn/scikit-learn/issues/21755 */display: inline-block !important;position: relative;}#sk-container-id-4 div.sk-text-repr-fallback {display: none;}</style><div id=\"sk-container-id-4\" class=\"sk-top-container\"><div class=\"sk-text-repr-fallback\"><pre>KNeighborsClassifier(n_neighbors=2)</pre><b>In a Jupyter environment, please rerun this cell to show the HTML representation or trust the notebook. <br />On GitHub, the HTML representation is unable to render, please try loading this page with nbviewer.org.</b></div><div class=\"sk-container\" hidden><div class=\"sk-item\"><div class=\"sk-estimator sk-toggleable\"><input class=\"sk-toggleable__control sk-hidden--visually\" id=\"sk-estimator-id-4\" type=\"checkbox\" checked><label for=\"sk-estimator-id-4\" class=\"sk-toggleable__label sk-toggleable__label-arrow\">KNeighborsClassifier</label><div class=\"sk-toggleable__content\"><pre>KNeighborsClassifier(n_neighbors=2)</pre></div></div></div></div></div>"
            ]
          },
          "metadata": {},
          "execution_count": 52
        }
      ]
    },
    {
      "cell_type": "code",
      "source": [
        "y_pred = knn.predict(X_test)"
      ],
      "metadata": {
        "id": "xqtcCrNitbND"
      },
      "execution_count": null,
      "outputs": []
    },
    {
      "cell_type": "code",
      "source": [
        "cm = confusion_matrix(y_test,y_pred)\n",
        "print(cm)"
      ],
      "metadata": {
        "colab": {
          "base_uri": "https://localhost:8080/"
        },
        "id": "CVwFoFZ8thIL",
        "outputId": "5c0b0482-56a7-41ef-fbbc-e7ec87c86905"
      },
      "execution_count": null,
      "outputs": [
        {
          "output_type": "stream",
          "name": "stdout",
          "text": [
            "[[ 6  0  0  0  1]\n",
            " [ 0  3  0  0  0]\n",
            " [ 0  0  4  0  2]\n",
            " [ 0  0  0 15  3]\n",
            " [ 4  3  2 10  7]]\n"
          ]
        }
      ]
    },
    {
      "cell_type": "code",
      "source": [
        "cr = classification_report(y_test,y_pred)\n",
        "print(cr)"
      ],
      "metadata": {
        "colab": {
          "base_uri": "https://localhost:8080/"
        },
        "id": "0uINl6gstloB",
        "outputId": "68f9e5a3-3348-4d52-8c21-bd3ea358cdb8"
      },
      "execution_count": null,
      "outputs": [
        {
          "output_type": "stream",
          "name": "stdout",
          "text": [
            "              precision    recall  f1-score   support\n",
            "\n",
            "       drugA       0.60      0.86      0.71         7\n",
            "       drugB       0.50      1.00      0.67         3\n",
            "       drugC       0.67      0.67      0.67         6\n",
            "       drugX       0.60      0.83      0.70        18\n",
            "       drugY       0.54      0.27      0.36        26\n",
            "\n",
            "    accuracy                           0.58        60\n",
            "   macro avg       0.58      0.73      0.62        60\n",
            "weighted avg       0.57      0.58      0.55        60\n",
            "\n"
          ]
        }
      ]
    },
    {
      "cell_type": "code",
      "source": [
        "accuracy = metrics.accuracy_score(y_test,y_pred)\n",
        "accuracy"
      ],
      "metadata": {
        "colab": {
          "base_uri": "https://localhost:8080/"
        },
        "id": "FyMMsbCQtoah",
        "outputId": "09ca94a0-9620-431c-bba9-5b8412c572fa"
      },
      "execution_count": null,
      "outputs": [
        {
          "output_type": "execute_result",
          "data": {
            "text/plain": [
              "0.5833333333333334"
            ]
          },
          "metadata": {},
          "execution_count": 56
        }
      ]
    },
    {
      "cell_type": "markdown",
      "source": [
        "Support Vector Machine"
      ],
      "metadata": {
        "id": "grMHP93G6p7S"
      }
    },
    {
      "cell_type": "code",
      "source": [
        "from sklearn.svm import SVC\n",
        "svr_lin = SVC(kernel='linear',C=100,gamma='auto')\n",
        "svr_lin.fit(X_train,y_train)\n",
        "y_pred_lin = svr_lin.predict(X_test)\n",
        "\n",
        "svr_rbf = SVC(kernel='rbf',C=100,gamma=0.1)\n",
        "svr_rbf.fit(X_train,y_train)\n",
        "y_pred_rbf = svr_rbf.predict(X_test)\n",
        "\n",
        "svr_poly = SVC(kernel='poly',C=100,gamma='auto',degree=3,coef0=1)\n",
        "svr_poly.fit(X_train,y_train)\n",
        "y_pred_poly = svr_poly.predict(X_test)\n",
        "\n",
        "svr_sig = SVC(kernel='sigmoid',C=1,gamma='auto',coef0=1)\n",
        "svr_sig.fit(X_train,y_train)\n",
        "y_pred_sig = svr_sig.predict(X_test)"
      ],
      "metadata": {
        "id": "L43L_QNetrn6"
      },
      "execution_count": null,
      "outputs": []
    },
    {
      "cell_type": "code",
      "source": [
        "cm = confusion_matrix(y_test,y_pred_lin)\n",
        "print(cm)"
      ],
      "metadata": {
        "colab": {
          "base_uri": "https://localhost:8080/"
        },
        "id": "whzGFe8a2DPE",
        "outputId": "6600e129-43d4-418e-f364-48490b7719df"
      },
      "execution_count": null,
      "outputs": [
        {
          "output_type": "stream",
          "name": "stdout",
          "text": [
            "[[ 2  2  0  0  3]\n",
            " [ 0  3  0  0  0]\n",
            " [ 0  0  3  0  3]\n",
            " [ 0  0  0 10  8]\n",
            " [ 3  3  3  6 11]]\n"
          ]
        }
      ]
    },
    {
      "cell_type": "code",
      "source": [
        "cr = classification_report(y_test,y_pred_lin)\n",
        "print(cr)"
      ],
      "metadata": {
        "colab": {
          "base_uri": "https://localhost:8080/"
        },
        "id": "gTNcO5N52Q1p",
        "outputId": "36db5b3e-a058-4d5f-e0bd-a73b622b2a98"
      },
      "execution_count": null,
      "outputs": [
        {
          "output_type": "stream",
          "name": "stdout",
          "text": [
            "              precision    recall  f1-score   support\n",
            "\n",
            "       drugA       0.40      0.29      0.33         7\n",
            "       drugB       0.38      1.00      0.55         3\n",
            "       drugC       0.50      0.50      0.50         6\n",
            "       drugX       0.62      0.56      0.59        18\n",
            "       drugY       0.44      0.42      0.43        26\n",
            "\n",
            "    accuracy                           0.48        60\n",
            "   macro avg       0.47      0.55      0.48        60\n",
            "weighted avg       0.49      0.48      0.48        60\n",
            "\n"
          ]
        }
      ]
    },
    {
      "cell_type": "code",
      "source": [
        "accuracy = metrics.accuracy_score(y_test,y_pred_lin)\n",
        "accuracy"
      ],
      "metadata": {
        "colab": {
          "base_uri": "https://localhost:8080/"
        },
        "id": "QgeIsYn62WtQ",
        "outputId": "64bd4cbb-8647-4c10-d856-d25b1423393e"
      },
      "execution_count": null,
      "outputs": [
        {
          "output_type": "execute_result",
          "data": {
            "text/plain": [
              "0.48333333333333334"
            ]
          },
          "metadata": {},
          "execution_count": 61
        }
      ]
    },
    {
      "cell_type": "code",
      "source": [
        "cm = confusion_matrix(y_test,y_pred_rbf)\n",
        "print(cm)"
      ],
      "metadata": {
        "colab": {
          "base_uri": "https://localhost:8080/"
        },
        "id": "52yl-UKL2b1s",
        "outputId": "bf73c9de-15d9-4f6f-f3ee-6ccb7e1e6fde"
      },
      "execution_count": null,
      "outputs": [
        {
          "output_type": "stream",
          "name": "stdout",
          "text": [
            "[[ 2  2  0  0  3]\n",
            " [ 0  3  0  0  0]\n",
            " [ 0  0  3  0  3]\n",
            " [ 0  0  0 13  5]\n",
            " [ 3  3  3  4 13]]\n"
          ]
        }
      ]
    },
    {
      "cell_type": "code",
      "source": [
        "cr = classification_report(y_test,y_pred_rbf)\n",
        "print(cr)"
      ],
      "metadata": {
        "colab": {
          "base_uri": "https://localhost:8080/"
        },
        "id": "vFtoxB8h2lLo",
        "outputId": "9da6d70b-5475-4965-ccb0-6ca7fb305cb6"
      },
      "execution_count": null,
      "outputs": [
        {
          "output_type": "stream",
          "name": "stdout",
          "text": [
            "              precision    recall  f1-score   support\n",
            "\n",
            "       drugA       0.40      0.29      0.33         7\n",
            "       drugB       0.38      1.00      0.55         3\n",
            "       drugC       0.50      0.50      0.50         6\n",
            "       drugX       0.76      0.72      0.74        18\n",
            "       drugY       0.54      0.50      0.52        26\n",
            "\n",
            "    accuracy                           0.57        60\n",
            "   macro avg       0.52      0.60      0.53        60\n",
            "weighted avg       0.58      0.57      0.56        60\n",
            "\n"
          ]
        }
      ]
    },
    {
      "cell_type": "code",
      "source": [
        "accuracy = metrics.accuracy_score(y_test,y_pred_rbf)\n",
        "accuracy"
      ],
      "metadata": {
        "colab": {
          "base_uri": "https://localhost:8080/"
        },
        "id": "EmRN3VSF2tgd",
        "outputId": "18cdc8b0-d9be-4598-f778-16c312ba8331"
      },
      "execution_count": null,
      "outputs": [
        {
          "output_type": "execute_result",
          "data": {
            "text/plain": [
              "0.5666666666666667"
            ]
          },
          "metadata": {},
          "execution_count": 64
        }
      ]
    },
    {
      "cell_type": "code",
      "source": [
        "cm = confusion_matrix(y_test,y_pred_poly)\n",
        "print(cm)"
      ],
      "metadata": {
        "colab": {
          "base_uri": "https://localhost:8080/"
        },
        "id": "03BRftZR2ye0",
        "outputId": "d4ea7c97-2608-41f2-e7d0-b066ffd02471"
      },
      "execution_count": null,
      "outputs": [
        {
          "output_type": "stream",
          "name": "stdout",
          "text": [
            "[[ 2  2  0  0  3]\n",
            " [ 0  3  0  0  0]\n",
            " [ 0  0  3  0  3]\n",
            " [ 0  0  0  9  9]\n",
            " [ 3  3  3  4 13]]\n"
          ]
        }
      ]
    },
    {
      "cell_type": "code",
      "source": [
        "cr = classification_report(y_test,y_pred_poly)\n",
        "print(cr)"
      ],
      "metadata": {
        "colab": {
          "base_uri": "https://localhost:8080/"
        },
        "id": "OfDHl4IU27wN",
        "outputId": "143b1c5d-1227-4d39-a6c2-061743e349fe"
      },
      "execution_count": null,
      "outputs": [
        {
          "output_type": "stream",
          "name": "stdout",
          "text": [
            "              precision    recall  f1-score   support\n",
            "\n",
            "       drugA       0.40      0.29      0.33         7\n",
            "       drugB       0.38      1.00      0.55         3\n",
            "       drugC       0.50      0.50      0.50         6\n",
            "       drugX       0.69      0.50      0.58        18\n",
            "       drugY       0.46      0.50      0.48        26\n",
            "\n",
            "    accuracy                           0.50        60\n",
            "   macro avg       0.49      0.56      0.49        60\n",
            "weighted avg       0.52      0.50      0.50        60\n",
            "\n"
          ]
        }
      ]
    },
    {
      "cell_type": "code",
      "source": [
        "accuracy = metrics.accuracy_score(y_test,y_pred_poly)\n",
        "accuracy"
      ],
      "metadata": {
        "colab": {
          "base_uri": "https://localhost:8080/"
        },
        "id": "yc2_s-Bf3AO5",
        "outputId": "2cef6432-3c58-46b2-a6e6-07751faa82d2"
      },
      "execution_count": null,
      "outputs": [
        {
          "output_type": "execute_result",
          "data": {
            "text/plain": [
              "0.5"
            ]
          },
          "metadata": {},
          "execution_count": 67
        }
      ]
    },
    {
      "cell_type": "code",
      "source": [
        "cm = confusion_matrix(y_test,y_pred_sig)\n",
        "print(cm)"
      ],
      "metadata": {
        "colab": {
          "base_uri": "https://localhost:8080/"
        },
        "id": "v2qHRQqR3EWl",
        "outputId": "ae89d453-c052-4f0a-b5c3-99ac7f73bf79"
      },
      "execution_count": null,
      "outputs": [
        {
          "output_type": "stream",
          "name": "stdout",
          "text": [
            "[[ 0  0  0  0  7]\n",
            " [ 0  0  0  0  3]\n",
            " [ 0  0  0  4  2]\n",
            " [ 0  0  0  7 11]\n",
            " [ 3  0  0  6 17]]\n"
          ]
        }
      ]
    },
    {
      "cell_type": "code",
      "source": [
        "cr = classification_report(y_test,y_pred_sig)\n",
        "print(cr)"
      ],
      "metadata": {
        "colab": {
          "base_uri": "https://localhost:8080/"
        },
        "id": "yqdcQD673Knw",
        "outputId": "cb0fb048-4a96-48d7-caec-19a97e4441a6"
      },
      "execution_count": null,
      "outputs": [
        {
          "output_type": "stream",
          "name": "stdout",
          "text": [
            "              precision    recall  f1-score   support\n",
            "\n",
            "       drugA       0.00      0.00      0.00         7\n",
            "       drugB       0.00      0.00      0.00         3\n",
            "       drugC       0.00      0.00      0.00         6\n",
            "       drugX       0.41      0.39      0.40        18\n",
            "       drugY       0.42      0.65      0.52        26\n",
            "\n",
            "    accuracy                           0.40        60\n",
            "   macro avg       0.17      0.21      0.18        60\n",
            "weighted avg       0.31      0.40      0.34        60\n",
            "\n"
          ]
        },
        {
          "output_type": "stream",
          "name": "stderr",
          "text": [
            "/usr/local/lib/python3.10/dist-packages/sklearn/metrics/_classification.py:1344: UndefinedMetricWarning: Precision and F-score are ill-defined and being set to 0.0 in labels with no predicted samples. Use `zero_division` parameter to control this behavior.\n",
            "  _warn_prf(average, modifier, msg_start, len(result))\n",
            "/usr/local/lib/python3.10/dist-packages/sklearn/metrics/_classification.py:1344: UndefinedMetricWarning: Precision and F-score are ill-defined and being set to 0.0 in labels with no predicted samples. Use `zero_division` parameter to control this behavior.\n",
            "  _warn_prf(average, modifier, msg_start, len(result))\n",
            "/usr/local/lib/python3.10/dist-packages/sklearn/metrics/_classification.py:1344: UndefinedMetricWarning: Precision and F-score are ill-defined and being set to 0.0 in labels with no predicted samples. Use `zero_division` parameter to control this behavior.\n",
            "  _warn_prf(average, modifier, msg_start, len(result))\n"
          ]
        }
      ]
    },
    {
      "cell_type": "code",
      "source": [
        "accuracy = metrics.accuracy_score(y_test,y_pred_sig)\n",
        "accuracy"
      ],
      "metadata": {
        "colab": {
          "base_uri": "https://localhost:8080/"
        },
        "id": "AD8e6weY34D3",
        "outputId": "f59e8652-8774-4676-eaac-6b4fed989824"
      },
      "execution_count": null,
      "outputs": [
        {
          "output_type": "execute_result",
          "data": {
            "text/plain": [
              "0.4"
            ]
          },
          "metadata": {},
          "execution_count": 70
        }
      ]
    },
    {
      "cell_type": "markdown",
      "source": [
        "Navie Bayes"
      ],
      "metadata": {
        "id": "udir-9jg61an"
      }
    },
    {
      "cell_type": "code",
      "source": [
        "from sklearn.naive_bayes import GaussianNB\n",
        "nb = GaussianNB()\n",
        "nb.fit(X_train,y_train)"
      ],
      "metadata": {
        "colab": {
          "base_uri": "https://localhost:8080/",
          "height": 75
        },
        "id": "lTdYXjKP38x5",
        "outputId": "ea21e2e3-d3a3-4752-8d45-169ec044f874"
      },
      "execution_count": null,
      "outputs": [
        {
          "output_type": "execute_result",
          "data": {
            "text/plain": [
              "GaussianNB()"
            ],
            "text/html": [
              "<style>#sk-container-id-5 {color: black;background-color: white;}#sk-container-id-5 pre{padding: 0;}#sk-container-id-5 div.sk-toggleable {background-color: white;}#sk-container-id-5 label.sk-toggleable__label {cursor: pointer;display: block;width: 100%;margin-bottom: 0;padding: 0.3em;box-sizing: border-box;text-align: center;}#sk-container-id-5 label.sk-toggleable__label-arrow:before {content: \"▸\";float: left;margin-right: 0.25em;color: #696969;}#sk-container-id-5 label.sk-toggleable__label-arrow:hover:before {color: black;}#sk-container-id-5 div.sk-estimator:hover label.sk-toggleable__label-arrow:before {color: black;}#sk-container-id-5 div.sk-toggleable__content {max-height: 0;max-width: 0;overflow: hidden;text-align: left;background-color: #f0f8ff;}#sk-container-id-5 div.sk-toggleable__content pre {margin: 0.2em;color: black;border-radius: 0.25em;background-color: #f0f8ff;}#sk-container-id-5 input.sk-toggleable__control:checked~div.sk-toggleable__content {max-height: 200px;max-width: 100%;overflow: auto;}#sk-container-id-5 input.sk-toggleable__control:checked~label.sk-toggleable__label-arrow:before {content: \"▾\";}#sk-container-id-5 div.sk-estimator input.sk-toggleable__control:checked~label.sk-toggleable__label {background-color: #d4ebff;}#sk-container-id-5 div.sk-label input.sk-toggleable__control:checked~label.sk-toggleable__label {background-color: #d4ebff;}#sk-container-id-5 input.sk-hidden--visually {border: 0;clip: rect(1px 1px 1px 1px);clip: rect(1px, 1px, 1px, 1px);height: 1px;margin: -1px;overflow: hidden;padding: 0;position: absolute;width: 1px;}#sk-container-id-5 div.sk-estimator {font-family: monospace;background-color: #f0f8ff;border: 1px dotted black;border-radius: 0.25em;box-sizing: border-box;margin-bottom: 0.5em;}#sk-container-id-5 div.sk-estimator:hover {background-color: #d4ebff;}#sk-container-id-5 div.sk-parallel-item::after {content: \"\";width: 100%;border-bottom: 1px solid gray;flex-grow: 1;}#sk-container-id-5 div.sk-label:hover label.sk-toggleable__label {background-color: #d4ebff;}#sk-container-id-5 div.sk-serial::before {content: \"\";position: absolute;border-left: 1px solid gray;box-sizing: border-box;top: 0;bottom: 0;left: 50%;z-index: 0;}#sk-container-id-5 div.sk-serial {display: flex;flex-direction: column;align-items: center;background-color: white;padding-right: 0.2em;padding-left: 0.2em;position: relative;}#sk-container-id-5 div.sk-item {position: relative;z-index: 1;}#sk-container-id-5 div.sk-parallel {display: flex;align-items: stretch;justify-content: center;background-color: white;position: relative;}#sk-container-id-5 div.sk-item::before, #sk-container-id-5 div.sk-parallel-item::before {content: \"\";position: absolute;border-left: 1px solid gray;box-sizing: border-box;top: 0;bottom: 0;left: 50%;z-index: -1;}#sk-container-id-5 div.sk-parallel-item {display: flex;flex-direction: column;z-index: 1;position: relative;background-color: white;}#sk-container-id-5 div.sk-parallel-item:first-child::after {align-self: flex-end;width: 50%;}#sk-container-id-5 div.sk-parallel-item:last-child::after {align-self: flex-start;width: 50%;}#sk-container-id-5 div.sk-parallel-item:only-child::after {width: 0;}#sk-container-id-5 div.sk-dashed-wrapped {border: 1px dashed gray;margin: 0 0.4em 0.5em 0.4em;box-sizing: border-box;padding-bottom: 0.4em;background-color: white;}#sk-container-id-5 div.sk-label label {font-family: monospace;font-weight: bold;display: inline-block;line-height: 1.2em;}#sk-container-id-5 div.sk-label-container {text-align: center;}#sk-container-id-5 div.sk-container {/* jupyter's `normalize.less` sets `[hidden] { display: none; }` but bootstrap.min.css set `[hidden] { display: none !important; }` so we also need the `!important` here to be able to override the default hidden behavior on the sphinx rendered scikit-learn.org. See: https://github.com/scikit-learn/scikit-learn/issues/21755 */display: inline-block !important;position: relative;}#sk-container-id-5 div.sk-text-repr-fallback {display: none;}</style><div id=\"sk-container-id-5\" class=\"sk-top-container\"><div class=\"sk-text-repr-fallback\"><pre>GaussianNB()</pre><b>In a Jupyter environment, please rerun this cell to show the HTML representation or trust the notebook. <br />On GitHub, the HTML representation is unable to render, please try loading this page with nbviewer.org.</b></div><div class=\"sk-container\" hidden><div class=\"sk-item\"><div class=\"sk-estimator sk-toggleable\"><input class=\"sk-toggleable__control sk-hidden--visually\" id=\"sk-estimator-id-5\" type=\"checkbox\" checked><label for=\"sk-estimator-id-5\" class=\"sk-toggleable__label sk-toggleable__label-arrow\">GaussianNB</label><div class=\"sk-toggleable__content\"><pre>GaussianNB()</pre></div></div></div></div></div>"
            ]
          },
          "metadata": {},
          "execution_count": 71
        }
      ]
    },
    {
      "cell_type": "code",
      "source": [
        "y_pred = nb.predict(X_test)"
      ],
      "metadata": {
        "id": "V7thh-aG4Y8z"
      },
      "execution_count": null,
      "outputs": []
    },
    {
      "cell_type": "code",
      "source": [
        "cm = confusion_matrix(y_test,y_pred)\n",
        "print(cm)"
      ],
      "metadata": {
        "colab": {
          "base_uri": "https://localhost:8080/"
        },
        "id": "y2-V6uVH4fLX",
        "outputId": "6c95e513-dea6-49e8-c853-5e74844bb53b"
      },
      "execution_count": null,
      "outputs": [
        {
          "output_type": "stream",
          "name": "stdout",
          "text": [
            "[[ 0  0  0  0  7]\n",
            " [ 0  0  0  0  3]\n",
            " [ 0  0  0  0  6]\n",
            " [ 0  0  0  0 18]\n",
            " [ 0  0  0  0 26]]\n"
          ]
        }
      ]
    },
    {
      "cell_type": "code",
      "source": [
        "cr = classification_report(y_test,y_pred)\n",
        "print(cr)"
      ],
      "metadata": {
        "colab": {
          "base_uri": "https://localhost:8080/"
        },
        "id": "M29jdr5Z4ois",
        "outputId": "8d248b7e-acad-4b85-b679-cbfa0c66278d"
      },
      "execution_count": null,
      "outputs": [
        {
          "output_type": "stream",
          "name": "stdout",
          "text": [
            "              precision    recall  f1-score   support\n",
            "\n",
            "       drugA       0.00      0.00      0.00         7\n",
            "       drugB       0.00      0.00      0.00         3\n",
            "       drugC       0.00      0.00      0.00         6\n",
            "       drugX       0.00      0.00      0.00        18\n",
            "       drugY       0.43      1.00      0.60        26\n",
            "\n",
            "    accuracy                           0.43        60\n",
            "   macro avg       0.09      0.20      0.12        60\n",
            "weighted avg       0.19      0.43      0.26        60\n",
            "\n"
          ]
        },
        {
          "output_type": "stream",
          "name": "stderr",
          "text": [
            "/usr/local/lib/python3.10/dist-packages/sklearn/metrics/_classification.py:1344: UndefinedMetricWarning: Precision and F-score are ill-defined and being set to 0.0 in labels with no predicted samples. Use `zero_division` parameter to control this behavior.\n",
            "  _warn_prf(average, modifier, msg_start, len(result))\n",
            "/usr/local/lib/python3.10/dist-packages/sklearn/metrics/_classification.py:1344: UndefinedMetricWarning: Precision and F-score are ill-defined and being set to 0.0 in labels with no predicted samples. Use `zero_division` parameter to control this behavior.\n",
            "  _warn_prf(average, modifier, msg_start, len(result))\n",
            "/usr/local/lib/python3.10/dist-packages/sklearn/metrics/_classification.py:1344: UndefinedMetricWarning: Precision and F-score are ill-defined and being set to 0.0 in labels with no predicted samples. Use `zero_division` parameter to control this behavior.\n",
            "  _warn_prf(average, modifier, msg_start, len(result))\n"
          ]
        }
      ]
    },
    {
      "cell_type": "code",
      "source": [
        "accuracy_score(y_test,y_pred)"
      ],
      "metadata": {
        "colab": {
          "base_uri": "https://localhost:8080/"
        },
        "id": "0E3K7vmR4wxw",
        "outputId": "cfffe742-8f4c-4500-e989-9520473b9cce"
      },
      "execution_count": null,
      "outputs": [
        {
          "output_type": "execute_result",
          "data": {
            "text/plain": [
              "0.43333333333333335"
            ]
          },
          "metadata": {},
          "execution_count": 75
        }
      ]
    },
    {
      "cell_type": "code",
      "source": [],
      "metadata": {
        "id": "9hau8bk65FqP"
      },
      "execution_count": null,
      "outputs": []
    }
  ]
}